{
 "cells": [
  {
   "cell_type": "markdown",
   "metadata": {
    "id": "LZ03gjSAWexe"
   },
   "source": [
    "## 결측치처리방식\n",
    "### 1. 해당 노트북\n",
    "+ Train에 대해서만 결측치 처리함\n",
    "+ 출발&도착State와 Airline&Carrier(DOT)의 결측치를 처리함\n"
   ]
  },
  {
   "cell_type": "code",
   "execution_count": 1,
   "metadata": {
    "colab": {
     "base_uri": "https://localhost:8080/"
    },
    "executionInfo": {
     "elapsed": 40733,
     "status": "ok",
     "timestamp": 1680692145079,
     "user": {
      "displayName": "지승영",
      "userId": "07006377205744982370"
     },
     "user_tz": -540
    },
    "id": "gQPOR4oWgWhE",
    "outputId": "966021f3-55e5-4f9c-ac55-3488dfd98eef"
   },
   "outputs": [
    {
     "name": "stdout",
     "output_type": "stream",
     "text": [
      "Mounted at /content/drive\n"
     ]
    }
   ],
   "source": [
    "from google.colab import drive\n",
    "drive.mount('/content/drive')"
   ]
  },
  {
   "cell_type": "code",
   "execution_count": 2,
   "metadata": {
    "colab": {
     "base_uri": "https://localhost:8080/"
    },
    "executionInfo": {
     "elapsed": 1688,
     "status": "ok",
     "timestamp": 1680692146761,
     "user": {
      "displayName": "지승영",
      "userId": "07006377205744982370"
     },
     "user_tz": -540
    },
    "id": "L5X5adc-gXQJ",
    "outputId": "fa06c902-4c28-42ac-96b0-e23cd8753249"
   },
   "outputs": [
    {
     "name": "stdout",
     "output_type": "stream",
     "text": [
      "/content/drive/MyDrive/github/Dacon/항공편지연예측AI경진대회(2023.04.03-2023.05.08)\n"
     ]
    }
   ],
   "source": [
    "import os\n",
    "path = '/content/drive/MyDrive/github/Dacon/항공편지연예측AI경진대회(2023.04.03-2023.05.08)'\n",
    "os.chdir(path)\n",
    "print(os.getcwd())"
   ]
  },
  {
   "cell_type": "code",
   "execution_count": 1,
   "metadata": {
    "executionInfo": {
     "elapsed": 11,
     "status": "ok",
     "timestamp": 1680692146763,
     "user": {
      "displayName": "지승영",
      "userId": "07006377205744982370"
     },
     "user_tz": -540
    },
    "id": "pO82uV5UhWZo"
   },
   "outputs": [],
   "source": [
    "import pandas as pd\n",
    "import numpy as np\n",
    "import random\n",
    "import os\n",
    "import gc\n",
    "\n",
    "from sklearn.ensemble import RandomForestClassifier\n",
    "from sklearn.preprocessing import LabelEncoder\n",
    "\n",
    "def seed_everything(seed):\n",
    "    random.seed(seed)\n",
    "    os.environ['PYTHONHASHSEED'] = str(seed)\n",
    "    np.random.seed(seed)\n",
    "seed_everything(42) # Seed 고정"
   ]
  },
  {
   "cell_type": "markdown",
   "metadata": {
    "id": "3tfPeXLWiHwL"
   },
   "source": [
    "### Data Load"
   ]
  },
  {
   "cell_type": "code",
   "execution_count": 105,
   "metadata": {
    "colab": {
     "base_uri": "https://localhost:8080/"
    },
    "executionInfo": {
     "elapsed": 5596,
     "status": "ok",
     "timestamp": 1680692152351,
     "user": {
      "displayName": "지승영",
      "userId": "07006377205744982370"
     },
     "user_tz": -540
    },
    "id": "sYkhjDcUh43v",
    "outputId": "5728fe98-cf51-42e3-b20c-cc23dbad7ff9"
   },
   "outputs": [
    {
     "name": "stdout",
     "output_type": "stream",
     "text": [
      "(1000000, 19)\n",
      "Not_Delayed    210001\n",
      "Delayed         45000\n",
      "Name: Delay, dtype: int64\n"
     ]
    }
   ],
   "source": [
    "train = pd.read_parquet('./data/train.parquet')\n",
    "test = pd.read_parquet('./data/test.parquet')\n",
    "sample_submission = pd.read_csv('sample_submission.csv', index_col = 0)\n",
    "\n",
    "print(train.shape)\n",
    "print(train.Delay.value_counts())\n"
   ]
  },
  {
   "cell_type": "code",
   "execution_count": 19,
   "metadata": {},
   "outputs": [
    {
     "name": "stdout",
     "output_type": "stream",
     "text": [
      "ID                          1000000\n",
      "Month                            12\n",
      "Day_of_Month                     31\n",
      "Estimated_Departure_Time       1365\n",
      "Estimated_Arrival_Time         1428\n",
      "Cancelled                         1\n",
      "Diverted                          1\n",
      "Origin_Airport                  374\n",
      "Origin_Airport_ID               374\n",
      "Origin_State                     52\n",
      "Destination_Airport             375\n",
      "Destination_Airport_ID          375\n",
      "Destination_State                52\n",
      "Distance                       1597\n",
      "Airline                          28\n",
      "Carrier_Code(IATA)               11\n",
      "Carrier_ID(DOT)                  28\n",
      "Tail_Number                    6430\n",
      "Delay                             2\n",
      "dtype: int64\n",
      "\n",
      "ID                          1000000\n",
      "Month                            12\n",
      "Day_of_Month                     31\n",
      "Estimated_Departure_Time       1413\n",
      "Estimated_Arrival_Time         1436\n",
      "Cancelled                         1\n",
      "Diverted                          1\n",
      "Origin_Airport                  379\n",
      "Origin_Airport_ID               379\n",
      "Origin_State                     52\n",
      "Destination_Airport             377\n",
      "Destination_Airport_ID          377\n",
      "Destination_State                52\n",
      "Distance                       1601\n",
      "Airline                          28\n",
      "Carrier_Code(IATA)               18\n",
      "Carrier_ID(DOT)                  28\n",
      "Tail_Number                    6493\n",
      "dtype: int64\n"
     ]
    }
   ],
   "source": [
    "# column별 고유한 값 개수\n",
    "print(train.nunique())\n",
    "print()\n",
    "print(test.nunique())"
   ]
  },
  {
   "cell_type": "code",
   "execution_count": 3,
   "metadata": {
    "colab": {
     "base_uri": "https://localhost:8080/"
    },
    "executionInfo": {
     "elapsed": 1973,
     "status": "ok",
     "timestamp": 1680616286216,
     "user": {
      "displayName": "지승영",
      "userId": "07006377205744982370"
     },
     "user_tz": -540
    },
    "id": "I9q6ZyN_iTPi",
    "outputId": "2053af3a-6722-4a4c-f042-b7b545e1fb78"
   },
   "outputs": [
    {
     "data": {
      "text/plain": [
       "ID                               0\n",
       "Month                            0\n",
       "Day_of_Month                     0\n",
       "Estimated_Departure_Time    109019\n",
       "Estimated_Arrival_Time      109040\n",
       "Cancelled                        0\n",
       "Diverted                         0\n",
       "Origin_Airport                   0\n",
       "Origin_Airport_ID                0\n",
       "Origin_State                109015\n",
       "Destination_Airport              0\n",
       "Destination_Airport_ID           0\n",
       "Destination_State           109079\n",
       "Distance                         0\n",
       "Airline                     108920\n",
       "Carrier_Code(IATA)          108990\n",
       "Carrier_ID(DOT)             108997\n",
       "Tail_Number                      0\n",
       "Delay                       744999\n",
       "dtype: int64"
      ]
     },
     "execution_count": 3,
     "metadata": {},
     "output_type": "execute_result"
    }
   ],
   "source": [
    "train.isnull().sum()"
   ]
  },
  {
   "cell_type": "code",
   "execution_count": 94,
   "metadata": {},
   "outputs": [
    {
     "data": {
      "text/plain": [
       "ID                              0\n",
       "Month                           0\n",
       "Day_of_Month                    0\n",
       "Estimated_Departure_Time    27841\n",
       "Estimated_Arrival_Time      27684\n",
       "Cancelled                       0\n",
       "Diverted                        0\n",
       "Origin_Airport                  0\n",
       "Origin_Airport_ID               0\n",
       "Origin_State                27856\n",
       "Destination_Airport             0\n",
       "Destination_Airport_ID          0\n",
       "Destination_State           27678\n",
       "Distance                        0\n",
       "Airline                     27540\n",
       "Carrier_Code(IATA)          27888\n",
       "Carrier_ID(DOT)             27770\n",
       "Tail_Number                     0\n",
       "Delay                           0\n",
       "dtype: int64"
      ]
     },
     "execution_count": 94,
     "metadata": {},
     "output_type": "execute_result"
    }
   ],
   "source": [
    "# delay가 notnull인 경우 결측값 수\n",
    "train[train['Delay'].notnull()].isnull().sum()"
   ]
  },
  {
   "cell_type": "markdown",
   "metadata": {
    "id": "ICO__Anri4b2"
   },
   "source": [
    "### 결측치처리1 - State"
   ]
  },
  {
   "cell_type": "code",
   "execution_count": 39,
   "metadata": {},
   "outputs": [
    {
     "name": "stdout",
     "output_type": "stream",
     "text": [
      "ABE\n",
      "Pennsylvania\n"
     ]
    }
   ],
   "source": [
    "# 코드 작동 test\n",
    "i = 0\n",
    "for airport, df in train.groupby('Origin_Airport')['Origin_State']:\n",
    "    print(airport)\n",
    "    print(df[df.notnull()].unique()[0])\n",
    "    if i ==0:\n",
    "        break"
   ]
  },
  {
   "cell_type": "code",
   "execution_count": 108,
   "metadata": {},
   "outputs": [
    {
     "name": "stdout",
     "output_type": "stream",
     "text": [
      "train origin\n",
      "\n",
      "train destination\n",
      "YNG values :  0  something wrong\n",
      "Series([], Name: Destination_State, dtype: int64)\n",
      "\n",
      "test origin\n",
      "DDC values :  0  something wrong\n",
      "Series([], Name: Origin_State, dtype: int64)\n",
      "DEC values :  0  something wrong\n",
      "Series([], Name: Origin_State, dtype: int64)\n",
      "RIW values :  0  something wrong\n",
      "Series([], Name: Origin_State, dtype: int64)\n",
      "SHR values :  0  something wrong\n",
      "Series([], Name: Origin_State, dtype: int64)\n",
      "\n",
      "test destination\n",
      "DEC values :  0  something wrong\n",
      "Series([], Name: Destination_State, dtype: int64)\n",
      "RIW values :  0  something wrong\n",
      "Series([], Name: Destination_State, dtype: int64)\n",
      "SHR values :  0  something wrong\n",
      "Series([], Name: Destination_State, dtype: int64)\n",
      "----------------------------------------------------------------------------------------------------\n"
     ]
    },
    {
     "name": "stderr",
     "output_type": "stream",
     "text": [
      "C:\\Users\\Administrator\\AppData\\Local\\Temp\\ipykernel_5088\\3466596661.py:46: DeprecationWarning: The truth value of an empty array is ambiguous. Returning False, but in future this will result in an error. Use `array.size > 0` to check that an array is not empty.\n",
      "  if state: # null아닌 값이 존재한다면 dict에 넣기\n",
      "C:\\Users\\Administrator\\AppData\\Local\\Temp\\ipykernel_5088\\3466596661.py:58: DeprecationWarning: The truth value of an empty array is ambiguous. Returning False, but in future this will result in an error. Use `array.size > 0` to check that an array is not empty.\n",
      "  if state:  # null아닌 값이 존재한다면 dict에 넣기\n",
      "C:\\Users\\Administrator\\AppData\\Local\\Temp\\ipykernel_5088\\3466596661.py:69: DeprecationWarning: The truth value of an empty array is ambiguous. Returning False, but in future this will result in an error. Use `array.size > 0` to check that an array is not empty.\n",
      "  if state: # null아닌 값이 존재한다면 dict에 넣기\n"
     ]
    }
   ],
   "source": [
    "# 1. airport - state 페어가 잘 못된 것 있는지 파악\n",
    "print('train origin')\n",
    "for idx, df in train.groupby('Origin_Airport')['Origin_State']:\n",
    "    if df.nunique() != 1:\n",
    "        print(idx, 'values : ',df.nunique(),' something wrong')\n",
    "        print(df.value_counts())\n",
    "print()\n",
    "\n",
    "print('train destination')\n",
    "for idx, df in train.groupby('Destination_Airport')['Destination_State']:\n",
    "    if df.nunique() != 1:\n",
    "        print(idx, 'values : ',df.nunique(),' something wrong')\n",
    "        print(df.value_counts())\n",
    "print()\n",
    "\n",
    "print('test origin')\n",
    "for idx, df in test.groupby('Origin_Airport')['Origin_State']:\n",
    "    if df.nunique() != 1:\n",
    "        print(idx, 'values : ',df.nunique(),' something wrong')\n",
    "        print(df.value_counts())\n",
    "print()\n",
    "\n",
    "print('test destination')\n",
    "for idx, df in test.groupby('Destination_Airport')['Destination_State']:\n",
    "    if df.nunique() != 1:\n",
    "        print(idx, 'values : ',df.nunique(),' something wrong')\n",
    "        print(df.value_counts())\n",
    "print('-'*100)\n",
    "\n",
    "\n",
    "# 2. airport : state dictionary 만들기\n",
    "airport_state_dict = {}\n",
    "for airport, df in train.groupby('Origin_Airport')['Origin_State']:\n",
    "    state = df[df.notnull()].unique()\n",
    "    if state:  # null아닌 값이 존재한다면 dict에 넣기\n",
    "        state = state[0]\n",
    "        \n",
    "        if airport not in airport_state_dict:\n",
    "            airport_state_dict[airport] = state\n",
    "        else:\n",
    "            if airport_state_dict[airport] != state:\n",
    "                print('something wrong : ', airport)\n",
    "\n",
    "for airport, df in train.groupby('Destination_Airport')['Destination_State']:\n",
    "    state = df[df.notnull()].unique()\n",
    "    if state: # null아닌 값이 존재한다면 dict에 넣기\n",
    "        state = state[0]\n",
    "        \n",
    "        if airport not in airport_state_dict:\n",
    "            airport_state_dict[airport] = state\n",
    "        else:\n",
    "            if airport_state_dict[airport] != state:\n",
    "                print('something wrong : ', airport)\n",
    "\n",
    "                \n",
    "for airport, df in test.groupby('Origin_Airport')['Origin_State']:\n",
    "    state = df[df.notnull()].unique()\n",
    "    if state:  # null아닌 값이 존재한다면 dict에 넣기\n",
    "        state = state[0]\n",
    "        \n",
    "        if airport not in airport_state_dict:\n",
    "            airport_state_dict[airport] = state\n",
    "        else:\n",
    "            if airport_state_dict[airport] != state:\n",
    "                print('something wrong : ', airport)\n",
    "\n",
    "for airport, df in test.groupby('Destination_Airport')['Destination_State']:\n",
    "    state = df[df.notnull()].unique()\n",
    "    if state: # null아닌 값이 존재한다면 dict에 넣기\n",
    "        state = state[0]\n",
    "        \n",
    "        if airport not in airport_state_dict:\n",
    "            airport_state_dict[airport] = state\n",
    "        else:\n",
    "            if airport_state_dict[airport] != state:\n",
    "                print('something wrong : ', airport)               "
   ]
  },
  {
   "cell_type": "code",
   "execution_count": 109,
   "metadata": {},
   "outputs": [
    {
     "data": {
      "text/plain": [
       "ID                               0\n",
       "Month                            0\n",
       "Day_of_Month                     0\n",
       "Estimated_Departure_Time    109019\n",
       "Estimated_Arrival_Time      109040\n",
       "Cancelled                        0\n",
       "Diverted                         0\n",
       "Origin_Airport                   0\n",
       "Origin_Airport_ID                0\n",
       "Origin_State                     0\n",
       "Destination_Airport              0\n",
       "Destination_Airport_ID           0\n",
       "Destination_State           109079\n",
       "Distance                         0\n",
       "Airline                     108920\n",
       "Carrier_Code(IATA)          108990\n",
       "Carrier_ID(DOT)             108997\n",
       "Tail_Number                      0\n",
       "Delay                       744999\n",
       "dtype: int64"
      ]
     },
     "execution_count": 109,
     "metadata": {},
     "output_type": "execute_result"
    }
   ],
   "source": [
    "# 3. train 결측치 처리\n",
    "## 3.1 Origin_State 결측치 처리\n",
    "for i in train[train.Origin_State.isnull()].index:\n",
    "    origin_airport = train.loc[i, 'Origin_Airport']\n",
    "    train.loc[i, 'Origin_State'] = airport_state_dict[origin_airport]\n",
    "train.isnull().sum()"
   ]
  },
  {
   "cell_type": "code",
   "execution_count": 110,
   "metadata": {},
   "outputs": [
    {
     "data": {
      "text/plain": [
       "ID                               0\n",
       "Month                            0\n",
       "Day_of_Month                     0\n",
       "Estimated_Departure_Time    109019\n",
       "Estimated_Arrival_Time      109040\n",
       "Cancelled                        0\n",
       "Diverted                         0\n",
       "Origin_Airport                   0\n",
       "Origin_Airport_ID                0\n",
       "Origin_State                     0\n",
       "Destination_Airport              0\n",
       "Destination_Airport_ID           0\n",
       "Destination_State                0\n",
       "Distance                         0\n",
       "Airline                     108920\n",
       "Carrier_Code(IATA)          108990\n",
       "Carrier_ID(DOT)             108997\n",
       "Tail_Number                      0\n",
       "Delay                       744999\n",
       "dtype: int64"
      ]
     },
     "execution_count": 110,
     "metadata": {},
     "output_type": "execute_result"
    }
   ],
   "source": [
    "## 3.2 Destination_State 결측치 처리\n",
    "for i in train[train.Destination_State.isnull()].index:\n",
    "    destination_airport = train.loc[i, 'Destination_Airport']\n",
    "    train.loc[i, 'Destination_State'] = airport_state_dict[destination_airport]\n",
    "train.isnull().sum()"
   ]
  },
  {
   "cell_type": "code",
   "execution_count": 112,
   "metadata": {},
   "outputs": [],
   "source": [
    "# 4. test 결측치 처리\n",
    "for i in test[test.Origin_State.isnull()].index:\n",
    "    origin_airport = test.loc[i, 'Origin_Airport']\n",
    "    if origin_airport in airport_state_dict:\n",
    "        test.loc[i, 'Origin_State'] = airport_state_dict[origin_airport]\n",
    "\n",
    "\n",
    "for i in test[test.Destination_State.isnull()].index:\n",
    "    destination_airport = test.loc[i, 'Destination_Airport']\n",
    "    if destination_airport in airport_state_dict:\n",
    "        test.loc[i, 'Destination_State'] = airport_state_dict[destination_airport]\n"
   ]
  },
  {
   "cell_type": "markdown",
   "metadata": {},
   "source": [
    "### 결측치처리2 - Carrier_ID(DOT) \n",
    "+ **Airline - Carrier_ID(DOT)  페어로 진행**\n",
    "\n",
    "+ Airline - Carrier_Code(IATA)\n",
    "    Airline - Carrier_Code(IATA)는 Airline에 따라 값이 여러개인 것이 많아서 생략\n",
    "\n",
    "+ Tail_Number - Carrier_Code(IATA) or Carrier_ID(DOT)\n",
    "    Tail_Number 마다 값 여러개인 것 많아서 이용하지 않음"
   ]
  },
  {
   "cell_type": "code",
   "execution_count": null,
   "metadata": {},
   "outputs": [],
   "source": [
    "# print('train Carrier_Code(IATA)')\n",
    "# for idx, df in train.groupby('Airline')['Carrier_Code(IATA)']:\n",
    "#     if df.nunique() != 1:\n",
    "#         print(idx, 'values : ',df.nunique(),' something wrong')\n",
    "#         print(df.value_counts())\n",
    "# print('-'*100)"
   ]
  },
  {
   "cell_type": "code",
   "execution_count": 113,
   "metadata": {},
   "outputs": [
    {
     "name": "stdout",
     "output_type": "stream",
     "text": [
      "train Carrier_ID(DOT)\n",
      "----------------------------------------------------------------------------------------------------\n",
      "test Carrier_ID(DOT)\n",
      "----------------------------------------------------------------------------------------------------\n",
      "train Airline\n",
      "----------------------------------------------------------------------------------------------------\n",
      "test Airline\n",
      "----------------------------------------------------------------------------------------------------\n",
      "airline null & DOT not null\n",
      "97037\n",
      "----------------------------------------------------------------------------------------------------\n",
      "airline not null & DOT null\n",
      "97114\n"
     ]
    }
   ],
   "source": [
    "# 1. 결측치 확인 : Airline - Carrier pair 확인 -> 확인 결과 모두 1대1 대응이거나 결측\n",
    "print('train Carrier_ID(DOT)')\n",
    "for idx, df in train.groupby('Airline')['Carrier_ID(DOT)']:\n",
    "    if df.nunique() != 1:\n",
    "        print(idx, 'values : ',df.nunique(),' something wrong')\n",
    "        print(df.value_counts())\n",
    "print('-'*100)\n",
    "\n",
    "\n",
    "print('test Carrier_ID(DOT)')\n",
    "for idx, df in test.groupby('Airline')['Carrier_ID(DOT)']:\n",
    "    if df.nunique() != 1:\n",
    "        print(idx, 'values : ',df.nunique(),' something wrong')\n",
    "        print(df.value_counts())\n",
    "print('-'*100)\n",
    "\n",
    "print('train Airline')\n",
    "for idx, df in train.groupby('Carrier_ID(DOT)')['Airline']:\n",
    "    if df.nunique() != 1:\n",
    "        print(idx, 'values : ',df.nunique(),' something wrong')\n",
    "        print(df.value_counts())\n",
    "print('-'*100)\n",
    "\n",
    "\n",
    "print('test Airline')\n",
    "for idx, df in test.groupby('Carrier_ID(DOT)')['Airline']:\n",
    "    if df.nunique() != 1:\n",
    "        print(idx, 'values : ',df.nunique(),' something wrong')\n",
    "        print(df.value_counts())\n",
    "print('-'*100)\n",
    "\n",
    "print('airline null & DOT not null')\n",
    "print(len(train[train.Airline.isnull() & train['Carrier_ID(DOT)'].notnull()]))\n",
    "print('-'*100)\n",
    "\n",
    "print('airline not null & DOT null')\n",
    "print(len(train[train.Airline.notnull() & train['Carrier_ID(DOT)'].isnull()]))"
   ]
  },
  {
   "cell_type": "code",
   "execution_count": 114,
   "metadata": {},
   "outputs": [],
   "source": [
    "# 2. { Airline : DOT }dictionary 만들기\n",
    "airline_dot_dict = {}\n",
    "\n",
    "## 2.1. train 의 airline 1개 당 DOT 1개인지 파악\n",
    "for airline, df in train.groupby('Airline')['Carrier_ID(DOT)']:\n",
    "    DOT = df[df.notnull()].unique()\n",
    "    if DOT:  # null아닌 값이 존재한다면 dict에 넣기\n",
    "        DOT = DOT[0]\n",
    "        \n",
    "        if airline not in airline_dot_dict:\n",
    "            airline_dot_dict[airline] = DOT\n",
    "        else:\n",
    "            if airline_dot_dict[airline] != DOT:\n",
    "                print('something wrong : ', airline)\n",
    "\n",
    "## 2.2. train의 DOT 1개당 airline 1개인지 파악하고 이전과 일치하는지 파악\n",
    "for DOT, df in train.groupby('Carrier_ID(DOT)')['Airline']:\n",
    "    airline = df[df.notnull()].unique()\n",
    "    if airline:  # null아닌 값이 존재한다면 dict에 넣기\n",
    "        airline = airline[0]\n",
    "        \n",
    "        if airline not in airline_dot_dict:\n",
    "            airline_dot_dict[airline] = DOT\n",
    "        else:\n",
    "            if airline_dot_dict[airline] != DOT:\n",
    "                print('something wrong : ', airline)\n",
    "                \n",
    "## 2.3. test 의 airline 1개 당 DOT 1개인지 파악하고 이전과 일치하는지 파악\n",
    "for airline, df in test.groupby('Airline')['Carrier_ID(DOT)']:\n",
    "    DOT = df[df.notnull()].unique()\n",
    "    if DOT:  # null아닌 값이 존재한다면 dict에 넣기\n",
    "        DOT = DOT[0]\n",
    "        \n",
    "        if airline not in airline_dot_dict:\n",
    "            airline_dot_dict[airline] = DOT\n",
    "        else:\n",
    "            if airline_dot_dict[airline] != DOT:\n",
    "                print('something wrong : ', airline)\n",
    "\n",
    "## 2.4. test의 DOT 1개당 airline 1개인지 파악하고 이전과 일치하는지 파악\n",
    "for DOT, df in test.groupby('Carrier_ID(DOT)')['Airline']:\n",
    "    airline = df[df.notnull()].unique()\n",
    "    if airline:  # null아닌 값이 존재한다면 dict에 넣기\n",
    "        airline = airline[0]\n",
    "        \n",
    "        if airline not in airline_dot_dict:\n",
    "            airline_dot_dict[airline] = DOT\n",
    "        else:\n",
    "            if airline_dot_dict[airline] != DOT:\n",
    "                print('something wrong : ', airline)"
   ]
  },
  {
   "cell_type": "code",
   "execution_count": 115,
   "metadata": {},
   "outputs": [
    {
     "name": "stdout",
     "output_type": "stream",
     "text": [
      "{'Air Wisconsin Airlines Corp': 20046.0, 'Alaska Airlines Inc.': 19930.0, 'Allegiant Air': 20368.0, 'American Airlines Inc.': 19805.0, 'Cape Air': 20253.0, 'Capital Cargo International': 20427.0, 'Comair Inc.': 20397.0, 'Commutair Aka Champlain Enterprises, Inc.': 20445.0, 'Compass Airlines': 21167.0, 'Delta Air Lines Inc.': 19790.0, 'Empire Airlines Inc.': 20263.0, 'Endeavor Air Inc.': 20363.0, 'Envoy Air': 20398.0, 'ExpressJet Airlines Inc.': 20366.0, 'Frontier Airlines Inc.': 20436.0, 'GoJet Airlines, LLC d/b/a United Express': 20500.0, 'Hawaiian Airlines Inc.': 19690.0, 'Horizon Air': 19687.0, 'JetBlue Airways': 20409.0, 'Mesa Airlines Inc.': 20378.0, 'Peninsula Airways Inc.': 20225.0, 'Republic Airlines': 20452.0, 'SkyWest Airlines Inc.': 20304.0, 'Southwest Airlines Co.': 19393.0, 'Spirit Air Lines': 20416.0, 'Trans States Airlines': 20237.0, 'United Air Lines Inc.': 19977.0, 'Virgin America': 21171.0}\n",
      "{20046.0: 'Air Wisconsin Airlines Corp', 19930.0: 'Alaska Airlines Inc.', 20368.0: 'Allegiant Air', 19805.0: 'American Airlines Inc.', 20253.0: 'Cape Air', 20427.0: 'Capital Cargo International', 20397.0: 'Comair Inc.', 20445.0: 'Commutair Aka Champlain Enterprises, Inc.', 21167.0: 'Compass Airlines', 19790.0: 'Delta Air Lines Inc.', 20263.0: 'Empire Airlines Inc.', 20363.0: 'Endeavor Air Inc.', 20398.0: 'Envoy Air', 20366.0: 'ExpressJet Airlines Inc.', 20436.0: 'Frontier Airlines Inc.', 20500.0: 'GoJet Airlines, LLC d/b/a United Express', 19690.0: 'Hawaiian Airlines Inc.', 19687.0: 'Horizon Air', 20409.0: 'JetBlue Airways', 20378.0: 'Mesa Airlines Inc.', 20225.0: 'Peninsula Airways Inc.', 20452.0: 'Republic Airlines', 20304.0: 'SkyWest Airlines Inc.', 19393.0: 'Southwest Airlines Co.', 20416.0: 'Spirit Air Lines', 20237.0: 'Trans States Airlines', 19977.0: 'United Air Lines Inc.', 21171.0: 'Virgin America'}\n"
     ]
    }
   ],
   "source": [
    "# 3. { DOT : Airline } dict 만들기\n",
    "print(airline_dot_dict)\n",
    "dot_airline_dict = { dot : airline for airline, dot in airline_dot_dict.items()}\n",
    "print(dot_airline_dict)"
   ]
  },
  {
   "cell_type": "code",
   "execution_count": 116,
   "metadata": {},
   "outputs": [
    {
     "data": {
      "text/plain": [
       "ID                               0\n",
       "Month                            0\n",
       "Day_of_Month                     0\n",
       "Estimated_Departure_Time    109019\n",
       "Estimated_Arrival_Time      109040\n",
       "Cancelled                        0\n",
       "Diverted                         0\n",
       "Origin_Airport                   0\n",
       "Origin_Airport_ID                0\n",
       "Origin_State                     0\n",
       "Destination_Airport              0\n",
       "Destination_Airport_ID           0\n",
       "Destination_State                0\n",
       "Distance                         0\n",
       "Airline                      11883\n",
       "Carrier_Code(IATA)          108990\n",
       "Carrier_ID(DOT)             108997\n",
       "Tail_Number                      0\n",
       "Delay                       744999\n",
       "dtype: int64"
      ]
     },
     "execution_count": 116,
     "metadata": {},
     "output_type": "execute_result"
    }
   ],
   "source": [
    "# 4. train 결측치 처리\n",
    "## 4.1 Airline 결측치 처리\n",
    "for i in train[train['Airline'].isnull()].index:\n",
    "    DOT = train.loc[i, 'Carrier_ID(DOT)']\n",
    "    if DOT in dot_airline_dict:\n",
    "        train.loc[i, 'Airline'] = dot_airline_dict[DOT]\n",
    "train.isnull().sum()"
   ]
  },
  {
   "cell_type": "code",
   "execution_count": 117,
   "metadata": {},
   "outputs": [
    {
     "data": {
      "text/plain": [
       "ID                               0\n",
       "Month                            0\n",
       "Day_of_Month                     0\n",
       "Estimated_Departure_Time    109019\n",
       "Estimated_Arrival_Time      109040\n",
       "Cancelled                        0\n",
       "Diverted                         0\n",
       "Origin_Airport                   0\n",
       "Origin_Airport_ID                0\n",
       "Origin_State                     0\n",
       "Destination_Airport              0\n",
       "Destination_Airport_ID           0\n",
       "Destination_State                0\n",
       "Distance                         0\n",
       "Airline                      11883\n",
       "Carrier_Code(IATA)          108990\n",
       "Carrier_ID(DOT)              11883\n",
       "Tail_Number                      0\n",
       "Delay                       744999\n",
       "dtype: int64"
      ]
     },
     "execution_count": 117,
     "metadata": {},
     "output_type": "execute_result"
    }
   ],
   "source": [
    "##. 4.2 DOT 결측치 처리\n",
    "for i in train[train['Carrier_ID(DOT)'].isnull()].index:\n",
    "    airline = train.loc[i, 'Airline']\n",
    "    if airline in airline_dot_dict:\n",
    "        train.loc[i, 'Carrier_ID(DOT)'] = airline_dot_dict[airline]\n",
    "train.isnull().sum()"
   ]
  },
  {
   "cell_type": "code",
   "execution_count": 118,
   "metadata": {},
   "outputs": [],
   "source": [
    "# 5. test 결측치 처리\n",
    "for i in test[test['Airline'].isnull()].index:\n",
    "    DOT = test.loc[i, 'Carrier_ID(DOT)']\n",
    "    if DOT in dot_airline_dict:\n",
    "        test.loc[i, 'Airline'] = dot_airline_dict[DOT]\n",
    "        \n",
    "for i in test[test['Carrier_ID(DOT)'].isnull()].index:\n",
    "    airline = test.loc[i, 'Airline']\n",
    "    if airline in airline_dot_dict:\n",
    "        test.loc[i, 'Carrier_ID(DOT)'] = airline_dot_dict[airline]"
   ]
  },
  {
   "cell_type": "code",
   "execution_count": 119,
   "metadata": {},
   "outputs": [
    {
     "data": {
      "text/plain": [
       "ID                               0\n",
       "Month                            0\n",
       "Day_of_Month                     0\n",
       "Estimated_Departure_Time    108984\n",
       "Estimated_Arrival_Time      109048\n",
       "Cancelled                        0\n",
       "Diverted                         0\n",
       "Origin_Airport                   0\n",
       "Origin_Airport_ID                0\n",
       "Origin_State                    28\n",
       "Destination_Airport              0\n",
       "Destination_Airport_ID           0\n",
       "Destination_State               21\n",
       "Distance                         0\n",
       "Airline                      11543\n",
       "Carrier_Code(IATA)          108993\n",
       "Carrier_ID(DOT)              11543\n",
       "Tail_Number                      0\n",
       "dtype: int64"
      ]
     },
     "execution_count": 119,
     "metadata": {},
     "output_type": "execute_result"
    }
   ],
   "source": [
    "test.isnull().sum()"
   ]
  },
  {
   "cell_type": "markdown",
   "metadata": {},
   "source": [
    "### 결측치 처리한 것 저장"
   ]
  },
  {
   "cell_type": "code",
   "execution_count": 120,
   "metadata": {},
   "outputs": [
    {
     "name": "stdout",
     "output_type": "stream",
     "text": [
      "몇 번째 전처리 방법인지 정수를 입력하세요 : 2\n"
     ]
    }
   ],
   "source": [
    "save_idx = input('몇 번째 전처리 방법인지 정수를 입력하세요 : ')\n",
    "train_save_name = 'train_preprocess_' + save_idx\n",
    "test_save_name = 'test_preprocess_' + save_idx\n",
    "train.to_parquet(f'./data/{train_save_name}.parquet')\n",
    "test.to_parquet(f'./data/{test_save_name}.parquet')"
   ]
  },
  {
   "cell_type": "code",
   "execution_count": null,
   "metadata": {},
   "outputs": [],
   "source": []
  },
  {
   "cell_type": "markdown",
   "metadata": {},
   "source": [
    "### ===================결측치 이후 ======================================="
   ]
  },
  {
   "cell_type": "code",
   "execution_count": 50,
   "metadata": {},
   "outputs": [
    {
     "name": "stdout",
     "output_type": "stream",
     "text": [
      "Index(['ID', 'Month', 'Day_of_Month', 'Estimated_Departure_Time',\n",
      "       'Estimated_Arrival_Time', 'Cancelled', 'Diverted', 'Origin_Airport',\n",
      "       'Origin_Airport_ID', 'Origin_State', 'Destination_Airport',\n",
      "       'Destination_Airport_ID', 'Destination_State', 'Distance', 'Airline',\n",
      "       'Carrier_Code(IATA)', 'Carrier_ID(DOT)', 'Tail_Number', 'Delay'],\n",
      "      dtype='object')\n"
     ]
    }
   ],
   "source": [
    "# 카테고리 변수\n",
    "category_cols = ['Month', 'Day_of_Month', 'Cancelled', 'Diverted', \n",
    "                 'Origin_Airport','Origin_Airport_ID', 'Origin_State', \n",
    "                 'Destination_Airport', 'Destination_Airport_ID', 'Destination_State',\n",
    "                 'Airline', 'Carrier_Code(IATA)', 'Carrier_ID(DOT)', 'Tail_Number', \n",
    "                 'Delay']\n",
    "\n",
    "\n",
    "\n",
    "# 수치형 변수\n",
    "numeric_cols = [ 'Estimated_Departure_Time', 'Estimated_Arrival_Time', 'Distance']\n",
    "\n",
    "\n",
    "# 중복되어서 버릴 변수\n",
    "['Destination_Airport_ID', 'Origin_Airport_ID']\n",
    "\n",
    "\n",
    "print(train.columns)\n"
   ]
  },
  {
   "cell_type": "code",
   "execution_count": 81,
   "metadata": {
    "colab": {
     "base_uri": "https://localhost:8080/"
    },
    "executionInfo": {
     "elapsed": 2377,
     "status": "ok",
     "timestamp": 1680692159255,
     "user": {
      "displayName": "지승영",
      "userId": "07006377205744982370"
     },
     "user_tz": -540
    },
    "id": "DUShLWvIiJ1r",
    "outputId": "49f60eac-de49-4544-840b-ed3bef520a50"
   },
   "outputs": [
    {
     "name": "stdout",
     "output_type": "stream",
     "text": [
      "Done.\n"
     ]
    }
   ],
   "source": [
    "# 레이블(Delay)을 제외한 결측값이 존재하는 변수들을  -1 value로 바꾸고, lable을 가지도록 합니다.\n",
    "NaN_col = ['Origin_State','Destination_State','Airline','Estimated_Departure_Time', 'Estimated_Arrival_Time','Carrier_Code(IATA)','Carrier_ID(DOT)']\n",
    "\n",
    "for col in NaN_col:\n",
    "    mode = train[col].mode()[0]\n",
    "    if type(mode) == str:\n",
    "        train[col] = train[col].fillna('null')\n",
    "    else:\n",
    "        train[col] = train[col].fillna(-1)\n",
    "    \n",
    "    if col in test.columns:\n",
    "        if type(mode) == str:\n",
    "            test[col] = test[col].fillna('null')\n",
    "        else:\n",
    "            test[col] = test[col].fillna(-1)\n",
    "print('Done.')"
   ]
  },
  {
   "cell_type": "code",
   "execution_count": 82,
   "metadata": {
    "colab": {
     "base_uri": "https://localhost:8080/"
    },
    "executionInfo": {
     "elapsed": 6628,
     "status": "ok",
     "timestamp": 1680692165874,
     "user": {
      "displayName": "지승영",
      "userId": "07006377205744982370"
     },
     "user_tz": -540
    },
    "id": "SxJoc3QXizcc",
    "outputId": "f55ea731-5c56-45f8-8cde-d674ab95aa2e"
   },
   "outputs": [
    {
     "name": "stdout",
     "output_type": "stream",
     "text": [
      "Done.\n"
     ]
    }
   ],
   "source": [
    "# 질적 변수들을 수치화합니다\n",
    "qual_col = ['Origin_Airport', 'Origin_State', 'Destination_Airport', 'Destination_State', 'Airline', 'Carrier_Code(IATA)', 'Tail_Number']\n",
    "\n",
    "for i in qual_col:\n",
    "    le = LabelEncoder()\n",
    "    le=le.fit(train[i])\n",
    "    train[i]=le.transform(train[i])\n",
    "    \n",
    "    for label in np.unique(test[i]):\n",
    "        if label not in le.classes_: # train에 없는 label인 경우\n",
    "            le.classes_ = np.append(le.classes_, label)\n",
    "    test[i]=le.transform(test[i])\n",
    "print('Done.')"
   ]
  },
  {
   "cell_type": "code",
   "execution_count": null,
   "metadata": {
    "colab": {
     "base_uri": "https://localhost:8080/",
     "height": 270
    },
    "executionInfo": {
     "elapsed": 31,
     "status": "ok",
     "timestamp": 1680616478678,
     "user": {
      "displayName": "지승영",
      "userId": "07006377205744982370"
     },
     "user_tz": -540
    },
    "id": "JDG8AbmhjCzH",
    "outputId": "d4aa8b55-d6c3-434c-d4eb-c771e4a7bf0d"
   },
   "outputs": [
    {
     "data": {
      "text/html": [
       "\n",
       "  <div id=\"df-c3aad8d6-b700-498e-8fb1-9408caf84e3d\">\n",
       "    <div class=\"colab-df-container\">\n",
       "      <div>\n",
       "<style scoped>\n",
       "    .dataframe tbody tr th:only-of-type {\n",
       "        vertical-align: middle;\n",
       "    }\n",
       "\n",
       "    .dataframe tbody tr th {\n",
       "        vertical-align: top;\n",
       "    }\n",
       "\n",
       "    .dataframe thead th {\n",
       "        text-align: right;\n",
       "    }\n",
       "</style>\n",
       "<table border=\"1\" class=\"dataframe\">\n",
       "  <thead>\n",
       "    <tr style=\"text-align: right;\">\n",
       "      <th></th>\n",
       "      <th>ID</th>\n",
       "      <th>Month</th>\n",
       "      <th>Day_of_Month</th>\n",
       "      <th>Estimated_Departure_Time</th>\n",
       "      <th>Estimated_Arrival_Time</th>\n",
       "      <th>Cancelled</th>\n",
       "      <th>Diverted</th>\n",
       "      <th>Origin_Airport</th>\n",
       "      <th>Origin_Airport_ID</th>\n",
       "      <th>Origin_State</th>\n",
       "      <th>Destination_Airport</th>\n",
       "      <th>Destination_Airport_ID</th>\n",
       "      <th>Destination_State</th>\n",
       "      <th>Distance</th>\n",
       "      <th>Airline</th>\n",
       "      <th>Carrier_Code(IATA)</th>\n",
       "      <th>Carrier_ID(DOT)</th>\n",
       "      <th>Tail_Number</th>\n",
       "      <th>Delay</th>\n",
       "    </tr>\n",
       "  </thead>\n",
       "  <tbody>\n",
       "    <tr>\n",
       "      <th>0</th>\n",
       "      <td>TRAIN_000000</td>\n",
       "      <td>4</td>\n",
       "      <td>15</td>\n",
       "      <td>600.0</td>\n",
       "      <td>1900.0</td>\n",
       "      <td>0</td>\n",
       "      <td>0</td>\n",
       "      <td>252</td>\n",
       "      <td>13851</td>\n",
       "      <td>34</td>\n",
       "      <td>159</td>\n",
       "      <td>12191</td>\n",
       "      <td>42</td>\n",
       "      <td>419.0</td>\n",
       "      <td>23</td>\n",
       "      <td>10</td>\n",
       "      <td>19393.0</td>\n",
       "      <td>4319</td>\n",
       "      <td>None</td>\n",
       "    </tr>\n",
       "    <tr>\n",
       "      <th>1</th>\n",
       "      <td>TRAIN_000001</td>\n",
       "      <td>8</td>\n",
       "      <td>15</td>\n",
       "      <td>740.0</td>\n",
       "      <td>1024.0</td>\n",
       "      <td>0</td>\n",
       "      <td>0</td>\n",
       "      <td>256</td>\n",
       "      <td>13930</td>\n",
       "      <td>11</td>\n",
       "      <td>331</td>\n",
       "      <td>14869</td>\n",
       "      <td>45</td>\n",
       "      <td>1250.0</td>\n",
       "      <td>22</td>\n",
       "      <td>8</td>\n",
       "      <td>20304.0</td>\n",
       "      <td>310</td>\n",
       "      <td>None</td>\n",
       "    </tr>\n",
       "    <tr>\n",
       "      <th>2</th>\n",
       "      <td>TRAIN_000002</td>\n",
       "      <td>9</td>\n",
       "      <td>6</td>\n",
       "      <td>1610.0</td>\n",
       "      <td>1805.0</td>\n",
       "      <td>0</td>\n",
       "      <td>0</td>\n",
       "      <td>74</td>\n",
       "      <td>11057</td>\n",
       "      <td>31</td>\n",
       "      <td>204</td>\n",
       "      <td>12953</td>\n",
       "      <td>30</td>\n",
       "      <td>544.0</td>\n",
       "      <td>3</td>\n",
       "      <td>0</td>\n",
       "      <td>19805.0</td>\n",
       "      <td>140</td>\n",
       "      <td>None</td>\n",
       "    </tr>\n",
       "    <tr>\n",
       "      <th>3</th>\n",
       "      <td>TRAIN_000003</td>\n",
       "      <td>7</td>\n",
       "      <td>10</td>\n",
       "      <td>905.0</td>\n",
       "      <td>1735.0</td>\n",
       "      <td>0</td>\n",
       "      <td>0</td>\n",
       "      <td>195</td>\n",
       "      <td>12892</td>\n",
       "      <td>4</td>\n",
       "      <td>119</td>\n",
       "      <td>11618</td>\n",
       "      <td>28</td>\n",
       "      <td>2454.0</td>\n",
       "      <td>26</td>\n",
       "      <td>8</td>\n",
       "      <td>19393.0</td>\n",
       "      <td>3021</td>\n",
       "      <td>None</td>\n",
       "    </tr>\n",
       "    <tr>\n",
       "      <th>4</th>\n",
       "      <td>TRAIN_000004</td>\n",
       "      <td>1</td>\n",
       "      <td>11</td>\n",
       "      <td>900.0</td>\n",
       "      <td>1019.0</td>\n",
       "      <td>0</td>\n",
       "      <td>0</td>\n",
       "      <td>322</td>\n",
       "      <td>14771</td>\n",
       "      <td>4</td>\n",
       "      <td>7</td>\n",
       "      <td>10157</td>\n",
       "      <td>4</td>\n",
       "      <td>250.0</td>\n",
       "      <td>22</td>\n",
       "      <td>8</td>\n",
       "      <td>20304.0</td>\n",
       "      <td>556</td>\n",
       "      <td>None</td>\n",
       "    </tr>\n",
       "  </tbody>\n",
       "</table>\n",
       "</div>\n",
       "      <button class=\"colab-df-convert\" onclick=\"convertToInteractive('df-c3aad8d6-b700-498e-8fb1-9408caf84e3d')\"\n",
       "              title=\"Convert this dataframe to an interactive table.\"\n",
       "              style=\"display:none;\">\n",
       "        \n",
       "  <svg xmlns=\"http://www.w3.org/2000/svg\" height=\"24px\"viewBox=\"0 0 24 24\"\n",
       "       width=\"24px\">\n",
       "    <path d=\"M0 0h24v24H0V0z\" fill=\"none\"/>\n",
       "    <path d=\"M18.56 5.44l.94 2.06.94-2.06 2.06-.94-2.06-.94-.94-2.06-.94 2.06-2.06.94zm-11 1L8.5 8.5l.94-2.06 2.06-.94-2.06-.94L8.5 2.5l-.94 2.06-2.06.94zm10 10l.94 2.06.94-2.06 2.06-.94-2.06-.94-.94-2.06-.94 2.06-2.06.94z\"/><path d=\"M17.41 7.96l-1.37-1.37c-.4-.4-.92-.59-1.43-.59-.52 0-1.04.2-1.43.59L10.3 9.45l-7.72 7.72c-.78.78-.78 2.05 0 2.83L4 21.41c.39.39.9.59 1.41.59.51 0 1.02-.2 1.41-.59l7.78-7.78 2.81-2.81c.8-.78.8-2.07 0-2.86zM5.41 20L4 18.59l7.72-7.72 1.47 1.35L5.41 20z\"/>\n",
       "  </svg>\n",
       "      </button>\n",
       "      \n",
       "  <style>\n",
       "    .colab-df-container {\n",
       "      display:flex;\n",
       "      flex-wrap:wrap;\n",
       "      gap: 12px;\n",
       "    }\n",
       "\n",
       "    .colab-df-convert {\n",
       "      background-color: #E8F0FE;\n",
       "      border: none;\n",
       "      border-radius: 50%;\n",
       "      cursor: pointer;\n",
       "      display: none;\n",
       "      fill: #1967D2;\n",
       "      height: 32px;\n",
       "      padding: 0 0 0 0;\n",
       "      width: 32px;\n",
       "    }\n",
       "\n",
       "    .colab-df-convert:hover {\n",
       "      background-color: #E2EBFA;\n",
       "      box-shadow: 0px 1px 2px rgba(60, 64, 67, 0.3), 0px 1px 3px 1px rgba(60, 64, 67, 0.15);\n",
       "      fill: #174EA6;\n",
       "    }\n",
       "\n",
       "    [theme=dark] .colab-df-convert {\n",
       "      background-color: #3B4455;\n",
       "      fill: #D2E3FC;\n",
       "    }\n",
       "\n",
       "    [theme=dark] .colab-df-convert:hover {\n",
       "      background-color: #434B5C;\n",
       "      box-shadow: 0px 1px 3px 1px rgba(0, 0, 0, 0.15);\n",
       "      filter: drop-shadow(0px 1px 2px rgba(0, 0, 0, 0.3));\n",
       "      fill: #FFFFFF;\n",
       "    }\n",
       "  </style>\n",
       "\n",
       "      <script>\n",
       "        const buttonEl =\n",
       "          document.querySelector('#df-c3aad8d6-b700-498e-8fb1-9408caf84e3d button.colab-df-convert');\n",
       "        buttonEl.style.display =\n",
       "          google.colab.kernel.accessAllowed ? 'block' : 'none';\n",
       "\n",
       "        async function convertToInteractive(key) {\n",
       "          const element = document.querySelector('#df-c3aad8d6-b700-498e-8fb1-9408caf84e3d');\n",
       "          const dataTable =\n",
       "            await google.colab.kernel.invokeFunction('convertToInteractive',\n",
       "                                                     [key], {});\n",
       "          if (!dataTable) return;\n",
       "\n",
       "          const docLinkHtml = 'Like what you see? Visit the ' +\n",
       "            '<a target=\"_blank\" href=https://colab.research.google.com/notebooks/data_table.ipynb>data table notebook</a>'\n",
       "            + ' to learn more about interactive tables.';\n",
       "          element.innerHTML = '';\n",
       "          dataTable['output_type'] = 'display_data';\n",
       "          await google.colab.output.renderOutput(dataTable, element);\n",
       "          const docLink = document.createElement('div');\n",
       "          docLink.innerHTML = docLinkHtml;\n",
       "          element.appendChild(docLink);\n",
       "        }\n",
       "      </script>\n",
       "    </div>\n",
       "  </div>\n",
       "  "
      ],
      "text/plain": [
       "             ID  Month  Day_of_Month  Estimated_Departure_Time  \\\n",
       "0  TRAIN_000000      4            15                     600.0   \n",
       "1  TRAIN_000001      8            15                     740.0   \n",
       "2  TRAIN_000002      9             6                    1610.0   \n",
       "3  TRAIN_000003      7            10                     905.0   \n",
       "4  TRAIN_000004      1            11                     900.0   \n",
       "\n",
       "   Estimated_Arrival_Time  Cancelled  Diverted  Origin_Airport  \\\n",
       "0                  1900.0          0         0             252   \n",
       "1                  1024.0          0         0             256   \n",
       "2                  1805.0          0         0              74   \n",
       "3                  1735.0          0         0             195   \n",
       "4                  1019.0          0         0             322   \n",
       "\n",
       "   Origin_Airport_ID  Origin_State  Destination_Airport  \\\n",
       "0              13851            34                  159   \n",
       "1              13930            11                  331   \n",
       "2              11057            31                  204   \n",
       "3              12892             4                  119   \n",
       "4              14771             4                    7   \n",
       "\n",
       "   Destination_Airport_ID  Destination_State  Distance  Airline  \\\n",
       "0                   12191                 42     419.0       23   \n",
       "1                   14869                 45    1250.0       22   \n",
       "2                   12953                 30     544.0        3   \n",
       "3                   11618                 28    2454.0       26   \n",
       "4                   10157                  4     250.0       22   \n",
       "\n",
       "   Carrier_Code(IATA)  Carrier_ID(DOT)  Tail_Number Delay  \n",
       "0                  10          19393.0         4319  None  \n",
       "1                   8          20304.0          310  None  \n",
       "2                   0          19805.0          140  None  \n",
       "3                   8          19393.0         3021  None  \n",
       "4                   8          20304.0          556  None  "
      ]
     },
     "execution_count": 16,
     "metadata": {},
     "output_type": "execute_result"
    }
   ],
   "source": [
    "train.head()"
   ]
  },
  {
   "cell_type": "code",
   "execution_count": 83,
   "metadata": {
    "colab": {
     "base_uri": "https://localhost:8080/",
     "height": 415
    },
    "executionInfo": {
     "elapsed": 20,
     "status": "ok",
     "timestamp": 1680692165876,
     "user": {
      "displayName": "지승영",
      "userId": "07006377205744982370"
     },
     "user_tz": -540
    },
    "id": "280njtf0j8eT",
    "outputId": "ebfffa24-3ae3-4436-e80d-1778f605834c"
   },
   "outputs": [
    {
     "name": "stdout",
     "output_type": "stream",
     "text": [
      "(255001, 19)\n",
      "Done.\n"
     ]
    },
    {
     "name": "stderr",
     "output_type": "stream",
     "text": [
      "C:\\Users\\Administrator\\AppData\\Local\\Temp\\ipykernel_5088\\1188170309.py:13: SettingWithCopyWarning: \n",
      "A value is trying to be set on a copy of a slice from a DataFrame.\n",
      "Try using .loc[row_indexer,col_indexer] = value instead\n",
      "\n",
      "See the caveats in the documentation: https://pandas.pydata.org/pandas-docs/stable/user_guide/indexing.html#returning-a-view-versus-a-copy\n",
      "  train.loc[:, 'Delay_num'] = train['Delay'].apply(lambda x: to_number(x, column_number))\n"
     ]
    },
    {
     "data": {
      "text/html": [
       "<div>\n",
       "<style scoped>\n",
       "    .dataframe tbody tr th:only-of-type {\n",
       "        vertical-align: middle;\n",
       "    }\n",
       "\n",
       "    .dataframe tbody tr th {\n",
       "        vertical-align: top;\n",
       "    }\n",
       "\n",
       "    .dataframe thead th {\n",
       "        text-align: right;\n",
       "    }\n",
       "</style>\n",
       "<table border=\"1\" class=\"dataframe\">\n",
       "  <thead>\n",
       "    <tr style=\"text-align: right;\">\n",
       "      <th></th>\n",
       "      <th>ID</th>\n",
       "      <th>Month</th>\n",
       "      <th>Day_of_Month</th>\n",
       "      <th>Estimated_Departure_Time</th>\n",
       "      <th>Estimated_Arrival_Time</th>\n",
       "      <th>Cancelled</th>\n",
       "      <th>Diverted</th>\n",
       "      <th>Origin_Airport</th>\n",
       "      <th>Origin_Airport_ID</th>\n",
       "      <th>Origin_State</th>\n",
       "      <th>Destination_Airport</th>\n",
       "      <th>Destination_Airport_ID</th>\n",
       "      <th>Destination_State</th>\n",
       "      <th>Distance</th>\n",
       "      <th>Airline</th>\n",
       "      <th>Carrier_Code(IATA)</th>\n",
       "      <th>Carrier_ID(DOT)</th>\n",
       "      <th>Tail_Number</th>\n",
       "      <th>Delay</th>\n",
       "      <th>Delay_num</th>\n",
       "    </tr>\n",
       "  </thead>\n",
       "  <tbody>\n",
       "    <tr>\n",
       "      <th>5</th>\n",
       "      <td>TRAIN_000005</td>\n",
       "      <td>4</td>\n",
       "      <td>13</td>\n",
       "      <td>1545.0</td>\n",
       "      <td>-1.0</td>\n",
       "      <td>0</td>\n",
       "      <td>0</td>\n",
       "      <td>119</td>\n",
       "      <td>11618</td>\n",
       "      <td>28</td>\n",
       "      <td>93</td>\n",
       "      <td>11278</td>\n",
       "      <td>47</td>\n",
       "      <td>199.0</td>\n",
       "      <td>21</td>\n",
       "      <td>8</td>\n",
       "      <td>20452.0</td>\n",
       "      <td>3435</td>\n",
       "      <td>Not_Delayed</td>\n",
       "      <td>0</td>\n",
       "    </tr>\n",
       "    <tr>\n",
       "      <th>6</th>\n",
       "      <td>TRAIN_000006</td>\n",
       "      <td>1</td>\n",
       "      <td>20</td>\n",
       "      <td>1742.0</td>\n",
       "      <td>1903.0</td>\n",
       "      <td>0</td>\n",
       "      <td>0</td>\n",
       "      <td>119</td>\n",
       "      <td>11618</td>\n",
       "      <td>28</td>\n",
       "      <td>47</td>\n",
       "      <td>10721</td>\n",
       "      <td>19</td>\n",
       "      <td>200.0</td>\n",
       "      <td>26</td>\n",
       "      <td>8</td>\n",
       "      <td>19977.0</td>\n",
       "      <td>3495</td>\n",
       "      <td>Not_Delayed</td>\n",
       "      <td>0</td>\n",
       "    </tr>\n",
       "    <tr>\n",
       "      <th>8</th>\n",
       "      <td>TRAIN_000008</td>\n",
       "      <td>6</td>\n",
       "      <td>13</td>\n",
       "      <td>1420.0</td>\n",
       "      <td>1550.0</td>\n",
       "      <td>0</td>\n",
       "      <td>0</td>\n",
       "      <td>59</td>\n",
       "      <td>10821</td>\n",
       "      <td>18</td>\n",
       "      <td>74</td>\n",
       "      <td>11057</td>\n",
       "      <td>31</td>\n",
       "      <td>361.0</td>\n",
       "      <td>23</td>\n",
       "      <td>10</td>\n",
       "      <td>19393.0</td>\n",
       "      <td>4083</td>\n",
       "      <td>Not_Delayed</td>\n",
       "      <td>0</td>\n",
       "    </tr>\n",
       "    <tr>\n",
       "      <th>10</th>\n",
       "      <td>TRAIN_000010</td>\n",
       "      <td>8</td>\n",
       "      <td>13</td>\n",
       "      <td>1730.0</td>\n",
       "      <td>1844.0</td>\n",
       "      <td>0</td>\n",
       "      <td>0</td>\n",
       "      <td>93</td>\n",
       "      <td>11278</td>\n",
       "      <td>47</td>\n",
       "      <td>277</td>\n",
       "      <td>14122</td>\n",
       "      <td>36</td>\n",
       "      <td>204.0</td>\n",
       "      <td>21</td>\n",
       "      <td>0</td>\n",
       "      <td>20452.0</td>\n",
       "      <td>241</td>\n",
       "      <td>Delayed</td>\n",
       "      <td>1</td>\n",
       "    </tr>\n",
       "    <tr>\n",
       "      <th>12</th>\n",
       "      <td>TRAIN_000012</td>\n",
       "      <td>1</td>\n",
       "      <td>12</td>\n",
       "      <td>1015.0</td>\n",
       "      <td>1145.0</td>\n",
       "      <td>0</td>\n",
       "      <td>0</td>\n",
       "      <td>72</td>\n",
       "      <td>11042</td>\n",
       "      <td>33</td>\n",
       "      <td>94</td>\n",
       "      <td>11292</td>\n",
       "      <td>5</td>\n",
       "      <td>1201.0</td>\n",
       "      <td>23</td>\n",
       "      <td>10</td>\n",
       "      <td>19393.0</td>\n",
       "      <td>5171</td>\n",
       "      <td>Not_Delayed</td>\n",
       "      <td>0</td>\n",
       "    </tr>\n",
       "  </tbody>\n",
       "</table>\n",
       "</div>"
      ],
      "text/plain": [
       "              ID  Month  Day_of_Month  Estimated_Departure_Time  \\\n",
       "5   TRAIN_000005      4            13                    1545.0   \n",
       "6   TRAIN_000006      1            20                    1742.0   \n",
       "8   TRAIN_000008      6            13                    1420.0   \n",
       "10  TRAIN_000010      8            13                    1730.0   \n",
       "12  TRAIN_000012      1            12                    1015.0   \n",
       "\n",
       "    Estimated_Arrival_Time  Cancelled  Diverted  Origin_Airport  \\\n",
       "5                     -1.0          0         0             119   \n",
       "6                   1903.0          0         0             119   \n",
       "8                   1550.0          0         0              59   \n",
       "10                  1844.0          0         0              93   \n",
       "12                  1145.0          0         0              72   \n",
       "\n",
       "    Origin_Airport_ID  Origin_State  Destination_Airport  \\\n",
       "5               11618            28                   93   \n",
       "6               11618            28                   47   \n",
       "8               10821            18                   74   \n",
       "10              11278            47                  277   \n",
       "12              11042            33                   94   \n",
       "\n",
       "    Destination_Airport_ID  Destination_State  Distance  Airline  \\\n",
       "5                    11278                 47     199.0       21   \n",
       "6                    10721                 19     200.0       26   \n",
       "8                    11057                 31     361.0       23   \n",
       "10                   14122                 36     204.0       21   \n",
       "12                   11292                  5    1201.0       23   \n",
       "\n",
       "    Carrier_Code(IATA)  Carrier_ID(DOT)  Tail_Number        Delay  Delay_num  \n",
       "5                    8          20452.0         3435  Not_Delayed          0  \n",
       "6                    8          19977.0         3495  Not_Delayed          0  \n",
       "8                   10          19393.0         4083  Not_Delayed          0  \n",
       "10                   0          20452.0          241      Delayed          1  \n",
       "12                  10          19393.0         5171  Not_Delayed          0  "
      ]
     },
     "execution_count": 83,
     "metadata": {},
     "output_type": "execute_result"
    }
   ],
   "source": [
    "# 레이블이 없는 데이터들을 제거합니다\n",
    "train = train.dropna()\n",
    "print(train.shape)\n",
    "\n",
    "# Delay -> 1, Not_Delayed -> 0\n",
    "column_number = {}\n",
    "for i, column in enumerate(sample_submission.columns):\n",
    "    column_number[column] = i\n",
    "    \n",
    "def to_number(x, dic):\n",
    "    return dic[x]\n",
    "\n",
    "train.loc[:, 'Delay_num'] = train['Delay'].apply(lambda x: to_number(x, column_number))\n",
    "print('Done.')\n",
    "\n",
    "train.head()"
   ]
  },
  {
   "cell_type": "code",
   "execution_count": 84,
   "metadata": {
    "executionInfo": {
     "elapsed": 12,
     "status": "ok",
     "timestamp": 1680692165877,
     "user": {
      "displayName": "지승영",
      "userId": "07006377205744982370"
     },
     "user_tz": -540
    },
    "id": "eNg9VmPjjD7H"
   },
   "outputs": [],
   "source": [
    "# train & test 데이터 생성\n",
    "train_x = train.drop(columns=['ID', 'Delay', 'Delay_num'])\n",
    "train_y = train['Delay_num']\n",
    "test_x = test.drop(columns=['ID'])"
   ]
  },
  {
   "cell_type": "markdown",
   "metadata": {
    "id": "QbDBbYokX73s"
   },
   "source": [
    "### train_test_split"
   ]
  },
  {
   "cell_type": "code",
   "execution_count": 85,
   "metadata": {
    "colab": {
     "base_uri": "https://localhost:8080/"
    },
    "executionInfo": {
     "elapsed": 1283,
     "status": "ok",
     "timestamp": 1680682121683,
     "user": {
      "displayName": "지승영",
      "userId": "07006377205744982370"
     },
     "user_tz": -540
    },
    "id": "vLVXPbB5X7Zo",
    "outputId": "7e3581bf-bd43-4a4a-d865-84051115a6d4"
   },
   "outputs": [
    {
     "name": "stdout",
     "output_type": "stream",
     "text": [
      "(204000, 17) (51001, 17)\n",
      "0    168109\n",
      "1     35891\n",
      "Name: Delay_num, dtype: int64\n",
      "0    41892\n",
      "1     9109\n",
      "Name: Delay_num, dtype: int64\n"
     ]
    }
   ],
   "source": [
    "from sklearn.model_selection  import train_test_split\n",
    "train_x, val_x, train_y, val_y = train_test_split(train.drop(columns=['ID', 'Delay', 'Delay_num']), train['Delay_num'], test_size=0.2, random_state=42)\n",
    "\n",
    "print(train_x.shape, val_x.shape)\n",
    "print(train_y.value_counts())\n",
    "print(val_y.value_counts())"
   ]
  },
  {
   "cell_type": "markdown",
   "metadata": {
    "id": "l8Eu7kqral4J"
   },
   "source": [
    "### 여러 모델 적합\n",
    "Extra Trees Classifier\t\n",
    "Random Forest Classifier\t\n",
    "Light Gradient Boosting Machine\n",
    "Decision Tree Classifier\t\n",
    "Gradient Boosting Classifier\t\n",
    "Ada Boost Classifier\t\n",
    "Logistic Regression"
   ]
  },
  {
   "cell_type": "code",
   "execution_count": null,
   "metadata": {
    "colab": {
     "base_uri": "https://localhost:8080/"
    },
    "executionInfo": {
     "elapsed": 127454,
     "status": "ok",
     "timestamp": 1680681581120,
     "user": {
      "displayName": "지승영",
      "userId": "07006377205744982370"
     },
     "user_tz": -540
    },
    "id": "VxdyJSR0Yvsq",
    "outputId": "9675fb47-9c8c-42b5-f596-78a230402b4c"
   },
   "outputs": [
    {
     "name": "stdout",
     "output_type": "stream",
     "text": [
      "Extra Trees Classifier: Log Loss = 0.4799\n",
      "Random Forest Classifier: Log Loss = 0.4646\n",
      "Light Gradient Boosting Machine: Log Loss = 0.4433\n",
      "Decision Tree Classifier: Log Loss = 10.5274\n",
      "Gradient Boosting Classifier: Log Loss = 0.4480\n",
      "Ada Boost Classifier: Log Loss = 0.6823\n",
      "Logistic Regression: Log Loss = 0.4621\n"
     ]
    }
   ],
   "source": [
    "# SMOTE 없이 적합\n",
    "import numpy as np\n",
    "import pandas as pd\n",
    "from sklearn.model_selection import train_test_split\n",
    "from sklearn.metrics import log_loss\n",
    "\n",
    "from sklearn.ensemble import ExtraTreesClassifier, RandomForestClassifier, GradientBoostingClassifier, AdaBoostClassifier\n",
    "from sklearn.tree import DecisionTreeClassifier\n",
    "from sklearn.linear_model import LogisticRegression\n",
    "from lightgbm import LGBMClassifier\n",
    "\n",
    "\n",
    "# 모델 정의\n",
    "models = {\n",
    "    \"Extra Trees Classifier\": ExtraTreesClassifier(random_state=42),\n",
    "    \"Random Forest Classifier\": RandomForestClassifier(random_state=42),\n",
    "    \"Light Gradient Boosting Machine\": LGBMClassifier(random_state=42),\n",
    "    \"Decision Tree Classifier\": DecisionTreeClassifier(random_state=42),\n",
    "    \"Gradient Boosting Classifier\": GradientBoostingClassifier(random_state=42),\n",
    "    \"Ada Boost Classifier\": AdaBoostClassifier(random_state=42),\n",
    "    \"Logistic Regression\": LogisticRegression(random_state=42),\n",
    "}\n",
    "\n",
    "# 각 모델의 성능을 비교\n",
    "for name, model in models.items():\n",
    "    model.fit(train_x, train_y)\n",
    "    y_pred = model.predict_proba(val_x)\n",
    "    loss = log_loss(val_y, y_pred)\n",
    "    print(f\"{name}: Log Loss = {loss:.4f}\")"
   ]
  },
  {
   "cell_type": "code",
   "execution_count": null,
   "metadata": {
    "colab": {
     "background_save": true,
     "base_uri": "https://localhost:8080/"
    },
    "id": "Rk-CQTW8a-fZ",
    "outputId": "8922d14d-3100-405e-e7fe-8c246d23d0f7"
   },
   "outputs": [
    {
     "name": "stdout",
     "output_type": "stream",
     "text": [
      "Extra Trees Classifier: Log Loss = 0.5113\n",
      "Random Forest Classifier: Log Loss = 0.5092\n",
      "Light Gradient Boosting Machine: Log Loss = 0.5127\n",
      "Decision Tree Classifier: Log Loss = 11.6489\n",
      "Gradient Boosting Classifier: Log Loss = 0.6037\n",
      "Ada Boost Classifier: Log Loss = 0.6896\n",
      "Logistic Regression: Log Loss = 0.6813\n"
     ]
    }
   ],
   "source": [
    "# SMOTE 이용해서 적합\n",
    "import numpy as np\n",
    "import pandas as pd\n",
    "from sklearn.model_selection import train_test_split\n",
    "from sklearn.metrics import log_loss\n",
    "from imblearn.over_sampling import SMOTE\n",
    "\n",
    "from sklearn.ensemble import ExtraTreesClassifier, RandomForestClassifier, GradientBoostingClassifier, AdaBoostClassifier\n",
    "from sklearn.tree import DecisionTreeClassifier\n",
    "from sklearn.linear_model import LogisticRegression\n",
    "from lightgbm import LGBMClassifier\n",
    "\n",
    "\n",
    "# SMOTE로 데이터 불균형 완화\n",
    "smote = SMOTE(random_state=42)\n",
    "X_train_smote, y_train_smote = smote.fit_resample(train_x, train_y)\n",
    "\n",
    "\n",
    "# 모델 정의\n",
    "models = {\n",
    "    \"Extra Trees Classifier\": ExtraTreesClassifier(random_state=42),\n",
    "    \"Random Forest Classifier\": RandomForestClassifier(random_state=42),\n",
    "    \"Light Gradient Boosting Machine\": LGBMClassifier(random_state=42),\n",
    "    \"Decision Tree Classifier\": DecisionTreeClassifier(random_state=42),\n",
    "    \"Gradient Boosting Classifier\": GradientBoostingClassifier(random_state=42),\n",
    "    \"Ada Boost Classifier\": AdaBoostClassifier(random_state=42),\n",
    "    \"Logistic Regression\": LogisticRegression(random_state=42),\n",
    "}\n",
    "\n",
    "# 각 모델의 성능을 비교\n",
    "for name, model in models.items():\n",
    "    model.fit(X_train_smote, y_train_smote)\n",
    "    y_pred = model.predict_proba(val_x)\n",
    "    loss = log_loss(val_y, y_pred)\n",
    "    print(f\"{name}: Log Loss = {loss:.4f}\")"
   ]
  },
  {
   "cell_type": "markdown",
   "metadata": {
    "id": "k5mdobqLjjex"
   },
   "source": [
    "### 모델적합\n",
    "+ 최저의 Loss를 갖는 모델 적합\n",
    "    + lgbm 이용"
   ]
  },
  {
   "cell_type": "code",
   "execution_count": 10,
   "metadata": {
    "colab": {
     "base_uri": "https://localhost:8080/"
    },
    "executionInfo": {
     "elapsed": 439671,
     "status": "ok",
     "timestamp": 1680692700594,
     "user": {
      "displayName": "지승영",
      "userId": "07006377205744982370"
     },
     "user_tz": -540
    },
    "id": "bSjXXrcZD7k1",
    "outputId": "2fee0f1c-265e-4de1-cd15-6755809e5fc6"
   },
   "outputs": [
    {
     "name": "stdout",
     "output_type": "stream",
     "text": [
      "Fitting 5 folds for each of 81 candidates, totalling 405 fits\n",
      "최적의 파라미터: {'learning_rate': 0.1, 'max_depth': 7, 'n_estimators': 200, 'num_leaves': 31}\n",
      "최고의 점수: 0.4395\n"
     ]
    }
   ],
   "source": [
    "# grid search 1\n",
    "import numpy as np\n",
    "import pandas as pd\n",
    "from sklearn.model_selection import train_test_split, GridSearchCV\n",
    "from lightgbm import LGBMClassifier\n",
    "\n",
    "# 전체 데이터 이용\n",
    "train_x = train.drop(columns=['ID', 'Delay', 'Delay_num'])\n",
    "train_y = train['Delay_num']\n",
    "test_x = test.drop(columns=['ID'])\n",
    "\n",
    "# 모델 정의\n",
    "lgbm = LGBMClassifier(random_state=42)\n",
    "\n",
    "# 그리드 서치를 위한 파라미터 그리드 정의\n",
    "param_grid = {\n",
    "    \"n_estimators\": [50, 100, 200],\n",
    "    \"max_depth\": [3, 5, 7],\n",
    "    \"learning_rate\": [0.01, 0.1, 0.2],\n",
    "    \"num_leaves\": [7, 15, 31],\n",
    "}\n",
    "\n",
    "# 그리드 서치를 위한 GridSearchCV 객체 생성\n",
    "grid_search = GridSearchCV(\n",
    "    estimator=lgbm,\n",
    "    param_grid=param_grid,\n",
    "    scoring=\"neg_log_loss\",\n",
    "    cv=5,\n",
    "    verbose=1,\n",
    "    n_jobs=-1,\n",
    ")\n",
    "\n",
    "# 그리드 서치를 수행\n",
    "grid_search.fit(train_x, train_y)\n",
    "\n",
    "# 최적의 파라미터와 최고의 점수 출력\n",
    "print(f\"최적의 파라미터: {grid_search.best_params_}\")\n",
    "print(f\"최고의 점수: {-1 * grid_search.best_score_:.4f}\")\n",
    "\n",
    "# 최적의 파라미터를 사용한 최종 모델\n",
    "best_lgbm = grid_search.best_estimator_\n"
   ]
  },
  {
   "cell_type": "code",
   "execution_count": 14,
   "metadata": {
    "colab": {
     "base_uri": "https://localhost:8080/"
    },
    "executionInfo": {
     "elapsed": 1429443,
     "status": "ok",
     "timestamp": 1680694740352,
     "user": {
      "displayName": "지승영",
      "userId": "07006377205744982370"
     },
     "user_tz": -540
    },
    "id": "DSgkUFoJbHPV",
    "outputId": "32ff8bab-ff13-4da4-bbc0-207175de38ea"
   },
   "outputs": [
    {
     "name": "stdout",
     "output_type": "stream",
     "text": [
      "Fitting 5 folds for each of 144 candidates, totalling 720 fits\n",
      "최적의 파라미터: {'learning_rate': 0.1, 'max_depth': 7, 'n_estimators': 300, 'num_leaves': 30}\n",
      "최고의 점수: 0.4391\n"
     ]
    }
   ],
   "source": [
    "# grid search2 from grid search1\n",
    "import numpy as np\n",
    "import pandas as pd\n",
    "from sklearn.model_selection import train_test_split, GridSearchCV\n",
    "from lightgbm import LGBMClassifier\n",
    "\n",
    "# 전체 데이터 이용\n",
    "train_x = train.drop(columns=['ID', 'Delay', 'Delay_num'])\n",
    "train_y = train['Delay_num']\n",
    "test_x = test.drop(columns=['ID'])\n",
    "\n",
    "# 모델 정의\n",
    "lgbm = LGBMClassifier(random_state=42)\n",
    "\n",
    "# 그리드 서치를 위한 파라미터 그리드 정의\n",
    "param_grid2 = {\n",
    "    \"n_estimators\": [150, 200, 250, 300],\n",
    "    \"max_depth\": [5, 7, 9],\n",
    "    \"learning_rate\": [0.05, 0.075, 0.1, 0.125],\n",
    "    \"num_leaves\": [20, 30, 40],\n",
    "}\n",
    "\n",
    "# 그리드 서치를 위한 GridSearchCV 객체 생성\n",
    "grid_search2 = GridSearchCV(\n",
    "    estimator=lgbm,\n",
    "    param_grid=param_grid2,\n",
    "    scoring=\"neg_log_loss\",\n",
    "    cv=5,\n",
    "    verbose=1,\n",
    "    n_jobs=-1,\n",
    ")\n",
    "\n",
    "# 그리드 서치를 수행\n",
    "grid_search2.fit(train_x, train_y)\n",
    "\n",
    "# 최적의 파라미터와 최고의 점수 출력\n",
    "print(f\"최적의 파라미터: {grid_search2.best_params_}\")\n",
    "print(f\"최고의 점수: {-1 * grid_search2.best_score_:.4f}\")\n",
    "\n",
    "# 최적의 파라미터를 사용한 최종 모델\n",
    "best_lgbm2 = grid_search2.best_estimator_\n"
   ]
  },
  {
   "cell_type": "code",
   "execution_count": null,
   "metadata": {},
   "outputs": [],
   "source": []
  },
  {
   "cell_type": "code",
   "execution_count": 88,
   "metadata": {},
   "outputs": [
    {
     "data": {
      "text/html": [
       "<style>#sk-container-id-1 {color: black;background-color: white;}#sk-container-id-1 pre{padding: 0;}#sk-container-id-1 div.sk-toggleable {background-color: white;}#sk-container-id-1 label.sk-toggleable__label {cursor: pointer;display: block;width: 100%;margin-bottom: 0;padding: 0.3em;box-sizing: border-box;text-align: center;}#sk-container-id-1 label.sk-toggleable__label-arrow:before {content: \"▸\";float: left;margin-right: 0.25em;color: #696969;}#sk-container-id-1 label.sk-toggleable__label-arrow:hover:before {color: black;}#sk-container-id-1 div.sk-estimator:hover label.sk-toggleable__label-arrow:before {color: black;}#sk-container-id-1 div.sk-toggleable__content {max-height: 0;max-width: 0;overflow: hidden;text-align: left;background-color: #f0f8ff;}#sk-container-id-1 div.sk-toggleable__content pre {margin: 0.2em;color: black;border-radius: 0.25em;background-color: #f0f8ff;}#sk-container-id-1 input.sk-toggleable__control:checked~div.sk-toggleable__content {max-height: 200px;max-width: 100%;overflow: auto;}#sk-container-id-1 input.sk-toggleable__control:checked~label.sk-toggleable__label-arrow:before {content: \"▾\";}#sk-container-id-1 div.sk-estimator input.sk-toggleable__control:checked~label.sk-toggleable__label {background-color: #d4ebff;}#sk-container-id-1 div.sk-label input.sk-toggleable__control:checked~label.sk-toggleable__label {background-color: #d4ebff;}#sk-container-id-1 input.sk-hidden--visually {border: 0;clip: rect(1px 1px 1px 1px);clip: rect(1px, 1px, 1px, 1px);height: 1px;margin: -1px;overflow: hidden;padding: 0;position: absolute;width: 1px;}#sk-container-id-1 div.sk-estimator {font-family: monospace;background-color: #f0f8ff;border: 1px dotted black;border-radius: 0.25em;box-sizing: border-box;margin-bottom: 0.5em;}#sk-container-id-1 div.sk-estimator:hover {background-color: #d4ebff;}#sk-container-id-1 div.sk-parallel-item::after {content: \"\";width: 100%;border-bottom: 1px solid gray;flex-grow: 1;}#sk-container-id-1 div.sk-label:hover label.sk-toggleable__label {background-color: #d4ebff;}#sk-container-id-1 div.sk-serial::before {content: \"\";position: absolute;border-left: 1px solid gray;box-sizing: border-box;top: 0;bottom: 0;left: 50%;z-index: 0;}#sk-container-id-1 div.sk-serial {display: flex;flex-direction: column;align-items: center;background-color: white;padding-right: 0.2em;padding-left: 0.2em;position: relative;}#sk-container-id-1 div.sk-item {position: relative;z-index: 1;}#sk-container-id-1 div.sk-parallel {display: flex;align-items: stretch;justify-content: center;background-color: white;position: relative;}#sk-container-id-1 div.sk-item::before, #sk-container-id-1 div.sk-parallel-item::before {content: \"\";position: absolute;border-left: 1px solid gray;box-sizing: border-box;top: 0;bottom: 0;left: 50%;z-index: -1;}#sk-container-id-1 div.sk-parallel-item {display: flex;flex-direction: column;z-index: 1;position: relative;background-color: white;}#sk-container-id-1 div.sk-parallel-item:first-child::after {align-self: flex-end;width: 50%;}#sk-container-id-1 div.sk-parallel-item:last-child::after {align-self: flex-start;width: 50%;}#sk-container-id-1 div.sk-parallel-item:only-child::after {width: 0;}#sk-container-id-1 div.sk-dashed-wrapped {border: 1px dashed gray;margin: 0 0.4em 0.5em 0.4em;box-sizing: border-box;padding-bottom: 0.4em;background-color: white;}#sk-container-id-1 div.sk-label label {font-family: monospace;font-weight: bold;display: inline-block;line-height: 1.2em;}#sk-container-id-1 div.sk-label-container {text-align: center;}#sk-container-id-1 div.sk-container {/* jupyter's `normalize.less` sets `[hidden] { display: none; }` but bootstrap.min.css set `[hidden] { display: none !important; }` so we also need the `!important` here to be able to override the default hidden behavior on the sphinx rendered scikit-learn.org. See: https://github.com/scikit-learn/scikit-learn/issues/21755 */display: inline-block !important;position: relative;}#sk-container-id-1 div.sk-text-repr-fallback {display: none;}</style><div id=\"sk-container-id-1\" class=\"sk-top-container\"><div class=\"sk-text-repr-fallback\"><pre>LGBMClassifier(max_depth=7, n_estimators=300, num_leaves=30, random_state=42)</pre><b>In a Jupyter environment, please rerun this cell to show the HTML representation or trust the notebook. <br />On GitHub, the HTML representation is unable to render, please try loading this page with nbviewer.org.</b></div><div class=\"sk-container\" hidden><div class=\"sk-item\"><div class=\"sk-estimator sk-toggleable\"><input class=\"sk-toggleable__control sk-hidden--visually\" id=\"sk-estimator-id-1\" type=\"checkbox\" checked><label for=\"sk-estimator-id-1\" class=\"sk-toggleable__label sk-toggleable__label-arrow\">LGBMClassifier</label><div class=\"sk-toggleable__content\"><pre>LGBMClassifier(max_depth=7, n_estimators=300, num_leaves=30, random_state=42)</pre></div></div></div></div></div>"
      ],
      "text/plain": [
       "LGBMClassifier(max_depth=7, n_estimators=300, num_leaves=30, random_state=42)"
      ]
     },
     "execution_count": 88,
     "metadata": {},
     "output_type": "execute_result"
    }
   ],
   "source": [
    "# 전처리 방법 바꾼 후 test\n",
    "import numpy as np\n",
    "import pandas as pd\n",
    "from sklearn.model_selection import train_test_split, GridSearchCV\n",
    "from lightgbm import LGBMClassifier\n",
    "\n",
    "# 전체 데이터 이용\n",
    "train_x = train.drop(columns=['ID', 'Delay', 'Delay_num'])\n",
    "train_y = train['Delay_num']\n",
    "test_x = test.drop(columns=['ID'])\n",
    "\n",
    "# 모델 정의\n",
    "lgbm = LGBMClassifier(random_state=42, learning_rate=0.1, max_depth=7, n_estimators=300, num_leaves=30)\n",
    "lgbm.fit(train_x, train_y)"
   ]
  },
  {
   "cell_type": "markdown",
   "metadata": {
    "id": "_bGi-04xkv2p"
   },
   "source": [
    "### 예측"
   ]
  },
  {
   "cell_type": "code",
   "execution_count": 11,
   "metadata": {
    "executionInfo": {
     "elapsed": 4827,
     "status": "ok",
     "timestamp": 1680692967572,
     "user": {
      "displayName": "지승영",
      "userId": "07006377205744982370"
     },
     "user_tz": -540
    },
    "id": "ue61nH-Xjz99"
   },
   "outputs": [],
   "source": [
    "y_pred = best_lgbm.predict_proba(test_x)"
   ]
  },
  {
   "cell_type": "code",
   "execution_count": 15,
   "metadata": {
    "executionInfo": {
     "elapsed": 4630,
     "status": "ok",
     "timestamp": 1680694803601,
     "user": {
      "displayName": "지승영",
      "userId": "07006377205744982370"
     },
     "user_tz": -540
    },
    "id": "18_21tKGIpLq"
   },
   "outputs": [],
   "source": [
    "y_pred2 = best_lgbm2.predict_proba(test_x)"
   ]
  },
  {
   "cell_type": "code",
   "execution_count": 89,
   "metadata": {},
   "outputs": [],
   "source": [
    "y_pred3 = lgbm.predict_proba(test_x)"
   ]
  },
  {
   "cell_type": "markdown",
   "metadata": {
    "id": "bMNE18RskxUq"
   },
   "source": [
    "### 제출"
   ]
  },
  {
   "cell_type": "code",
   "execution_count": 12,
   "metadata": {
    "executionInfo": {
     "elapsed": 3262,
     "status": "ok",
     "timestamp": 1680692988031,
     "user": {
      "displayName": "지승영",
      "userId": "07006377205744982370"
     },
     "user_tz": -540
    },
    "id": "g8evKatckxzP"
   },
   "outputs": [],
   "source": [
    "submission = pd.DataFrame(data=y_pred, columns=sample_submission.columns, index=sample_submission.index)\n",
    "submission.to_csv('submission_lgbm.csv', index=True)"
   ]
  },
  {
   "cell_type": "code",
   "execution_count": 16,
   "metadata": {
    "executionInfo": {
     "elapsed": 3824,
     "status": "ok",
     "timestamp": 1680694811285,
     "user": {
      "displayName": "지승영",
      "userId": "07006377205744982370"
     },
     "user_tz": -540
    },
    "id": "WfO1IiF0HJaE"
   },
   "outputs": [],
   "source": [
    "submission2 = pd.DataFrame(data=y_pred2, columns=sample_submission.columns, index=sample_submission.index)\n",
    "submission2.to_csv('submission_lgbm2.csv', index=True)"
   ]
  },
  {
   "cell_type": "code",
   "execution_count": 90,
   "metadata": {
    "id": "AqZVJ4ZaN4JW"
   },
   "outputs": [],
   "source": [
    "submission3 = pd.DataFrame(data=y_pred3, columns=sample_submission.columns, index=sample_submission.index)\n",
    "submission3.to_csv('submission_lgbm3.csv', index=True)"
   ]
  }
 ],
 "metadata": {
  "colab": {
   "authorship_tag": "ABX9TyOt+IlY3oU3dEkCKHi2bVBw",
   "machine_shape": "hm",
   "mount_file_id": "1IgBELre5zixY8eogePhZKWB_GlZpWi2H",
   "provenance": [],
   "toc_visible": true
  },
  "gpuClass": "standard",
  "kernelspec": {
   "display_name": "Python 3 (ipykernel)",
   "language": "python",
   "name": "python3"
  },
  "language_info": {
   "codemirror_mode": {
    "name": "ipython",
    "version": 3
   },
   "file_extension": ".py",
   "mimetype": "text/x-python",
   "name": "python",
   "nbconvert_exporter": "python",
   "pygments_lexer": "ipython3",
   "version": "3.10.9"
  }
 },
 "nbformat": 4,
 "nbformat_minor": 1
}
