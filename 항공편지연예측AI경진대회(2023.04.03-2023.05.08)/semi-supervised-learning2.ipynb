{
 "cells": [
  {
   "cell_type": "markdown",
   "metadata": {},
   "source": [
    "배치를 직접 나눠서 원핫인코딩 시, 메모리초과 안나도록!"
   ]
  },
  {
   "cell_type": "markdown",
   "metadata": {
    "id": "LZ03gjSAWexe"
   },
   "source": [
    "## 1. 결측치처리\n",
    "**해당 노트북**\n",
    "+ 전처리방법10 + vae 활용 + validation set 확인"
   ]
  },
  {
   "cell_type": "code",
   "execution_count": 1,
   "metadata": {
    "id": "pO82uV5UhWZo"
   },
   "outputs": [],
   "source": [
    "import pandas as pd\n",
    "import numpy as np\n",
    "import random\n",
    "import os\n",
    "import gc\n",
    "\n",
    "from sklearn.ensemble import RandomForestClassifier\n",
    "from sklearn.preprocessing import LabelEncoder\n",
    "\n",
    "def seed_everything(seed):\n",
    "    random.seed(seed)\n",
    "    os.environ['PYTHONHASHSEED'] = str(seed)\n",
    "    np.random.seed(seed)\n",
    "seed_everything(42) # Seed 고정"
   ]
  },
  {
   "cell_type": "markdown",
   "metadata": {
    "id": "9midQA40kaZ7"
   },
   "source": [
    "### 1.1. 전처리방법2 데이터 가져오기"
   ]
  },
  {
   "cell_type": "code",
   "execution_count": 2,
   "metadata": {
    "colab": {
     "base_uri": "https://localhost:8080/"
    },
    "executionInfo": {
     "elapsed": 2232,
     "status": "ok",
     "timestamp": 1682398048619,
     "user": {
      "displayName": "지승영",
      "userId": "07006377205744982370"
     },
     "user_tz": -540
    },
    "id": "R1yJwPUBkaZ9",
    "outputId": "565b249d-cfde-414b-cb1f-f48c303bda5c"
   },
   "outputs": [
    {
     "name": "stdout",
     "output_type": "stream",
     "text": [
      "(976567, 10)\n",
      "Not_Delayed    205036\n",
      "Delayed         43985\n",
      "Name: Delay, dtype: int64\n"
     ]
    }
   ],
   "source": [
    "train = pd.read_parquet('./data/train_preprocess_10.parquet')\n",
    "test = pd.read_parquet('./data/test_preprocess_10.parquet')\n",
    "sample_submission = pd.read_csv('sample_submission.csv', index_col = 0)\n",
    "\n",
    "print(train.shape)\n",
    "print(train.Delay.value_counts())"
   ]
  },
  {
   "cell_type": "code",
   "execution_count": 3,
   "metadata": {},
   "outputs": [
    {
     "name": "stdout",
     "output_type": "stream",
     "text": [
      "6426 6493\n"
     ]
    }
   ],
   "source": [
    "print(train['Tail_Number'].nunique(), test['Tail_Number'].nunique())\n"
   ]
  },
  {
   "cell_type": "markdown",
   "metadata": {},
   "source": [
    "### 1.3. label & unlabel split  / label_train & label_validation split"
   ]
  },
  {
   "cell_type": "markdown",
   "metadata": {},
   "source": [
    "#### 1배치 데이터 흐름\n",
    "1. vae에는 X_train_labeled와 X_unlabeled를 각각 onehot으로 만들어서 합쳐서 넣어주기\n",
    "2. classifier에는 X_train_labeled를 onehot으로 만든 것 넣어주기\n",
    "\n",
    "\n",
    "#### 필요한 것\n",
    "1. labeled와 unlabeled 나누기\n",
    "2. labeled에서 train과 validation 분리하기\n",
    "3. X_train_labeld & X_unlabeled 를 이용한 onehot encoding\n",
    "4. 전체 데이터에 onehot 적용하면 데이터 크기 너무 커지므로, 배치로 처리하기"
   ]
  },
  {
   "cell_type": "markdown",
   "metadata": {},
   "source": [
    "#### 1.3.1. 데이터 쪼개기"
   ]
  },
  {
   "cell_type": "code",
   "execution_count": 4,
   "metadata": {},
   "outputs": [
    {
     "name": "stdout",
     "output_type": "stream",
     "text": [
      "(249021, 8) (727546, 8)\n"
     ]
    },
    {
     "name": "stderr",
     "output_type": "stream",
     "text": [
      "C:\\Users\\Administrator\\AppData\\Local\\Temp\\ipykernel_14572\\2020010435.py:6: SettingWithCopyWarning: \n",
      "A value is trying to be set on a copy of a slice from a DataFrame.\n",
      "Try using .loc[row_indexer,col_indexer] = value instead\n",
      "\n",
      "See the caveats in the documentation: https://pandas.pydata.org/pandas-docs/stable/user_guide/indexing.html#returning-a-view-versus-a-copy\n",
      "  y_labeled['Delay'] = y_labeled['Delay'].apply(lambda x : change_cate2num[x])\n"
     ]
    }
   ],
   "source": [
    "# 1. labeled & unlabeld split\n",
    "train_labeled , train_unlabeled = train[train['Delay'].notnull()], train[train['Delay'].isnull()]\n",
    "\n",
    "X_labeled, y_labeled = train_labeled.drop(['ID','Delay'], axis=1), train_labeled[['Delay']]\n",
    "change_cate2num = {'Not_Delayed':0, \"Delayed\":1}\n",
    "y_labeled['Delay'] = y_labeled['Delay'].apply(lambda x : change_cate2num[x])\n",
    "X_unlabeled = train_unlabeled.drop(['ID','Delay'], axis=1)\n",
    "\n",
    "print(X_labeled.shape, X_unlabeled.shape)\n",
    "\n",
    "\n",
    "# 2. train_labeled & val_labeled split\n",
    "from sklearn.model_selection import train_test_split\n",
    "X_train_labeled, X_val_labeled, y_train_labeled, y_val_labeled = train_test_split(X_labeled, y_labeled, test_size=0.2, random_state=42)\n",
    "\n",
    "\n",
    "# 3. X_unlabled 의 크기를 X_train_labeled와 맞춰주기\n",
    "# X_unlabeled = X_unlabeled.iloc[:len(X_train_labeled),:]\n",
    "# print(X_unlabeled.shape, X_train_labeled.shape )"
   ]
  },
  {
   "cell_type": "markdown",
   "metadata": {},
   "source": [
    "#### 1.3.2. encoder 만들기"
   ]
  },
  {
   "cell_type": "code",
   "execution_count": 5,
   "metadata": {},
   "outputs": [
    {
     "data": {
      "text/html": [
       "<div>\n",
       "<style scoped>\n",
       "    .dataframe tbody tr th:only-of-type {\n",
       "        vertical-align: middle;\n",
       "    }\n",
       "\n",
       "    .dataframe tbody tr th {\n",
       "        vertical-align: top;\n",
       "    }\n",
       "\n",
       "    .dataframe thead th {\n",
       "        text-align: right;\n",
       "    }\n",
       "</style>\n",
       "<table border=\"1\" class=\"dataframe\">\n",
       "  <thead>\n",
       "    <tr style=\"text-align: right;\">\n",
       "      <th></th>\n",
       "      <th>Delay</th>\n",
       "    </tr>\n",
       "  </thead>\n",
       "  <tbody>\n",
       "    <tr>\n",
       "      <th>5</th>\n",
       "      <td>0</td>\n",
       "    </tr>\n",
       "    <tr>\n",
       "      <th>6</th>\n",
       "      <td>0</td>\n",
       "    </tr>\n",
       "    <tr>\n",
       "      <th>8</th>\n",
       "      <td>0</td>\n",
       "    </tr>\n",
       "    <tr>\n",
       "      <th>10</th>\n",
       "      <td>1</td>\n",
       "    </tr>\n",
       "    <tr>\n",
       "      <th>12</th>\n",
       "      <td>0</td>\n",
       "    </tr>\n",
       "    <tr>\n",
       "      <th>...</th>\n",
       "      <td>...</td>\n",
       "    </tr>\n",
       "    <tr>\n",
       "      <th>999962</th>\n",
       "      <td>0</td>\n",
       "    </tr>\n",
       "    <tr>\n",
       "      <th>999963</th>\n",
       "      <td>1</td>\n",
       "    </tr>\n",
       "    <tr>\n",
       "      <th>999969</th>\n",
       "      <td>1</td>\n",
       "    </tr>\n",
       "    <tr>\n",
       "      <th>999985</th>\n",
       "      <td>0</td>\n",
       "    </tr>\n",
       "    <tr>\n",
       "      <th>999992</th>\n",
       "      <td>0</td>\n",
       "    </tr>\n",
       "  </tbody>\n",
       "</table>\n",
       "<p>249021 rows × 1 columns</p>\n",
       "</div>"
      ],
      "text/plain": [
       "        Delay\n",
       "5           0\n",
       "6           0\n",
       "8           0\n",
       "10          1\n",
       "12          0\n",
       "...       ...\n",
       "999962      0\n",
       "999963      1\n",
       "999969      1\n",
       "999985      0\n",
       "999992      0\n",
       "\n",
       "[249021 rows x 1 columns]"
      ]
     },
     "execution_count": 5,
     "metadata": {},
     "output_type": "execute_result"
    }
   ],
   "source": [
    "y_labeled"
   ]
  },
  {
   "cell_type": "code",
   "execution_count": 6,
   "metadata": {},
   "outputs": [
    {
     "data": {
      "text/html": [
       "<style>#sk-container-id-1 {color: black;background-color: white;}#sk-container-id-1 pre{padding: 0;}#sk-container-id-1 div.sk-toggleable {background-color: white;}#sk-container-id-1 label.sk-toggleable__label {cursor: pointer;display: block;width: 100%;margin-bottom: 0;padding: 0.3em;box-sizing: border-box;text-align: center;}#sk-container-id-1 label.sk-toggleable__label-arrow:before {content: \"▸\";float: left;margin-right: 0.25em;color: #696969;}#sk-container-id-1 label.sk-toggleable__label-arrow:hover:before {color: black;}#sk-container-id-1 div.sk-estimator:hover label.sk-toggleable__label-arrow:before {color: black;}#sk-container-id-1 div.sk-toggleable__content {max-height: 0;max-width: 0;overflow: hidden;text-align: left;background-color: #f0f8ff;}#sk-container-id-1 div.sk-toggleable__content pre {margin: 0.2em;color: black;border-radius: 0.25em;background-color: #f0f8ff;}#sk-container-id-1 input.sk-toggleable__control:checked~div.sk-toggleable__content {max-height: 200px;max-width: 100%;overflow: auto;}#sk-container-id-1 input.sk-toggleable__control:checked~label.sk-toggleable__label-arrow:before {content: \"▾\";}#sk-container-id-1 div.sk-estimator input.sk-toggleable__control:checked~label.sk-toggleable__label {background-color: #d4ebff;}#sk-container-id-1 div.sk-label input.sk-toggleable__control:checked~label.sk-toggleable__label {background-color: #d4ebff;}#sk-container-id-1 input.sk-hidden--visually {border: 0;clip: rect(1px 1px 1px 1px);clip: rect(1px, 1px, 1px, 1px);height: 1px;margin: -1px;overflow: hidden;padding: 0;position: absolute;width: 1px;}#sk-container-id-1 div.sk-estimator {font-family: monospace;background-color: #f0f8ff;border: 1px dotted black;border-radius: 0.25em;box-sizing: border-box;margin-bottom: 0.5em;}#sk-container-id-1 div.sk-estimator:hover {background-color: #d4ebff;}#sk-container-id-1 div.sk-parallel-item::after {content: \"\";width: 100%;border-bottom: 1px solid gray;flex-grow: 1;}#sk-container-id-1 div.sk-label:hover label.sk-toggleable__label {background-color: #d4ebff;}#sk-container-id-1 div.sk-serial::before {content: \"\";position: absolute;border-left: 1px solid gray;box-sizing: border-box;top: 0;bottom: 0;left: 50%;z-index: 0;}#sk-container-id-1 div.sk-serial {display: flex;flex-direction: column;align-items: center;background-color: white;padding-right: 0.2em;padding-left: 0.2em;position: relative;}#sk-container-id-1 div.sk-item {position: relative;z-index: 1;}#sk-container-id-1 div.sk-parallel {display: flex;align-items: stretch;justify-content: center;background-color: white;position: relative;}#sk-container-id-1 div.sk-item::before, #sk-container-id-1 div.sk-parallel-item::before {content: \"\";position: absolute;border-left: 1px solid gray;box-sizing: border-box;top: 0;bottom: 0;left: 50%;z-index: -1;}#sk-container-id-1 div.sk-parallel-item {display: flex;flex-direction: column;z-index: 1;position: relative;background-color: white;}#sk-container-id-1 div.sk-parallel-item:first-child::after {align-self: flex-end;width: 50%;}#sk-container-id-1 div.sk-parallel-item:last-child::after {align-self: flex-start;width: 50%;}#sk-container-id-1 div.sk-parallel-item:only-child::after {width: 0;}#sk-container-id-1 div.sk-dashed-wrapped {border: 1px dashed gray;margin: 0 0.4em 0.5em 0.4em;box-sizing: border-box;padding-bottom: 0.4em;background-color: white;}#sk-container-id-1 div.sk-label label {font-family: monospace;font-weight: bold;display: inline-block;line-height: 1.2em;}#sk-container-id-1 div.sk-label-container {text-align: center;}#sk-container-id-1 div.sk-container {/* jupyter's `normalize.less` sets `[hidden] { display: none; }` but bootstrap.min.css set `[hidden] { display: none !important; }` so we also need the `!important` here to be able to override the default hidden behavior on the sphinx rendered scikit-learn.org. See: https://github.com/scikit-learn/scikit-learn/issues/21755 */display: inline-block !important;position: relative;}#sk-container-id-1 div.sk-text-repr-fallback {display: none;}</style><div id=\"sk-container-id-1\" class=\"sk-top-container\"><div class=\"sk-text-repr-fallback\"><pre>OneHotEncoder(handle_unknown=&#x27;ignore&#x27;)</pre><b>In a Jupyter environment, please rerun this cell to show the HTML representation or trust the notebook. <br />On GitHub, the HTML representation is unable to render, please try loading this page with nbviewer.org.</b></div><div class=\"sk-container\" hidden><div class=\"sk-item\"><div class=\"sk-estimator sk-toggleable\"><input class=\"sk-toggleable__control sk-hidden--visually\" id=\"sk-estimator-id-1\" type=\"checkbox\" checked><label for=\"sk-estimator-id-1\" class=\"sk-toggleable__label sk-toggleable__label-arrow\">OneHotEncoder</label><div class=\"sk-toggleable__content\"><pre>OneHotEncoder(handle_unknown=&#x27;ignore&#x27;)</pre></div></div></div></div></div>"
      ],
      "text/plain": [
       "OneHotEncoder(handle_unknown='ignore')"
      ]
     },
     "execution_count": 6,
     "metadata": {},
     "output_type": "execute_result"
    }
   ],
   "source": [
    "\n",
    "# 3. 데이터 정리 & onehotencoding\n",
    "from sklearn.preprocessing import OneHotEncoder\n",
    "\n",
    "\n",
    "cate_cols = ['Origin_Airport_ID', 'Destination_Airport_ID', 'Carrier_ID(DOT)', 'Tail_Number','Day','EDT','EAT']\n",
    "\n",
    "numeric_cols = ['Distance']\n",
    "\n",
    "## 3.1. VAE 훈련에 쓸 데이터 : X_train_labeled, X_unlabeled\n",
    "### 3.1.1. 데이터 정리\n",
    "X_vae_train = pd.concat([X_train_labeled, X_unlabeled])\n",
    "X_vae_train_cate = X_vae_train[cate_cols]\n",
    "\n",
    "encoder = OneHotEncoder(handle_unknown='ignore')\n",
    "encoder.fit(X_vae_train_cate)\n"
   ]
  },
  {
   "cell_type": "markdown",
   "metadata": {},
   "source": [
    "### 1.4. 데이터 만들기"
   ]
  },
  {
   "cell_type": "code",
   "execution_count": 7,
   "metadata": {},
   "outputs": [],
   "source": [
    "import torch\n",
    "# 필요한 것 : X_train_labeled, y_train_labeled, X_vae_train, cate_cols, numeric_cols\n",
    "def make_label_batch(batch_num, num_of_batch):\n",
    "    # 1. 현재 배치 가져오기 - 추후 X_train_labeled를 섞는 과정도 필요\n",
    "    n = len(X_train_labeled)\n",
    "    start_loc = n//num_of_batch*(batch_num-1)\n",
    "    end_loc = n//num_of_batch*batch_num\n",
    "    \n",
    "    X_cur_batch = X_train_labeled.iloc[start_loc:end_loc]\n",
    "    y_cur_batch = y_train_labeled.iloc[start_loc:end_loc]\n",
    "    \n",
    "    # 2. category onehot으로 변환하기\n",
    "    X_sample_category = X_cur_batch[cate_cols]\n",
    "    X_sample_category = encoder.transform(X_sample_category)\n",
    "    X_sample_category = X_sample_category.toarray()  # 추가된 코드: X_sample_category를 2차원 배열로 변환 : 희소행렬로 반환되는 onehot encoding 결과를, 일반적인 Numpy 배열로 변환해줌\n",
    "    \n",
    "    # 3. numeric은 0~1 사이로 바꿔주기\n",
    "    X_sample_numeric = X_cur_batch[numeric_cols]\n",
    "    max_values = X_vae_train[numeric_cols].max()\n",
    "    X_sample_numeric = np.array(X_sample_numeric /max_values.values) # 0~1사이로 변환\n",
    "#     print(X_sample_category.shape, X_sample_numeric.shape)\n",
    "    \n",
    "    # 4. category & numeric 합치기\n",
    "    X_sample = np.hstack([X_sample_category,X_sample_numeric])\n",
    "\n",
    "    # 5. 텐서로 변환하기 : (batch_size, column dim)\n",
    "    X_sample = torch.tensor(X_sample, dtype=torch.float32)  \n",
    "    y_sample = torch.tensor(y_cur_batch.values, dtype=torch.float32)\n",
    "    \n",
    "    return X_sample, y_sample"
   ]
  },
  {
   "cell_type": "code",
   "execution_count": 8,
   "metadata": {},
   "outputs": [],
   "source": [
    "# 필요한 것 : X_unlabeled, X_vae_train, cate_cols, numeric_cols\n",
    "def make_unlabel_batch(batch_num,num_of_batch):\n",
    "    # 1. 현재 배치 가져오기 - 추후 X_unlabeled 섞는 과정도 필요\n",
    "    n = len(X_train_labeled) # 임시방편\n",
    "    start_loc = n//num_of_batch*(batch_num-1)\n",
    "    end_loc = n//num_of_batch*batch_num\n",
    "    \n",
    "    X_cur_batch = X_unlabeled.iloc[start_loc:end_loc]\n",
    "    \n",
    "    # 2. category onehot으로 변환하기\n",
    "    X_sample_category = X_cur_batch[cate_cols]\n",
    "    X_sample_category = encoder.transform(X_sample_category)\n",
    "    X_sample_category = X_sample_category.toarray()  # 추가된 코드: X_sample_category를 2차원 배열로 변환 : 희소행렬로 반환되는 onehot encoding 결과를, 일반적인 Numpy 배열로 변환해줌\n",
    "    \n",
    "    # 3. numeric은 0~1 사이로 바꿔주기\n",
    "    X_sample_numeric = X_cur_batch[numeric_cols]\n",
    "    max_values = X_vae_train[numeric_cols].max()\n",
    "    X_sample_numeric = np.array(X_sample_numeric /max_values.values) # 0~1사이로 변환\n",
    "#     print(X_sample_category.shape, X_sample_numeric.shape)\n",
    "    \n",
    "    # 4. category & numeric 합치기\n",
    "    X_sample = np.hstack([X_sample_category,X_sample_numeric])\n",
    "\n",
    "    # 5. 텐서로 변환하기 : (batch_size, column dim)\n",
    "    X_sample = torch.tensor(X_sample, dtype=torch.float32)  \n",
    "    \n",
    "    return X_sample"
   ]
  },
  {
   "cell_type": "code",
   "execution_count": 9,
   "metadata": {},
   "outputs": [],
   "source": [
    "# validation X를 tensor로 만들기\n",
    "def make_validation_tensor():\n",
    "    X_cur_batch = X_val_labeled.copy()\n",
    "    \n",
    "    # 2. category onehot으로 변환하기\n",
    "    X_sample_category = X_cur_batch[cate_cols]\n",
    "    X_sample_category = encoder.transform(X_sample_category)\n",
    "    X_sample_category = X_sample_category.toarray()  # 추가된 코드: X_sample_category를 2차원 배열로 변환 : 희소행렬로 반환되는 onehot encoding 결과를, 일반적인 Numpy 배열로 변환해줌\n",
    "    \n",
    "    # 3. numeric은 0~1 사이로 바꿔주기\n",
    "    X_sample_numeric = X_cur_batch[numeric_cols]\n",
    "    max_values = X_vae_train[numeric_cols].max()\n",
    "    X_sample_numeric = np.array(X_sample_numeric /max_values.values) # 0~1사이로 변환\n",
    "#     print(X_sample_category.shape, X_sample_numeric.shape)\n",
    "    \n",
    "    # 4. category & numeric 합치기\n",
    "    X_sample = np.hstack([X_sample_category,X_sample_numeric])\n",
    "\n",
    "    # 5. 텐서로 변환하기 : (batch_size, column dim)\n",
    "    X_sample = torch.tensor(X_sample, dtype=torch.float32)  \n",
    "    \n",
    "    return X_sample    "
   ]
  },
  {
   "cell_type": "code",
   "execution_count": 10,
   "metadata": {},
   "outputs": [
    {
     "data": {
      "text/plain": [
       "torch.Size([49805, 7663])"
      ]
     },
     "execution_count": 10,
     "metadata": {},
     "output_type": "execute_result"
    }
   ],
   "source": [
    "X_val_labeled_tensor = make_validation_tensor()\n",
    "X_val_labeled_tensor.shape"
   ]
  },
  {
   "cell_type": "code",
   "execution_count": 11,
   "metadata": {},
   "outputs": [],
   "source": [
    "# test는 batch 마다 예측 후 이어서 정답 만들기\n",
    "def make_test_batch(batch_num,num_of_batch):\n",
    "    n = len(X_test) # 임시방편\n",
    "    start_loc = n//num_of_batch*(batch_num-1)\n",
    "    end_loc = n//num_of_batch*batch_num \n",
    "    \n",
    "    X_cur_batch = X_test.iloc[start_loc:end_loc] if batch_num!= num_of_batch else X_test.iloc[start_loc:]\n",
    "    \n",
    "    # 2. category onehot으로 변환하기\n",
    "    X_sample_category = X_cur_batch[cate_cols]\n",
    "    X_sample_category = encoder.transform(X_sample_category)\n",
    "    X_sample_category = X_sample_category.toarray()  # 추가된 코드: X_sample_category를 2차원 배열로 변환 : 희소행렬로 반환되는 onehot encoding 결과를, 일반적인 Numpy 배열로 변환해줌\n",
    "    \n",
    "    # 3. numeric은 0~1 사이로 바꿔주기 & Nan 값 0으로 처리\n",
    "    X_sample_numeric = X_cur_batch[numeric_cols].fillna(0)\n",
    "    max_values = X_vae_train[numeric_cols].max()\n",
    "    X_sample_numeric = np.array(X_sample_numeric /max_values.values) # 0~1사이로 변환\n",
    "#     print(X_sample_category.shape, X_sample_numeric.shape)\n",
    "    \n",
    "    # 4. category & numeric 합치기\n",
    "    X_sample = np.hstack([X_sample_category,X_sample_numeric])\n",
    "\n",
    "    # 5. 텐서로 변환하기 : (batch_size, column dim)\n",
    "    X_sample = torch.tensor(X_sample, dtype=torch.float32)  \n",
    "    \n",
    "    return X_sample"
   ]
  },
  {
   "cell_type": "markdown",
   "metadata": {},
   "source": [
    "### 모델생성"
   ]
  },
  {
   "cell_type": "code",
   "execution_count": 12,
   "metadata": {},
   "outputs": [],
   "source": [
    "import torch\n",
    "import torch.nn as nn\n",
    "import torch.optim as optim\n",
    "from torch.utils.data import DataLoader\n",
    "\n",
    "# Define the VAE model\n",
    "class VAE(nn.Module):\n",
    "    def __init__(self, input_dim, hidden_dim, latent_dim):\n",
    "        super(VAE, self).__init__()\n",
    "\n",
    "        # Encoder\n",
    "        self.encoder = nn.Sequential(\n",
    "            nn.Linear(input_dim, hidden_dim),\n",
    "            nn.ReLU(),\n",
    "            nn.Linear(hidden_dim, latent_dim * 2)\n",
    "        )\n",
    "\n",
    "        # Decoder\n",
    "        self.decoder = nn.Sequential(\n",
    "            nn.Linear(latent_dim, hidden_dim),\n",
    "            nn.ReLU(),\n",
    "            nn.Linear(hidden_dim, input_dim),\n",
    "            nn.Sigmoid()\n",
    "        )\n",
    "\n",
    "    def reparameterize(self, mu, log_var):\n",
    "        std = torch.exp(0.5 * log_var)\n",
    "        eps = torch.randn_like(std)\n",
    "        return mu + eps * std\n",
    "\n",
    "    def forward(self, x):\n",
    "        h = self.encoder(x)\n",
    "        mu, log_var = torch.chunk(h, 2, dim=1)\n",
    "        z = self.reparameterize(mu, log_var)\n",
    "        x_hat = self.decoder(z)\n",
    "        return x_hat, mu, log_var\n"
   ]
  },
  {
   "cell_type": "code",
   "execution_count": 13,
   "metadata": {},
   "outputs": [],
   "source": [
    "# 분류기 생성\n",
    "class Classifier(nn.Module):\n",
    "    def __init__(self, input_dim, hidden_dim, output_dim):\n",
    "        super(Classifier, self).__init__()\n",
    "        self.network = nn.Sequential(\n",
    "            nn.Linear(input_dim, hidden_dim),\n",
    "            nn.ReLU(),\n",
    "            nn.Linear(hidden_dim, hidden_dim),\n",
    "            nn.ReLU(),\n",
    "            nn.Linear(hidden_dim, output_dim),\n",
    "#             nn.Softmax(dim=1)\n",
    "        )\n",
    "\n",
    "    def forward(self, x):\n",
    "        return self.network(x)\n",
    "\n",
    "    \n",
    "# 분류기 생성\n",
    "class Classifier_drop(nn.Module):\n",
    "    def __init__(self, input_dim, hidden_dim, output_dim):\n",
    "        super(Classifier_drop, self).__init__()\n",
    "        self.network = nn.Sequential(\n",
    "            nn.Linear(input_dim, hidden_dim),\n",
    "            nn.ReLU(),\n",
    "            nn.Dropout(),\n",
    "            nn.Linear(hidden_dim, hidden_dim),\n",
    "            nn.ReLU(),\n",
    "            nn.Linear(hidden_dim, output_dim),\n",
    "#             nn.Softmax(dim=1)\n",
    "        )\n",
    "\n",
    "    def forward(self, x):\n",
    "        return self.network(x)\n"
   ]
  },
  {
   "cell_type": "code",
   "execution_count": 48,
   "metadata": {},
   "outputs": [
    {
     "name": "stdout",
     "output_type": "stream",
     "text": [
      "input shape :  7663\n"
     ]
    }
   ],
   "source": [
    "# Hyperparameters\n",
    "input_dim = X_val_labeled_tensor.shape[1]\n",
    "print('input shape : ', X_val_labeled_tensor.shape[1])\n",
    "hidden_dim = 64\n",
    "latent_dim = 3\n",
    "learning_rate = 0.001\n",
    "\n",
    "# Initialize the model, optimizer and loss function\n",
    "device = 'cuda:0'\n",
    "vae = VAE(input_dim, hidden_dim, latent_dim)\n",
    "vae.to(device)\n",
    "\n",
    "reconstruction_loss = nn.BCELoss(reduction='sum')\n",
    "\n",
    "\n",
    "# classifier 초기화\n",
    "classifier = Classifier_drop(input_dim = latent_dim, hidden_dim = latent_dim//2 , output_dim= 2)\n",
    "classifier.to(device)\n",
    "classification_loss = nn.CrossEntropyLoss()\n",
    "\n",
    "\n",
    "# optimizer\n",
    "combined_parameters = list(vae.parameters()) + list(classifier.parameters())\n",
    "optimizer = optim.Adam(combined_parameters, lr=learning_rate)\n",
    "\n",
    "\n",
    "# vae.load_state_dict(torch.load('./VAE_new.pth'))\n",
    "# classifier.load_state_dict(torch.load('./classifier_new.pth'))\n"
   ]
  },
  {
   "cell_type": "markdown",
   "metadata": {},
   "source": [
    "### 모델훈련\n",
    "현재 갑자기 training이 안되는 문제 발생"
   ]
  },
  {
   "cell_type": "code",
   "execution_count": 49,
   "metadata": {},
   "outputs": [
    {
     "name": "stderr",
     "output_type": "stream",
     "text": [
      "\r",
      "  0%|                                                                                           | 0/30 [00:00<?, ?it/s]"
     ]
    },
    {
     "name": "stdout",
     "output_type": "stream",
     "text": [
      "epoch:1, total: 29697280.3600, labeled_loss: 14850167.9700, unlabeled_loss: 14847112.2200, class_loss:  0.6498\n"
     ]
    },
    {
     "name": "stderr",
     "output_type": "stream",
     "text": [
      "\r",
      "  3%|██▊                                                                                | 1/30 [01:26<41:59, 86.87s/it]"
     ]
    },
    {
     "name": "stdout",
     "output_type": "stream",
     "text": [
      " Validation Log Loss = 0.6491\n",
      "epoch:2, total: 3857490.9950, labeled_loss: 1929733.5731, unlabeled_loss: 1927756.7925, class_loss:  0.5984\n"
     ]
    },
    {
     "name": "stderr",
     "output_type": "stream",
     "text": [
      "\r",
      "  7%|█████▌                                                                             | 2/30 [02:53<40:24, 86.60s/it]"
     ]
    },
    {
     "name": "stdout",
     "output_type": "stream",
     "text": [
      " Validation Log Loss = 0.6177\n",
      "epoch:3, total: 661494.9750, labeled_loss: 331317.5363, unlabeled_loss: 330176.9031, class_loss:  0.5343\n"
     ]
    },
    {
     "name": "stderr",
     "output_type": "stream",
     "text": [
      "\r",
      " 10%|████████▎                                                                          | 3/30 [04:19<38:52, 86.38s/it]"
     ]
    },
    {
     "name": "stdout",
     "output_type": "stream",
     "text": [
      " Validation Log Loss = 0.5734\n",
      "epoch:4, total: 544019.6625, labeled_loss: 271809.2719, unlabeled_loss: 272209.9394, class_loss:  0.4467\n"
     ]
    },
    {
     "name": "stderr",
     "output_type": "stream",
     "text": [
      "\r",
      " 13%|███████████                                                                        | 4/30 [05:46<37:31, 86.60s/it]"
     ]
    },
    {
     "name": "stdout",
     "output_type": "stream",
     "text": [
      " Validation Log Loss = 0.5229\n",
      "epoch:5, total: 513525.0094, labeled_loss: 256650.8584, unlabeled_loss: 256873.7872, class_loss:  0.3624\n"
     ]
    },
    {
     "name": "stderr",
     "output_type": "stream",
     "text": [
      "\r",
      " 17%|█████████████▊                                                                     | 5/30 [07:13<36:06, 86.66s/it]"
     ]
    },
    {
     "name": "stdout",
     "output_type": "stream",
     "text": [
      " Validation Log Loss = 0.4951\n",
      "epoch:6, total: 495899.6356, labeled_loss: 247821.1244, unlabeled_loss: 248078.2078, class_loss:  0.3059\n"
     ]
    },
    {
     "name": "stderr",
     "output_type": "stream",
     "text": [
      "\r",
      " 20%|████████████████▌                                                                  | 6/30 [08:39<34:39, 86.66s/it]"
     ]
    },
    {
     "name": "stdout",
     "output_type": "stream",
     "text": [
      " Validation Log Loss = 0.4976\n",
      "epoch:7, total: 483214.8887, labeled_loss: 241673.3788, unlabeled_loss: 241541.2366, class_loss:  0.2712\n"
     ]
    },
    {
     "name": "stderr",
     "output_type": "stream",
     "text": [
      "\r",
      " 23%|███████████████████▎                                                               | 7/30 [10:07<33:20, 86.98s/it]"
     ]
    },
    {
     "name": "stdout",
     "output_type": "stream",
     "text": [
      " Validation Log Loss = 0.5092\n",
      "epoch:8, total: 473571.2894, labeled_loss: 236819.6284, unlabeled_loss: 236751.4219, class_loss:  0.2401\n"
     ]
    },
    {
     "name": "stderr",
     "output_type": "stream",
     "text": [
      "\r",
      " 27%|██████████████████████▏                                                            | 8/30 [11:34<31:54, 87.03s/it]"
     ]
    },
    {
     "name": "stdout",
     "output_type": "stream",
     "text": [
      " Validation Log Loss = 0.5311\n"
     ]
    },
    {
     "name": "stderr",
     "output_type": "stream",
     "text": [
      " 27%|██████████████████████▏                                                            | 8/30 [11:59<32:58, 89.95s/it]\n"
     ]
    },
    {
     "ename": "KeyboardInterrupt",
     "evalue": "",
     "output_type": "error",
     "traceback": [
      "\u001b[1;31m---------------------------------------------------------------------------\u001b[0m",
      "\u001b[1;31mKeyboardInterrupt\u001b[0m                         Traceback (most recent call last)",
      "Cell \u001b[1;32mIn[49], line 24\u001b[0m\n\u001b[0;32m     22\u001b[0m \u001b[38;5;28;01mfor\u001b[39;00m batch_num \u001b[38;5;129;01min\u001b[39;00m \u001b[38;5;28mrange\u001b[39m(\u001b[38;5;241m1\u001b[39m,num_of_batch\u001b[38;5;241m+\u001b[39m\u001b[38;5;241m1\u001b[39m):\n\u001b[0;32m     23\u001b[0m     labeled_data, labeled_label \u001b[38;5;241m=\u001b[39m make_label_batch(batch_num, num_of_batch)\n\u001b[1;32m---> 24\u001b[0m     unlabeled_data \u001b[38;5;241m=\u001b[39m \u001b[43mmake_unlabel_batch\u001b[49m\u001b[43m(\u001b[49m\u001b[43mbatch_num\u001b[49m\u001b[43m,\u001b[49m\u001b[43m \u001b[49m\u001b[43mnum_of_batch\u001b[49m\u001b[43m)\u001b[49m\n\u001b[0;32m     26\u001b[0m     optimizer\u001b[38;5;241m.\u001b[39mzero_grad()\n\u001b[0;32m     28\u001b[0m     \u001b[38;5;66;03m# Labeled data에 대한 VAE 훈련\u001b[39;00m\n",
      "Cell \u001b[1;32mIn[11], line 22\u001b[0m, in \u001b[0;36mmake_unlabel_batch\u001b[1;34m(batch_num, num_of_batch)\u001b[0m\n\u001b[0;32m     18\u001b[0m     X_sample_numeric \u001b[38;5;241m=\u001b[39m np\u001b[38;5;241m.\u001b[39marray(X_sample_numeric \u001b[38;5;241m/\u001b[39mmax_values\u001b[38;5;241m.\u001b[39mvalues) \u001b[38;5;66;03m# 0~1사이로 변환\u001b[39;00m\n\u001b[0;32m     19\u001b[0m \u001b[38;5;66;03m#     print(X_sample_category.shape, X_sample_numeric.shape)\u001b[39;00m\n\u001b[0;32m     20\u001b[0m     \n\u001b[0;32m     21\u001b[0m     \u001b[38;5;66;03m# 4. category & numeric 합치기\u001b[39;00m\n\u001b[1;32m---> 22\u001b[0m     X_sample \u001b[38;5;241m=\u001b[39m \u001b[43mnp\u001b[49m\u001b[38;5;241;43m.\u001b[39;49m\u001b[43mhstack\u001b[49m\u001b[43m(\u001b[49m\u001b[43m[\u001b[49m\u001b[43mX_sample_category\u001b[49m\u001b[43m,\u001b[49m\u001b[43mX_sample_numeric\u001b[49m\u001b[43m]\u001b[49m\u001b[43m)\u001b[49m\n\u001b[0;32m     24\u001b[0m     \u001b[38;5;66;03m# 5. 텐서로 변환하기 : (batch_size, column dim)\u001b[39;00m\n\u001b[0;32m     25\u001b[0m     X_sample \u001b[38;5;241m=\u001b[39m torch\u001b[38;5;241m.\u001b[39mtensor(X_sample, dtype\u001b[38;5;241m=\u001b[39mtorch\u001b[38;5;241m.\u001b[39mfloat32)  \n",
      "File \u001b[1;32m<__array_function__ internals>:5\u001b[0m, in \u001b[0;36mhstack\u001b[1;34m(*args, **kwargs)\u001b[0m\n",
      "File \u001b[1;32m~\\anaconda3\\lib\\site-packages\\numpy\\core\\shape_base.py:345\u001b[0m, in \u001b[0;36mhstack\u001b[1;34m(tup)\u001b[0m\n\u001b[0;32m    343\u001b[0m     \u001b[38;5;28;01mreturn\u001b[39;00m _nx\u001b[38;5;241m.\u001b[39mconcatenate(arrs, \u001b[38;5;241m0\u001b[39m)\n\u001b[0;32m    344\u001b[0m \u001b[38;5;28;01melse\u001b[39;00m:\n\u001b[1;32m--> 345\u001b[0m     \u001b[38;5;28;01mreturn\u001b[39;00m \u001b[43m_nx\u001b[49m\u001b[38;5;241;43m.\u001b[39;49m\u001b[43mconcatenate\u001b[49m\u001b[43m(\u001b[49m\u001b[43marrs\u001b[49m\u001b[43m,\u001b[49m\u001b[43m \u001b[49m\u001b[38;5;241;43m1\u001b[39;49m\u001b[43m)\u001b[49m\n",
      "File \u001b[1;32m<__array_function__ internals>:5\u001b[0m, in \u001b[0;36mconcatenate\u001b[1;34m(*args, **kwargs)\u001b[0m\n",
      "\u001b[1;31mKeyboardInterrupt\u001b[0m: "
     ]
    }
   ],
   "source": [
    "from tqdm import tqdm\n",
    "from torch.optim.lr_scheduler import StepLR\n",
    "device = 'cuda:0'\n",
    "vae.to(device)\n",
    "classifier.to(device)\n",
    "\n",
    "scheduler = StepLR(optimizer, step_size=1, gamma=0.95)\n",
    "\n",
    "\n",
    "for epoch in tqdm(range(30)):\n",
    "    vae.train()\n",
    "    classifier.train()\n",
    "    # epoch 마다 data shuffle\n",
    "    tmp = pd.concat([X_train_labeled, y_train_labeled], axis=1)\n",
    "    tmp = tmp.sample(frac=1).reset_index(drop=True)\n",
    "    X_train_labeled = tmp.drop(columns=['Delay'])\n",
    "    y_train_labeled = tmp[['Delay']]\n",
    "    \n",
    "    # epoch 마다 loss 세기\n",
    "    loss_dict = {'total_loss':0, 'labeled_loss':0, 'unlabeled_loss':0, 'class_loss':0}\n",
    "    num_of_batch = 50\n",
    "    for batch_num in range(1,num_of_batch+1):\n",
    "        labeled_data, labeled_label = make_label_batch(batch_num, num_of_batch)\n",
    "        unlabeled_data = make_unlabel_batch(batch_num, num_of_batch)\n",
    "\n",
    "        optimizer.zero_grad()\n",
    "\n",
    "        # Labeled data에 대한 VAE 훈련\n",
    "        reconstructed_labeled_data, mu, log_var = vae(labeled_data.to(device))\n",
    "        labeled_loss = reconstruction_loss(reconstructed_labeled_data, labeled_data.to(device)) - 0.5 * torch.sum(1 + log_var - mu.pow(2) - log_var.exp())\n",
    "\n",
    "        # Unlabeled data에 대한 VAE 훈련\n",
    "        reconstructed_unlabeled_data, mu_unlabeled, log_var_unlabeled = vae(unlabeled_data.to(device))\n",
    "        unlabeled_loss = reconstruction_loss(reconstructed_unlabeled_data, unlabeled_data.to(device)) - 0.5 * torch.sum(1 + log_var_unlabeled - mu_unlabeled.pow(2) - log_var_unlabeled.exp())\n",
    "\n",
    "        # Labeled data에 대한 Classifier 훈련\n",
    "        latent_labeled_data = vae.reparameterize(mu, log_var)\n",
    "        classifier_output = classifier(latent_labeled_data)\n",
    "        labeled_label_indices = torch.argmax(labeled_label, dim=1).to(device) # 다중 타겟을 원핫으로 변환\n",
    "        class_loss = classification_loss(classifier_output, labeled_label_indices)\n",
    "\n",
    "        # 총 Loss 계산 및 업데이트\n",
    "        total_loss = labeled_loss + unlabeled_loss + class_loss\n",
    "        total_loss.backward()\n",
    "        optimizer.step()\n",
    "        \n",
    "\n",
    "        loss_dict['total_loss'] += total_loss.item()\n",
    "        loss_dict['labeled_loss'] += labeled_loss.item()\n",
    "        loss_dict['unlabeled_loss'] += unlabeled_loss.item()\n",
    "        loss_dict['class_loss'] += class_loss.item()\n",
    "\n",
    "#         if batch_num % 10 ==0:\n",
    "#             print(batch_num)\n",
    "\n",
    "    print(f\"epoch:{epoch+1}, total:{loss_dict['total_loss']/num_of_batch : .4f}, labeled_loss:{loss_dict['labeled_loss']/num_of_batch : .4f}, unlabeled_loss:{loss_dict['unlabeled_loss']/num_of_batch : .4f}, class_loss: {loss_dict['class_loss']/num_of_batch : .4f}\")\n",
    "    scheduler.step()\n",
    "    # validation 점수 측정\n",
    "    validation_score()\n",
    "    torch.save(vae.state_dict(), f'./VAE_{epoch+1}.pth') # 모델 저장\n",
    "    torch.save(classifier.state_dict(), f'./classifier_dropout_{epoch+1}.pth') # 모델 저장"
   ]
  },
  {
   "cell_type": "code",
   "execution_count": null,
   "metadata": {},
   "outputs": [],
   "source": []
  },
  {
   "cell_type": "code",
   "execution_count": 22,
   "metadata": {},
   "outputs": [],
   "source": [
    "# torch.save(vae.state_dict(), './VAE2.pth') # 모델 저장\n",
    "# torch.save(classifier.state_dict(), './classifier_dropout1.pth') # 모델 저장"
   ]
  },
  {
   "cell_type": "markdown",
   "metadata": {},
   "source": [
    "### classifier 성능 비교 1"
   ]
  },
  {
   "cell_type": "code",
   "execution_count": 16,
   "metadata": {
    "scrolled": true
   },
   "outputs": [
    {
     "name": "stdout",
     "output_type": "stream",
     "text": [
      "Done.\n"
     ]
    },
    {
     "name": "stderr",
     "output_type": "stream",
     "text": [
      "C:\\Users\\Administrator\\AppData\\Local\\Temp\\ipykernel_30352\\181237597.py:44: DataConversionWarning: A column-vector y was passed when a 1d array was expected. Please change the shape of y to (n_samples,), for example using ravel().\n",
      "  model.fit(X_train_labeled_le, y_train_labeled)\n"
     ]
    },
    {
     "name": "stdout",
     "output_type": "stream",
     "text": [
      "Extra Trees Classifier: Log Loss = 0.5567\n"
     ]
    },
    {
     "name": "stderr",
     "output_type": "stream",
     "text": [
      "C:\\Users\\Administrator\\AppData\\Local\\Temp\\ipykernel_30352\\181237597.py:44: DataConversionWarning: A column-vector y was passed when a 1d array was expected. Please change the shape of y to (n_samples,), for example using ravel().\n",
      "  model.fit(X_train_labeled_le, y_train_labeled)\n"
     ]
    },
    {
     "name": "stdout",
     "output_type": "stream",
     "text": [
      "Random Forest Classifier: Log Loss = 0.4794\n"
     ]
    },
    {
     "name": "stderr",
     "output_type": "stream",
     "text": [
      "C:\\Users\\Administrator\\anaconda3\\lib\\site-packages\\sklearn\\preprocessing\\_label.py:99: DataConversionWarning: A column-vector y was passed when a 1d array was expected. Please change the shape of y to (n_samples, ), for example using ravel().\n",
      "  y = column_or_1d(y, warn=True)\n",
      "C:\\Users\\Administrator\\anaconda3\\lib\\site-packages\\sklearn\\preprocessing\\_label.py:134: DataConversionWarning: A column-vector y was passed when a 1d array was expected. Please change the shape of y to (n_samples, ), for example using ravel().\n",
      "  y = column_or_1d(y, dtype=self.classes_.dtype, warn=True)\n"
     ]
    },
    {
     "name": "stdout",
     "output_type": "stream",
     "text": [
      "Light Gradient Boosting Machine: Log Loss = 0.4409\n",
      "Decision Tree Classifier: Log Loss = 10.3076\n"
     ]
    },
    {
     "name": "stderr",
     "output_type": "stream",
     "text": [
      "C:\\Users\\Administrator\\anaconda3\\lib\\site-packages\\sklearn\\ensemble\\_gb.py:437: DataConversionWarning: A column-vector y was passed when a 1d array was expected. Please change the shape of y to (n_samples, ), for example using ravel().\n",
      "  y = column_or_1d(y, warn=True)\n"
     ]
    },
    {
     "name": "stdout",
     "output_type": "stream",
     "text": [
      "Gradient Boosting Classifier: Log Loss = 0.4465\n"
     ]
    },
    {
     "name": "stderr",
     "output_type": "stream",
     "text": [
      "C:\\Users\\Administrator\\anaconda3\\lib\\site-packages\\sklearn\\utils\\validation.py:1143: DataConversionWarning: A column-vector y was passed when a 1d array was expected. Please change the shape of y to (n_samples, ), for example using ravel().\n",
      "  y = column_or_1d(y, warn=True)\n"
     ]
    },
    {
     "name": "stdout",
     "output_type": "stream",
     "text": [
      "Ada Boost Classifier: Log Loss = 0.6821\n"
     ]
    },
    {
     "name": "stderr",
     "output_type": "stream",
     "text": [
      "C:\\Users\\Administrator\\anaconda3\\lib\\site-packages\\sklearn\\utils\\validation.py:1143: DataConversionWarning: A column-vector y was passed when a 1d array was expected. Please change the shape of y to (n_samples, ), for example using ravel().\n",
      "  y = column_or_1d(y, warn=True)\n"
     ]
    },
    {
     "name": "stdout",
     "output_type": "stream",
     "text": [
      "Logistic Regression: Log Loss = 0.4759\n"
     ]
    }
   ],
   "source": [
    "# 1. train 이용한 경우 validation\n",
    "import numpy as np\n",
    "import pandas as pd\n",
    "from sklearn.model_selection import train_test_split\n",
    "from sklearn.metrics import log_loss\n",
    "\n",
    "from sklearn.ensemble import ExtraTreesClassifier, RandomForestClassifier, GradientBoostingClassifier, AdaBoostClassifier\n",
    "from sklearn.tree import DecisionTreeClassifier\n",
    "from sklearn.linear_model import LogisticRegression\n",
    "from lightgbm import LGBMClassifier\n",
    "\n",
    "\n",
    "# 데이터 수치화\n",
    "qual_col = ['Origin_Airport_ID', 'Destination_Airport_ID', 'Carrier_ID(DOT)', 'Tail_Number','Day','EDT','EAT','Distance']\n",
    "X_train_labeled_le = X_train_labeled.copy()\n",
    "X_val_labeled_le = X_val_labeled.copy()\n",
    "test_le = test.copy()\n",
    "for i in qual_col:\n",
    "    le = LabelEncoder()\n",
    "    le=le.fit(train[i]) # 사용할 수 있는 전체 X를 이용해서 LE\n",
    "    X_train_labeled_le[i]=le.transform(X_train_labeled_le[i])\n",
    "    X_val_labeled_le[i]=le.transform(X_val_labeled_le[i])\n",
    "    \n",
    "    for label in np.unique(test[i]):\n",
    "        if label not in le.classes_: # train에 없는 label인 경우\n",
    "            le.classes_ = np.append(le.classes_, label)\n",
    "    test_le[i]=le.transform(test_le[i])\n",
    "print('Done.')\n",
    "\n",
    "\n",
    "# 모델 정의\n",
    "models = {\n",
    "    \"Extra Trees Classifier\": ExtraTreesClassifier(random_state=42),\n",
    "    \"Random Forest Classifier\": RandomForestClassifier(random_state=42),\n",
    "    \"Light Gradient Boosting Machine\": LGBMClassifier(random_state=42),\n",
    "    \"Decision Tree Classifier\": DecisionTreeClassifier(random_state=42),\n",
    "    \"Gradient Boosting Classifier\": GradientBoostingClassifier(random_state=42),\n",
    "    \"Ada Boost Classifier\": AdaBoostClassifier(random_state=42),\n",
    "    \"Logistic Regression\": LogisticRegression(random_state=42),\n",
    "}\n",
    "\n",
    "# 각 모델의 성능을 비교\n",
    "for name, model in models.items():\n",
    "    model.fit(X_train_labeled_le, y_train_labeled)\n",
    "    y_pred = model.predict_proba(X_val_labeled_le)\n",
    "    loss = log_loss(y_val_labeled, y_pred)\n",
    "    print(f\"{name}: Log Loss = {loss:.4f}\")"
   ]
  },
  {
   "cell_type": "markdown",
   "metadata": {},
   "source": [
    "### classifier성능비교 2 - catboost"
   ]
  },
  {
   "cell_type": "code",
   "execution_count": 38,
   "metadata": {},
   "outputs": [
    {
     "name": "stdout",
     "output_type": "stream",
     "text": [
      "Object Done.\n"
     ]
    }
   ],
   "source": [
    "# X 값 object 화\n",
    "X_train_labeled_cate = X_train_labeled.copy()\n",
    "X_val_labeled_cate = X_val_labeled.copy()\n",
    "\n",
    "X_train_labeled_cate = X_train_labeled_cate.astype({'EDT':object, 'EAT':object, 'Distance':object, 'Origin_Airport_ID':object, \\\n",
    "                     'Destination_Airport_ID':object, 'Carrier_ID(DOT)':object, 'Day':object})\n",
    "X_val_labeled_cate = X_val_labeled_cate.astype({'EDT':object, 'EAT':object, 'Distance':object, 'Origin_Airport_ID':object, \\\n",
    "                     'Destination_Airport_ID':object, 'Carrier_ID(DOT)':object, 'Day':object})\n",
    "\n",
    "print(\"Object Done.\")"
   ]
  },
  {
   "cell_type": "code",
   "execution_count": 40,
   "metadata": {},
   "outputs": [
    {
     "name": "stdout",
     "output_type": "stream",
     "text": [
      "weight : [0.17642157256445265, 0.8235784274355473]\n"
     ]
    }
   ],
   "source": [
    "# y값 0,1 비율로 가중치 설정\n",
    "counts = list(y_train_labeled.value_counts())\n",
    "class_weight = [counts[1]/sum(counts), counts[0]/sum(counts)]\n",
    "print(\"weight :\", class_weight)"
   ]
  },
  {
   "cell_type": "code",
   "execution_count": 41,
   "metadata": {},
   "outputs": [
    {
     "name": "stderr",
     "output_type": "stream",
     "text": [
      "C:\\Users\\Administrator\\anaconda3\\lib\\site-packages\\catboost\\core.py:1411: FutureWarning: iteritems is deprecated and will be removed in a future version. Use .items instead.\n",
      "  self._init_pool(data, label, cat_features, text_features, embedding_features, embedding_features_data, pairs, weight,\n"
     ]
    },
    {
     "name": "stdout",
     "output_type": "stream",
     "text": [
      "Logistic Regression: Log Loss = 0.6224\n"
     ]
    }
   ],
   "source": [
    "from catboost import CatBoostClassifier, Pool\n",
    "cat_features = [i for i in range(8)]\n",
    "model = CatBoostClassifier(random_seed=42, cat_features=cat_features, class_weights=class_weight, verbose=0)\n",
    "model.fit(X_train_labeled_cate, y_train_labeled)\n",
    "y_pred = model.predict_proba(X_val_labeled_cate)\n",
    "loss = log_loss(y_val_labeled, y_pred)\n",
    "print(f\"Catboost : Log Loss = {loss:.4f}\")"
   ]
  },
  {
   "cell_type": "markdown",
   "metadata": {},
   "source": [
    "### semi-supervised 신경망 validation 성능"
   ]
  },
  {
   "cell_type": "code",
   "execution_count": 46,
   "metadata": {},
   "outputs": [
    {
     "name": "stdout",
     "output_type": "stream",
     "text": [
      " Validation Log Loss = 0.5325\n"
     ]
    }
   ],
   "source": [
    "# 2. semi-supervised 된 신경망 모델의 validation set 예측성능\n",
    "from sklearn.metrics import log_loss\n",
    "def validation_score():\n",
    "    with torch.no_grad():\n",
    "        vae.eval()\n",
    "        classifier.eval()\n",
    "\n",
    "        ## 잠재벡터화\n",
    "        reconstructed_labeled_data, mu, log_var = vae(X_val_labeled_tensor.to(device))\n",
    "        X_val_latent_labeled_data = vae.reparameterize(mu, log_var)\n",
    "\n",
    "        ## 예측\n",
    "        y_pred = classifier(X_val_latent_labeled_data)\n",
    "        loss = log_loss(y_val_labeled, torch.softmax(y_pred,dim=1).cpu().detach().numpy()) # softmax로 확률로 바꿔줘야!\n",
    "        print(f\" Validation Log Loss = {loss:.4f}\")\n",
    "#         print(torch.softmax(y_pred,dim=1)[:20,:])\n",
    "validation_score()"
   ]
  },
  {
   "cell_type": "markdown",
   "metadata": {},
   "source": [
    "## submission"
   ]
  },
  {
   "cell_type": "markdown",
   "metadata": {},
   "source": [
    "### 1. 모델 가져와서, 최선의 가중치 가져오기"
   ]
  },
  {
   "cell_type": "code",
   "execution_count": 14,
   "metadata": {},
   "outputs": [
    {
     "name": "stdout",
     "output_type": "stream",
     "text": [
      "input shape :  7663\n"
     ]
    },
    {
     "data": {
      "text/plain": [
       "<All keys matched successfully>"
      ]
     },
     "execution_count": 14,
     "metadata": {},
     "output_type": "execute_result"
    }
   ],
   "source": [
    "# Hyperparameters\n",
    "input_dim = X_val_labeled_tensor.shape[1]\n",
    "print('input shape : ', X_val_labeled_tensor.shape[1])\n",
    "hidden_dim = 64\n",
    "latent_dim = 3\n",
    "\n",
    "# Initialize the model, optimizer and loss function\n",
    "device = 'cuda:0'\n",
    "vae = VAE(input_dim, hidden_dim, latent_dim)\n",
    "# classifier 초기화\n",
    "classifier = Classifier_drop(input_dim = latent_dim, hidden_dim = latent_dim//2 , output_dim= 2)\n",
    "\n",
    "# 저장된 가중치 가져오기\n",
    "vae.load_state_dict(torch.load('VAE _8.pth'))\n",
    "classifier.load_state_dict(torch.load('classifier_dropout_5.pth'))\n"
   ]
  },
  {
   "cell_type": "markdown",
   "metadata": {},
   "source": [
    "### 2. 예측하기\n",
    "10개로 나눠서 진행"
   ]
  },
  {
   "cell_type": "code",
   "execution_count": 20,
   "metadata": {},
   "outputs": [],
   "source": [
    "# 데이터 가져오기\n",
    "X_test = test.drop(columns=['ID'])\n",
    "test_batch = make_test_batch(1,20)\n",
    "\n",
    "# 예측하기\n",
    "device = 'cuda:2'\n",
    "with torch.no_grad():\n",
    "    vae.to(device)\n",
    "    classifier.to(device)\n",
    "    vae.eval()\n",
    "    classifier.eval()\n",
    "\n",
    "    ## 잠재벡터화\n",
    "    reconstructed_labeled_data, mu, log_var = vae(test_batch.to(device))\n",
    "    X_test_latent_labeled_data = vae.reparameterize(mu, log_var)\n",
    "\n",
    "    ## 예측\n",
    "    y_pred = classifier(X_test_latent_labeled_data)\n",
    "    y_pred = torch.softmax(y_pred,dim=1).cpu().detach().numpy()"
   ]
  },
  {
   "cell_type": "code",
   "execution_count": 21,
   "metadata": {},
   "outputs": [
    {
     "name": "stdout",
     "output_type": "stream",
     "text": [
      "batch num :  2\n",
      "batch num :  3\n",
      "batch num :  4\n",
      "batch num :  5\n",
      "batch num :  6\n",
      "batch num :  7\n",
      "batch num :  8\n",
      "batch num :  9\n",
      "batch num :  10\n",
      "batch num :  11\n",
      "batch num :  12\n",
      "batch num :  13\n",
      "batch num :  14\n",
      "batch num :  15\n",
      "batch num :  16\n",
      "batch num :  17\n",
      "batch num :  18\n",
      "batch num :  19\n",
      "batch num :  20\n"
     ]
    }
   ],
   "source": [
    "# 데이터 가져오기\n",
    "for batch_num in range(2, 21):\n",
    "    test_batch = make_test_batch(batch_num,20)\n",
    "\n",
    "    # 예측하기\n",
    "    device = 'cuda:2'\n",
    "    with torch.no_grad():\n",
    "        vae.to(device)\n",
    "        classifier.to(device)\n",
    "        vae.eval()\n",
    "        classifier.eval()\n",
    "\n",
    "        ## 잠재벡터화\n",
    "        reconstructed_labeled_data, mu, log_var = vae(test_batch.to(device))\n",
    "        X_test_latent_labeled_data = vae.reparameterize(mu, log_var)\n",
    "\n",
    "        ## 예측\n",
    "        y_pred_batch_num = classifier(X_test_latent_labeled_data)\n",
    "        y_pred_batch_num = torch.softmax(y_pred_batch_num,dim=1).cpu().detach().numpy()\n",
    "    y_pred = np.vstack([y_pred, y_pred_batch_num])\n",
    "    print('batch num : ', batch_num)"
   ]
  },
  {
   "cell_type": "code",
   "execution_count": 22,
   "metadata": {},
   "outputs": [
    {
     "data": {
      "text/plain": [
       "(1000000, 2)"
      ]
     },
     "execution_count": 22,
     "metadata": {},
     "output_type": "execute_result"
    }
   ],
   "source": [
    "y_pred.shape"
   ]
  },
  {
   "cell_type": "code",
   "execution_count": 23,
   "metadata": {},
   "outputs": [],
   "source": [
    "# 제출본 만들기\n",
    "sample_submission = pd.read_csv('sample_submission.csv', index_col = 0)\n",
    "submission = pd.DataFrame(data=y_pred, columns=sample_submission.columns, index=sample_submission.index)"
   ]
  },
  {
   "cell_type": "code",
   "execution_count": 24,
   "metadata": {},
   "outputs": [],
   "source": [
    "submission.to_csv('./submission/submission_semi-supervise-vae-with1stcod.csv', index=True)"
   ]
  },
  {
   "cell_type": "code",
   "execution_count": null,
   "metadata": {},
   "outputs": [],
   "source": []
  },
  {
   "cell_type": "code",
   "execution_count": null,
   "metadata": {
    "id": "xjmnbSg0kabA"
   },
   "outputs": [],
   "source": []
  }
 ],
 "metadata": {
  "colab": {
   "machine_shape": "hm",
   "provenance": []
  },
  "gpuClass": "standard",
  "kernelspec": {
   "display_name": "Python 3 (ipykernel)",
   "language": "python",
   "name": "python3"
  },
  "language_info": {
   "codemirror_mode": {
    "name": "ipython",
    "version": 3
   },
   "file_extension": ".py",
   "mimetype": "text/x-python",
   "name": "python",
   "nbconvert_exporter": "python",
   "pygments_lexer": "ipython3",
   "version": "3.10.9"
  }
 },
 "nbformat": 4,
 "nbformat_minor": 1
}
