{
 "cells": [
  {
   "cell_type": "markdown",
   "metadata": {
    "id": "LZ03gjSAWexe"
   },
   "source": [
    "**결측치처리방식변경**\n",
    "+ 기존 mode 값으로 바꾸는 대신, 수치형은 -1, string type은 'null' 로 바꿈\n",
    "+ 결과값 개선됨"
   ]
  },
  {
   "cell_type": "code",
   "execution_count": 1,
   "metadata": {
    "colab": {
     "base_uri": "https://localhost:8080/"
    },
    "executionInfo": {
     "elapsed": 40733,
     "status": "ok",
     "timestamp": 1680692145079,
     "user": {
      "displayName": "지승영",
      "userId": "07006377205744982370"
     },
     "user_tz": -540
    },
    "id": "gQPOR4oWgWhE",
    "outputId": "966021f3-55e5-4f9c-ac55-3488dfd98eef"
   },
   "outputs": [
    {
     "name": "stdout",
     "output_type": "stream",
     "text": [
      "Mounted at /content/drive\n"
     ]
    }
   ],
   "source": [
    "from google.colab import drive\n",
    "drive.mount('/content/drive')"
   ]
  },
  {
   "cell_type": "code",
   "execution_count": 2,
   "metadata": {
    "colab": {
     "base_uri": "https://localhost:8080/"
    },
    "executionInfo": {
     "elapsed": 1688,
     "status": "ok",
     "timestamp": 1680692146761,
     "user": {
      "displayName": "지승영",
      "userId": "07006377205744982370"
     },
     "user_tz": -540
    },
    "id": "L5X5adc-gXQJ",
    "outputId": "fa06c902-4c28-42ac-96b0-e23cd8753249"
   },
   "outputs": [
    {
     "name": "stdout",
     "output_type": "stream",
     "text": [
      "/content/drive/MyDrive/github/Dacon/항공편지연예측AI경진대회(2023.04.03-2023.05.08)\n"
     ]
    }
   ],
   "source": [
    "import os\n",
    "path = '/content/drive/MyDrive/github/Dacon/항공편지연예측AI경진대회(2023.04.03-2023.05.08)'\n",
    "os.chdir(path)\n",
    "print(os.getcwd())"
   ]
  },
  {
   "cell_type": "code",
   "execution_count": 2,
   "metadata": {
    "executionInfo": {
     "elapsed": 11,
     "status": "ok",
     "timestamp": 1680692146763,
     "user": {
      "displayName": "지승영",
      "userId": "07006377205744982370"
     },
     "user_tz": -540
    },
    "id": "pO82uV5UhWZo"
   },
   "outputs": [],
   "source": [
    "import pandas as pd\n",
    "import numpy as np\n",
    "import random\n",
    "import os\n",
    "import gc\n",
    "\n",
    "from sklearn.ensemble import RandomForestClassifier\n",
    "from sklearn.preprocessing import LabelEncoder\n",
    "\n",
    "def seed_everything(seed):\n",
    "    random.seed(seed)\n",
    "    os.environ['PYTHONHASHSEED'] = str(seed)\n",
    "    np.random.seed(seed)\n",
    "seed_everything(42) # Seed 고정"
   ]
  },
  {
   "cell_type": "markdown",
   "metadata": {
    "id": "3tfPeXLWiHwL"
   },
   "source": [
    "### Data Load"
   ]
  },
  {
   "cell_type": "code",
   "execution_count": 5,
   "metadata": {
    "colab": {
     "base_uri": "https://localhost:8080/"
    },
    "executionInfo": {
     "elapsed": 5596,
     "status": "ok",
     "timestamp": 1680692152351,
     "user": {
      "displayName": "지승영",
      "userId": "07006377205744982370"
     },
     "user_tz": -540
    },
    "id": "sYkhjDcUh43v",
    "outputId": "5728fe98-cf51-42e3-b20c-cc23dbad7ff9"
   },
   "outputs": [
    {
     "name": "stdout",
     "output_type": "stream",
     "text": [
      "(1000000, 19)\n",
      "Not_Delayed    210001\n",
      "Delayed         45000\n",
      "Name: Delay, dtype: int64\n"
     ]
    }
   ],
   "source": [
    "train = pd.read_parquet('./train.parquet')\n",
    "test = pd.read_parquet('./test.parquet')\n",
    "sample_submission = pd.read_csv('sample_submission.csv', index_col = 0)\n",
    "\n",
    "print(train.shape)\n",
    "print(train.Delay.value_counts())\n"
   ]
  },
  {
   "cell_type": "code",
   "execution_count": null,
   "metadata": {
    "colab": {
     "base_uri": "https://localhost:8080/"
    },
    "executionInfo": {
     "elapsed": 1973,
     "status": "ok",
     "timestamp": 1680616286216,
     "user": {
      "displayName": "지승영",
      "userId": "07006377205744982370"
     },
     "user_tz": -540
    },
    "id": "I9q6ZyN_iTPi",
    "outputId": "2053af3a-6722-4a4c-f042-b7b545e1fb78"
   },
   "outputs": [
    {
     "data": {
      "text/plain": [
       "ID                               0\n",
       "Month                            0\n",
       "Day_of_Month                     0\n",
       "Estimated_Departure_Time    109019\n",
       "Estimated_Arrival_Time      109040\n",
       "Cancelled                        0\n",
       "Diverted                         0\n",
       "Origin_Airport                   0\n",
       "Origin_Airport_ID                0\n",
       "Origin_State                109015\n",
       "Destination_Airport              0\n",
       "Destination_Airport_ID           0\n",
       "Destination_State           109079\n",
       "Distance                         0\n",
       "Airline                     108920\n",
       "Carrier_Code(IATA)          108990\n",
       "Carrier_ID(DOT)             108997\n",
       "Tail_Number                      0\n",
       "Delay                       744999\n",
       "dtype: int64"
      ]
     },
     "execution_count": 11,
     "metadata": {},
     "output_type": "execute_result"
    }
   ],
   "source": [
    "train.isnull().sum()"
   ]
  },
  {
   "cell_type": "markdown",
   "metadata": {
    "id": "ICO__Anri4b2"
   },
   "source": [
    "### 데이터 전처리\n",
    "+ 결측치 처리"
   ]
  },
  {
   "cell_type": "code",
   "execution_count": 5,
   "metadata": {
    "colab": {
     "base_uri": "https://localhost:8080/"
    },
    "executionInfo": {
     "elapsed": 2377,
     "status": "ok",
     "timestamp": 1680692159255,
     "user": {
      "displayName": "지승영",
      "userId": "07006377205744982370"
     },
     "user_tz": -540
    },
    "id": "DUShLWvIiJ1r",
    "outputId": "49f60eac-de49-4544-840b-ed3bef520a50"
   },
   "outputs": [
    {
     "name": "stdout",
     "output_type": "stream",
     "text": [
      "Done.\n"
     ]
    }
   ],
   "source": [
    "# 레이블(Delay)을 제외한 결측값이 존재하는 변수들을  -1 value로 바꾸고, lable을 가지도록 합니다.\n",
    "NaN_col = ['Origin_State','Destination_State','Airline','Estimated_Departure_Time', 'Estimated_Arrival_Time','Carrier_Code(IATA)','Carrier_ID(DOT)']\n",
    "\n",
    "for col in NaN_col:\n",
    "    mode = train[col].mode()[0]\n",
    "    if type(mode) == str:\n",
    "        train[col] = train[col].fillna('null')\n",
    "    else:\n",
    "        train[col] = train[col].fillna(-1)\n",
    "    \n",
    "    if col in test.columns:\n",
    "        if type(mode) == str:\n",
    "            test[col] = test[col].fillna('null')\n",
    "        else:\n",
    "            test[col] = test[col].fillna(-1)\n",
    "print('Done.')"
   ]
  },
  {
   "cell_type": "code",
   "execution_count": 6,
   "metadata": {
    "colab": {
     "base_uri": "https://localhost:8080/"
    },
    "executionInfo": {
     "elapsed": 6628,
     "status": "ok",
     "timestamp": 1680692165874,
     "user": {
      "displayName": "지승영",
      "userId": "07006377205744982370"
     },
     "user_tz": -540
    },
    "id": "SxJoc3QXizcc",
    "outputId": "f55ea731-5c56-45f8-8cde-d674ab95aa2e"
   },
   "outputs": [
    {
     "name": "stdout",
     "output_type": "stream",
     "text": [
      "Done.\n"
     ]
    }
   ],
   "source": [
    "# 질적 변수들을 수치화합니다\n",
    "qual_col = ['Origin_Airport', 'Origin_State', 'Destination_Airport', 'Destination_State', 'Airline', 'Carrier_Code(IATA)', 'Tail_Number']\n",
    "\n",
    "for i in qual_col:\n",
    "    le = LabelEncoder()\n",
    "    le=le.fit(train[i])\n",
    "    train[i]=le.transform(train[i])\n",
    "    \n",
    "    for label in np.unique(test[i]):\n",
    "        if label not in le.classes_: # train에 없는 label인 경우\n",
    "            le.classes_ = np.append(le.classes_, label)\n",
    "    test[i]=le.transform(test[i])\n",
    "print('Done.')"
   ]
  },
  {
   "cell_type": "code",
   "execution_count": null,
   "metadata": {
    "colab": {
     "base_uri": "https://localhost:8080/",
     "height": 270
    },
    "executionInfo": {
     "elapsed": 31,
     "status": "ok",
     "timestamp": 1680616478678,
     "user": {
      "displayName": "지승영",
      "userId": "07006377205744982370"
     },
     "user_tz": -540
    },
    "id": "JDG8AbmhjCzH",
    "outputId": "d4aa8b55-d6c3-434c-d4eb-c771e4a7bf0d"
   },
   "outputs": [
    {
     "data": {
      "text/html": [
       "\n",
       "  <div id=\"df-c3aad8d6-b700-498e-8fb1-9408caf84e3d\">\n",
       "    <div class=\"colab-df-container\">\n",
       "      <div>\n",
       "<style scoped>\n",
       "    .dataframe tbody tr th:only-of-type {\n",
       "        vertical-align: middle;\n",
       "    }\n",
       "\n",
       "    .dataframe tbody tr th {\n",
       "        vertical-align: top;\n",
       "    }\n",
       "\n",
       "    .dataframe thead th {\n",
       "        text-align: right;\n",
       "    }\n",
       "</style>\n",
       "<table border=\"1\" class=\"dataframe\">\n",
       "  <thead>\n",
       "    <tr style=\"text-align: right;\">\n",
       "      <th></th>\n",
       "      <th>ID</th>\n",
       "      <th>Month</th>\n",
       "      <th>Day_of_Month</th>\n",
       "      <th>Estimated_Departure_Time</th>\n",
       "      <th>Estimated_Arrival_Time</th>\n",
       "      <th>Cancelled</th>\n",
       "      <th>Diverted</th>\n",
       "      <th>Origin_Airport</th>\n",
       "      <th>Origin_Airport_ID</th>\n",
       "      <th>Origin_State</th>\n",
       "      <th>Destination_Airport</th>\n",
       "      <th>Destination_Airport_ID</th>\n",
       "      <th>Destination_State</th>\n",
       "      <th>Distance</th>\n",
       "      <th>Airline</th>\n",
       "      <th>Carrier_Code(IATA)</th>\n",
       "      <th>Carrier_ID(DOT)</th>\n",
       "      <th>Tail_Number</th>\n",
       "      <th>Delay</th>\n",
       "    </tr>\n",
       "  </thead>\n",
       "  <tbody>\n",
       "    <tr>\n",
       "      <th>0</th>\n",
       "      <td>TRAIN_000000</td>\n",
       "      <td>4</td>\n",
       "      <td>15</td>\n",
       "      <td>600.0</td>\n",
       "      <td>1900.0</td>\n",
       "      <td>0</td>\n",
       "      <td>0</td>\n",
       "      <td>252</td>\n",
       "      <td>13851</td>\n",
       "      <td>34</td>\n",
       "      <td>159</td>\n",
       "      <td>12191</td>\n",
       "      <td>42</td>\n",
       "      <td>419.0</td>\n",
       "      <td>23</td>\n",
       "      <td>10</td>\n",
       "      <td>19393.0</td>\n",
       "      <td>4319</td>\n",
       "      <td>None</td>\n",
       "    </tr>\n",
       "    <tr>\n",
       "      <th>1</th>\n",
       "      <td>TRAIN_000001</td>\n",
       "      <td>8</td>\n",
       "      <td>15</td>\n",
       "      <td>740.0</td>\n",
       "      <td>1024.0</td>\n",
       "      <td>0</td>\n",
       "      <td>0</td>\n",
       "      <td>256</td>\n",
       "      <td>13930</td>\n",
       "      <td>11</td>\n",
       "      <td>331</td>\n",
       "      <td>14869</td>\n",
       "      <td>45</td>\n",
       "      <td>1250.0</td>\n",
       "      <td>22</td>\n",
       "      <td>8</td>\n",
       "      <td>20304.0</td>\n",
       "      <td>310</td>\n",
       "      <td>None</td>\n",
       "    </tr>\n",
       "    <tr>\n",
       "      <th>2</th>\n",
       "      <td>TRAIN_000002</td>\n",
       "      <td>9</td>\n",
       "      <td>6</td>\n",
       "      <td>1610.0</td>\n",
       "      <td>1805.0</td>\n",
       "      <td>0</td>\n",
       "      <td>0</td>\n",
       "      <td>74</td>\n",
       "      <td>11057</td>\n",
       "      <td>31</td>\n",
       "      <td>204</td>\n",
       "      <td>12953</td>\n",
       "      <td>30</td>\n",
       "      <td>544.0</td>\n",
       "      <td>3</td>\n",
       "      <td>0</td>\n",
       "      <td>19805.0</td>\n",
       "      <td>140</td>\n",
       "      <td>None</td>\n",
       "    </tr>\n",
       "    <tr>\n",
       "      <th>3</th>\n",
       "      <td>TRAIN_000003</td>\n",
       "      <td>7</td>\n",
       "      <td>10</td>\n",
       "      <td>905.0</td>\n",
       "      <td>1735.0</td>\n",
       "      <td>0</td>\n",
       "      <td>0</td>\n",
       "      <td>195</td>\n",
       "      <td>12892</td>\n",
       "      <td>4</td>\n",
       "      <td>119</td>\n",
       "      <td>11618</td>\n",
       "      <td>28</td>\n",
       "      <td>2454.0</td>\n",
       "      <td>26</td>\n",
       "      <td>8</td>\n",
       "      <td>19393.0</td>\n",
       "      <td>3021</td>\n",
       "      <td>None</td>\n",
       "    </tr>\n",
       "    <tr>\n",
       "      <th>4</th>\n",
       "      <td>TRAIN_000004</td>\n",
       "      <td>1</td>\n",
       "      <td>11</td>\n",
       "      <td>900.0</td>\n",
       "      <td>1019.0</td>\n",
       "      <td>0</td>\n",
       "      <td>0</td>\n",
       "      <td>322</td>\n",
       "      <td>14771</td>\n",
       "      <td>4</td>\n",
       "      <td>7</td>\n",
       "      <td>10157</td>\n",
       "      <td>4</td>\n",
       "      <td>250.0</td>\n",
       "      <td>22</td>\n",
       "      <td>8</td>\n",
       "      <td>20304.0</td>\n",
       "      <td>556</td>\n",
       "      <td>None</td>\n",
       "    </tr>\n",
       "  </tbody>\n",
       "</table>\n",
       "</div>\n",
       "      <button class=\"colab-df-convert\" onclick=\"convertToInteractive('df-c3aad8d6-b700-498e-8fb1-9408caf84e3d')\"\n",
       "              title=\"Convert this dataframe to an interactive table.\"\n",
       "              style=\"display:none;\">\n",
       "        \n",
       "  <svg xmlns=\"http://www.w3.org/2000/svg\" height=\"24px\"viewBox=\"0 0 24 24\"\n",
       "       width=\"24px\">\n",
       "    <path d=\"M0 0h24v24H0V0z\" fill=\"none\"/>\n",
       "    <path d=\"M18.56 5.44l.94 2.06.94-2.06 2.06-.94-2.06-.94-.94-2.06-.94 2.06-2.06.94zm-11 1L8.5 8.5l.94-2.06 2.06-.94-2.06-.94L8.5 2.5l-.94 2.06-2.06.94zm10 10l.94 2.06.94-2.06 2.06-.94-2.06-.94-.94-2.06-.94 2.06-2.06.94z\"/><path d=\"M17.41 7.96l-1.37-1.37c-.4-.4-.92-.59-1.43-.59-.52 0-1.04.2-1.43.59L10.3 9.45l-7.72 7.72c-.78.78-.78 2.05 0 2.83L4 21.41c.39.39.9.59 1.41.59.51 0 1.02-.2 1.41-.59l7.78-7.78 2.81-2.81c.8-.78.8-2.07 0-2.86zM5.41 20L4 18.59l7.72-7.72 1.47 1.35L5.41 20z\"/>\n",
       "  </svg>\n",
       "      </button>\n",
       "      \n",
       "  <style>\n",
       "    .colab-df-container {\n",
       "      display:flex;\n",
       "      flex-wrap:wrap;\n",
       "      gap: 12px;\n",
       "    }\n",
       "\n",
       "    .colab-df-convert {\n",
       "      background-color: #E8F0FE;\n",
       "      border: none;\n",
       "      border-radius: 50%;\n",
       "      cursor: pointer;\n",
       "      display: none;\n",
       "      fill: #1967D2;\n",
       "      height: 32px;\n",
       "      padding: 0 0 0 0;\n",
       "      width: 32px;\n",
       "    }\n",
       "\n",
       "    .colab-df-convert:hover {\n",
       "      background-color: #E2EBFA;\n",
       "      box-shadow: 0px 1px 2px rgba(60, 64, 67, 0.3), 0px 1px 3px 1px rgba(60, 64, 67, 0.15);\n",
       "      fill: #174EA6;\n",
       "    }\n",
       "\n",
       "    [theme=dark] .colab-df-convert {\n",
       "      background-color: #3B4455;\n",
       "      fill: #D2E3FC;\n",
       "    }\n",
       "\n",
       "    [theme=dark] .colab-df-convert:hover {\n",
       "      background-color: #434B5C;\n",
       "      box-shadow: 0px 1px 3px 1px rgba(0, 0, 0, 0.15);\n",
       "      filter: drop-shadow(0px 1px 2px rgba(0, 0, 0, 0.3));\n",
       "      fill: #FFFFFF;\n",
       "    }\n",
       "  </style>\n",
       "\n",
       "      <script>\n",
       "        const buttonEl =\n",
       "          document.querySelector('#df-c3aad8d6-b700-498e-8fb1-9408caf84e3d button.colab-df-convert');\n",
       "        buttonEl.style.display =\n",
       "          google.colab.kernel.accessAllowed ? 'block' : 'none';\n",
       "\n",
       "        async function convertToInteractive(key) {\n",
       "          const element = document.querySelector('#df-c3aad8d6-b700-498e-8fb1-9408caf84e3d');\n",
       "          const dataTable =\n",
       "            await google.colab.kernel.invokeFunction('convertToInteractive',\n",
       "                                                     [key], {});\n",
       "          if (!dataTable) return;\n",
       "\n",
       "          const docLinkHtml = 'Like what you see? Visit the ' +\n",
       "            '<a target=\"_blank\" href=https://colab.research.google.com/notebooks/data_table.ipynb>data table notebook</a>'\n",
       "            + ' to learn more about interactive tables.';\n",
       "          element.innerHTML = '';\n",
       "          dataTable['output_type'] = 'display_data';\n",
       "          await google.colab.output.renderOutput(dataTable, element);\n",
       "          const docLink = document.createElement('div');\n",
       "          docLink.innerHTML = docLinkHtml;\n",
       "          element.appendChild(docLink);\n",
       "        }\n",
       "      </script>\n",
       "    </div>\n",
       "  </div>\n",
       "  "
      ],
      "text/plain": [
       "             ID  Month  Day_of_Month  Estimated_Departure_Time  \\\n",
       "0  TRAIN_000000      4            15                     600.0   \n",
       "1  TRAIN_000001      8            15                     740.0   \n",
       "2  TRAIN_000002      9             6                    1610.0   \n",
       "3  TRAIN_000003      7            10                     905.0   \n",
       "4  TRAIN_000004      1            11                     900.0   \n",
       "\n",
       "   Estimated_Arrival_Time  Cancelled  Diverted  Origin_Airport  \\\n",
       "0                  1900.0          0         0             252   \n",
       "1                  1024.0          0         0             256   \n",
       "2                  1805.0          0         0              74   \n",
       "3                  1735.0          0         0             195   \n",
       "4                  1019.0          0         0             322   \n",
       "\n",
       "   Origin_Airport_ID  Origin_State  Destination_Airport  \\\n",
       "0              13851            34                  159   \n",
       "1              13930            11                  331   \n",
       "2              11057            31                  204   \n",
       "3              12892             4                  119   \n",
       "4              14771             4                    7   \n",
       "\n",
       "   Destination_Airport_ID  Destination_State  Distance  Airline  \\\n",
       "0                   12191                 42     419.0       23   \n",
       "1                   14869                 45    1250.0       22   \n",
       "2                   12953                 30     544.0        3   \n",
       "3                   11618                 28    2454.0       26   \n",
       "4                   10157                  4     250.0       22   \n",
       "\n",
       "   Carrier_Code(IATA)  Carrier_ID(DOT)  Tail_Number Delay  \n",
       "0                  10          19393.0         4319  None  \n",
       "1                   8          20304.0          310  None  \n",
       "2                   0          19805.0          140  None  \n",
       "3                   8          19393.0         3021  None  \n",
       "4                   8          20304.0          556  None  "
      ]
     },
     "execution_count": 16,
     "metadata": {},
     "output_type": "execute_result"
    }
   ],
   "source": [
    "train.head()"
   ]
  },
  {
   "cell_type": "code",
   "execution_count": 7,
   "metadata": {
    "colab": {
     "base_uri": "https://localhost:8080/",
     "height": 415
    },
    "executionInfo": {
     "elapsed": 20,
     "status": "ok",
     "timestamp": 1680692165876,
     "user": {
      "displayName": "지승영",
      "userId": "07006377205744982370"
     },
     "user_tz": -540
    },
    "id": "280njtf0j8eT",
    "outputId": "ebfffa24-3ae3-4436-e80d-1778f605834c"
   },
   "outputs": [
    {
     "name": "stdout",
     "output_type": "stream",
     "text": [
      "(255001, 19)\n",
      "Done.\n"
     ]
    },
    {
     "name": "stderr",
     "output_type": "stream",
     "text": [
      "<ipython-input-7-3f0141e48b31>:13: SettingWithCopyWarning: \n",
      "A value is trying to be set on a copy of a slice from a DataFrame.\n",
      "Try using .loc[row_indexer,col_indexer] = value instead\n",
      "\n",
      "See the caveats in the documentation: https://pandas.pydata.org/pandas-docs/stable/user_guide/indexing.html#returning-a-view-versus-a-copy\n",
      "  train.loc[:, 'Delay_num'] = train['Delay'].apply(lambda x: to_number(x, column_number))\n"
     ]
    },
    {
     "data": {
      "text/html": [
       "\n",
       "  <div id=\"df-b9c84a3e-81d6-4fb8-97b6-ad25ab1b0a11\">\n",
       "    <div class=\"colab-df-container\">\n",
       "      <div>\n",
       "<style scoped>\n",
       "    .dataframe tbody tr th:only-of-type {\n",
       "        vertical-align: middle;\n",
       "    }\n",
       "\n",
       "    .dataframe tbody tr th {\n",
       "        vertical-align: top;\n",
       "    }\n",
       "\n",
       "    .dataframe thead th {\n",
       "        text-align: right;\n",
       "    }\n",
       "</style>\n",
       "<table border=\"1\" class=\"dataframe\">\n",
       "  <thead>\n",
       "    <tr style=\"text-align: right;\">\n",
       "      <th></th>\n",
       "      <th>ID</th>\n",
       "      <th>Month</th>\n",
       "      <th>Day_of_Month</th>\n",
       "      <th>Estimated_Departure_Time</th>\n",
       "      <th>Estimated_Arrival_Time</th>\n",
       "      <th>Cancelled</th>\n",
       "      <th>Diverted</th>\n",
       "      <th>Origin_Airport</th>\n",
       "      <th>Origin_Airport_ID</th>\n",
       "      <th>Origin_State</th>\n",
       "      <th>Destination_Airport</th>\n",
       "      <th>Destination_Airport_ID</th>\n",
       "      <th>Destination_State</th>\n",
       "      <th>Distance</th>\n",
       "      <th>Airline</th>\n",
       "      <th>Carrier_Code(IATA)</th>\n",
       "      <th>Carrier_ID(DOT)</th>\n",
       "      <th>Tail_Number</th>\n",
       "      <th>Delay</th>\n",
       "      <th>Delay_num</th>\n",
       "    </tr>\n",
       "  </thead>\n",
       "  <tbody>\n",
       "    <tr>\n",
       "      <th>5</th>\n",
       "      <td>TRAIN_000005</td>\n",
       "      <td>4</td>\n",
       "      <td>13</td>\n",
       "      <td>1545.0</td>\n",
       "      <td>-1.0</td>\n",
       "      <td>0</td>\n",
       "      <td>0</td>\n",
       "      <td>119</td>\n",
       "      <td>11618</td>\n",
       "      <td>52</td>\n",
       "      <td>93</td>\n",
       "      <td>11278</td>\n",
       "      <td>47</td>\n",
       "      <td>199.0</td>\n",
       "      <td>21</td>\n",
       "      <td>8</td>\n",
       "      <td>20452.0</td>\n",
       "      <td>3435</td>\n",
       "      <td>Not_Delayed</td>\n",
       "      <td>0</td>\n",
       "    </tr>\n",
       "    <tr>\n",
       "      <th>6</th>\n",
       "      <td>TRAIN_000006</td>\n",
       "      <td>1</td>\n",
       "      <td>20</td>\n",
       "      <td>1742.0</td>\n",
       "      <td>1903.0</td>\n",
       "      <td>0</td>\n",
       "      <td>0</td>\n",
       "      <td>119</td>\n",
       "      <td>11618</td>\n",
       "      <td>28</td>\n",
       "      <td>47</td>\n",
       "      <td>10721</td>\n",
       "      <td>19</td>\n",
       "      <td>200.0</td>\n",
       "      <td>26</td>\n",
       "      <td>8</td>\n",
       "      <td>-1.0</td>\n",
       "      <td>3495</td>\n",
       "      <td>Not_Delayed</td>\n",
       "      <td>0</td>\n",
       "    </tr>\n",
       "    <tr>\n",
       "      <th>8</th>\n",
       "      <td>TRAIN_000008</td>\n",
       "      <td>6</td>\n",
       "      <td>13</td>\n",
       "      <td>1420.0</td>\n",
       "      <td>1550.0</td>\n",
       "      <td>0</td>\n",
       "      <td>0</td>\n",
       "      <td>59</td>\n",
       "      <td>10821</td>\n",
       "      <td>52</td>\n",
       "      <td>74</td>\n",
       "      <td>11057</td>\n",
       "      <td>31</td>\n",
       "      <td>361.0</td>\n",
       "      <td>23</td>\n",
       "      <td>10</td>\n",
       "      <td>19393.0</td>\n",
       "      <td>4083</td>\n",
       "      <td>Not_Delayed</td>\n",
       "      <td>0</td>\n",
       "    </tr>\n",
       "    <tr>\n",
       "      <th>10</th>\n",
       "      <td>TRAIN_000010</td>\n",
       "      <td>8</td>\n",
       "      <td>13</td>\n",
       "      <td>1730.0</td>\n",
       "      <td>1844.0</td>\n",
       "      <td>0</td>\n",
       "      <td>0</td>\n",
       "      <td>93</td>\n",
       "      <td>11278</td>\n",
       "      <td>47</td>\n",
       "      <td>277</td>\n",
       "      <td>14122</td>\n",
       "      <td>36</td>\n",
       "      <td>204.0</td>\n",
       "      <td>21</td>\n",
       "      <td>0</td>\n",
       "      <td>-1.0</td>\n",
       "      <td>241</td>\n",
       "      <td>Delayed</td>\n",
       "      <td>1</td>\n",
       "    </tr>\n",
       "    <tr>\n",
       "      <th>12</th>\n",
       "      <td>TRAIN_000012</td>\n",
       "      <td>1</td>\n",
       "      <td>12</td>\n",
       "      <td>1015.0</td>\n",
       "      <td>1145.0</td>\n",
       "      <td>0</td>\n",
       "      <td>0</td>\n",
       "      <td>72</td>\n",
       "      <td>11042</td>\n",
       "      <td>33</td>\n",
       "      <td>94</td>\n",
       "      <td>11292</td>\n",
       "      <td>5</td>\n",
       "      <td>1201.0</td>\n",
       "      <td>23</td>\n",
       "      <td>10</td>\n",
       "      <td>-1.0</td>\n",
       "      <td>5171</td>\n",
       "      <td>Not_Delayed</td>\n",
       "      <td>0</td>\n",
       "    </tr>\n",
       "  </tbody>\n",
       "</table>\n",
       "</div>\n",
       "      <button class=\"colab-df-convert\" onclick=\"convertToInteractive('df-b9c84a3e-81d6-4fb8-97b6-ad25ab1b0a11')\"\n",
       "              title=\"Convert this dataframe to an interactive table.\"\n",
       "              style=\"display:none;\">\n",
       "        \n",
       "  <svg xmlns=\"http://www.w3.org/2000/svg\" height=\"24px\"viewBox=\"0 0 24 24\"\n",
       "       width=\"24px\">\n",
       "    <path d=\"M0 0h24v24H0V0z\" fill=\"none\"/>\n",
       "    <path d=\"M18.56 5.44l.94 2.06.94-2.06 2.06-.94-2.06-.94-.94-2.06-.94 2.06-2.06.94zm-11 1L8.5 8.5l.94-2.06 2.06-.94-2.06-.94L8.5 2.5l-.94 2.06-2.06.94zm10 10l.94 2.06.94-2.06 2.06-.94-2.06-.94-.94-2.06-.94 2.06-2.06.94z\"/><path d=\"M17.41 7.96l-1.37-1.37c-.4-.4-.92-.59-1.43-.59-.52 0-1.04.2-1.43.59L10.3 9.45l-7.72 7.72c-.78.78-.78 2.05 0 2.83L4 21.41c.39.39.9.59 1.41.59.51 0 1.02-.2 1.41-.59l7.78-7.78 2.81-2.81c.8-.78.8-2.07 0-2.86zM5.41 20L4 18.59l7.72-7.72 1.47 1.35L5.41 20z\"/>\n",
       "  </svg>\n",
       "      </button>\n",
       "      \n",
       "  <style>\n",
       "    .colab-df-container {\n",
       "      display:flex;\n",
       "      flex-wrap:wrap;\n",
       "      gap: 12px;\n",
       "    }\n",
       "\n",
       "    .colab-df-convert {\n",
       "      background-color: #E8F0FE;\n",
       "      border: none;\n",
       "      border-radius: 50%;\n",
       "      cursor: pointer;\n",
       "      display: none;\n",
       "      fill: #1967D2;\n",
       "      height: 32px;\n",
       "      padding: 0 0 0 0;\n",
       "      width: 32px;\n",
       "    }\n",
       "\n",
       "    .colab-df-convert:hover {\n",
       "      background-color: #E2EBFA;\n",
       "      box-shadow: 0px 1px 2px rgba(60, 64, 67, 0.3), 0px 1px 3px 1px rgba(60, 64, 67, 0.15);\n",
       "      fill: #174EA6;\n",
       "    }\n",
       "\n",
       "    [theme=dark] .colab-df-convert {\n",
       "      background-color: #3B4455;\n",
       "      fill: #D2E3FC;\n",
       "    }\n",
       "\n",
       "    [theme=dark] .colab-df-convert:hover {\n",
       "      background-color: #434B5C;\n",
       "      box-shadow: 0px 1px 3px 1px rgba(0, 0, 0, 0.15);\n",
       "      filter: drop-shadow(0px 1px 2px rgba(0, 0, 0, 0.3));\n",
       "      fill: #FFFFFF;\n",
       "    }\n",
       "  </style>\n",
       "\n",
       "      <script>\n",
       "        const buttonEl =\n",
       "          document.querySelector('#df-b9c84a3e-81d6-4fb8-97b6-ad25ab1b0a11 button.colab-df-convert');\n",
       "        buttonEl.style.display =\n",
       "          google.colab.kernel.accessAllowed ? 'block' : 'none';\n",
       "\n",
       "        async function convertToInteractive(key) {\n",
       "          const element = document.querySelector('#df-b9c84a3e-81d6-4fb8-97b6-ad25ab1b0a11');\n",
       "          const dataTable =\n",
       "            await google.colab.kernel.invokeFunction('convertToInteractive',\n",
       "                                                     [key], {});\n",
       "          if (!dataTable) return;\n",
       "\n",
       "          const docLinkHtml = 'Like what you see? Visit the ' +\n",
       "            '<a target=\"_blank\" href=https://colab.research.google.com/notebooks/data_table.ipynb>data table notebook</a>'\n",
       "            + ' to learn more about interactive tables.';\n",
       "          element.innerHTML = '';\n",
       "          dataTable['output_type'] = 'display_data';\n",
       "          await google.colab.output.renderOutput(dataTable, element);\n",
       "          const docLink = document.createElement('div');\n",
       "          docLink.innerHTML = docLinkHtml;\n",
       "          element.appendChild(docLink);\n",
       "        }\n",
       "      </script>\n",
       "    </div>\n",
       "  </div>\n",
       "  "
      ],
      "text/plain": [
       "              ID  Month  Day_of_Month  Estimated_Departure_Time  \\\n",
       "5   TRAIN_000005      4            13                    1545.0   \n",
       "6   TRAIN_000006      1            20                    1742.0   \n",
       "8   TRAIN_000008      6            13                    1420.0   \n",
       "10  TRAIN_000010      8            13                    1730.0   \n",
       "12  TRAIN_000012      1            12                    1015.0   \n",
       "\n",
       "    Estimated_Arrival_Time  Cancelled  Diverted  Origin_Airport  \\\n",
       "5                     -1.0          0         0             119   \n",
       "6                   1903.0          0         0             119   \n",
       "8                   1550.0          0         0              59   \n",
       "10                  1844.0          0         0              93   \n",
       "12                  1145.0          0         0              72   \n",
       "\n",
       "    Origin_Airport_ID  Origin_State  Destination_Airport  \\\n",
       "5               11618            52                   93   \n",
       "6               11618            28                   47   \n",
       "8               10821            52                   74   \n",
       "10              11278            47                  277   \n",
       "12              11042            33                   94   \n",
       "\n",
       "    Destination_Airport_ID  Destination_State  Distance  Airline  \\\n",
       "5                    11278                 47     199.0       21   \n",
       "6                    10721                 19     200.0       26   \n",
       "8                    11057                 31     361.0       23   \n",
       "10                   14122                 36     204.0       21   \n",
       "12                   11292                  5    1201.0       23   \n",
       "\n",
       "    Carrier_Code(IATA)  Carrier_ID(DOT)  Tail_Number        Delay  Delay_num  \n",
       "5                    8          20452.0         3435  Not_Delayed          0  \n",
       "6                    8             -1.0         3495  Not_Delayed          0  \n",
       "8                   10          19393.0         4083  Not_Delayed          0  \n",
       "10                   0             -1.0          241      Delayed          1  \n",
       "12                  10             -1.0         5171  Not_Delayed          0  "
      ]
     },
     "execution_count": 7,
     "metadata": {},
     "output_type": "execute_result"
    }
   ],
   "source": [
    "# 레이블이 없는 데이터들을 제거합니다\n",
    "train = train.dropna()\n",
    "print(train.shape)\n",
    "\n",
    "# Delay -> 1, Not_Delayed -> 0\n",
    "column_number = {}\n",
    "for i, column in enumerate(sample_submission.columns):\n",
    "    column_number[column] = i\n",
    "    \n",
    "def to_number(x, dic):\n",
    "    return dic[x]\n",
    "\n",
    "train.loc[:, 'Delay_num'] = train['Delay'].apply(lambda x: to_number(x, column_number))\n",
    "print('Done.')\n",
    "\n",
    "train.head()"
   ]
  },
  {
   "cell_type": "code",
   "execution_count": 8,
   "metadata": {
    "executionInfo": {
     "elapsed": 12,
     "status": "ok",
     "timestamp": 1680692165877,
     "user": {
      "displayName": "지승영",
      "userId": "07006377205744982370"
     },
     "user_tz": -540
    },
    "id": "eNg9VmPjjD7H"
   },
   "outputs": [],
   "source": [
    "# train & test 데이터 생성\n",
    "train_x = train.drop(columns=['ID', 'Delay', 'Delay_num'])\n",
    "train_y = train['Delay_num']\n",
    "test_x = test.drop(columns=['ID'])"
   ]
  },
  {
   "cell_type": "markdown",
   "metadata": {
    "id": "QbDBbYokX73s"
   },
   "source": [
    "### train_test_split"
   ]
  },
  {
   "cell_type": "code",
   "execution_count": null,
   "metadata": {
    "colab": {
     "base_uri": "https://localhost:8080/"
    },
    "executionInfo": {
     "elapsed": 1283,
     "status": "ok",
     "timestamp": 1680682121683,
     "user": {
      "displayName": "지승영",
      "userId": "07006377205744982370"
     },
     "user_tz": -540
    },
    "id": "vLVXPbB5X7Zo",
    "outputId": "7e3581bf-bd43-4a4a-d865-84051115a6d4"
   },
   "outputs": [
    {
     "name": "stdout",
     "output_type": "stream",
     "text": [
      "(204000, 17) (51001, 17)\n",
      "0    168109\n",
      "1     35891\n",
      "Name: Delay_num, dtype: int64\n",
      "0    41892\n",
      "1     9109\n",
      "Name: Delay_num, dtype: int64\n"
     ]
    }
   ],
   "source": [
    "from sklearn.model_selection  import train_test_split\n",
    "train_x, val_x, train_y, val_y = train_test_split(train.drop(columns=['ID', 'Delay', 'Delay_num']), train['Delay_num'], test_size=0.2, random_state=42)\n",
    "\n",
    "print(train_x.shape, val_x.shape)\n",
    "print(train_y.value_counts())\n",
    "print(val_y.value_counts())"
   ]
  },
  {
   "cell_type": "markdown",
   "metadata": {
    "id": "l8Eu7kqral4J"
   },
   "source": [
    "### 여러 모델 적합\n",
    "Extra Trees Classifier\t\n",
    "Random Forest Classifier\t\n",
    "Light Gradient Boosting Machine\n",
    "Decision Tree Classifier\t\n",
    "Gradient Boosting Classifier\t\n",
    "Ada Boost Classifier\t\n",
    "Logistic Regression"
   ]
  },
  {
   "cell_type": "code",
   "execution_count": null,
   "metadata": {
    "colab": {
     "base_uri": "https://localhost:8080/"
    },
    "executionInfo": {
     "elapsed": 127454,
     "status": "ok",
     "timestamp": 1680681581120,
     "user": {
      "displayName": "지승영",
      "userId": "07006377205744982370"
     },
     "user_tz": -540
    },
    "id": "VxdyJSR0Yvsq",
    "outputId": "9675fb47-9c8c-42b5-f596-78a230402b4c"
   },
   "outputs": [
    {
     "name": "stdout",
     "output_type": "stream",
     "text": [
      "Extra Trees Classifier: Log Loss = 0.4799\n",
      "Random Forest Classifier: Log Loss = 0.4646\n",
      "Light Gradient Boosting Machine: Log Loss = 0.4433\n",
      "Decision Tree Classifier: Log Loss = 10.5274\n",
      "Gradient Boosting Classifier: Log Loss = 0.4480\n",
      "Ada Boost Classifier: Log Loss = 0.6823\n",
      "Logistic Regression: Log Loss = 0.4621\n"
     ]
    }
   ],
   "source": [
    "# SMOTE 없이 적합\n",
    "import numpy as np\n",
    "import pandas as pd\n",
    "from sklearn.model_selection import train_test_split\n",
    "from sklearn.metrics import log_loss\n",
    "\n",
    "from sklearn.ensemble import ExtraTreesClassifier, RandomForestClassifier, GradientBoostingClassifier, AdaBoostClassifier\n",
    "from sklearn.tree import DecisionTreeClassifier\n",
    "from sklearn.linear_model import LogisticRegression\n",
    "from lightgbm import LGBMClassifier\n",
    "\n",
    "\n",
    "# 모델 정의\n",
    "models = {\n",
    "    \"Extra Trees Classifier\": ExtraTreesClassifier(random_state=42),\n",
    "    \"Random Forest Classifier\": RandomForestClassifier(random_state=42),\n",
    "    \"Light Gradient Boosting Machine\": LGBMClassifier(random_state=42),\n",
    "    \"Decision Tree Classifier\": DecisionTreeClassifier(random_state=42),\n",
    "    \"Gradient Boosting Classifier\": GradientBoostingClassifier(random_state=42),\n",
    "    \"Ada Boost Classifier\": AdaBoostClassifier(random_state=42),\n",
    "    \"Logistic Regression\": LogisticRegression(random_state=42),\n",
    "}\n",
    "\n",
    "# 각 모델의 성능을 비교\n",
    "for name, model in models.items():\n",
    "    model.fit(train_x, train_y)\n",
    "    y_pred = model.predict_proba(val_x)\n",
    "    loss = log_loss(val_y, y_pred)\n",
    "    print(f\"{name}: Log Loss = {loss:.4f}\")"
   ]
  },
  {
   "cell_type": "code",
   "execution_count": null,
   "metadata": {
    "colab": {
     "background_save": true,
     "base_uri": "https://localhost:8080/"
    },
    "id": "Rk-CQTW8a-fZ",
    "outputId": "8922d14d-3100-405e-e7fe-8c246d23d0f7"
   },
   "outputs": [
    {
     "name": "stdout",
     "output_type": "stream",
     "text": [
      "Extra Trees Classifier: Log Loss = 0.5113\n",
      "Random Forest Classifier: Log Loss = 0.5092\n",
      "Light Gradient Boosting Machine: Log Loss = 0.5127\n",
      "Decision Tree Classifier: Log Loss = 11.6489\n",
      "Gradient Boosting Classifier: Log Loss = 0.6037\n",
      "Ada Boost Classifier: Log Loss = 0.6896\n",
      "Logistic Regression: Log Loss = 0.6813\n"
     ]
    }
   ],
   "source": [
    "# SMOTE 이용해서 적합\n",
    "import numpy as np\n",
    "import pandas as pd\n",
    "from sklearn.model_selection import train_test_split\n",
    "from sklearn.metrics import log_loss\n",
    "from imblearn.over_sampling import SMOTE\n",
    "\n",
    "from sklearn.ensemble import ExtraTreesClassifier, RandomForestClassifier, GradientBoostingClassifier, AdaBoostClassifier\n",
    "from sklearn.tree import DecisionTreeClassifier\n",
    "from sklearn.linear_model import LogisticRegression\n",
    "from lightgbm import LGBMClassifier\n",
    "\n",
    "\n",
    "# SMOTE로 데이터 불균형 완화\n",
    "smote = SMOTE(random_state=42)\n",
    "X_train_smote, y_train_smote = smote.fit_resample(train_x, train_y)\n",
    "\n",
    "\n",
    "# 모델 정의\n",
    "models = {\n",
    "    \"Extra Trees Classifier\": ExtraTreesClassifier(random_state=42),\n",
    "    \"Random Forest Classifier\": RandomForestClassifier(random_state=42),\n",
    "    \"Light Gradient Boosting Machine\": LGBMClassifier(random_state=42),\n",
    "    \"Decision Tree Classifier\": DecisionTreeClassifier(random_state=42),\n",
    "    \"Gradient Boosting Classifier\": GradientBoostingClassifier(random_state=42),\n",
    "    \"Ada Boost Classifier\": AdaBoostClassifier(random_state=42),\n",
    "    \"Logistic Regression\": LogisticRegression(random_state=42),\n",
    "}\n",
    "\n",
    "# 각 모델의 성능을 비교\n",
    "for name, model in models.items():\n",
    "    model.fit(X_train_smote, y_train_smote)\n",
    "    y_pred = model.predict_proba(val_x)\n",
    "    loss = log_loss(val_y, y_pred)\n",
    "    print(f\"{name}: Log Loss = {loss:.4f}\")"
   ]
  },
  {
   "cell_type": "markdown",
   "metadata": {
    "id": "k5mdobqLjjex"
   },
   "source": [
    "### 모델적합\n",
    "+ 최저의 Loss를 갖는 모델 적합\n",
    "    + lgbm 이용"
   ]
  },
  {
   "cell_type": "code",
   "execution_count": 10,
   "metadata": {
    "colab": {
     "base_uri": "https://localhost:8080/"
    },
    "executionInfo": {
     "elapsed": 439671,
     "status": "ok",
     "timestamp": 1680692700594,
     "user": {
      "displayName": "지승영",
      "userId": "07006377205744982370"
     },
     "user_tz": -540
    },
    "id": "bSjXXrcZD7k1",
    "outputId": "2fee0f1c-265e-4de1-cd15-6755809e5fc6"
   },
   "outputs": [
    {
     "name": "stdout",
     "output_type": "stream",
     "text": [
      "Fitting 5 folds for each of 81 candidates, totalling 405 fits\n",
      "최적의 파라미터: {'learning_rate': 0.1, 'max_depth': 7, 'n_estimators': 200, 'num_leaves': 31}\n",
      "최고의 점수: 0.4395\n"
     ]
    }
   ],
   "source": [
    "# grid search 1\n",
    "import numpy as np\n",
    "import pandas as pd\n",
    "from sklearn.model_selection import train_test_split, GridSearchCV\n",
    "from lightgbm import LGBMClassifier\n",
    "\n",
    "# 전체 데이터 이용\n",
    "train_x = train.drop(columns=['ID', 'Delay', 'Delay_num'])\n",
    "train_y = train['Delay_num']\n",
    "test_x = test.drop(columns=['ID'])\n",
    "\n",
    "# 모델 정의\n",
    "lgbm = LGBMClassifier(random_state=42)\n",
    "\n",
    "# 그리드 서치를 위한 파라미터 그리드 정의\n",
    "param_grid = {\n",
    "    \"n_estimators\": [50, 100, 200],\n",
    "    \"max_depth\": [3, 5, 7],\n",
    "    \"learning_rate\": [0.01, 0.1, 0.2],\n",
    "    \"num_leaves\": [7, 15, 31],\n",
    "}\n",
    "\n",
    "# 그리드 서치를 위한 GridSearchCV 객체 생성\n",
    "grid_search = GridSearchCV(\n",
    "    estimator=lgbm,\n",
    "    param_grid=param_grid,\n",
    "    scoring=\"neg_log_loss\",\n",
    "    cv=5,\n",
    "    verbose=1,\n",
    "    n_jobs=-1,\n",
    ")\n",
    "\n",
    "# 그리드 서치를 수행\n",
    "grid_search.fit(train_x, train_y)\n",
    "\n",
    "# 최적의 파라미터와 최고의 점수 출력\n",
    "print(f\"최적의 파라미터: {grid_search.best_params_}\")\n",
    "print(f\"최고의 점수: {-1 * grid_search.best_score_:.4f}\")\n",
    "\n",
    "# 최적의 파라미터를 사용한 최종 모델\n",
    "best_lgbm = grid_search.best_estimator_\n"
   ]
  },
  {
   "cell_type": "code",
   "execution_count": 14,
   "metadata": {
    "colab": {
     "base_uri": "https://localhost:8080/"
    },
    "executionInfo": {
     "elapsed": 1429443,
     "status": "ok",
     "timestamp": 1680694740352,
     "user": {
      "displayName": "지승영",
      "userId": "07006377205744982370"
     },
     "user_tz": -540
    },
    "id": "DSgkUFoJbHPV",
    "outputId": "32ff8bab-ff13-4da4-bbc0-207175de38ea"
   },
   "outputs": [
    {
     "name": "stdout",
     "output_type": "stream",
     "text": [
      "Fitting 5 folds for each of 144 candidates, totalling 720 fits\n",
      "최적의 파라미터: {'learning_rate': 0.1, 'max_depth': 7, 'n_estimators': 300, 'num_leaves': 30}\n",
      "최고의 점수: 0.4391\n"
     ]
    }
   ],
   "source": [
    "# grid search2 from grid search1\n",
    "import numpy as np\n",
    "import pandas as pd\n",
    "from sklearn.model_selection import train_test_split, GridSearchCV\n",
    "from lightgbm import LGBMClassifier\n",
    "\n",
    "# 전체 데이터 이용\n",
    "train_x = train.drop(columns=['ID', 'Delay', 'Delay_num'])\n",
    "train_y = train['Delay_num']\n",
    "test_x = test.drop(columns=['ID'])\n",
    "\n",
    "# 모델 정의\n",
    "lgbm = LGBMClassifier(random_state=42)\n",
    "\n",
    "# 그리드 서치를 위한 파라미터 그리드 정의\n",
    "param_grid2 = {\n",
    "    \"n_estimators\": [150, 200, 250, 300],\n",
    "    \"max_depth\": [5, 7, 9],\n",
    "    \"learning_rate\": [0.05, 0.075, 0.1, 0.125],\n",
    "    \"num_leaves\": [20, 30, 40],\n",
    "}\n",
    "\n",
    "# 그리드 서치를 위한 GridSearchCV 객체 생성\n",
    "grid_search2 = GridSearchCV(\n",
    "    estimator=lgbm,\n",
    "    param_grid=param_grid2,\n",
    "    scoring=\"neg_log_loss\",\n",
    "    cv=5,\n",
    "    verbose=1,\n",
    "    n_jobs=-1,\n",
    ")\n",
    "\n",
    "# 그리드 서치를 수행\n",
    "grid_search2.fit(train_x, train_y)\n",
    "\n",
    "# 최적의 파라미터와 최고의 점수 출력\n",
    "print(f\"최적의 파라미터: {grid_search2.best_params_}\")\n",
    "print(f\"최고의 점수: {-1 * grid_search2.best_score_:.4f}\")\n",
    "\n",
    "# 최적의 파라미터를 사용한 최종 모델\n",
    "best_lgbm2 = grid_search2.best_estimator_\n"
   ]
  },
  {
   "cell_type": "markdown",
   "metadata": {
    "id": "_bGi-04xkv2p"
   },
   "source": [
    "### 예측"
   ]
  },
  {
   "cell_type": "code",
   "execution_count": 11,
   "metadata": {
    "executionInfo": {
     "elapsed": 4827,
     "status": "ok",
     "timestamp": 1680692967572,
     "user": {
      "displayName": "지승영",
      "userId": "07006377205744982370"
     },
     "user_tz": -540
    },
    "id": "ue61nH-Xjz99"
   },
   "outputs": [],
   "source": [
    "y_pred = best_lgbm.predict_proba(test_x)"
   ]
  },
  {
   "cell_type": "code",
   "execution_count": 15,
   "metadata": {
    "executionInfo": {
     "elapsed": 4630,
     "status": "ok",
     "timestamp": 1680694803601,
     "user": {
      "displayName": "지승영",
      "userId": "07006377205744982370"
     },
     "user_tz": -540
    },
    "id": "18_21tKGIpLq"
   },
   "outputs": [],
   "source": [
    "y_pred2 = best_lgbm2.predict_proba(test_x)"
   ]
  },
  {
   "cell_type": "markdown",
   "metadata": {
    "id": "bMNE18RskxUq"
   },
   "source": [
    "### 제출"
   ]
  },
  {
   "cell_type": "code",
   "execution_count": 12,
   "metadata": {
    "executionInfo": {
     "elapsed": 3262,
     "status": "ok",
     "timestamp": 1680692988031,
     "user": {
      "displayName": "지승영",
      "userId": "07006377205744982370"
     },
     "user_tz": -540
    },
    "id": "g8evKatckxzP"
   },
   "outputs": [],
   "source": [
    "submission = pd.DataFrame(data=y_pred, columns=sample_submission.columns, index=sample_submission.index)\n",
    "submission.to_csv('submission_lgbm.csv', index=True)"
   ]
  },
  {
   "cell_type": "code",
   "execution_count": 16,
   "metadata": {
    "executionInfo": {
     "elapsed": 3824,
     "status": "ok",
     "timestamp": 1680694811285,
     "user": {
      "displayName": "지승영",
      "userId": "07006377205744982370"
     },
     "user_tz": -540
    },
    "id": "WfO1IiF0HJaE"
   },
   "outputs": [],
   "source": [
    "submission2 = pd.DataFrame(data=y_pred2, columns=sample_submission.columns, index=sample_submission.index)\n",
    "submission2.to_csv('submission_lgbm2.csv', index=True)"
   ]
  },
  {
   "cell_type": "code",
   "execution_count": null,
   "metadata": {
    "id": "AqZVJ4ZaN4JW"
   },
   "outputs": [],
   "source": []
  }
 ],
 "metadata": {
  "colab": {
   "authorship_tag": "ABX9TyOt+IlY3oU3dEkCKHi2bVBw",
   "machine_shape": "hm",
   "mount_file_id": "1IgBELre5zixY8eogePhZKWB_GlZpWi2H",
   "provenance": [],
   "toc_visible": true
  },
  "gpuClass": "standard",
  "kernelspec": {
   "display_name": "Python 3 (ipykernel)",
   "language": "python",
   "name": "python3"
  },
  "language_info": {
   "codemirror_mode": {
    "name": "ipython",
    "version": 3
   },
   "file_extension": ".py",
   "mimetype": "text/x-python",
   "name": "python",
   "nbconvert_exporter": "python",
   "pygments_lexer": "ipython3",
   "version": "3.10.9"
  }
 },
 "nbformat": 4,
 "nbformat_minor": 1
}
