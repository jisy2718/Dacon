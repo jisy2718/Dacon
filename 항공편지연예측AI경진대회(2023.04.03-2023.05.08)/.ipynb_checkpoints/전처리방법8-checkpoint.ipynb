{
 "cells": [
  {
   "cell_type": "markdown",
   "metadata": {},
   "source": [
    "배치를 직접 나눠서 원핫인코딩 시, 메모리초과 안나도록!"
   ]
  },
  {
   "cell_type": "markdown",
   "metadata": {
    "id": "LZ03gjSAWexe"
   },
   "source": [
    "## 1. 결측치처리\n",
    "**해당 노트북**\n",
    "+ 전처리방법2 + x결측치삭제 + vae 활용 + validation set 확인"
   ]
  },
  {
   "cell_type": "code",
   "execution_count": 1,
   "metadata": {
    "id": "pO82uV5UhWZo"
   },
   "outputs": [],
   "source": [
    "import pandas as pd\n",
    "import numpy as np\n",
    "import random\n",
    "import os\n",
    "import gc\n",
    "\n",
    "from sklearn.ensemble import RandomForestClassifier\n",
    "from sklearn.preprocessing import LabelEncoder\n",
    "\n",
    "def seed_everything(seed):\n",
    "    random.seed(seed)\n",
    "    os.environ['PYTHONHASHSEED'] = str(seed)\n",
    "    np.random.seed(seed)\n",
    "seed_everything(42) # Seed 고정"
   ]
  },
  {
   "cell_type": "markdown",
   "metadata": {
    "id": "9midQA40kaZ7"
   },
   "source": [
    "### 1.1. 전처리방법2 데이터 가져오기"
   ]
  },
  {
   "cell_type": "code",
   "execution_count": 2,
   "metadata": {
    "colab": {
     "base_uri": "https://localhost:8080/"
    },
    "executionInfo": {
     "elapsed": 2232,
     "status": "ok",
     "timestamp": 1682398048619,
     "user": {
      "displayName": "지승영",
      "userId": "07006377205744982370"
     },
     "user_tz": -540
    },
    "id": "R1yJwPUBkaZ9",
    "outputId": "565b249d-cfde-414b-cb1f-f48c303bda5c"
   },
   "outputs": [
    {
     "name": "stdout",
     "output_type": "stream",
     "text": [
      "(1000000, 19)\n",
      "Not_Delayed    210001\n",
      "Delayed         45000\n",
      "Name: Delay, dtype: int64\n"
     ]
    }
   ],
   "source": [
    "train = pd.read_parquet('./data/train_preprocess_2.parquet')\n",
    "# test = pd.read_parquet('./test.parquet')\n",
    "test = pd.read_parquet('./data/test_preprocess_2.parquet')\n",
    "sample_submission = pd.read_csv('sample_submission.csv', index_col = 0)\n",
    "\n",
    "print(train.shape)\n",
    "print(train.Delay.value_counts())"
   ]
  },
  {
   "cell_type": "markdown",
   "metadata": {
    "id": "3FjWnl6WuVXp"
   },
   "source": [
    "### 1.2. 남은 결측치 처리 - 삭제"
   ]
  },
  {
   "cell_type": "code",
   "execution_count": 3,
   "metadata": {
    "colab": {
     "base_uri": "https://localhost:8080/"
    },
    "executionInfo": {
     "elapsed": 2073,
     "status": "ok",
     "timestamp": 1682398467992,
     "user": {
      "displayName": "지승영",
      "userId": "07006377205744982370"
     },
     "user_tz": -540
    },
    "id": "-_OkLK6bsdCe",
    "outputId": "e5d0d96b-93ce-48e3-a637-9385d0102530"
   },
   "outputs": [
    {
     "name": "stdout",
     "output_type": "stream",
     "text": [
      "ID                               0\n",
      "Month                            0\n",
      "Day_of_Month                     0\n",
      "Estimated_Departure_Time         0\n",
      "Estimated_Arrival_Time           0\n",
      "Cancelled                        0\n",
      "Diverted                         0\n",
      "Origin_Airport                   0\n",
      "Origin_Airport_ID                0\n",
      "Origin_State                     0\n",
      "Destination_Airport              0\n",
      "Destination_Airport_ID           0\n",
      "Destination_State                0\n",
      "Distance                         0\n",
      "Airline                          0\n",
      "Carrier_Code(IATA)               0\n",
      "Carrier_ID(DOT)                  0\n",
      "Tail_Number                      0\n",
      "Delay                       520399\n",
      "dtype: int64\n",
      "Done.\n"
     ]
    }
   ],
   "source": [
    "# print(train.isnull().sum())\n",
    "# print(train.dropna().shape)\n",
    "# print(train.dropna().isnull().sum())\n",
    "train = train.dropna(subset=['Estimated_Departure_Time','Estimated_Arrival_Time','Carrier_Code(IATA)','Airline','Carrier_ID(DOT)'])\n",
    "print(train.isnull().sum())\n",
    "\n",
    "\n",
    "# 레이블(Delay)을 제외한 결측값이 존재하는 변수들을 unknown으로 대체합니다.\n",
    "NaN_col = ['Origin_State','Destination_State','Airline','Estimated_Departure_Time', 'Estimated_Arrival_Time','Carrier_Code(IATA)','Carrier_ID(DOT)']\n",
    "\n",
    "for col in NaN_col:\n",
    "    # mode = train[col].mode()[0]\n",
    "    # train[col] = train[col].fillna(mode)\n",
    "    \n",
    "    if col in test.columns:\n",
    "        test[col] = test[col].fillna('Unknown')\n",
    "print('Done.')"
   ]
  },
  {
   "cell_type": "code",
   "execution_count": 4,
   "metadata": {},
   "outputs": [],
   "source": [
    "# test.head()"
   ]
  },
  {
   "cell_type": "code",
   "execution_count": 5,
   "metadata": {},
   "outputs": [
    {
     "data": {
      "text/plain": [
       "6493"
      ]
     },
     "execution_count": 5,
     "metadata": {},
     "output_type": "execute_result"
    }
   ],
   "source": [
    "# 새로운 column 생성\n",
    "# train['Estimated_Duration'] = train['Estimated_Arrival_Time'] -  train['Estimated_Departure_Time']\n",
    "# test['Estimated_Duration'] = test['Estimated_Arrival_Time'] -  test['Estimated_Departure_Time']\n",
    "test['Tail_Number'].nunique()"
   ]
  },
  {
   "cell_type": "markdown",
   "metadata": {},
   "source": [
    "### 1.3. label & unlabel split  / label_train & label_validation split"
   ]
  },
  {
   "cell_type": "markdown",
   "metadata": {},
   "source": [
    "#### 1배치 데이터 흐름\n",
    "1. vae에는 X_train_labeled와 X_unlabeled를 각각 onehot으로 만들어서 합쳐서 넣어주기\n",
    "2. classifier에는 X_train_labeled를 onehot으로 만든 것 넣어주기\n",
    "\n",
    "\n",
    "#### 필요한 것\n",
    "1. labeled와 unlabeled 나누기\n",
    "2. labeled에서 train과 validation 분리하기\n",
    "3. X_train_labeld & X_unlabeled 를 이용한 onehot encoding\n",
    "4. 전체 데이터에 onehot 적용하면 데이터 크기 너무 커지므로, 배치로 처리하기"
   ]
  },
  {
   "cell_type": "markdown",
   "metadata": {},
   "source": [
    "#### 1.3.1. 데이터 쪼개기"
   ]
  },
  {
   "cell_type": "code",
   "execution_count": 6,
   "metadata": {},
   "outputs": [
    {
     "name": "stdout",
     "output_type": "stream",
     "text": [
      "(178176, 17) (520399, 17)\n"
     ]
    },
    {
     "name": "stderr",
     "output_type": "stream",
     "text": [
      "C:\\Users\\Administrator\\AppData\\Local\\Temp\\ipykernel_13988\\2020010435.py:6: SettingWithCopyWarning: \n",
      "A value is trying to be set on a copy of a slice from a DataFrame.\n",
      "Try using .loc[row_indexer,col_indexer] = value instead\n",
      "\n",
      "See the caveats in the documentation: https://pandas.pydata.org/pandas-docs/stable/user_guide/indexing.html#returning-a-view-versus-a-copy\n",
      "  y_labeled['Delay'] = y_labeled['Delay'].apply(lambda x : change_cate2num[x])\n"
     ]
    }
   ],
   "source": [
    "# 1. labeled & unlabeld split\n",
    "train_labeled , train_unlabeled = train[train['Delay'].notnull()], train[train['Delay'].isnull()]\n",
    "\n",
    "X_labeled, y_labeled = train_labeled.drop(['ID','Delay'], axis=1), train_labeled[['Delay']]\n",
    "change_cate2num = {'Not_Delayed':0, \"Delayed\":1}\n",
    "y_labeled['Delay'] = y_labeled['Delay'].apply(lambda x : change_cate2num[x])\n",
    "X_unlabeled = train_unlabeled.drop(['ID','Delay'], axis=1)\n",
    "\n",
    "print(X_labeled.shape, X_unlabeled.shape)\n",
    "\n",
    "\n",
    "# 2. train_labeled & val_labeled split\n",
    "from sklearn.model_selection import train_test_split\n",
    "X_train_labeled, X_val_labeled, y_train_labeled, y_val_labeled = train_test_split(X_labeled, y_labeled, test_size=0.2, random_state=42)\n",
    "\n",
    "\n",
    "# 3. X_unlabled 의 크기를 X_train_labeled와 맞춰주기\n",
    "# X_unlabeled = X_unlabeled.iloc[:len(X_train_labeled),:]\n",
    "# print(X_unlabeled.shape, X_train_labeled.shape )"
   ]
  },
  {
   "cell_type": "markdown",
   "metadata": {},
   "source": [
    "#### 1.3.2. encoder 만들기"
   ]
  },
  {
   "cell_type": "code",
   "execution_count": 96,
   "metadata": {},
   "outputs": [
    {
     "data": {
      "text/html": [
       "<style>#sk-container-id-3 {color: black;background-color: white;}#sk-container-id-3 pre{padding: 0;}#sk-container-id-3 div.sk-toggleable {background-color: white;}#sk-container-id-3 label.sk-toggleable__label {cursor: pointer;display: block;width: 100%;margin-bottom: 0;padding: 0.3em;box-sizing: border-box;text-align: center;}#sk-container-id-3 label.sk-toggleable__label-arrow:before {content: \"▸\";float: left;margin-right: 0.25em;color: #696969;}#sk-container-id-3 label.sk-toggleable__label-arrow:hover:before {color: black;}#sk-container-id-3 div.sk-estimator:hover label.sk-toggleable__label-arrow:before {color: black;}#sk-container-id-3 div.sk-toggleable__content {max-height: 0;max-width: 0;overflow: hidden;text-align: left;background-color: #f0f8ff;}#sk-container-id-3 div.sk-toggleable__content pre {margin: 0.2em;color: black;border-radius: 0.25em;background-color: #f0f8ff;}#sk-container-id-3 input.sk-toggleable__control:checked~div.sk-toggleable__content {max-height: 200px;max-width: 100%;overflow: auto;}#sk-container-id-3 input.sk-toggleable__control:checked~label.sk-toggleable__label-arrow:before {content: \"▾\";}#sk-container-id-3 div.sk-estimator input.sk-toggleable__control:checked~label.sk-toggleable__label {background-color: #d4ebff;}#sk-container-id-3 div.sk-label input.sk-toggleable__control:checked~label.sk-toggleable__label {background-color: #d4ebff;}#sk-container-id-3 input.sk-hidden--visually {border: 0;clip: rect(1px 1px 1px 1px);clip: rect(1px, 1px, 1px, 1px);height: 1px;margin: -1px;overflow: hidden;padding: 0;position: absolute;width: 1px;}#sk-container-id-3 div.sk-estimator {font-family: monospace;background-color: #f0f8ff;border: 1px dotted black;border-radius: 0.25em;box-sizing: border-box;margin-bottom: 0.5em;}#sk-container-id-3 div.sk-estimator:hover {background-color: #d4ebff;}#sk-container-id-3 div.sk-parallel-item::after {content: \"\";width: 100%;border-bottom: 1px solid gray;flex-grow: 1;}#sk-container-id-3 div.sk-label:hover label.sk-toggleable__label {background-color: #d4ebff;}#sk-container-id-3 div.sk-serial::before {content: \"\";position: absolute;border-left: 1px solid gray;box-sizing: border-box;top: 0;bottom: 0;left: 50%;z-index: 0;}#sk-container-id-3 div.sk-serial {display: flex;flex-direction: column;align-items: center;background-color: white;padding-right: 0.2em;padding-left: 0.2em;position: relative;}#sk-container-id-3 div.sk-item {position: relative;z-index: 1;}#sk-container-id-3 div.sk-parallel {display: flex;align-items: stretch;justify-content: center;background-color: white;position: relative;}#sk-container-id-3 div.sk-item::before, #sk-container-id-3 div.sk-parallel-item::before {content: \"\";position: absolute;border-left: 1px solid gray;box-sizing: border-box;top: 0;bottom: 0;left: 50%;z-index: -1;}#sk-container-id-3 div.sk-parallel-item {display: flex;flex-direction: column;z-index: 1;position: relative;background-color: white;}#sk-container-id-3 div.sk-parallel-item:first-child::after {align-self: flex-end;width: 50%;}#sk-container-id-3 div.sk-parallel-item:last-child::after {align-self: flex-start;width: 50%;}#sk-container-id-3 div.sk-parallel-item:only-child::after {width: 0;}#sk-container-id-3 div.sk-dashed-wrapped {border: 1px dashed gray;margin: 0 0.4em 0.5em 0.4em;box-sizing: border-box;padding-bottom: 0.4em;background-color: white;}#sk-container-id-3 div.sk-label label {font-family: monospace;font-weight: bold;display: inline-block;line-height: 1.2em;}#sk-container-id-3 div.sk-label-container {text-align: center;}#sk-container-id-3 div.sk-container {/* jupyter's `normalize.less` sets `[hidden] { display: none; }` but bootstrap.min.css set `[hidden] { display: none !important; }` so we also need the `!important` here to be able to override the default hidden behavior on the sphinx rendered scikit-learn.org. See: https://github.com/scikit-learn/scikit-learn/issues/21755 */display: inline-block !important;position: relative;}#sk-container-id-3 div.sk-text-repr-fallback {display: none;}</style><div id=\"sk-container-id-3\" class=\"sk-top-container\"><div class=\"sk-text-repr-fallback\"><pre>OneHotEncoder(handle_unknown=&#x27;ignore&#x27;)</pre><b>In a Jupyter environment, please rerun this cell to show the HTML representation or trust the notebook. <br />On GitHub, the HTML representation is unable to render, please try loading this page with nbviewer.org.</b></div><div class=\"sk-container\" hidden><div class=\"sk-item\"><div class=\"sk-estimator sk-toggleable\"><input class=\"sk-toggleable__control sk-hidden--visually\" id=\"sk-estimator-id-3\" type=\"checkbox\" checked><label for=\"sk-estimator-id-3\" class=\"sk-toggleable__label sk-toggleable__label-arrow\">OneHotEncoder</label><div class=\"sk-toggleable__content\"><pre>OneHotEncoder(handle_unknown=&#x27;ignore&#x27;)</pre></div></div></div></div></div>"
      ],
      "text/plain": [
       "OneHotEncoder(handle_unknown='ignore')"
      ]
     },
     "execution_count": 96,
     "metadata": {},
     "output_type": "execute_result"
    }
   ],
   "source": [
    "\n",
    "# 3. 데이터 정리 & onehotencoding\n",
    "from sklearn.preprocessing import OneHotEncoder\n",
    "cate_cols = ['Month', 'Day_of_Month', 'Cancelled', 'Diverted', 'Origin_Airport',\n",
    "       'Origin_Airport_ID', 'Origin_State', 'Destination_Airport',\n",
    "       'Destination_Airport_ID', 'Destination_State', 'Airline',\n",
    "       'Carrier_Code(IATA)', 'Carrier_ID(DOT)', 'Tail_Number']\n",
    "\n",
    "\n",
    "# Airport 2개 삭제함\n",
    "cate_cols = ['Month', 'Day_of_Month', 'Cancelled', 'Diverted', \n",
    "       'Origin_Airport_ID', 'Origin_State', \n",
    "       'Destination_Airport_ID', 'Destination_State', 'Airline',\n",
    "       'Carrier_Code(IATA)', 'Carrier_ID(DOT)', 'Tail_Number']\n",
    "\n",
    "# cate_cols = ['Month', 'Day_of_Month',\n",
    "#        'Origin_Airport_ID',\n",
    "#        'Destination_Airport_ID', \n",
    "#              'Airline']\n",
    "\n",
    "numeric_cols = ['Estimated_Departure_Time','Estimated_Arrival_Time','Distance']\n",
    "\n",
    "\n",
    "## 3.1. VAE 훈련에 쓸 데이터 : X_train_labeled, X_unlabeled\n",
    "### 3.1.1. 데이터 정리\n",
    "X_vae_train = pd.concat([X_train_labeled, X_unlabeled])\n",
    "X_vae_train_cate = X_vae_train[cate_cols]\n",
    "\n",
    "encoder = OneHotEncoder(handle_unknown='ignore')\n",
    "encoder.fit(X_vae_train_cate)\n"
   ]
  },
  {
   "cell_type": "markdown",
   "metadata": {},
   "source": [
    "### 1.4. 데이터 만들기"
   ]
  },
  {
   "cell_type": "code",
   "execution_count": 64,
   "metadata": {},
   "outputs": [],
   "source": [
    "# 필요한 것 : X_train_labeled, y_train_labeled, X_vae_train, cate_cols, numeric_cols\n",
    "def make_label_batch(batch_num, num_of_batch):\n",
    "    # 1. 현재 배치 가져오기 - 추후 X_train_labeled를 섞는 과정도 필요\n",
    "    n = len(X_train_labeled)\n",
    "    start_loc = n//num_of_batch*(batch_num-1)\n",
    "    end_loc = n//num_of_batch*batch_num\n",
    "    \n",
    "    X_cur_batch = X_train_labeled.iloc[start_loc:end_loc]\n",
    "    y_cur_batch = y_train_labeled.iloc[start_loc:end_loc]\n",
    "    \n",
    "    # 2. category onehot으로 변환하기\n",
    "    X_sample_category = X_cur_batch[cate_cols]\n",
    "    X_sample_category = encoder.transform(X_sample_category)\n",
    "    X_sample_category = X_sample_category.toarray()  # 추가된 코드: X_sample_category를 2차원 배열로 변환 : 희소행렬로 반환되는 onehot encoding 결과를, 일반적인 Numpy 배열로 변환해줌\n",
    "    \n",
    "    # 3. numeric은 0~1 사이로 바꿔주기\n",
    "    X_sample_numeric = X_cur_batch[numeric_cols]\n",
    "    max_values = X_vae_train[numeric_cols].max()\n",
    "    X_sample_numeric = np.array(X_sample_numeric /max_values.values) # 0~1사이로 변환\n",
    "#     print(X_sample_category.shape, X_sample_numeric.shape)\n",
    "    \n",
    "    # 4. category & numeric 합치기\n",
    "    X_sample = np.hstack([X_sample_category,X_sample_numeric])\n",
    "\n",
    "    # 5. 텐서로 변환하기 : (batch_size, column dim)\n",
    "    X_sample = torch.tensor(X_sample, dtype=torch.float32)  \n",
    "    y_sample = torch.tensor(y_cur_batch.values, dtype=torch.float32)\n",
    "    \n",
    "    return X_sample, y_sample"
   ]
  },
  {
   "cell_type": "code",
   "execution_count": 79,
   "metadata": {},
   "outputs": [],
   "source": [
    "# 필요한 것 : X_unlabeled, X_vae_train, cate_cols, numeric_cols\n",
    "def make_unlabel_batch(batch_num,num_of_batch):\n",
    "    # 1. 현재 배치 가져오기 - 추후 X_unlabeled 섞는 과정도 필요\n",
    "    n = len(X_train_labeled) # 임시방편\n",
    "    start_loc = n//num_of_batch*(batch_num-1)\n",
    "    end_loc = n//num_of_batch*batch_num\n",
    "    \n",
    "    X_cur_batch = X_unlabeled.iloc[start_loc:end_loc]\n",
    "    \n",
    "    # 2. category onehot으로 변환하기\n",
    "    X_sample_category = X_cur_batch[cate_cols]\n",
    "    X_sample_category = encoder.transform(X_sample_category)\n",
    "    X_sample_category = X_sample_category.toarray()  # 추가된 코드: X_sample_category를 2차원 배열로 변환 : 희소행렬로 반환되는 onehot encoding 결과를, 일반적인 Numpy 배열로 변환해줌\n",
    "    \n",
    "    # 3. numeric은 0~1 사이로 바꿔주기\n",
    "    X_sample_numeric = X_cur_batch[numeric_cols]\n",
    "    max_values = X_vae_train[numeric_cols].max()\n",
    "    X_sample_numeric = np.array(X_sample_numeric /max_values.values) # 0~1사이로 변환\n",
    "#     print(X_sample_category.shape, X_sample_numeric.shape)\n",
    "    \n",
    "    # 4. category & numeric 합치기\n",
    "    X_sample = np.hstack([X_sample_category,X_sample_numeric])\n",
    "\n",
    "    # 5. 텐서로 변환하기 : (batch_size, column dim)\n",
    "    X_sample = torch.tensor(X_sample, dtype=torch.float32)  \n",
    "    \n",
    "    return X_sample"
   ]
  },
  {
   "cell_type": "code",
   "execution_count": 97,
   "metadata": {},
   "outputs": [],
   "source": [
    "# validation X를 tensor로 만들기\n",
    "def make_validation_tensor():\n",
    "    # 1. 현재 배치 가져오기 - 추후 X_unlabeled 섞는 과정도 필요\n",
    "    n = len(X_train_labeled) # 임시방편\n",
    "    start_loc = n//num_of_batch*(batch_num-1)\n",
    "    end_loc = n//num_of_batch*batch_num\n",
    "    \n",
    "    X_cur_batch = X_val_labeled.copy()\n",
    "    \n",
    "    # 2. category onehot으로 변환하기\n",
    "    X_sample_category = X_cur_batch[cate_cols]\n",
    "    X_sample_category = encoder.transform(X_sample_category)\n",
    "    X_sample_category = X_sample_category.toarray()  # 추가된 코드: X_sample_category를 2차원 배열로 변환 : 희소행렬로 반환되는 onehot encoding 결과를, 일반적인 Numpy 배열로 변환해줌\n",
    "    \n",
    "    # 3. numeric은 0~1 사이로 바꿔주기\n",
    "    X_sample_numeric = X_cur_batch[numeric_cols]\n",
    "    max_values = X_vae_train[numeric_cols].max()\n",
    "    X_sample_numeric = np.array(X_sample_numeric /max_values.values) # 0~1사이로 변환\n",
    "#     print(X_sample_category.shape, X_sample_numeric.shape)\n",
    "    \n",
    "    # 4. category & numeric 합치기\n",
    "    X_sample = np.hstack([X_sample_category,X_sample_numeric])\n",
    "\n",
    "    # 5. 텐서로 변환하기 : (batch_size, column dim)\n",
    "    X_sample = torch.tensor(X_sample, dtype=torch.float32)  \n",
    "    \n",
    "    return X_sample    "
   ]
  },
  {
   "cell_type": "code",
   "execution_count": 99,
   "metadata": {},
   "outputs": [
    {
     "data": {
      "text/plain": [
       "torch.Size([35636, 7377])"
      ]
     },
     "execution_count": 99,
     "metadata": {},
     "output_type": "execute_result"
    }
   ],
   "source": [
    "X_val_labeled_tensor = make_validation_tensor()\n",
    "X_val_labeled_tensor.shape"
   ]
  },
  {
   "cell_type": "markdown",
   "metadata": {},
   "source": [
    "### 모델생성"
   ]
  },
  {
   "cell_type": "code",
   "execution_count": 141,
   "metadata": {},
   "outputs": [],
   "source": [
    "import torch\n",
    "import torch.nn as nn\n",
    "import torch.optim as optim\n",
    "from torch.utils.data import DataLoader\n",
    "\n",
    "# Define the VAE model\n",
    "class VAE(nn.Module):\n",
    "    def __init__(self, input_dim, hidden_dim, latent_dim):\n",
    "        super(VAE, self).__init__()\n",
    "\n",
    "        # Encoder\n",
    "        self.encoder = nn.Sequential(\n",
    "            nn.Linear(input_dim, hidden_dim),\n",
    "            nn.ReLU(),\n",
    "            nn.Linear(hidden_dim, latent_dim * 2)\n",
    "        )\n",
    "\n",
    "        # Decoder\n",
    "        self.decoder = nn.Sequential(\n",
    "            nn.Linear(latent_dim, hidden_dim),\n",
    "            nn.ReLU(),\n",
    "            nn.Linear(hidden_dim, input_dim),\n",
    "            nn.Sigmoid()\n",
    "        )\n",
    "\n",
    "    def reparameterize(self, mu, log_var):\n",
    "        std = torch.exp(0.5 * log_var)\n",
    "        eps = torch.randn_like(std)\n",
    "        return mu + eps * std\n",
    "\n",
    "    def forward(self, x):\n",
    "        h = self.encoder(x)\n",
    "        mu, log_var = torch.chunk(h, 2, dim=1)\n",
    "        z = self.reparameterize(mu, log_var)\n",
    "        x_hat = self.decoder(z)\n",
    "        return x_hat, mu, log_var\n",
    "\n",
    "\n"
   ]
  },
  {
   "cell_type": "code",
   "execution_count": 142,
   "metadata": {},
   "outputs": [],
   "source": [
    "# 분류기 생성\n",
    "class Classifier(nn.Module):\n",
    "    def __init__(self, input_dim, hidden_dim, output_dim):\n",
    "        super(Classifier, self).__init__()\n",
    "        self.network = nn.Sequential(\n",
    "            nn.Linear(input_dim, hidden_dim),\n",
    "            nn.ReLU(),\n",
    "            nn.Linear(hidden_dim, hidden_dim),\n",
    "            nn.ReLU(),\n",
    "            nn.Linear(hidden_dim, output_dim),\n",
    "#             nn.Softmax(dim=1)\n",
    "        )\n",
    "\n",
    "    def forward(self, x):\n",
    "        return self.network(x)\n"
   ]
  },
  {
   "cell_type": "code",
   "execution_count": null,
   "metadata": {},
   "outputs": [],
   "source": [
    "# VAE LOSS\n",
    "import torch\n",
    "import torch.nn.functional as F\n",
    "\n",
    "def vae_loss(reconstructed_data, original_data, mu, log_var):\n",
    "    # Reconstruction Loss\n",
    "    recon_loss = F.binary_cross_entropy(reconstructed_data, original_data, reduction='mean')\n",
    "\n",
    "    # KL Divergence Loss\n",
    "    kl_divergence = -0.5 * torch.sum(1 + log_var - mu.pow(2) - log_var.exp())\n",
    "\n",
    "    # Total Loss\n",
    "    total_loss = recon_loss + kl_divergence\n",
    "    return total_loss\n"
   ]
  },
  {
   "cell_type": "code",
   "execution_count": 145,
   "metadata": {},
   "outputs": [
    {
     "name": "stdout",
     "output_type": "stream",
     "text": [
      "input shape :  7377\n"
     ]
    }
   ],
   "source": [
    "# Hyperparameters\n",
    "input_dim = X_label_sample.shape[1]\n",
    "print('input shape : ', X_label_sample.shape[1])\n",
    "hidden_dim = 256\n",
    "latent_dim = 128\n",
    "learning_rate = 0.001\n",
    "\n",
    "# Initialize the model, optimizer and loss function\n",
    "device = 'cuda:2'\n",
    "vae = VAE(input_dim, hidden_dim, latent_dim)\n",
    "vae.to(device)\n",
    "\n",
    "optimizer = optim.Adam(model.parameters(), lr=learning_rate)\n",
    "reconstruction_loss = nn.BCELoss(reduction='mean')\n",
    "\n",
    "\n",
    "# classifier 초기화\n",
    "classifier = Classifier(input_dim = latent_dim, hidden_dim = latent_dim//2 , output_dim= 2)\n",
    "classifier.to(device)\n",
    "classification_loss = nn.CrossEntropyLoss()"
   ]
  },
  {
   "cell_type": "markdown",
   "metadata": {},
   "source": [
    "### 모델훈련\n",
    "현재 갑자기 training이 안되는 문제 발생"
   ]
  },
  {
   "cell_type": "code",
   "execution_count": 148,
   "metadata": {},
   "outputs": [
    {
     "name": "stderr",
     "output_type": "stream",
     "text": [
      "  3%|██▊                                                                                | 1/30 [00:58<28:06, 58.17s/it]"
     ]
    },
    {
     "name": "stdout",
     "output_type": "stream",
     "text": [
      "epoch:1, total: 774.8362, labeled_loss: 387.0892, unlabeled_loss: 387.0723, class_loss:  0.6747\n"
     ]
    },
    {
     "name": "stderr",
     "output_type": "stream",
     "text": [
      "\r",
      "  7%|█████▌                                                                             | 2/30 [01:56<27:06, 58.11s/it]"
     ]
    },
    {
     "name": "stdout",
     "output_type": "stream",
     "text": [
      "epoch:2, total: 774.8364, labeled_loss: 387.0892, unlabeled_loss: 387.0723, class_loss:  0.6749\n"
     ]
    },
    {
     "name": "stderr",
     "output_type": "stream",
     "text": [
      "  7%|█████▌                                                                             | 2/30 [02:09<30:12, 64.74s/it]\n"
     ]
    },
    {
     "ename": "KeyboardInterrupt",
     "evalue": "",
     "output_type": "error",
     "traceback": [
      "\u001b[1;31m---------------------------------------------------------------------------\u001b[0m",
      "\u001b[1;31mKeyboardInterrupt\u001b[0m                         Traceback (most recent call last)",
      "Cell \u001b[1;32mIn[148], line 21\u001b[0m\n\u001b[0;32m     18\u001b[0m optimizer\u001b[38;5;241m.\u001b[39mzero_grad()\n\u001b[0;32m     20\u001b[0m \u001b[38;5;66;03m# Labeled data에 대한 VAE 훈련\u001b[39;00m\n\u001b[1;32m---> 21\u001b[0m reconstructed_labeled_data, mu, log_var \u001b[38;5;241m=\u001b[39m vae(\u001b[43mlabeled_data\u001b[49m\u001b[38;5;241;43m.\u001b[39;49m\u001b[43mto\u001b[49m\u001b[43m(\u001b[49m\u001b[43mdevice\u001b[49m\u001b[43m)\u001b[49m)\n\u001b[0;32m     22\u001b[0m labeled_loss \u001b[38;5;241m=\u001b[39m reconstruction_loss(reconstructed_labeled_data, labeled_data\u001b[38;5;241m.\u001b[39mto(device)) \u001b[38;5;241m-\u001b[39m \u001b[38;5;241m0.5\u001b[39m \u001b[38;5;241m*\u001b[39m torch\u001b[38;5;241m.\u001b[39msum(\u001b[38;5;241m1\u001b[39m \u001b[38;5;241m+\u001b[39m log_var \u001b[38;5;241m-\u001b[39m mu\u001b[38;5;241m.\u001b[39mpow(\u001b[38;5;241m2\u001b[39m) \u001b[38;5;241m-\u001b[39m log_var\u001b[38;5;241m.\u001b[39mexp())\n\u001b[0;32m     24\u001b[0m \u001b[38;5;66;03m# Unlabeled data에 대한 VAE 훈련\u001b[39;00m\n",
      "\u001b[1;31mKeyboardInterrupt\u001b[0m: "
     ]
    }
   ],
   "source": [
    "from tqdm import tqdm\n",
    "for epoch in tqdm(range(30)):\n",
    "    vae.train()\n",
    "    classifier.train()\n",
    "    # epoch 마다 data shuffle\n",
    "#     tmp = pd.concat([X_train_labeled, y_train_labeled], axis=1)\n",
    "#     tmp = tmp.sample(frac=1).reset_index(drop=True)\n",
    "#     X_train_labeled = tmp.drop(columns=['Delay'])\n",
    "#     y_train_labeled = tmp[['Delay']]\n",
    "    \n",
    "    # epoch 마다 loss 세기\n",
    "    loss_dict = {'total_loss':0, 'labeled_loss':0, 'unlabeled_loss':0, 'class_loss':0}\n",
    "    num_of_batch = 50\n",
    "    for batch_num in range(1,num_of_batch+1):\n",
    "        labeled_data, labeled_label = make_label_batch(batch_num, num_of_batch)\n",
    "        unlabeled_data = make_unlabel_batch(batch_num, num_of_batch)\n",
    "\n",
    "        optimizer.zero_grad()\n",
    "\n",
    "        # Labeled data에 대한 VAE 훈련\n",
    "        reconstructed_labeled_data, mu, log_var = vae(labeled_data.to(device))\n",
    "        labeled_loss = reconstruction_loss(reconstructed_labeled_data, labeled_data.to(device)) - 0.5 * torch.sum(1 + log_var - mu.pow(2) - log_var.exp())\n",
    "\n",
    "        # Unlabeled data에 대한 VAE 훈련\n",
    "        reconstructed_unlabeled_data, mu_unlabeled, log_var_unlabeled = vae(unlabeled_data.to(device))\n",
    "        unlabeled_loss = reconstruction_loss(reconstructed_unlabeled_data, unlabeled_data.to(device)) - 0.5 * torch.sum(1 + log_var_unlabeled - mu_unlabeled.pow(2) - log_var_unlabeled.exp())\n",
    "\n",
    "        # Labeled data에 대한 Classifier 훈련\n",
    "        latent_labeled_data = vae.reparameterize(mu, log_var)\n",
    "        classifier_output = classifier(latent_labeled_data)\n",
    "        labeled_label_indices = torch.argmax(labeled_label, dim=1).to(device) # 다중 타겟을 원핫으로 변환\n",
    "        class_loss = classification_loss(classifier_output, labeled_label_indices)\n",
    "\n",
    "        # 총 Loss 계산 및 업데이트\n",
    "        total_loss = labeled_loss + unlabeled_loss + class_loss\n",
    "        total_loss.backward()\n",
    "        optimizer.step()\n",
    "\n",
    "        loss_dict['total_loss'] += total_loss.item()\n",
    "        loss_dict['labeled_loss'] += labeled_loss.item()\n",
    "        loss_dict['unlabeled_loss'] += unlabeled_loss.item()\n",
    "        loss_dict['class_loss'] += class_loss.item()\n",
    "\n",
    "#         if batch_num % 10 ==0:\n",
    "#             print(batch_num)\n",
    "\n",
    "    print(f\"epoch:{epoch+1}, total:{loss_dict['total_loss']/num_of_batch : .4f}, labeled_loss:{loss_dict['labeled_loss']/num_of_batch : .4f}, unlabeled_loss:{loss_dict['unlabeled_loss']/num_of_batch : .4f}, class_loss: {loss_dict['class_loss']/num_of_batch : .4f}\")\n"
   ]
  },
  {
   "cell_type": "code",
   "execution_count": 87,
   "metadata": {},
   "outputs": [],
   "source": [
    "torch.save(vae.state_dict(), './VAE_new.pth') # 모델 저장\n",
    "torch.save(classifier.state_dict(), './classifier_new.pth') # 모델 저장"
   ]
  },
  {
   "cell_type": "markdown",
   "metadata": {},
   "source": [
    "### classifier 성능 비교"
   ]
  },
  {
   "cell_type": "code",
   "execution_count": 93,
   "metadata": {
    "scrolled": true
   },
   "outputs": [
    {
     "name": "stdout",
     "output_type": "stream",
     "text": [
      "Done.\n"
     ]
    },
    {
     "name": "stderr",
     "output_type": "stream",
     "text": [
      "C:\\Users\\Administrator\\AppData\\Local\\Temp\\ipykernel_13988\\4099449297.py:43: DataConversionWarning: A column-vector y was passed when a 1d array was expected. Please change the shape of y to (n_samples,), for example using ravel().\n",
      "  model.fit(X_train_labeled_le, y_train_labeled)\n"
     ]
    },
    {
     "name": "stdout",
     "output_type": "stream",
     "text": [
      "Extra Trees Classifier: Log Loss = 0.5265\n"
     ]
    },
    {
     "name": "stderr",
     "output_type": "stream",
     "text": [
      "C:\\Users\\Administrator\\AppData\\Local\\Temp\\ipykernel_13988\\4099449297.py:43: DataConversionWarning: A column-vector y was passed when a 1d array was expected. Please change the shape of y to (n_samples,), for example using ravel().\n",
      "  model.fit(X_train_labeled_le, y_train_labeled)\n"
     ]
    },
    {
     "name": "stdout",
     "output_type": "stream",
     "text": [
      "Random Forest Classifier: Log Loss = 0.4804\n"
     ]
    },
    {
     "name": "stderr",
     "output_type": "stream",
     "text": [
      "C:\\Users\\Administrator\\anaconda3\\lib\\site-packages\\sklearn\\preprocessing\\_label.py:99: DataConversionWarning: A column-vector y was passed when a 1d array was expected. Please change the shape of y to (n_samples, ), for example using ravel().\n",
      "  y = column_or_1d(y, warn=True)\n",
      "C:\\Users\\Administrator\\anaconda3\\lib\\site-packages\\sklearn\\preprocessing\\_label.py:134: DataConversionWarning: A column-vector y was passed when a 1d array was expected. Please change the shape of y to (n_samples, ), for example using ravel().\n",
      "  y = column_or_1d(y, dtype=self.classes_.dtype, warn=True)\n"
     ]
    },
    {
     "name": "stdout",
     "output_type": "stream",
     "text": [
      "Light Gradient Boosting Machine: Log Loss = 0.4399\n",
      "Decision Tree Classifier: Log Loss = 10.2489\n"
     ]
    },
    {
     "name": "stderr",
     "output_type": "stream",
     "text": [
      "C:\\Users\\Administrator\\anaconda3\\lib\\site-packages\\sklearn\\ensemble\\_gb.py:437: DataConversionWarning: A column-vector y was passed when a 1d array was expected. Please change the shape of y to (n_samples, ), for example using ravel().\n",
      "  y = column_or_1d(y, warn=True)\n"
     ]
    },
    {
     "name": "stdout",
     "output_type": "stream",
     "text": [
      "Gradient Boosting Classifier: Log Loss = 0.4437\n"
     ]
    },
    {
     "name": "stderr",
     "output_type": "stream",
     "text": [
      "C:\\Users\\Administrator\\anaconda3\\lib\\site-packages\\sklearn\\utils\\validation.py:1143: DataConversionWarning: A column-vector y was passed when a 1d array was expected. Please change the shape of y to (n_samples, ), for example using ravel().\n",
      "  y = column_or_1d(y, warn=True)\n"
     ]
    },
    {
     "name": "stdout",
     "output_type": "stream",
     "text": [
      "Ada Boost Classifier: Log Loss = 0.6821\n"
     ]
    },
    {
     "name": "stderr",
     "output_type": "stream",
     "text": [
      "C:\\Users\\Administrator\\anaconda3\\lib\\site-packages\\sklearn\\utils\\validation.py:1143: DataConversionWarning: A column-vector y was passed when a 1d array was expected. Please change the shape of y to (n_samples, ), for example using ravel().\n",
      "  y = column_or_1d(y, warn=True)\n"
     ]
    },
    {
     "name": "stdout",
     "output_type": "stream",
     "text": [
      "Logistic Regression: Log Loss = 0.4554\n"
     ]
    },
    {
     "name": "stderr",
     "output_type": "stream",
     "text": [
      "C:\\Users\\Administrator\\anaconda3\\lib\\site-packages\\sklearn\\linear_model\\_logistic.py:458: ConvergenceWarning: lbfgs failed to converge (status=1):\n",
      "STOP: TOTAL NO. of ITERATIONS REACHED LIMIT.\n",
      "\n",
      "Increase the number of iterations (max_iter) or scale the data as shown in:\n",
      "    https://scikit-learn.org/stable/modules/preprocessing.html\n",
      "Please also refer to the documentation for alternative solver options:\n",
      "    https://scikit-learn.org/stable/modules/linear_model.html#logistic-regression\n",
      "  n_iter_i = _check_optimize_result(\n"
     ]
    }
   ],
   "source": [
    "# 1. train 이용한 경우 validation\n",
    "import numpy as np\n",
    "import pandas as pd\n",
    "from sklearn.model_selection import train_test_split\n",
    "from sklearn.metrics import log_loss\n",
    "\n",
    "from sklearn.ensemble import ExtraTreesClassifier, RandomForestClassifier, GradientBoostingClassifier, AdaBoostClassifier\n",
    "from sklearn.tree import DecisionTreeClassifier\n",
    "from sklearn.linear_model import LogisticRegression\n",
    "from lightgbm import LGBMClassifier\n",
    "\n",
    "\n",
    "# 데이터 수치화\n",
    "qual_col = ['Origin_Airport', 'Origin_State', 'Destination_Airport', 'Destination_State', 'Airline', 'Carrier_Code(IATA)', 'Tail_Number']\n",
    "X_train_labeled_le = X_train_labeled.copy()\n",
    "X_val_labeled_le = X_val_labeled.copy()\n",
    "test_le = test.copy()\n",
    "for i in qual_col:\n",
    "    le = LabelEncoder()\n",
    "    le=le.fit(train[i]) # 사용할 수 있는 전체 X를 이용해서 LE\n",
    "    X_train_labeled_le[i]=le.transform(X_train_labeled_le[i])\n",
    "    X_val_labeled_le[i]=le.transform(X_val_labeled_le[i])\n",
    "    \n",
    "    for label in np.unique(test[i]):\n",
    "        if label not in le.classes_: # train에 없는 label인 경우\n",
    "            le.classes_ = np.append(le.classes_, label)\n",
    "    test_le[i]=le.transform(test_le[i])\n",
    "print('Done.')\n",
    "\n",
    "\n",
    "# 모델 정의\n",
    "models = {\n",
    "    \"Extra Trees Classifier\": ExtraTreesClassifier(random_state=42),\n",
    "    \"Random Forest Classifier\": RandomForestClassifier(random_state=42),\n",
    "    \"Light Gradient Boosting Machine\": LGBMClassifier(random_state=42),\n",
    "    \"Decision Tree Classifier\": DecisionTreeClassifier(random_state=42),\n",
    "    \"Gradient Boosting Classifier\": GradientBoostingClassifier(random_state=42),\n",
    "    \"Ada Boost Classifier\": AdaBoostClassifier(random_state=42),\n",
    "    \"Logistic Regression\": LogisticRegression(random_state=42),\n",
    "}\n",
    "\n",
    "# 각 모델의 성능을 비교\n",
    "for name, model in models.items():\n",
    "    model.fit(X_train_labeled_le, y_train_labeled)\n",
    "    y_pred = model.predict_proba(X_val_labeled_le)\n",
    "    loss = log_loss(y_val_labeled, y_pred)\n",
    "    print(f\"{name}: Log Loss = {loss:.4f}\")"
   ]
  },
  {
   "cell_type": "code",
   "execution_count": 123,
   "metadata": {},
   "outputs": [
    {
     "name": "stdout",
     "output_type": "stream",
     "text": [
      "Logistic Regression: Log Loss = 0.6390\n"
     ]
    }
   ],
   "source": [
    "# 2. semi-supervised 된 신경망 모델의 validation set 예측성능\n",
    "from sklearn.metrics import log_loss\n",
    "with torch.no_grad():\n",
    "    vae.eval()\n",
    "    classifier.eval()\n",
    "    ## cuda로 보내기\n",
    "    X_val_labeled_tensor.to(device)\n",
    "\n",
    "    with no_grad()\n",
    "    ## 잠재벡터화\n",
    "    reconstructed_labeled_data, mu, log_var = vae(X_val_labeled_tensor)\n",
    "    X_val_latent_labeled_data = vae.reparameterize(mu, log_var)\n",
    "\n",
    "    ## 예측\n",
    "    y_pred = classifier(X_val_latent_labeled_data)\n",
    "    loss = log_loss(y_val_labeled, torch.softmax(y_pred,dim=1).cpu().detach().numpy()) # softmax로 확률로 바꿔줘야!\n",
    "    print(f\" Log Loss = {loss:.4f}\")"
   ]
  },
  {
   "cell_type": "markdown",
   "metadata": {
    "id": "PkrYr_Q2kaa-"
   },
   "source": [
    "### 전처리방법8 저장"
   ]
  },
  {
   "cell_type": "code",
   "execution_count": null,
   "metadata": {
    "id": "RrfZWy4skaa_",
    "outputId": "4ab0d8cf-c561-46a7-99ee-d94fa4379fb5"
   },
   "outputs": [
    {
     "name": "stdout",
     "output_type": "stream",
     "text": [
      "몇 번째 전처리 방법인지 정수-정수를 입력하세요 : 4\n"
     ]
    }
   ],
   "source": [
    "save_idx = input('몇 번째 전처리 방법인지 정수-정수를 입력하세요 : ')\n",
    "train_save_name = 'train_preprocess_' + save_idx\n",
    "test_save_name = 'test_preprocess_' + save_idx\n",
    "train.to_parquet(f'./data/{train_save_name}.parquet')\n",
    "test.to_parquet(f'./data/{test_save_name}.parquet')"
   ]
  },
  {
   "cell_type": "code",
   "execution_count": null,
   "metadata": {
    "id": "xjmnbSg0kabA"
   },
   "outputs": [],
   "source": []
  }
 ],
 "metadata": {
  "colab": {
   "machine_shape": "hm",
   "provenance": []
  },
  "gpuClass": "standard",
  "kernelspec": {
   "display_name": "Python 3 (ipykernel)",
   "language": "python",
   "name": "python3"
  },
  "language_info": {
   "codemirror_mode": {
    "name": "ipython",
    "version": 3
   },
   "file_extension": ".py",
   "mimetype": "text/x-python",
   "name": "python",
   "nbconvert_exporter": "python",
   "pygments_lexer": "ipython3",
   "version": "3.10.9"
  }
 },
 "nbformat": 4,
 "nbformat_minor": 1
}
