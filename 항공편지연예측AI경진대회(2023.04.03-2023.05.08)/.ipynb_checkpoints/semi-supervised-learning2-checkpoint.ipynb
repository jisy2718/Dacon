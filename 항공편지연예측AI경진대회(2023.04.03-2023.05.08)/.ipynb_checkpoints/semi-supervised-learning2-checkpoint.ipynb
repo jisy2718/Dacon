{
 "cells": [
  {
   "cell_type": "markdown",
   "metadata": {},
   "source": [
    "배치를 직접 나눠서 원핫인코딩 시, 메모리초과 안나도록!"
   ]
  },
  {
   "cell_type": "markdown",
   "metadata": {
    "id": "LZ03gjSAWexe"
   },
   "source": [
    "## 1. 결측치처리\n",
    "**해당 노트북**\n",
    "+ 전처리방법2 + x결측치삭제 + vae 활용 + validation set 확인"
   ]
  },
  {
   "cell_type": "code",
   "execution_count": 1,
   "metadata": {
    "id": "pO82uV5UhWZo"
   },
   "outputs": [],
   "source": [
    "import pandas as pd\n",
    "import numpy as np\n",
    "import random\n",
    "import os\n",
    "import gc\n",
    "\n",
    "from sklearn.ensemble import RandomForestClassifier\n",
    "from sklearn.preprocessing import LabelEncoder\n",
    "\n",
    "def seed_everything(seed):\n",
    "    random.seed(seed)\n",
    "    os.environ['PYTHONHASHSEED'] = str(seed)\n",
    "    np.random.seed(seed)\n",
    "seed_everything(42) # Seed 고정"
   ]
  },
  {
   "cell_type": "markdown",
   "metadata": {
    "id": "9midQA40kaZ7"
   },
   "source": [
    "### 1.1. 전처리방법2 데이터 가져오기"
   ]
  },
  {
   "cell_type": "code",
   "execution_count": 2,
   "metadata": {
    "colab": {
     "base_uri": "https://localhost:8080/"
    },
    "executionInfo": {
     "elapsed": 2232,
     "status": "ok",
     "timestamp": 1682398048619,
     "user": {
      "displayName": "지승영",
      "userId": "07006377205744982370"
     },
     "user_tz": -540
    },
    "id": "R1yJwPUBkaZ9",
    "outputId": "565b249d-cfde-414b-cb1f-f48c303bda5c"
   },
   "outputs": [
    {
     "name": "stdout",
     "output_type": "stream",
     "text": [
      "(1000000, 19)\n",
      "Not_Delayed    210001\n",
      "Delayed         45000\n",
      "Name: Delay, dtype: int64\n"
     ]
    }
   ],
   "source": [
    "train = pd.read_parquet('./data/train_preprocess_2.parquet')\n",
    "# test = pd.read_parquet('./test.parquet')\n",
    "test = pd.read_parquet('./data/test_preprocess_2.parquet')\n",
    "sample_submission = pd.read_csv('sample_submission.csv', index_col = 0)\n",
    "\n",
    "print(train.shape)\n",
    "print(train.Delay.value_counts())"
   ]
  },
  {
   "cell_type": "markdown",
   "metadata": {
    "id": "3FjWnl6WuVXp"
   },
   "source": [
    "### 1.2. 남은 결측치 처리 - 삭제"
   ]
  },
  {
   "cell_type": "code",
   "execution_count": 3,
   "metadata": {
    "colab": {
     "base_uri": "https://localhost:8080/"
    },
    "executionInfo": {
     "elapsed": 2073,
     "status": "ok",
     "timestamp": 1682398467992,
     "user": {
      "displayName": "지승영",
      "userId": "07006377205744982370"
     },
     "user_tz": -540
    },
    "id": "-_OkLK6bsdCe",
    "outputId": "e5d0d96b-93ce-48e3-a637-9385d0102530"
   },
   "outputs": [
    {
     "name": "stdout",
     "output_type": "stream",
     "text": [
      "ID                               0\n",
      "Month                            0\n",
      "Day_of_Month                     0\n",
      "Estimated_Departure_Time         0\n",
      "Estimated_Arrival_Time           0\n",
      "Cancelled                        0\n",
      "Diverted                         0\n",
      "Origin_Airport                   0\n",
      "Origin_Airport_ID                0\n",
      "Origin_State                     0\n",
      "Destination_Airport              0\n",
      "Destination_Airport_ID           0\n",
      "Destination_State                0\n",
      "Distance                         0\n",
      "Airline                          0\n",
      "Carrier_Code(IATA)               0\n",
      "Carrier_ID(DOT)                  0\n",
      "Tail_Number                      0\n",
      "Delay                       520399\n",
      "dtype: int64\n",
      "Done.\n"
     ]
    }
   ],
   "source": [
    "# print(train.isnull().sum())\n",
    "# print(train.dropna().shape)\n",
    "# print(train.dropna().isnull().sum())\n",
    "train = train.dropna(subset=['Estimated_Departure_Time','Estimated_Arrival_Time','Carrier_Code(IATA)','Airline','Carrier_ID(DOT)'])\n",
    "print(train.isnull().sum())\n",
    "\n",
    "\n",
    "# 레이블(Delay)을 제외한 결측값이 존재하는 변수들을 unknown으로 대체합니다.\n",
    "NaN_col = ['Origin_State','Destination_State','Airline','Estimated_Departure_Time', 'Estimated_Arrival_Time','Carrier_Code(IATA)','Carrier_ID(DOT)']\n",
    "\n",
    "# for col in NaN_col:\n",
    "    # mode = train[col].mode()[0]\n",
    "    # train[col] = train[col].fillna(mode)\n",
    "    \n",
    "#     if col in test.columns:\n",
    "#         test[col] = test[col].fillna('Unknown')\n",
    "print('Done.')"
   ]
  },
  {
   "cell_type": "code",
   "execution_count": 4,
   "metadata": {},
   "outputs": [],
   "source": [
    "# test.head()"
   ]
  },
  {
   "cell_type": "code",
   "execution_count": 5,
   "metadata": {},
   "outputs": [
    {
     "data": {
      "text/plain": [
       "6493"
      ]
     },
     "execution_count": 5,
     "metadata": {},
     "output_type": "execute_result"
    }
   ],
   "source": [
    "# 새로운 column 생성\n",
    "# train['Estimated_Duration'] = train['Estimated_Arrival_Time'] -  train['Estimated_Departure_Time']\n",
    "# test['Estimated_Duration'] = test['Estimated_Arrival_Time'] -  test['Estimated_Departure_Time']\n",
    "test['Tail_Number'].nunique()"
   ]
  },
  {
   "cell_type": "markdown",
   "metadata": {},
   "source": [
    "### 1.3. label & unlabel split  / label_train & label_validation split"
   ]
  },
  {
   "cell_type": "markdown",
   "metadata": {},
   "source": [
    "#### 1배치 데이터 흐름\n",
    "1. vae에는 X_train_labeled와 X_unlabeled를 각각 onehot으로 만들어서 합쳐서 넣어주기\n",
    "2. classifier에는 X_train_labeled를 onehot으로 만든 것 넣어주기\n",
    "\n",
    "\n",
    "#### 필요한 것\n",
    "1. labeled와 unlabeled 나누기\n",
    "2. labeled에서 train과 validation 분리하기\n",
    "3. X_train_labeld & X_unlabeled 를 이용한 onehot encoding\n",
    "4. 전체 데이터에 onehot 적용하면 데이터 크기 너무 커지므로, 배치로 처리하기"
   ]
  },
  {
   "cell_type": "markdown",
   "metadata": {},
   "source": [
    "#### 1.3.1. 데이터 쪼개기"
   ]
  },
  {
   "cell_type": "code",
   "execution_count": 6,
   "metadata": {},
   "outputs": [
    {
     "name": "stdout",
     "output_type": "stream",
     "text": [
      "(178176, 17) (520399, 17)\n"
     ]
    },
    {
     "name": "stderr",
     "output_type": "stream",
     "text": [
      "C:\\Users\\Administrator\\AppData\\Local\\Temp\\ipykernel_14148\\2020010435.py:6: SettingWithCopyWarning: \n",
      "A value is trying to be set on a copy of a slice from a DataFrame.\n",
      "Try using .loc[row_indexer,col_indexer] = value instead\n",
      "\n",
      "See the caveats in the documentation: https://pandas.pydata.org/pandas-docs/stable/user_guide/indexing.html#returning-a-view-versus-a-copy\n",
      "  y_labeled['Delay'] = y_labeled['Delay'].apply(lambda x : change_cate2num[x])\n"
     ]
    }
   ],
   "source": [
    "# 1. labeled & unlabeld split\n",
    "train_labeled , train_unlabeled = train[train['Delay'].notnull()], train[train['Delay'].isnull()]\n",
    "\n",
    "X_labeled, y_labeled = train_labeled.drop(['ID','Delay'], axis=1), train_labeled[['Delay']]\n",
    "change_cate2num = {'Not_Delayed':0, \"Delayed\":1}\n",
    "y_labeled['Delay'] = y_labeled['Delay'].apply(lambda x : change_cate2num[x])\n",
    "X_unlabeled = train_unlabeled.drop(['ID','Delay'], axis=1)\n",
    "\n",
    "print(X_labeled.shape, X_unlabeled.shape)\n",
    "\n",
    "\n",
    "# 2. train_labeled & val_labeled split\n",
    "from sklearn.model_selection import train_test_split\n",
    "X_train_labeled, X_val_labeled, y_train_labeled, y_val_labeled = train_test_split(X_labeled, y_labeled, test_size=0.2, random_state=42)\n",
    "\n",
    "\n",
    "# 3. X_unlabled 의 크기를 X_train_labeled와 맞춰주기\n",
    "# X_unlabeled = X_unlabeled.iloc[:len(X_train_labeled),:]\n",
    "# print(X_unlabeled.shape, X_train_labeled.shape )"
   ]
  },
  {
   "cell_type": "markdown",
   "metadata": {},
   "source": [
    "#### 1.3.2. encoder 만들기"
   ]
  },
  {
   "cell_type": "code",
   "execution_count": 7,
   "metadata": {},
   "outputs": [
    {
     "data": {
      "text/html": [
       "<style>#sk-container-id-1 {color: black;background-color: white;}#sk-container-id-1 pre{padding: 0;}#sk-container-id-1 div.sk-toggleable {background-color: white;}#sk-container-id-1 label.sk-toggleable__label {cursor: pointer;display: block;width: 100%;margin-bottom: 0;padding: 0.3em;box-sizing: border-box;text-align: center;}#sk-container-id-1 label.sk-toggleable__label-arrow:before {content: \"▸\";float: left;margin-right: 0.25em;color: #696969;}#sk-container-id-1 label.sk-toggleable__label-arrow:hover:before {color: black;}#sk-container-id-1 div.sk-estimator:hover label.sk-toggleable__label-arrow:before {color: black;}#sk-container-id-1 div.sk-toggleable__content {max-height: 0;max-width: 0;overflow: hidden;text-align: left;background-color: #f0f8ff;}#sk-container-id-1 div.sk-toggleable__content pre {margin: 0.2em;color: black;border-radius: 0.25em;background-color: #f0f8ff;}#sk-container-id-1 input.sk-toggleable__control:checked~div.sk-toggleable__content {max-height: 200px;max-width: 100%;overflow: auto;}#sk-container-id-1 input.sk-toggleable__control:checked~label.sk-toggleable__label-arrow:before {content: \"▾\";}#sk-container-id-1 div.sk-estimator input.sk-toggleable__control:checked~label.sk-toggleable__label {background-color: #d4ebff;}#sk-container-id-1 div.sk-label input.sk-toggleable__control:checked~label.sk-toggleable__label {background-color: #d4ebff;}#sk-container-id-1 input.sk-hidden--visually {border: 0;clip: rect(1px 1px 1px 1px);clip: rect(1px, 1px, 1px, 1px);height: 1px;margin: -1px;overflow: hidden;padding: 0;position: absolute;width: 1px;}#sk-container-id-1 div.sk-estimator {font-family: monospace;background-color: #f0f8ff;border: 1px dotted black;border-radius: 0.25em;box-sizing: border-box;margin-bottom: 0.5em;}#sk-container-id-1 div.sk-estimator:hover {background-color: #d4ebff;}#sk-container-id-1 div.sk-parallel-item::after {content: \"\";width: 100%;border-bottom: 1px solid gray;flex-grow: 1;}#sk-container-id-1 div.sk-label:hover label.sk-toggleable__label {background-color: #d4ebff;}#sk-container-id-1 div.sk-serial::before {content: \"\";position: absolute;border-left: 1px solid gray;box-sizing: border-box;top: 0;bottom: 0;left: 50%;z-index: 0;}#sk-container-id-1 div.sk-serial {display: flex;flex-direction: column;align-items: center;background-color: white;padding-right: 0.2em;padding-left: 0.2em;position: relative;}#sk-container-id-1 div.sk-item {position: relative;z-index: 1;}#sk-container-id-1 div.sk-parallel {display: flex;align-items: stretch;justify-content: center;background-color: white;position: relative;}#sk-container-id-1 div.sk-item::before, #sk-container-id-1 div.sk-parallel-item::before {content: \"\";position: absolute;border-left: 1px solid gray;box-sizing: border-box;top: 0;bottom: 0;left: 50%;z-index: -1;}#sk-container-id-1 div.sk-parallel-item {display: flex;flex-direction: column;z-index: 1;position: relative;background-color: white;}#sk-container-id-1 div.sk-parallel-item:first-child::after {align-self: flex-end;width: 50%;}#sk-container-id-1 div.sk-parallel-item:last-child::after {align-self: flex-start;width: 50%;}#sk-container-id-1 div.sk-parallel-item:only-child::after {width: 0;}#sk-container-id-1 div.sk-dashed-wrapped {border: 1px dashed gray;margin: 0 0.4em 0.5em 0.4em;box-sizing: border-box;padding-bottom: 0.4em;background-color: white;}#sk-container-id-1 div.sk-label label {font-family: monospace;font-weight: bold;display: inline-block;line-height: 1.2em;}#sk-container-id-1 div.sk-label-container {text-align: center;}#sk-container-id-1 div.sk-container {/* jupyter's `normalize.less` sets `[hidden] { display: none; }` but bootstrap.min.css set `[hidden] { display: none !important; }` so we also need the `!important` here to be able to override the default hidden behavior on the sphinx rendered scikit-learn.org. See: https://github.com/scikit-learn/scikit-learn/issues/21755 */display: inline-block !important;position: relative;}#sk-container-id-1 div.sk-text-repr-fallback {display: none;}</style><div id=\"sk-container-id-1\" class=\"sk-top-container\"><div class=\"sk-text-repr-fallback\"><pre>OneHotEncoder(handle_unknown=&#x27;ignore&#x27;)</pre><b>In a Jupyter environment, please rerun this cell to show the HTML representation or trust the notebook. <br />On GitHub, the HTML representation is unable to render, please try loading this page with nbviewer.org.</b></div><div class=\"sk-container\" hidden><div class=\"sk-item\"><div class=\"sk-estimator sk-toggleable\"><input class=\"sk-toggleable__control sk-hidden--visually\" id=\"sk-estimator-id-1\" type=\"checkbox\" checked><label for=\"sk-estimator-id-1\" class=\"sk-toggleable__label sk-toggleable__label-arrow\">OneHotEncoder</label><div class=\"sk-toggleable__content\"><pre>OneHotEncoder(handle_unknown=&#x27;ignore&#x27;)</pre></div></div></div></div></div>"
      ],
      "text/plain": [
       "OneHotEncoder(handle_unknown='ignore')"
      ]
     },
     "execution_count": 7,
     "metadata": {},
     "output_type": "execute_result"
    }
   ],
   "source": [
    "\n",
    "# 3. 데이터 정리 & onehotencoding\n",
    "from sklearn.preprocessing import OneHotEncoder\n",
    "cate_cols = ['Month', 'Day_of_Month', 'Cancelled', 'Diverted', 'Origin_Airport',\n",
    "       'Origin_Airport_ID', 'Origin_State', 'Destination_Airport',\n",
    "       'Destination_Airport_ID', 'Destination_State', 'Airline',\n",
    "       'Carrier_Code(IATA)', 'Carrier_ID(DOT)', 'Tail_Number']\n",
    "\n",
    "\n",
    "# Airport 2개 삭제함\n",
    "cate_cols = ['Month', 'Day_of_Month', 'Cancelled', 'Diverted', \n",
    "       'Origin_Airport_ID', 'Origin_State', \n",
    "       'Destination_Airport_ID', 'Destination_State', 'Airline',\n",
    "       'Carrier_Code(IATA)', 'Carrier_ID(DOT)', 'Tail_Number']\n",
    "\n",
    "# cate_cols = ['Month', 'Day_of_Month',\n",
    "#        'Origin_Airport_ID',\n",
    "#        'Destination_Airport_ID', \n",
    "#              'Airline']\n",
    "\n",
    "numeric_cols = ['Estimated_Departure_Time','Estimated_Arrival_Time','Distance']\n",
    "numeric_cols = ['Distance']\n",
    "\n",
    "## 3.1. VAE 훈련에 쓸 데이터 : X_train_labeled, X_unlabeled\n",
    "### 3.1.1. 데이터 정리\n",
    "X_vae_train = pd.concat([X_train_labeled, X_unlabeled])\n",
    "X_vae_train_cate = X_vae_train[cate_cols]\n",
    "\n",
    "encoder = OneHotEncoder(handle_unknown='ignore')\n",
    "encoder.fit(X_vae_train_cate)\n"
   ]
  },
  {
   "cell_type": "markdown",
   "metadata": {},
   "source": [
    "### 1.4. 데이터 만들기"
   ]
  },
  {
   "cell_type": "code",
   "execution_count": 8,
   "metadata": {},
   "outputs": [],
   "source": [
    "import torch\n",
    "# 필요한 것 : X_train_labeled, y_train_labeled, X_vae_train, cate_cols, numeric_cols\n",
    "def make_label_batch(batch_num, num_of_batch):\n",
    "    # 1. 현재 배치 가져오기 - 추후 X_train_labeled를 섞는 과정도 필요\n",
    "    n = len(X_train_labeled)\n",
    "    start_loc = n//num_of_batch*(batch_num-1)\n",
    "    end_loc = n//num_of_batch*batch_num\n",
    "    \n",
    "    X_cur_batch = X_train_labeled.iloc[start_loc:end_loc]\n",
    "    y_cur_batch = y_train_labeled.iloc[start_loc:end_loc]\n",
    "    \n",
    "    # 2. category onehot으로 변환하기\n",
    "    X_sample_category = X_cur_batch[cate_cols]\n",
    "    X_sample_category = encoder.transform(X_sample_category)\n",
    "    X_sample_category = X_sample_category.toarray()  # 추가된 코드: X_sample_category를 2차원 배열로 변환 : 희소행렬로 반환되는 onehot encoding 결과를, 일반적인 Numpy 배열로 변환해줌\n",
    "    \n",
    "    # 3. numeric은 0~1 사이로 바꿔주기\n",
    "    X_sample_numeric = X_cur_batch[numeric_cols]\n",
    "    max_values = X_vae_train[numeric_cols].max()\n",
    "    X_sample_numeric = np.array(X_sample_numeric /max_values.values) # 0~1사이로 변환\n",
    "#     print(X_sample_category.shape, X_sample_numeric.shape)\n",
    "    \n",
    "    # 4. category & numeric 합치기\n",
    "    X_sample = np.hstack([X_sample_category,X_sample_numeric])\n",
    "\n",
    "    # 5. 텐서로 변환하기 : (batch_size, column dim)\n",
    "    X_sample = torch.tensor(X_sample, dtype=torch.float32)  \n",
    "    y_sample = torch.tensor(y_cur_batch.values, dtype=torch.float32)\n",
    "    \n",
    "    return X_sample, y_sample"
   ]
  },
  {
   "cell_type": "code",
   "execution_count": 9,
   "metadata": {},
   "outputs": [],
   "source": [
    "# 필요한 것 : X_unlabeled, X_vae_train, cate_cols, numeric_cols\n",
    "def make_unlabel_batch(batch_num,num_of_batch):\n",
    "    # 1. 현재 배치 가져오기 - 추후 X_unlabeled 섞는 과정도 필요\n",
    "    n = len(X_train_labeled) # 임시방편\n",
    "    start_loc = n//num_of_batch*(batch_num-1)\n",
    "    end_loc = n//num_of_batch*batch_num\n",
    "    \n",
    "    X_cur_batch = X_unlabeled.iloc[start_loc:end_loc]\n",
    "    \n",
    "    # 2. category onehot으로 변환하기\n",
    "    X_sample_category = X_cur_batch[cate_cols]\n",
    "    X_sample_category = encoder.transform(X_sample_category)\n",
    "    X_sample_category = X_sample_category.toarray()  # 추가된 코드: X_sample_category를 2차원 배열로 변환 : 희소행렬로 반환되는 onehot encoding 결과를, 일반적인 Numpy 배열로 변환해줌\n",
    "    \n",
    "    # 3. numeric은 0~1 사이로 바꿔주기\n",
    "    X_sample_numeric = X_cur_batch[numeric_cols]\n",
    "    max_values = X_vae_train[numeric_cols].max()\n",
    "    X_sample_numeric = np.array(X_sample_numeric /max_values.values) # 0~1사이로 변환\n",
    "#     print(X_sample_category.shape, X_sample_numeric.shape)\n",
    "    \n",
    "    # 4. category & numeric 합치기\n",
    "    X_sample = np.hstack([X_sample_category,X_sample_numeric])\n",
    "\n",
    "    # 5. 텐서로 변환하기 : (batch_size, column dim)\n",
    "    X_sample = torch.tensor(X_sample, dtype=torch.float32)  \n",
    "    \n",
    "    return X_sample"
   ]
  },
  {
   "cell_type": "code",
   "execution_count": 10,
   "metadata": {},
   "outputs": [],
   "source": [
    "# validation X를 tensor로 만들기\n",
    "def make_validation_tensor():\n",
    "    X_cur_batch = X_val_labeled.copy()\n",
    "    \n",
    "    # 2. category onehot으로 변환하기\n",
    "    X_sample_category = X_cur_batch[cate_cols]\n",
    "    X_sample_category = encoder.transform(X_sample_category)\n",
    "    X_sample_category = X_sample_category.toarray()  # 추가된 코드: X_sample_category를 2차원 배열로 변환 : 희소행렬로 반환되는 onehot encoding 결과를, 일반적인 Numpy 배열로 변환해줌\n",
    "    \n",
    "    # 3. numeric은 0~1 사이로 바꿔주기\n",
    "    X_sample_numeric = X_cur_batch[numeric_cols]\n",
    "    max_values = X_vae_train[numeric_cols].max()\n",
    "    X_sample_numeric = np.array(X_sample_numeric /max_values.values) # 0~1사이로 변환\n",
    "#     print(X_sample_category.shape, X_sample_numeric.shape)\n",
    "    \n",
    "    # 4. category & numeric 합치기\n",
    "    X_sample = np.hstack([X_sample_category,X_sample_numeric])\n",
    "\n",
    "    # 5. 텐서로 변환하기 : (batch_size, column dim)\n",
    "    X_sample = torch.tensor(X_sample, dtype=torch.float32)  \n",
    "    \n",
    "    return X_sample    "
   ]
  },
  {
   "cell_type": "code",
   "execution_count": 11,
   "metadata": {},
   "outputs": [
    {
     "data": {
      "text/plain": [
       "torch.Size([35636, 7375])"
      ]
     },
     "execution_count": 11,
     "metadata": {},
     "output_type": "execute_result"
    }
   ],
   "source": [
    "X_val_labeled_tensor = make_validation_tensor()\n",
    "X_val_labeled_tensor.shape"
   ]
  },
  {
   "cell_type": "code",
   "execution_count": 12,
   "metadata": {},
   "outputs": [],
   "source": [
    "def make_test_batch(batch_num,num_of_batch):\n",
    "    n = len(X_test) # 임시방편\n",
    "    start_loc = n//num_of_batch*(batch_num-1)\n",
    "    end_loc = n//num_of_batch*batch_num \n",
    "    \n",
    "    X_cur_batch = X_test.iloc[start_loc:end_loc] if batch_num!= num_of_batch else X_test.iloc[start_loc:]\n",
    "    \n",
    "    # 2. category onehot으로 변환하기\n",
    "    X_sample_category = X_cur_batch[cate_cols]\n",
    "    X_sample_category = encoder.transform(X_sample_category)\n",
    "    X_sample_category = X_sample_category.toarray()  # 추가된 코드: X_sample_category를 2차원 배열로 변환 : 희소행렬로 반환되는 onehot encoding 결과를, 일반적인 Numpy 배열로 변환해줌\n",
    "    \n",
    "    # 3. numeric은 0~1 사이로 바꿔주기 & Nan 값 0으로 처리\n",
    "    X_sample_numeric = X_cur_batch[numeric_cols].fillna(0)\n",
    "    max_values = X_vae_train[numeric_cols].max()\n",
    "    X_sample_numeric = np.array(X_sample_numeric /max_values.values) # 0~1사이로 변환\n",
    "#     print(X_sample_category.shape, X_sample_numeric.shape)\n",
    "    \n",
    "    # 4. category & numeric 합치기\n",
    "    X_sample = np.hstack([X_sample_category,X_sample_numeric])\n",
    "\n",
    "    # 5. 텐서로 변환하기 : (batch_size, column dim)\n",
    "    X_sample = torch.tensor(X_sample, dtype=torch.float32)  \n",
    "    \n",
    "    return X_sample"
   ]
  },
  {
   "cell_type": "markdown",
   "metadata": {},
   "source": [
    "### 모델생성"
   ]
  },
  {
   "cell_type": "code",
   "execution_count": 13,
   "metadata": {},
   "outputs": [],
   "source": [
    "import torch\n",
    "import torch.nn as nn\n",
    "import torch.optim as optim\n",
    "from torch.utils.data import DataLoader\n",
    "\n",
    "# Define the VAE model\n",
    "class VAE(nn.Module):\n",
    "    def __init__(self, input_dim, hidden_dim, latent_dim):\n",
    "        super(VAE, self).__init__()\n",
    "\n",
    "        # Encoder\n",
    "        self.encoder = nn.Sequential(\n",
    "            nn.Linear(input_dim, hidden_dim),\n",
    "            nn.ReLU(),\n",
    "            nn.Linear(hidden_dim, latent_dim * 2)\n",
    "        )\n",
    "\n",
    "        # Decoder\n",
    "        self.decoder = nn.Sequential(\n",
    "            nn.Linear(latent_dim, hidden_dim),\n",
    "            nn.ReLU(),\n",
    "            nn.Linear(hidden_dim, input_dim),\n",
    "            nn.Sigmoid()\n",
    "        )\n",
    "\n",
    "    def reparameterize(self, mu, log_var):\n",
    "        std = torch.exp(0.5 * log_var)\n",
    "        eps = torch.randn_like(std)\n",
    "        return mu + eps * std\n",
    "\n",
    "    def forward(self, x):\n",
    "        h = self.encoder(x)\n",
    "        mu, log_var = torch.chunk(h, 2, dim=1)\n",
    "        z = self.reparameterize(mu, log_var)\n",
    "        x_hat = self.decoder(z)\n",
    "        return x_hat, mu, log_var\n"
   ]
  },
  {
   "cell_type": "code",
   "execution_count": 14,
   "metadata": {},
   "outputs": [],
   "source": [
    "# 분류기 생성\n",
    "class Classifier(nn.Module):\n",
    "    def __init__(self, input_dim, hidden_dim, output_dim):\n",
    "        super(Classifier, self).__init__()\n",
    "        self.network = nn.Sequential(\n",
    "            nn.Linear(input_dim, hidden_dim),\n",
    "            nn.ReLU(),\n",
    "            nn.Linear(hidden_dim, hidden_dim),\n",
    "            nn.ReLU(),\n",
    "            nn.Linear(hidden_dim, output_dim),\n",
    "#             nn.Softmax(dim=1)\n",
    "        )\n",
    "\n",
    "    def forward(self, x):\n",
    "        return self.network(x)\n",
    "\n",
    "    \n",
    "    # 분류기 생성\n",
    "class Classifier_drop(nn.Module):\n",
    "    def __init__(self, input_dim, hidden_dim, output_dim):\n",
    "        super(Classifier_drop, self).__init__()\n",
    "        self.network = nn.Sequential(\n",
    "            nn.Linear(input_dim, hidden_dim),\n",
    "            nn.ReLU(),\n",
    "            nn.Dropout(),\n",
    "            nn.Linear(hidden_dim, hidden_dim),\n",
    "            nn.ReLU(),\n",
    "            nn.Linear(hidden_dim, output_dim),\n",
    "#             nn.Softmax(dim=1)\n",
    "        )\n",
    "\n",
    "    def forward(self, x):\n",
    "        return self.network(x)\n"
   ]
  },
  {
   "cell_type": "code",
   "execution_count": 64,
   "metadata": {},
   "outputs": [],
   "source": [
    "# VAE LOSS\n",
    "# import torch\n",
    "# import torch.nn.functional as F\n",
    "\n",
    "# def vae_loss(reconstructed_data, original_data, mu, log_var):\n",
    "#     # Reconstruction Loss\n",
    "#     recon_loss = F.binary_cross_entropy(reconstructed_data, original_data, reduction='mean')\n",
    "\n",
    "#     # KL Divergence Loss\n",
    "#     kl_divergence = -0.5 * torch.sum(1 + log_var - mu.pow(2) - log_var.exp())\n",
    "\n",
    "#     # Total Loss\n",
    "#     total_loss = recon_loss + kl_divergence\n",
    "#     return total_loss\n"
   ]
  },
  {
   "cell_type": "code",
   "execution_count": 20,
   "metadata": {},
   "outputs": [
    {
     "name": "stdout",
     "output_type": "stream",
     "text": [
      "input shape :  7375\n"
     ]
    }
   ],
   "source": [
    "# Hyperparameters\n",
    "input_dim = X_val_labeled_tensor.shape[1]\n",
    "print('input shape : ', X_val_labeled_tensor.shape[1])\n",
    "hidden_dim = 64\n",
    "latent_dim = 4\n",
    "learning_rate = 0.001\n",
    "\n",
    "# Initialize the model, optimizer and loss function\n",
    "device = 'cuda:0'\n",
    "vae = VAE(input_dim, hidden_dim, latent_dim)\n",
    "vae.to(device)\n",
    "\n",
    "reconstruction_loss = nn.BCELoss(reduction='sum')\n",
    "\n",
    "\n",
    "# classifier 초기화\n",
    "classifier = Classifier_drop(input_dim = latent_dim, hidden_dim = latent_dim//2 , output_dim= 2)\n",
    "classifier.to(device)\n",
    "classification_loss = nn.CrossEntropyLoss()\n",
    "\n",
    "\n",
    "# optimizer\n",
    "combined_parameters = list(vae.parameters()) + list(classifier.parameters())\n",
    "optimizer = optim.Adam(combined_parameters, lr=learning_rate)\n",
    "\n",
    "\n",
    "# vae.load_state_dict(torch.load('./VAE_new.pth'))\n",
    "# classifier.load_state_dict(torch.load('./classifier_new.pth'))\n"
   ]
  },
  {
   "cell_type": "markdown",
   "metadata": {},
   "source": [
    "### 모델훈련\n",
    "현재 갑자기 training이 안되는 문제 발생"
   ]
  },
  {
   "cell_type": "code",
   "execution_count": 21,
   "metadata": {},
   "outputs": [
    {
     "name": "stderr",
     "output_type": "stream",
     "text": [
      "\r",
      "  0%|                                                                                           | 0/30 [00:00<?, ?it/s]"
     ]
    },
    {
     "name": "stdout",
     "output_type": "stream",
     "text": [
      "epoch:1, total: 19720871.8000, labeled_loss: 9861194.1400, unlabeled_loss: 9859677.6300, class_loss:  0.4245\n"
     ]
    },
    {
     "name": "stderr",
     "output_type": "stream",
     "text": [
      "\r",
      "  3%|██▊                                                                                | 1/30 [01:00<29:04, 60.15s/it]"
     ]
    },
    {
     "name": "stdout",
     "output_type": "stream",
     "text": [
      " Validation Log Loss = 0.5265\n",
      "epoch:2, total: 1942144.8088, labeled_loss: 971284.0006, unlabeled_loss: 970860.3800, class_loss:  0.3739\n"
     ]
    },
    {
     "name": "stderr",
     "output_type": "stream",
     "text": [
      "\r",
      "  7%|█████▌                                                                             | 2/30 [02:00<28:03, 60.11s/it]"
     ]
    },
    {
     "name": "stdout",
     "output_type": "stream",
     "text": [
      " Validation Log Loss = 0.4980\n",
      "epoch:3, total: 623441.4125, labeled_loss: 311534.8294, unlabeled_loss: 311906.2969, class_loss:  0.2929\n"
     ]
    },
    {
     "name": "stderr",
     "output_type": "stream",
     "text": [
      "\r",
      " 10%|████████▎                                                                          | 3/30 [03:00<27:01, 60.06s/it]"
     ]
    },
    {
     "name": "stdout",
     "output_type": "stream",
     "text": [
      " Validation Log Loss = 0.4727\n",
      "epoch:4, total: 502822.8200, labeled_loss: 251547.8484, unlabeled_loss: 251274.7656, class_loss:  0.2038\n"
     ]
    },
    {
     "name": "stderr",
     "output_type": "stream",
     "text": [
      "\r",
      " 13%|███████████                                                                        | 4/30 [04:00<26:01, 60.04s/it]"
     ]
    },
    {
     "name": "stdout",
     "output_type": "stream",
     "text": [
      " Validation Log Loss = 0.4807\n",
      "epoch:5, total: 457620.3956, labeled_loss: 228878.1237, unlabeled_loss: 228742.1344, class_loss:  0.1379\n"
     ]
    },
    {
     "name": "stderr",
     "output_type": "stream",
     "text": [
      "\r",
      " 17%|█████████████▊                                                                     | 5/30 [05:00<25:00, 60.04s/it]"
     ]
    },
    {
     "name": "stdout",
     "output_type": "stream",
     "text": [
      " Validation Log Loss = 0.5273\n",
      "epoch:6, total: 431453.6650, labeled_loss: 215820.5934, unlabeled_loss: 215632.9728, class_loss:  0.1024\n"
     ]
    },
    {
     "name": "stderr",
     "output_type": "stream",
     "text": [
      "\r",
      " 20%|████████████████▌                                                                  | 6/30 [06:00<24:01, 60.05s/it]"
     ]
    },
    {
     "name": "stdout",
     "output_type": "stream",
     "text": [
      " Validation Log Loss = 0.5833\n",
      "epoch:7, total: 413369.1544, labeled_loss: 206765.9219, unlabeled_loss: 206603.1434, class_loss:  0.0829\n"
     ]
    },
    {
     "name": "stderr",
     "output_type": "stream",
     "text": [
      "\r",
      " 23%|███████████████████▎                                                               | 7/30 [07:00<23:01, 60.05s/it]"
     ]
    },
    {
     "name": "stdout",
     "output_type": "stream",
     "text": [
      " Validation Log Loss = 0.6329\n",
      "epoch:8, total: 400480.2319, labeled_loss: 200331.3362, unlabeled_loss: 200148.8334, class_loss:  0.0711\n"
     ]
    },
    {
     "name": "stderr",
     "output_type": "stream",
     "text": [
      "\r",
      " 27%|██████████████████████▏                                                            | 8/30 [08:00<22:00, 60.04s/it]"
     ]
    },
    {
     "name": "stdout",
     "output_type": "stream",
     "text": [
      " Validation Log Loss = 0.6772\n",
      "epoch:9, total: 390512.3744, labeled_loss: 195336.0103, unlabeled_loss: 195176.3050, class_loss:  0.0636\n"
     ]
    },
    {
     "name": "stderr",
     "output_type": "stream",
     "text": [
      "\r",
      " 30%|████████████████████████▉                                                          | 9/30 [09:00<21:00, 60.03s/it]"
     ]
    },
    {
     "name": "stdout",
     "output_type": "stream",
     "text": [
      " Validation Log Loss = 0.7170\n",
      "epoch:10, total: 382862.2519, labeled_loss: 191473.2334, unlabeled_loss: 191388.9534, class_loss:  0.0580\n"
     ]
    },
    {
     "name": "stderr",
     "output_type": "stream",
     "text": [
      "\r",
      " 33%|███████████████████████████▎                                                      | 10/30 [10:00<20:00, 60.05s/it]"
     ]
    },
    {
     "name": "stdout",
     "output_type": "stream",
     "text": [
      " Validation Log Loss = 0.7506\n",
      "epoch:11, total: 376663.0912, labeled_loss: 188387.5572, unlabeled_loss: 188275.4697, class_loss:  0.0532\n"
     ]
    },
    {
     "name": "stderr",
     "output_type": "stream",
     "text": [
      "\r",
      " 37%|██████████████████████████████                                                    | 11/30 [11:00<19:00, 60.04s/it]"
     ]
    },
    {
     "name": "stdout",
     "output_type": "stream",
     "text": [
      " Validation Log Loss = 0.7869\n",
      "epoch:12, total: 371556.0781, labeled_loss: 185847.2875, unlabeled_loss: 185708.7297, class_loss:  0.0494\n"
     ]
    },
    {
     "name": "stderr",
     "output_type": "stream",
     "text": [
      "\r",
      " 40%|████████████████████████████████▊                                                 | 12/30 [12:00<18:00, 60.04s/it]"
     ]
    },
    {
     "name": "stdout",
     "output_type": "stream",
     "text": [
      " Validation Log Loss = 0.8164\n",
      "epoch:13, total: 367099.2162, labeled_loss: 183584.1009, unlabeled_loss: 183515.0716, class_loss:  0.0461\n"
     ]
    },
    {
     "name": "stderr",
     "output_type": "stream",
     "text": [
      "\r",
      " 43%|███████████████████████████████████▌                                              | 13/30 [13:00<17:00, 60.05s/it]"
     ]
    },
    {
     "name": "stdout",
     "output_type": "stream",
     "text": [
      " Validation Log Loss = 0.8453\n",
      "epoch:14, total: 363339.7625, labeled_loss: 181713.4247, unlabeled_loss: 181626.3056, class_loss:  0.0434\n"
     ]
    },
    {
     "name": "stderr",
     "output_type": "stream",
     "text": [
      "\r",
      " 47%|██████████████████████████████████████▎                                           | 14/30 [14:00<16:01, 60.10s/it]"
     ]
    },
    {
     "name": "stdout",
     "output_type": "stream",
     "text": [
      " Validation Log Loss = 0.8677\n",
      "epoch:15, total: 360069.1644, labeled_loss: 180069.8081, unlabeled_loss: 179999.3266, class_loss:  0.0409\n"
     ]
    },
    {
     "name": "stderr",
     "output_type": "stream",
     "text": [
      "\r",
      " 50%|█████████████████████████████████████████                                         | 15/30 [15:00<15:01, 60.11s/it]"
     ]
    },
    {
     "name": "stdout",
     "output_type": "stream",
     "text": [
      " Validation Log Loss = 0.8930\n",
      "epoch:16, total: 357096.9556, labeled_loss: 178601.7997, unlabeled_loss: 178495.1244, class_loss:  0.0393\n"
     ]
    },
    {
     "name": "stderr",
     "output_type": "stream",
     "text": [
      "\r",
      " 53%|███████████████████████████████████████████▋                                      | 16/30 [16:01<14:01, 60.11s/it]"
     ]
    },
    {
     "name": "stdout",
     "output_type": "stream",
     "text": [
      " Validation Log Loss = 0.9152\n",
      "epoch:17, total: 354492.9869, labeled_loss: 177319.5003, unlabeled_loss: 177173.4544, class_loss:  0.0375\n"
     ]
    },
    {
     "name": "stderr",
     "output_type": "stream",
     "text": [
      "\r",
      " 57%|██████████████████████████████████████████████▍                                   | 17/30 [17:01<13:00, 60.07s/it]"
     ]
    },
    {
     "name": "stdout",
     "output_type": "stream",
     "text": [
      " Validation Log Loss = 0.9327\n",
      "epoch:18, total: 352208.9988, labeled_loss: 176151.2884, unlabeled_loss: 176057.6784, class_loss:  0.0358\n"
     ]
    },
    {
     "name": "stderr",
     "output_type": "stream",
     "text": [
      "\r",
      " 60%|█████████████████████████████████████████████████▏                                | 18/30 [18:01<12:00, 60.06s/it]"
     ]
    },
    {
     "name": "stdout",
     "output_type": "stream",
     "text": [
      " Validation Log Loss = 0.9524\n",
      "epoch:19, total: 350182.3275, labeled_loss: 175139.1909, unlabeled_loss: 175043.1066, class_loss:  0.0346\n"
     ]
    },
    {
     "name": "stderr",
     "output_type": "stream",
     "text": [
      "\r",
      " 63%|███████████████████████████████████████████████████▉                              | 19/30 [19:01<11:00, 60.07s/it]"
     ]
    },
    {
     "name": "stdout",
     "output_type": "stream",
     "text": [
      " Validation Log Loss = 0.9672\n",
      "epoch:20, total: 348297.0094, labeled_loss: 174190.1875, unlabeled_loss: 174106.7913, class_loss:  0.0328\n"
     ]
    },
    {
     "name": "stderr",
     "output_type": "stream",
     "text": [
      "\r",
      " 67%|██████████████████████████████████████████████████████▋                           | 20/30 [20:01<10:00, 60.06s/it]"
     ]
    },
    {
     "name": "stdout",
     "output_type": "stream",
     "text": [
      " Validation Log Loss = 0.9849\n",
      "epoch:21, total: 346505.9213, labeled_loss: 173341.6137, unlabeled_loss: 173164.2747, class_loss:  0.0316\n"
     ]
    },
    {
     "name": "stderr",
     "output_type": "stream",
     "text": [
      "\r",
      " 70%|█████████████████████████████████████████████████████████▍                        | 21/30 [21:01<09:00, 60.06s/it]"
     ]
    },
    {
     "name": "stdout",
     "output_type": "stream",
     "text": [
      " Validation Log Loss = 0.9987\n",
      "epoch:22, total: 344910.5300, labeled_loss: 172486.0212, unlabeled_loss: 172424.4781, class_loss:  0.0306\n"
     ]
    },
    {
     "name": "stderr",
     "output_type": "stream",
     "text": [
      "\r",
      " 73%|████████████████████████████████████████████████████████████▏                     | 22/30 [22:01<08:00, 60.11s/it]"
     ]
    },
    {
     "name": "stdout",
     "output_type": "stream",
     "text": [
      " Validation Log Loss = 1.0157\n",
      "epoch:23, total: 343444.7444, labeled_loss: 171759.9494, unlabeled_loss: 171684.7650, class_loss:  0.0296\n"
     ]
    },
    {
     "name": "stderr",
     "output_type": "stream",
     "text": [
      "\r",
      " 77%|██████████████████████████████████████████████████████████████▊                   | 23/30 [23:01<07:00, 60.09s/it]"
     ]
    },
    {
     "name": "stdout",
     "output_type": "stream",
     "text": [
      " Validation Log Loss = 1.0284\n",
      "epoch:24, total: 342151.0894, labeled_loss: 171131.0681, unlabeled_loss: 171019.9900, class_loss:  0.0288\n"
     ]
    },
    {
     "name": "stderr",
     "output_type": "stream",
     "text": [
      "\r",
      " 80%|█████████████████████████████████████████████████████████████████▌                | 24/30 [24:01<06:00, 60.10s/it]"
     ]
    },
    {
     "name": "stdout",
     "output_type": "stream",
     "text": [
      " Validation Log Loss = 1.0383\n",
      "epoch:25, total: 340887.2800, labeled_loss: 170492.9534, unlabeled_loss: 170394.2969, class_loss:  0.0279\n"
     ]
    },
    {
     "name": "stderr",
     "output_type": "stream",
     "text": [
      "\r",
      " 83%|████████████████████████████████████████████████████████████████████▎             | 25/30 [25:01<05:00, 60.10s/it]"
     ]
    },
    {
     "name": "stdout",
     "output_type": "stream",
     "text": [
      " Validation Log Loss = 1.0510\n",
      "epoch:26, total: 339779.3394, labeled_loss: 169924.9069, unlabeled_loss: 169854.4022, class_loss:  0.0271\n"
     ]
    },
    {
     "name": "stderr",
     "output_type": "stream",
     "text": [
      "\r",
      " 87%|███████████████████████████████████████████████████████████████████████           | 26/30 [26:01<04:00, 60.09s/it]"
     ]
    },
    {
     "name": "stdout",
     "output_type": "stream",
     "text": [
      " Validation Log Loss = 1.0624\n",
      "epoch:27, total: 338769.0375, labeled_loss: 169448.9047, unlabeled_loss: 169320.1031, class_loss:  0.0263\n"
     ]
    },
    {
     "name": "stderr",
     "output_type": "stream",
     "text": [
      "\r",
      " 90%|█████████████████████████████████████████████████████████████████████████▊        | 27/30 [27:02<03:00, 60.11s/it]"
     ]
    },
    {
     "name": "stdout",
     "output_type": "stream",
     "text": [
      " Validation Log Loss = 1.0708\n",
      "epoch:28, total: 337834.0631, labeled_loss: 168945.2613, unlabeled_loss: 168888.7700, class_loss:  0.0257\n"
     ]
    },
    {
     "name": "stderr",
     "output_type": "stream",
     "text": [
      "\r",
      " 93%|████████████████████████████████████████████████████████████████████████████▌     | 28/30 [28:02<02:00, 60.10s/it]"
     ]
    },
    {
     "name": "stdout",
     "output_type": "stream",
     "text": [
      " Validation Log Loss = 1.0838\n",
      "epoch:29, total: 336858.1281, labeled_loss: 168475.9609, unlabeled_loss: 168382.1384, class_loss:  0.0252\n"
     ]
    },
    {
     "name": "stderr",
     "output_type": "stream",
     "text": [
      "\r",
      " 97%|███████████████████████████████████████████████████████████████████████████████▎  | 29/30 [29:02<01:00, 60.12s/it]"
     ]
    },
    {
     "name": "stdout",
     "output_type": "stream",
     "text": [
      " Validation Log Loss = 1.0895\n",
      "epoch:30, total: 336055.3344, labeled_loss: 168095.5022, unlabeled_loss: 167959.8012, class_loss:  0.0244\n"
     ]
    },
    {
     "name": "stderr",
     "output_type": "stream",
     "text": [
      "100%|██████████████████████████████████████████████████████████████████████████████████| 30/30 [30:02<00:00, 60.08s/it]"
     ]
    },
    {
     "name": "stdout",
     "output_type": "stream",
     "text": [
      " Validation Log Loss = 1.0994\n"
     ]
    },
    {
     "name": "stderr",
     "output_type": "stream",
     "text": [
      "\n"
     ]
    }
   ],
   "source": [
    "from tqdm import tqdm\n",
    "from torch.optim.lr_scheduler import StepLR\n",
    "device = 'cuda:0'\n",
    "vae.to(device)\n",
    "classifier.to(device)\n",
    "\n",
    "scheduler = StepLR(optimizer, step_size=1, gamma=0.95)\n",
    "\n",
    "\n",
    "for epoch in tqdm(range(30)):\n",
    "    vae.train()\n",
    "    classifier.train()\n",
    "    # epoch 마다 data shuffle\n",
    "    tmp = pd.concat([X_train_labeled, y_train_labeled], axis=1)\n",
    "    tmp = tmp.sample(frac=1).reset_index(drop=True)\n",
    "    X_train_labeled = tmp.drop(columns=['Delay'])\n",
    "    y_train_labeled = tmp[['Delay']]\n",
    "    \n",
    "    # epoch 마다 loss 세기\n",
    "    loss_dict = {'total_loss':0, 'labeled_loss':0, 'unlabeled_loss':0, 'class_loss':0}\n",
    "    num_of_batch = 50\n",
    "    for batch_num in range(1,num_of_batch+1):\n",
    "        labeled_data, labeled_label = make_label_batch(batch_num, num_of_batch)\n",
    "        unlabeled_data = make_unlabel_batch(batch_num, num_of_batch)\n",
    "\n",
    "        optimizer.zero_grad()\n",
    "\n",
    "        # Labeled data에 대한 VAE 훈련\n",
    "        reconstructed_labeled_data, mu, log_var = vae(labeled_data.to(device))\n",
    "        labeled_loss = reconstruction_loss(reconstructed_labeled_data, labeled_data.to(device)) - 0.5 * torch.sum(1 + log_var - mu.pow(2) - log_var.exp())\n",
    "\n",
    "        # Unlabeled data에 대한 VAE 훈련\n",
    "        reconstructed_unlabeled_data, mu_unlabeled, log_var_unlabeled = vae(unlabeled_data.to(device))\n",
    "        unlabeled_loss = reconstruction_loss(reconstructed_unlabeled_data, unlabeled_data.to(device)) - 0.5 * torch.sum(1 + log_var_unlabeled - mu_unlabeled.pow(2) - log_var_unlabeled.exp())\n",
    "\n",
    "        # Labeled data에 대한 Classifier 훈련\n",
    "        latent_labeled_data = vae.reparameterize(mu, log_var)\n",
    "        classifier_output = classifier(latent_labeled_data)\n",
    "        labeled_label_indices = torch.argmax(labeled_label, dim=1).to(device) # 다중 타겟을 원핫으로 변환\n",
    "        class_loss = classification_loss(classifier_output, labeled_label_indices)\n",
    "\n",
    "        # 총 Loss 계산 및 업데이트\n",
    "        total_loss = labeled_loss + unlabeled_loss + class_loss\n",
    "        total_loss.backward()\n",
    "        optimizer.step()\n",
    "        \n",
    "\n",
    "        loss_dict['total_loss'] += total_loss.item()\n",
    "        loss_dict['labeled_loss'] += labeled_loss.item()\n",
    "        loss_dict['unlabeled_loss'] += unlabeled_loss.item()\n",
    "        loss_dict['class_loss'] += class_loss.item()\n",
    "\n",
    "#         if batch_num % 10 ==0:\n",
    "#             print(batch_num)\n",
    "\n",
    "    print(f\"epoch:{epoch+1}, total:{loss_dict['total_loss']/num_of_batch : .4f}, labeled_loss:{loss_dict['labeled_loss']/num_of_batch : .4f}, unlabeled_loss:{loss_dict['unlabeled_loss']/num_of_batch : .4f}, class_loss: {loss_dict['class_loss']/num_of_batch : .4f}\")\n",
    "    scheduler.step()\n",
    "    # validation 점수 측정\n",
    "    validation_score()\n",
    "    torch.save(vae.state_dict(), f'./VAE _{epoch+1}.pth') # 모델 저장\n",
    "    torch.save(classifier.state_dict(), f'./classifier_dropout_{epoch+1}.pth') # 모델 저장"
   ]
  },
  {
   "cell_type": "code",
   "execution_count": null,
   "metadata": {},
   "outputs": [],
   "source": []
  },
  {
   "cell_type": "code",
   "execution_count": 22,
   "metadata": {},
   "outputs": [],
   "source": [
    "# torch.save(vae.state_dict(), './VAE2.pth') # 모델 저장\n",
    "# torch.save(classifier.state_dict(), './classifier_dropout1.pth') # 모델 저장"
   ]
  },
  {
   "cell_type": "markdown",
   "metadata": {},
   "source": [
    "### classifier 성능 비교"
   ]
  },
  {
   "cell_type": "code",
   "execution_count": 93,
   "metadata": {
    "scrolled": true
   },
   "outputs": [
    {
     "name": "stdout",
     "output_type": "stream",
     "text": [
      "Done.\n"
     ]
    },
    {
     "name": "stderr",
     "output_type": "stream",
     "text": [
      "C:\\Users\\Administrator\\AppData\\Local\\Temp\\ipykernel_13988\\4099449297.py:43: DataConversionWarning: A column-vector y was passed when a 1d array was expected. Please change the shape of y to (n_samples,), for example using ravel().\n",
      "  model.fit(X_train_labeled_le, y_train_labeled)\n"
     ]
    },
    {
     "name": "stdout",
     "output_type": "stream",
     "text": [
      "Extra Trees Classifier: Log Loss = 0.5265\n"
     ]
    },
    {
     "name": "stderr",
     "output_type": "stream",
     "text": [
      "C:\\Users\\Administrator\\AppData\\Local\\Temp\\ipykernel_13988\\4099449297.py:43: DataConversionWarning: A column-vector y was passed when a 1d array was expected. Please change the shape of y to (n_samples,), for example using ravel().\n",
      "  model.fit(X_train_labeled_le, y_train_labeled)\n"
     ]
    },
    {
     "name": "stdout",
     "output_type": "stream",
     "text": [
      "Random Forest Classifier: Log Loss = 0.4804\n"
     ]
    },
    {
     "name": "stderr",
     "output_type": "stream",
     "text": [
      "C:\\Users\\Administrator\\anaconda3\\lib\\site-packages\\sklearn\\preprocessing\\_label.py:99: DataConversionWarning: A column-vector y was passed when a 1d array was expected. Please change the shape of y to (n_samples, ), for example using ravel().\n",
      "  y = column_or_1d(y, warn=True)\n",
      "C:\\Users\\Administrator\\anaconda3\\lib\\site-packages\\sklearn\\preprocessing\\_label.py:134: DataConversionWarning: A column-vector y was passed when a 1d array was expected. Please change the shape of y to (n_samples, ), for example using ravel().\n",
      "  y = column_or_1d(y, dtype=self.classes_.dtype, warn=True)\n"
     ]
    },
    {
     "name": "stdout",
     "output_type": "stream",
     "text": [
      "Light Gradient Boosting Machine: Log Loss = 0.4399\n",
      "Decision Tree Classifier: Log Loss = 10.2489\n"
     ]
    },
    {
     "name": "stderr",
     "output_type": "stream",
     "text": [
      "C:\\Users\\Administrator\\anaconda3\\lib\\site-packages\\sklearn\\ensemble\\_gb.py:437: DataConversionWarning: A column-vector y was passed when a 1d array was expected. Please change the shape of y to (n_samples, ), for example using ravel().\n",
      "  y = column_or_1d(y, warn=True)\n"
     ]
    },
    {
     "name": "stdout",
     "output_type": "stream",
     "text": [
      "Gradient Boosting Classifier: Log Loss = 0.4437\n"
     ]
    },
    {
     "name": "stderr",
     "output_type": "stream",
     "text": [
      "C:\\Users\\Administrator\\anaconda3\\lib\\site-packages\\sklearn\\utils\\validation.py:1143: DataConversionWarning: A column-vector y was passed when a 1d array was expected. Please change the shape of y to (n_samples, ), for example using ravel().\n",
      "  y = column_or_1d(y, warn=True)\n"
     ]
    },
    {
     "name": "stdout",
     "output_type": "stream",
     "text": [
      "Ada Boost Classifier: Log Loss = 0.6821\n"
     ]
    },
    {
     "name": "stderr",
     "output_type": "stream",
     "text": [
      "C:\\Users\\Administrator\\anaconda3\\lib\\site-packages\\sklearn\\utils\\validation.py:1143: DataConversionWarning: A column-vector y was passed when a 1d array was expected. Please change the shape of y to (n_samples, ), for example using ravel().\n",
      "  y = column_or_1d(y, warn=True)\n"
     ]
    },
    {
     "name": "stdout",
     "output_type": "stream",
     "text": [
      "Logistic Regression: Log Loss = 0.4554\n"
     ]
    },
    {
     "name": "stderr",
     "output_type": "stream",
     "text": [
      "C:\\Users\\Administrator\\anaconda3\\lib\\site-packages\\sklearn\\linear_model\\_logistic.py:458: ConvergenceWarning: lbfgs failed to converge (status=1):\n",
      "STOP: TOTAL NO. of ITERATIONS REACHED LIMIT.\n",
      "\n",
      "Increase the number of iterations (max_iter) or scale the data as shown in:\n",
      "    https://scikit-learn.org/stable/modules/preprocessing.html\n",
      "Please also refer to the documentation for alternative solver options:\n",
      "    https://scikit-learn.org/stable/modules/linear_model.html#logistic-regression\n",
      "  n_iter_i = _check_optimize_result(\n"
     ]
    }
   ],
   "source": [
    "# 1. train 이용한 경우 validation\n",
    "import numpy as np\n",
    "import pandas as pd\n",
    "from sklearn.model_selection import train_test_split\n",
    "from sklearn.metrics import log_loss\n",
    "\n",
    "from sklearn.ensemble import ExtraTreesClassifier, RandomForestClassifier, GradientBoostingClassifier, AdaBoostClassifier\n",
    "from sklearn.tree import DecisionTreeClassifier\n",
    "from sklearn.linear_model import LogisticRegression\n",
    "from lightgbm import LGBMClassifier\n",
    "\n",
    "\n",
    "# 데이터 수치화\n",
    "qual_col = ['Origin_Airport', 'Origin_State', 'Destination_Airport', 'Destination_State', 'Airline', 'Carrier_Code(IATA)', 'Tail_Number']\n",
    "X_train_labeled_le = X_train_labeled.copy()\n",
    "X_val_labeled_le = X_val_labeled.copy()\n",
    "test_le = test.copy()\n",
    "for i in qual_col:\n",
    "    le = LabelEncoder()\n",
    "    le=le.fit(train[i]) # 사용할 수 있는 전체 X를 이용해서 LE\n",
    "    X_train_labeled_le[i]=le.transform(X_train_labeled_le[i])\n",
    "    X_val_labeled_le[i]=le.transform(X_val_labeled_le[i])\n",
    "    \n",
    "    for label in np.unique(test[i]):\n",
    "        if label not in le.classes_: # train에 없는 label인 경우\n",
    "            le.classes_ = np.append(le.classes_, label)\n",
    "    test_le[i]=le.transform(test_le[i])\n",
    "print('Done.')\n",
    "\n",
    "\n",
    "# 모델 정의\n",
    "models = {\n",
    "    \"Extra Trees Classifier\": ExtraTreesClassifier(random_state=42),\n",
    "    \"Random Forest Classifier\": RandomForestClassifier(random_state=42),\n",
    "    \"Light Gradient Boosting Machine\": LGBMClassifier(random_state=42),\n",
    "    \"Decision Tree Classifier\": DecisionTreeClassifier(random_state=42),\n",
    "    \"Gradient Boosting Classifier\": GradientBoostingClassifier(random_state=42),\n",
    "    \"Ada Boost Classifier\": AdaBoostClassifier(random_state=42),\n",
    "    \"Logistic Regression\": LogisticRegression(random_state=42),\n",
    "}\n",
    "\n",
    "# 각 모델의 성능을 비교\n",
    "for name, model in models.items():\n",
    "    model.fit(X_train_labeled_le, y_train_labeled)\n",
    "    y_pred = model.predict_proba(X_val_labeled_le)\n",
    "    loss = log_loss(y_val_labeled, y_pred)\n",
    "    print(f\"{name}: Log Loss = {loss:.4f}\")"
   ]
  },
  {
   "cell_type": "code",
   "execution_count": 18,
   "metadata": {},
   "outputs": [
    {
     "name": "stdout",
     "output_type": "stream",
     "text": [
      " Validation Log Loss = 0.6823\n"
     ]
    }
   ],
   "source": [
    "# 2. semi-supervised 된 신경망 모델의 validation set 예측성능\n",
    "from sklearn.metrics import log_loss\n",
    "def validation_score():\n",
    "    with torch.no_grad():\n",
    "        vae.eval()\n",
    "        classifier.eval()\n",
    "\n",
    "        ## 잠재벡터화\n",
    "        reconstructed_labeled_data, mu, log_var = vae(X_val_labeled_tensor.to(device))\n",
    "        X_val_latent_labeled_data = vae.reparameterize(mu, log_var)\n",
    "\n",
    "        ## 예측\n",
    "        y_pred = classifier(X_val_latent_labeled_data)\n",
    "        loss = log_loss(y_val_labeled, torch.softmax(y_pred,dim=1).cpu().detach().numpy()) # softmax로 확률로 바꿔줘야!\n",
    "        print(f\" Validation Log Loss = {loss:.4f}\")\n",
    "#         print(torch.softmax(y_pred,dim=1)[:20,:])\n",
    "validation_score()"
   ]
  },
  {
   "cell_type": "markdown",
   "metadata": {},
   "source": [
    "### submission"
   ]
  },
  {
   "cell_type": "code",
   "execution_count": null,
   "metadata": {},
   "outputs": [],
   "source": []
  },
  {
   "cell_type": "code",
   "execution_count": 67,
   "metadata": {},
   "outputs": [],
   "source": [
    "# 데이터 가져오기\n",
    "X_test = test.drop(columns=['ID'])\n",
    "test_batch = make_test_batch(1,10)\n",
    "\n",
    "# 예측하기\n",
    "device = 'cuda:2'\n",
    "with torch.no_grad():\n",
    "    vae.to(device)\n",
    "    classifier.to(device)\n",
    "    vae.eval()\n",
    "    classifier.eval()\n",
    "\n",
    "    ## 잠재벡터화\n",
    "    reconstructed_labeled_data, mu, log_var = vae(test_batch.to(device))\n",
    "    X_test_latent_labeled_data = vae.reparameterize(mu, log_var)\n",
    "\n",
    "    ## 예측\n",
    "    y_pred = classifier(X_test_latent_labeled_data)\n",
    "    y_pred = torch.softmax(y_pred,dim=1).cpu().detach().numpy()"
   ]
  },
  {
   "cell_type": "code",
   "execution_count": 68,
   "metadata": {},
   "outputs": [
    {
     "name": "stdout",
     "output_type": "stream",
     "text": [
      "batch num :  2\n",
      "batch num :  3\n",
      "batch num :  4\n",
      "batch num :  5\n",
      "batch num :  6\n",
      "batch num :  7\n",
      "batch num :  8\n",
      "batch num :  9\n",
      "batch num :  10\n"
     ]
    }
   ],
   "source": [
    "# 데이터 가져오기\n",
    "# X_test = test.drop(columns=['ID'])\n",
    "for batch_num in range(2, 11):\n",
    "    test_batch = make_test_batch(batch_num,10)\n",
    "\n",
    "    # 예측하기\n",
    "    device = 'cuda:2'\n",
    "    with torch.no_grad():\n",
    "        vae.to(device)\n",
    "        classifier.to(device)\n",
    "        vae.eval()\n",
    "        classifier.eval()\n",
    "\n",
    "        ## 잠재벡터화\n",
    "        reconstructed_labeled_data, mu, log_var = vae(test_batch.to(device))\n",
    "        X_test_latent_labeled_data = vae.reparameterize(mu, log_var)\n",
    "\n",
    "        ## 예측\n",
    "        y_pred_batch_num = classifier(X_test_latent_labeled_data)\n",
    "        y_pred_batch_num = torch.softmax(y_pred_batch_num,dim=1).cpu().detach().numpy()\n",
    "    y_pred = np.vstack([y_pred, y_pred_batch_num])\n",
    "    print('batch num : ', batch_num)"
   ]
  },
  {
   "cell_type": "code",
   "execution_count": 69,
   "metadata": {},
   "outputs": [
    {
     "data": {
      "text/plain": [
       "(1000000, 2)"
      ]
     },
     "execution_count": 69,
     "metadata": {},
     "output_type": "execute_result"
    }
   ],
   "source": [
    "y_pred.shape"
   ]
  },
  {
   "cell_type": "code",
   "execution_count": 70,
   "metadata": {},
   "outputs": [],
   "source": [
    "# 제출본 만들기\n",
    "sample_submission = pd.read_csv('sample_submission.csv', index_col = 0)\n",
    "submission = pd.DataFrame(data=y_pred, columns=sample_submission.columns, index=sample_submission.index)"
   ]
  },
  {
   "cell_type": "code",
   "execution_count": 71,
   "metadata": {},
   "outputs": [],
   "source": [
    "submission.to_csv('./submission/submission_semi-supervise-vae2.csv', index=True)"
   ]
  },
  {
   "cell_type": "code",
   "execution_count": null,
   "metadata": {},
   "outputs": [],
   "source": []
  },
  {
   "cell_type": "code",
   "execution_count": null,
   "metadata": {
    "id": "xjmnbSg0kabA"
   },
   "outputs": [],
   "source": []
  }
 ],
 "metadata": {
  "colab": {
   "machine_shape": "hm",
   "provenance": []
  },
  "gpuClass": "standard",
  "kernelspec": {
   "display_name": "Python 3 (ipykernel)",
   "language": "python",
   "name": "python3"
  },
  "language_info": {
   "codemirror_mode": {
    "name": "ipython",
    "version": 3
   },
   "file_extension": ".py",
   "mimetype": "text/x-python",
   "name": "python",
   "nbconvert_exporter": "python",
   "pygments_lexer": "ipython3",
   "version": "3.10.9"
  }
 },
 "nbformat": 4,
 "nbformat_minor": 1
}
