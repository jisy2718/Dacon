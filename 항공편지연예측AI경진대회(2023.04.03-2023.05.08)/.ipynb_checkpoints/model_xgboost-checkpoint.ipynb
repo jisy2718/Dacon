{
 "cells": [
  {
   "cell_type": "code",
   "execution_count": 1,
   "metadata": {
    "executionInfo": {
     "elapsed": 11,
     "status": "ok",
     "timestamp": 1680692146763,
     "user": {
      "displayName": "지승영",
      "userId": "07006377205744982370"
     },
     "user_tz": -540
    },
    "id": "pO82uV5UhWZo"
   },
   "outputs": [],
   "source": [
    "import pandas as pd\n",
    "import numpy as np\n",
    "import random\n",
    "import os\n",
    "import gc\n",
    "\n",
    "from sklearn.ensemble import RandomForestClassifier\n",
    "from sklearn.preprocessing import LabelEncoder\n",
    "\n",
    "def seed_everything(seed):\n",
    "    random.seed(seed)\n",
    "    os.environ['PYTHONHASHSEED'] = str(seed)\n",
    "    np.random.seed(seed)\n",
    "seed_everything(42) # Seed 고정"
   ]
  },
  {
   "cell_type": "markdown",
   "metadata": {
    "id": "3tfPeXLWiHwL"
   },
   "source": [
    "### Data  & SPLIT"
   ]
  },
  {
   "cell_type": "code",
   "execution_count": 2,
   "metadata": {},
   "outputs": [
    {
     "name": "stdout",
     "output_type": "stream",
     "text": [
      "(255001, 20)\n",
      "Not_Delayed    210001\n",
      "Delayed         45000\n",
      "Name: Delay, dtype: int64\n",
      "\n",
      "(204000, 17) (51001, 17)\n",
      "0    168109\n",
      "1     35891\n",
      "Name: Delay_num, dtype: int64\n",
      "0    41892\n",
      "1     9109\n",
      "Name: Delay_num, dtype: int64\n"
     ]
    }
   ],
   "source": [
    "train = pd.read_parquet('./data/train_preprocess_2-3.parquet')\n",
    "# test = pd.read_parquet('./test.parquet')\n",
    "test = pd.read_parquet('./data/test_preprocess_2-3.parquet')\n",
    "sample_submission = pd.read_csv('sample_submission.csv', index_col = 0)\n",
    "\n",
    "print(train.shape)\n",
    "print(train.Delay.value_counts())\n",
    "print()\n",
    "\n",
    "from sklearn.model_selection  import train_test_split\n",
    "train_x, val_x, train_y, val_y = train_test_split(train.drop(columns=['ID', 'Delay', 'Delay_num']), train['Delay_num'], test_size=0.2, random_state=42)\n",
    "\n",
    "print(train_x.shape, val_x.shape)\n",
    "print(train_y.value_counts())\n",
    "print(val_y.value_counts())"
   ]
  },
  {
   "cell_type": "code",
   "execution_count": 3,
   "metadata": {},
   "outputs": [
    {
     "name": "stdout",
     "output_type": "stream",
     "text": [
      "(255001, 20) (1000000, 18)\n"
     ]
    }
   ],
   "source": [
    "test_x = test.drop(columns=['ID'])\n",
    "print(train.shape, test.shape)"
   ]
  },
  {
   "cell_type": "markdown",
   "metadata": {
    "id": "k5mdobqLjjex"
   },
   "source": [
    "### 모델적합 1 - GRID SEARCH\n",
    "+ 최저의 Loss를 갖는 모델 적합"
   ]
  },
  {
   "cell_type": "markdown",
   "metadata": {},
   "source": [
    "#### 2-3 전처리 이용"
   ]
  },
  {
   "cell_type": "code",
   "execution_count": 5,
   "metadata": {},
   "outputs": [],
   "source": [
    "from xgboost import XGBClassifier"
   ]
  },
  {
   "cell_type": "code",
   "execution_count": 19,
   "metadata": {
    "colab": {
     "base_uri": "https://localhost:8080/"
    },
    "executionInfo": {
     "elapsed": 439671,
     "status": "ok",
     "timestamp": 1680692700594,
     "user": {
      "displayName": "지승영",
      "userId": "07006377205744982370"
     },
     "user_tz": -540
    },
    "id": "bSjXXrcZD7k1",
    "outputId": "2fee0f1c-265e-4de1-cd15-6755809e5fc6"
   },
   "outputs": [
    {
     "name": "stdout",
     "output_type": "stream",
     "text": [
      "Fitting 5 folds for each of 36 candidates, totalling 180 fits\n",
      "최적의 파라미터: {'learning_rate': 0.1, 'max_depth': 7, 'n_estimators': 100}\n",
      "최고의 점수: 0.4391\n"
     ]
    }
   ],
   "source": [
    "# 2-3 전처리 이용\n",
    "train = pd.read_parquet('./data/train_preprocess_2-3.parquet')\n",
    "test = pd.read_parquet('./data/test_preprocess_2-3.parquet')\n",
    "\n",
    "\n",
    "# grid search 1\n",
    "import numpy as np\n",
    "import pandas as pd\n",
    "from sklearn.model_selection import train_test_split, GridSearchCV, StratifiedKFold\n",
    "from lightgbm import LGBMClassifier\n",
    "from xgboost import XGBClassifier\n",
    "\n",
    "\n",
    "# 전체 데이터 이용\n",
    "train_x = train.drop(columns=['ID', 'Delay', 'Delay_num'])\n",
    "train_y = train['Delay_num']\n",
    "test_x = test.drop(columns=['ID'])\n",
    "\n",
    "# 모델 정의\n",
    "\n",
    "\n",
    "# Model and hyperparameter tuning using GridSearchCV\n",
    "xgboost = XGBClassifier(random_state=42)\n",
    "\n",
    "\n",
    "# 그리드 서치를 위한 파라미터 그리드 정의\n",
    "param_grid = {\n",
    "    \"n_estimators\": [100, 200, 300],\n",
    "    \"max_depth\": [3, 5, 7, 9],\n",
    "    \"learning_rate\": [0.01, 0.1, 0.2],\n",
    "#     \"reg_lambda \" : [0.1,0.3,0.5,1],\n",
    "#     'early_stopping_rounds ' : [150] # eval 필요\n",
    "}\n",
    "\n",
    "# Cross-validation with StratifiedKFold\n",
    "cv = StratifiedKFold(n_splits=5, shuffle=True, random_state=42)\n",
    "\n",
    "# 그리드 서치를 위한 GridSearchCV 객체 생성\n",
    "grid_search = GridSearchCV(\n",
    "    estimator=xgboost,\n",
    "    param_grid=param_grid,\n",
    "    scoring=\"neg_log_loss\",\n",
    "    cv=cv,\n",
    "    verbose=1,\n",
    "    n_jobs=-1,\n",
    ")\n",
    "\n",
    "# 그리드 서치를 수행\n",
    "grid_search.fit(train_x, train_y)\n",
    "\n",
    "# 최적의 파라미터와 최고의 점수 출력\n",
    "print(f\"최적의 파라미터: {grid_search.best_params_}\")\n",
    "print(f\"최고의 점수: {-1 * grid_search.best_score_:.4f}\")\n",
    "\n",
    "# 최적의 파라미터를 사용한 최종 모델\n",
    "best_xgboost = grid_search.best_estimator_\n"
   ]
  },
  {
   "cell_type": "code",
   "execution_count": 13,
   "metadata": {},
   "outputs": [
    {
     "name": "stdout",
     "output_type": "stream",
     "text": [
      "Fitting 5 folds for each of 36 candidates, totalling 180 fits\n",
      "최적의 파라미터: {'learning_rate': 0.05, 'max_depth': 8, 'n_estimators': 250}\n",
      "최고의 점수: 0.4384\n"
     ]
    }
   ],
   "source": [
    "# 2-3 전처리 이용\n",
    "train = pd.read_parquet('./data/train_preprocess_2-3.parquet')\n",
    "test = pd.read_parquet('./data/test_preprocess_2-3.parquet')\n",
    "\n",
    "\n",
    "# grid search 1\n",
    "import numpy as np\n",
    "import pandas as pd\n",
    "from sklearn.model_selection import train_test_split, GridSearchCV, StratifiedKFold\n",
    "from lightgbm import LGBMClassifier\n",
    "from xgboost import XGBClassifier\n",
    "\n",
    "\n",
    "# 전체 데이터 이용\n",
    "train_x = train.drop(columns=['ID', 'Delay', 'Delay_num'])\n",
    "train_y = train['Delay_num']\n",
    "test_x = test.drop(columns=['ID'])\n",
    "\n",
    "# 모델 정의\n",
    "\n",
    "\n",
    "# Model and hyperparameter tuning using GridSearchCV\n",
    "xgboost = XGBClassifier(random_state=42)\n",
    "\n",
    "\n",
    "# 그리드 서치를 위한 파라미터 그리드 정의\n",
    "param_grid = {\n",
    "    \"n_estimators\": [150, 200, 250],\n",
    "    \"max_depth\": [6, 7, 8],\n",
    "    \"learning_rate\": [0.05 , 0.075, 0.1, 0.125],\n",
    "#     \"reg_lambda \" : [0.1,0.3,0.5,1],\n",
    "#     'early_stopping_rounds ' : [150] # eval 필요\n",
    "}\n",
    "\n",
    "# Cross-validation with StratifiedKFold\n",
    "# cv = StratifiedKFold(n_splits=5, shuffle=True, random_state=42)\n",
    "\n",
    "# 그리드 서치를 위한 GridSearchCV 객체 생성\n",
    "grid_search = GridSearchCV(\n",
    "    estimator=xgboost,\n",
    "    param_grid=param_grid,\n",
    "    scoring=\"neg_log_loss\",\n",
    "    cv=5,\n",
    "#     cv= cv,\n",
    "    verbose=1,\n",
    "    n_jobs=-1,\n",
    ")\n",
    "\n",
    "# 그리드 서치를 수행\n",
    "grid_search.fit(train_x, train_y)\n",
    "\n",
    "# 최적의 파라미터와 최고의 점수 출력\n",
    "print(f\"최적의 파라미터: {grid_search.best_params_}\")\n",
    "print(f\"최고의 점수: {-1 * grid_search.best_score_:.4f}\")\n",
    "\n",
    "# 최적의 파라미터를 사용한 최종 모델\n",
    "best_xgboost2 = grid_search.best_estimator_\n"
   ]
  },
  {
   "cell_type": "markdown",
   "metadata": {
    "id": "_bGi-04xkv2p"
   },
   "source": [
    "### 예측"
   ]
  },
  {
   "cell_type": "code",
   "execution_count": 16,
   "metadata": {
    "executionInfo": {
     "elapsed": 4827,
     "status": "ok",
     "timestamp": 1680692967572,
     "user": {
      "displayName": "지승영",
      "userId": "07006377205744982370"
     },
     "user_tz": -540
    },
    "id": "ue61nH-Xjz99"
   },
   "outputs": [
    {
     "name": "stdout",
     "output_type": "stream",
     "text": [
      "(1000000, 2) (1000000, 2)\n"
     ]
    }
   ],
   "source": [
    "#  1. grid search\n",
    "y_pred = best_xgboost.predict_proba(test_x)\n",
    "y_pred2 = best_xgboost2.predict_proba(test_x)\n",
    "print(y_pred.shape, y_pred2.shape)"
   ]
  },
  {
   "cell_type": "markdown",
   "metadata": {
    "id": "bMNE18RskxUq"
   },
   "source": [
    "### 제출"
   ]
  },
  {
   "cell_type": "code",
   "execution_count": 18,
   "metadata": {
    "executionInfo": {
     "elapsed": 3262,
     "status": "ok",
     "timestamp": 1680692988031,
     "user": {
      "displayName": "지승영",
      "userId": "07006377205744982370"
     },
     "user_tz": -540
    },
    "id": "g8evKatckxzP"
   },
   "outputs": [],
   "source": [
    "submission = pd.DataFrame(data=y_pred2, columns=sample_submission.columns, index=sample_submission.index)\n",
    "submission.to_csv('./submission/submission_xgboost2.csv', index=True)"
   ]
  },
  {
   "cell_type": "code",
   "execution_count": null,
   "metadata": {},
   "outputs": [],
   "source": []
  }
 ],
 "metadata": {
  "colab": {
   "authorship_tag": "ABX9TyOt+IlY3oU3dEkCKHi2bVBw",
   "machine_shape": "hm",
   "mount_file_id": "1IgBELre5zixY8eogePhZKWB_GlZpWi2H",
   "provenance": [],
   "toc_visible": true
  },
  "gpuClass": "standard",
  "kernelspec": {
   "display_name": "Python 3 (ipykernel)",
   "language": "python",
   "name": "python3"
  },
  "language_info": {
   "codemirror_mode": {
    "name": "ipython",
    "version": 3
   },
   "file_extension": ".py",
   "mimetype": "text/x-python",
   "name": "python",
   "nbconvert_exporter": "python",
   "pygments_lexer": "ipython3",
   "version": "3.10.9"
  }
 },
 "nbformat": 4,
 "nbformat_minor": 1
}
