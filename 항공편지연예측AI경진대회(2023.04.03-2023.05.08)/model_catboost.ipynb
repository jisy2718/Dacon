{
 "cells": [
  {
   "cell_type": "code",
   "execution_count": 1,
   "metadata": {
    "executionInfo": {
     "elapsed": 11,
     "status": "ok",
     "timestamp": 1680692146763,
     "user": {
      "displayName": "지승영",
      "userId": "07006377205744982370"
     },
     "user_tz": -540
    },
    "id": "pO82uV5UhWZo"
   },
   "outputs": [],
   "source": [
    "import random\n",
    "import os\n",
    "import numpy as np\n",
    "import pandas as pd\n",
    "\n",
    "from sklearn.model_selection import train_test_split, StratifiedKFold, GridSearchCV\n",
    "from catboost import CatBoostClassifier, Pool\n",
    "from collections import defaultdict\n",
    "\n",
    "\n",
    "def seed_everything(seed):\n",
    "    random.seed(seed)\n",
    "    os.environ['PYTHONHASHSEED'] = str(seed)\n",
    "    np.random.seed(seed)\n",
    "\n",
    "seed_everything(42) # Fixed Seed"
   ]
  },
  {
   "cell_type": "markdown",
   "metadata": {
    "id": "3tfPeXLWiHwL"
   },
   "source": [
    "### Data  load"
   ]
  },
  {
   "cell_type": "code",
   "execution_count": 3,
   "metadata": {},
   "outputs": [],
   "source": [
    "train = pd.read_parquet('./data/train_preprocess_9.parquet')\n",
    "test = pd.read_parquet('./data/test_preprocess_9.parquet')\n",
    "sample_submission = pd.read_csv('sample_submission.csv', index_col = 0)\n",
    "\n"
   ]
  },
  {
   "cell_type": "code",
   "execution_count": 2,
   "metadata": {},
   "outputs": [],
   "source": [
    "train = pd.read_parquet('./data/train_preprocess_10.parquet')\n",
    "test = pd.read_parquet('./data/test_preprocess_10.parquet')\n",
    "sample_submission = pd.read_csv('sample_submission.csv', index_col = 0)\n",
    "\n"
   ]
  },
  {
   "cell_type": "markdown",
   "metadata": {},
   "source": [
    "### Distance 및 모든 값 object 처리"
   ]
  },
  {
   "cell_type": "code",
   "execution_count": 3,
   "metadata": {},
   "outputs": [
    {
     "name": "stdout",
     "output_type": "stream",
     "text": [
      "distance Done.\n",
      "CID Done.\n"
     ]
    }
   ],
   "source": [
    "train = train.astype({'Distance':int})\n",
    "test = test.astype({'Distance':int})\n",
    "\n",
    "print(\"distance Done.\")\n",
    "\n",
    "train = train.astype({'Carrier_ID(DOT)':int})\n",
    "test = test.astype({'Carrier_ID(DOT)':int})\n",
    "\n",
    "train = train.astype({'EDT':object, 'EAT':object, 'Distance':object, 'Origin_Airport_ID':object, \\\n",
    "                     'Destination_Airport_ID':object, 'Carrier_ID(DOT)':object, 'Day':object})\n",
    "test = test.astype({'EDT':object, 'EAT':object, 'Distance':object, 'Origin_Airport_ID':object, \\\n",
    "                     'Destination_Airport_ID':object, 'Carrier_ID(DOT)':object, 'Day':object})\n",
    "\n",
    "print(\"CID Done.\")"
   ]
  },
  {
   "cell_type": "code",
   "execution_count": 4,
   "metadata": {},
   "outputs": [
    {
     "name": "stdout",
     "output_type": "stream",
     "text": [
      "<class 'pandas.core.frame.DataFrame'>\n",
      "Int64Index: 976567 entries, 1 to 999999\n",
      "Data columns (total 10 columns):\n",
      " #   Column                  Non-Null Count   Dtype \n",
      "---  ------                  --------------   ----- \n",
      " 0   ID                      976567 non-null  object\n",
      " 1   Origin_Airport_ID       976567 non-null  object\n",
      " 2   Destination_Airport_ID  976567 non-null  object\n",
      " 3   Distance                976567 non-null  object\n",
      " 4   Carrier_ID(DOT)         976567 non-null  object\n",
      " 5   Tail_Number             976567 non-null  object\n",
      " 6   Delay                   249021 non-null  object\n",
      " 7   Day                     976567 non-null  object\n",
      " 8   EDT                     976567 non-null  object\n",
      " 9   EAT                     976567 non-null  object\n",
      "dtypes: object(10)\n",
      "memory usage: 82.0+ MB\n"
     ]
    }
   ],
   "source": [
    "train.info()"
   ]
  },
  {
   "cell_type": "code",
   "execution_count": 5,
   "metadata": {},
   "outputs": [
    {
     "name": "stdout",
     "output_type": "stream",
     "text": [
      "Training Prepared.\n"
     ]
    }
   ],
   "source": [
    "train = train.dropna()\n",
    "\n",
    "column_number = {}\n",
    "for i, column in enumerate(sample_submission.columns):\n",
    "    column_number[column] = i\n",
    "    \n",
    "def to_number(x, dic):\n",
    "    return dic[x]\n",
    "\n",
    "train.loc[:, 'Delay_num'] = train['Delay'].apply(lambda x: to_number(x, column_number))\n",
    "\n",
    "train_x = train.drop(columns=['ID', 'Delay', 'Delay_num'])\n",
    "train_y = train['Delay_num']\n",
    "test_x = test.drop(columns=['ID'])\n",
    "\n",
    "print('Training Prepared.')"
   ]
  },
  {
   "cell_type": "code",
   "execution_count": 6,
   "metadata": {},
   "outputs": [
    {
     "name": "stdout",
     "output_type": "stream",
     "text": [
      "weight : [0.1766316896968529, 0.8233683103031472]\n"
     ]
    }
   ],
   "source": [
    "counts = list(train_y.value_counts())\n",
    "class_weight = [counts[1]/sum(counts), counts[0]/sum(counts)]\n",
    "print(\"weight :\", class_weight)"
   ]
  },
  {
   "cell_type": "code",
   "execution_count": 7,
   "metadata": {},
   "outputs": [
    {
     "name": "stderr",
     "output_type": "stream",
     "text": [
      "C:\\Users\\Administrator\\anaconda3\\lib\\site-packages\\catboost\\core.py:1411: FutureWarning: iteritems is deprecated and will be removed in a future version. Use .items instead.\n",
      "  self._init_pool(data, label, cat_features, text_features, embedding_features, embedding_features_data, pairs, weight,\n"
     ]
    },
    {
     "data": {
      "text/plain": [
       "<catboost.core.CatBoostClassifier at 0x2a0e38e16c0>"
      ]
     },
     "execution_count": 7,
     "metadata": {},
     "output_type": "execute_result"
    }
   ],
   "source": [
    "cat_features = [i for i in range(8)]\n",
    "model = CatBoostClassifier(random_seed=42, cat_features=cat_features, class_weights=class_weight, verbose=0)\n",
    "model.fit(train_x, train_y)"
   ]
  },
  {
   "cell_type": "markdown",
   "metadata": {
    "id": "_bGi-04xkv2p"
   },
   "source": [
    "### 예측"
   ]
  },
  {
   "cell_type": "code",
   "execution_count": 8,
   "metadata": {
    "executionInfo": {
     "elapsed": 4827,
     "status": "ok",
     "timestamp": 1680692967572,
     "user": {
      "displayName": "지승영",
      "userId": "07006377205744982370"
     },
     "user_tz": -540
    },
    "id": "ue61nH-Xjz99"
   },
   "outputs": [],
   "source": [
    "y_pred = model.predict_proba(test_x)"
   ]
  },
  {
   "cell_type": "markdown",
   "metadata": {
    "id": "bMNE18RskxUq"
   },
   "source": [
    "### 제출"
   ]
  },
  {
   "cell_type": "code",
   "execution_count": 9,
   "metadata": {
    "executionInfo": {
     "elapsed": 3262,
     "status": "ok",
     "timestamp": 1680692988031,
     "user": {
      "displayName": "지승영",
      "userId": "07006377205744982370"
     },
     "user_tz": -540
    },
    "id": "g8evKatckxzP"
   },
   "outputs": [],
   "source": [
    "submission = pd.DataFrame(data=y_pred, columns=sample_submission.columns, index=sample_submission.index)\n",
    "submission.to_csv('./submission/submission_catboost_1st.csv', index=True)"
   ]
  },
  {
   "cell_type": "code",
   "execution_count": null,
   "metadata": {},
   "outputs": [],
   "source": []
  }
 ],
 "metadata": {
  "colab": {
   "authorship_tag": "ABX9TyOt+IlY3oU3dEkCKHi2bVBw",
   "machine_shape": "hm",
   "mount_file_id": "1IgBELre5zixY8eogePhZKWB_GlZpWi2H",
   "provenance": [],
   "toc_visible": true
  },
  "gpuClass": "standard",
  "kernelspec": {
   "display_name": "Python 3 (ipykernel)",
   "language": "python",
   "name": "python3"
  },
  "language_info": {
   "codemirror_mode": {
    "name": "ipython",
    "version": 3
   },
   "file_extension": ".py",
   "mimetype": "text/x-python",
   "name": "python",
   "nbconvert_exporter": "python",
   "pygments_lexer": "ipython3",
   "version": "3.10.9"
  }
 },
 "nbformat": 4,
 "nbformat_minor": 1
}
