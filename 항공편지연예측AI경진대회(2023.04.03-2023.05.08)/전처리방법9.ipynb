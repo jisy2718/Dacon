{
 "cells": [
  {
   "cell_type": "markdown",
   "metadata": {},
   "source": [
    "## Dacon 1등 참고\n",
    "\n",
    "**다른점**\n",
    "\n",
    "1. 출발, 도착 예정시각 둘 다 null인 것을 null category로 이용\n",
    "\n",
    "\n",
    "**새로 해볼 전처리들**\n",
    "1. 출발, 도착 예정시각 전처리를 airport 이용해서 진행하기"
   ]
  },
  {
   "cell_type": "markdown",
   "metadata": {},
   "source": [
    "### import"
   ]
  },
  {
   "cell_type": "code",
   "execution_count": 19,
   "metadata": {},
   "outputs": [],
   "source": [
    "import random\n",
    "import os\n",
    "import numpy as np\n",
    "import pandas as pd\n",
    "\n",
    "from sklearn.model_selection import train_test_split, StratifiedKFold, GridSearchCV\n",
    "from catboost import CatBoostClassifier, Pool\n",
    "from collections import defaultdict\n",
    "\n",
    "\n",
    "def seed_everything(seed):\n",
    "    random.seed(seed)\n",
    "    os.environ['PYTHONHASHSEED'] = str(seed)\n",
    "    np.random.seed(seed)\n",
    "\n",
    "seed_everything(42) # Fixed Seed"
   ]
  },
  {
   "cell_type": "markdown",
   "metadata": {
    "id": "3tfPeXLWiHwL"
   },
   "source": [
    "### Data Load"
   ]
  },
  {
   "cell_type": "code",
   "execution_count": 32,
   "metadata": {
    "colab": {
     "base_uri": "https://localhost:8080/"
    },
    "executionInfo": {
     "elapsed": 5596,
     "status": "ok",
     "timestamp": 1680692152351,
     "user": {
      "displayName": "지승영",
      "userId": "07006377205744982370"
     },
     "user_tz": -540
    },
    "id": "sYkhjDcUh43v",
    "outputId": "5728fe98-cf51-42e3-b20c-cc23dbad7ff9"
   },
   "outputs": [
    {
     "name": "stdout",
     "output_type": "stream",
     "text": [
      "(1000000, 19)\n",
      "Not_Delayed    210001\n",
      "Delayed         45000\n",
      "Name: Delay, dtype: int64\n"
     ]
    }
   ],
   "source": [
    "import pandas as pd\n",
    "train = pd.read_parquet('./data/train_preprocess_2.parquet')\n",
    "# test = pd.read_parquet('./test.parquet')\n",
    "test = pd.read_parquet('./data/test_preprocess_2.parquet')\n",
    "sample_submission = pd.read_csv('sample_submission.csv', index_col = 0)\n",
    "\n",
    "print(train.shape)\n",
    "print(train.Delay.value_counts())"
   ]
  },
  {
   "cell_type": "markdown",
   "metadata": {},
   "source": [
    "## 1. Month, Days 처리\n",
    "\n",
    "Month를 없애고, Days를 1~366으로 사용"
   ]
  },
  {
   "cell_type": "code",
   "execution_count": 33,
   "metadata": {},
   "outputs": [
    {
     "name": "stdout",
     "output_type": "stream",
     "text": [
      "Day Done.\n"
     ]
    },
    {
     "data": {
      "text/html": [
       "<div>\n",
       "<style scoped>\n",
       "    .dataframe tbody tr th:only-of-type {\n",
       "        vertical-align: middle;\n",
       "    }\n",
       "\n",
       "    .dataframe tbody tr th {\n",
       "        vertical-align: top;\n",
       "    }\n",
       "\n",
       "    .dataframe thead th {\n",
       "        text-align: right;\n",
       "    }\n",
       "</style>\n",
       "<table border=\"1\" class=\"dataframe\">\n",
       "  <thead>\n",
       "    <tr style=\"text-align: right;\">\n",
       "      <th></th>\n",
       "      <th>ID</th>\n",
       "      <th>Month</th>\n",
       "      <th>Day_of_Month</th>\n",
       "      <th>Estimated_Departure_Time</th>\n",
       "      <th>Estimated_Arrival_Time</th>\n",
       "      <th>Cancelled</th>\n",
       "      <th>Diverted</th>\n",
       "      <th>Origin_Airport</th>\n",
       "      <th>Origin_Airport_ID</th>\n",
       "      <th>Origin_State</th>\n",
       "      <th>Destination_Airport</th>\n",
       "      <th>Destination_Airport_ID</th>\n",
       "      <th>Destination_State</th>\n",
       "      <th>Distance</th>\n",
       "      <th>Airline</th>\n",
       "      <th>Carrier_Code(IATA)</th>\n",
       "      <th>Carrier_ID(DOT)</th>\n",
       "      <th>Tail_Number</th>\n",
       "      <th>Delay</th>\n",
       "      <th>Day</th>\n",
       "    </tr>\n",
       "  </thead>\n",
       "  <tbody>\n",
       "    <tr>\n",
       "      <th>0</th>\n",
       "      <td>TRAIN_000000</td>\n",
       "      <td>4</td>\n",
       "      <td>15</td>\n",
       "      <td>NaN</td>\n",
       "      <td>NaN</td>\n",
       "      <td>0</td>\n",
       "      <td>0</td>\n",
       "      <td>OKC</td>\n",
       "      <td>13851</td>\n",
       "      <td>Oklahoma</td>\n",
       "      <td>HOU</td>\n",
       "      <td>12191</td>\n",
       "      <td>Texas</td>\n",
       "      <td>419.0</td>\n",
       "      <td>Southwest Airlines Co.</td>\n",
       "      <td>WN</td>\n",
       "      <td>19393.0</td>\n",
       "      <td>N7858A</td>\n",
       "      <td>None</td>\n",
       "      <td>106</td>\n",
       "    </tr>\n",
       "    <tr>\n",
       "      <th>1</th>\n",
       "      <td>TRAIN_000001</td>\n",
       "      <td>8</td>\n",
       "      <td>15</td>\n",
       "      <td>740.0</td>\n",
       "      <td>1024.0</td>\n",
       "      <td>0</td>\n",
       "      <td>0</td>\n",
       "      <td>ORD</td>\n",
       "      <td>13930</td>\n",
       "      <td>Illinois</td>\n",
       "      <td>SLC</td>\n",
       "      <td>14869</td>\n",
       "      <td>Utah</td>\n",
       "      <td>1250.0</td>\n",
       "      <td>SkyWest Airlines Inc.</td>\n",
       "      <td>UA</td>\n",
       "      <td>20304.0</td>\n",
       "      <td>N125SY</td>\n",
       "      <td>None</td>\n",
       "      <td>228</td>\n",
       "    </tr>\n",
       "    <tr>\n",
       "      <th>2</th>\n",
       "      <td>TRAIN_000002</td>\n",
       "      <td>9</td>\n",
       "      <td>6</td>\n",
       "      <td>1610.0</td>\n",
       "      <td>1805.0</td>\n",
       "      <td>0</td>\n",
       "      <td>0</td>\n",
       "      <td>CLT</td>\n",
       "      <td>11057</td>\n",
       "      <td>North Carolina</td>\n",
       "      <td>LGA</td>\n",
       "      <td>12953</td>\n",
       "      <td>New York</td>\n",
       "      <td>544.0</td>\n",
       "      <td>American Airlines Inc.</td>\n",
       "      <td>AA</td>\n",
       "      <td>19805.0</td>\n",
       "      <td>N103US</td>\n",
       "      <td>None</td>\n",
       "      <td>250</td>\n",
       "    </tr>\n",
       "    <tr>\n",
       "      <th>3</th>\n",
       "      <td>TRAIN_000003</td>\n",
       "      <td>7</td>\n",
       "      <td>10</td>\n",
       "      <td>905.0</td>\n",
       "      <td>1735.0</td>\n",
       "      <td>0</td>\n",
       "      <td>0</td>\n",
       "      <td>LAX</td>\n",
       "      <td>12892</td>\n",
       "      <td>California</td>\n",
       "      <td>EWR</td>\n",
       "      <td>11618</td>\n",
       "      <td>New Jersey</td>\n",
       "      <td>2454.0</td>\n",
       "      <td>United Air Lines Inc.</td>\n",
       "      <td>UA</td>\n",
       "      <td>19977.0</td>\n",
       "      <td>N595UA</td>\n",
       "      <td>None</td>\n",
       "      <td>192</td>\n",
       "    </tr>\n",
       "    <tr>\n",
       "      <th>4</th>\n",
       "      <td>TRAIN_000004</td>\n",
       "      <td>1</td>\n",
       "      <td>11</td>\n",
       "      <td>900.0</td>\n",
       "      <td>1019.0</td>\n",
       "      <td>0</td>\n",
       "      <td>0</td>\n",
       "      <td>SFO</td>\n",
       "      <td>14771</td>\n",
       "      <td>California</td>\n",
       "      <td>ACV</td>\n",
       "      <td>10157</td>\n",
       "      <td>California</td>\n",
       "      <td>250.0</td>\n",
       "      <td>SkyWest Airlines Inc.</td>\n",
       "      <td>UA</td>\n",
       "      <td>20304.0</td>\n",
       "      <td>N161SY</td>\n",
       "      <td>None</td>\n",
       "      <td>11</td>\n",
       "    </tr>\n",
       "  </tbody>\n",
       "</table>\n",
       "</div>"
      ],
      "text/plain": [
       "             ID  Month  Day_of_Month  Estimated_Departure_Time  \\\n",
       "0  TRAIN_000000      4            15                       NaN   \n",
       "1  TRAIN_000001      8            15                     740.0   \n",
       "2  TRAIN_000002      9             6                    1610.0   \n",
       "3  TRAIN_000003      7            10                     905.0   \n",
       "4  TRAIN_000004      1            11                     900.0   \n",
       "\n",
       "   Estimated_Arrival_Time  Cancelled  Diverted Origin_Airport  \\\n",
       "0                     NaN          0         0            OKC   \n",
       "1                  1024.0          0         0            ORD   \n",
       "2                  1805.0          0         0            CLT   \n",
       "3                  1735.0          0         0            LAX   \n",
       "4                  1019.0          0         0            SFO   \n",
       "\n",
       "   Origin_Airport_ID    Origin_State Destination_Airport  \\\n",
       "0              13851        Oklahoma                 HOU   \n",
       "1              13930        Illinois                 SLC   \n",
       "2              11057  North Carolina                 LGA   \n",
       "3              12892      California                 EWR   \n",
       "4              14771      California                 ACV   \n",
       "\n",
       "   Destination_Airport_ID Destination_State  Distance                 Airline  \\\n",
       "0                   12191             Texas     419.0  Southwest Airlines Co.   \n",
       "1                   14869              Utah    1250.0   SkyWest Airlines Inc.   \n",
       "2                   12953          New York     544.0  American Airlines Inc.   \n",
       "3                   11618        New Jersey    2454.0   United Air Lines Inc.   \n",
       "4                   10157        California     250.0   SkyWest Airlines Inc.   \n",
       "\n",
       "  Carrier_Code(IATA)  Carrier_ID(DOT) Tail_Number Delay  Day  \n",
       "0                 WN          19393.0      N7858A  None  106  \n",
       "1                 UA          20304.0      N125SY  None  228  \n",
       "2                 AA          19805.0      N103US  None  250  \n",
       "3                 UA          19977.0      N595UA  None  192  \n",
       "4                 UA          20304.0      N161SY  None   11  "
      ]
     },
     "execution_count": 33,
     "metadata": {},
     "output_type": "execute_result"
    }
   ],
   "source": [
    "def to_days(x):\n",
    "    month_to_days = {1:0, 2:31, 3:60, 4:91, 5:121, 6:152, 7:182, 8:213, 9:244, 10:274, 11:305, 12:335}\n",
    "    return month_to_days[x]\n",
    "\n",
    "train.loc[:, 'Day'] = train['Month'].apply(lambda x: to_days(x))\n",
    "train['Day'] = train['Day'] + train['Day_of_Month']\n",
    "\n",
    "test.loc[:, 'Day'] = test['Month'].apply(lambda x: to_days(x))\n",
    "test['Day'] = test['Day'] + test['Day_of_Month']\n",
    "\n",
    "train = train.astype({'Day':object})\n",
    "test = test.astype({'Day':object})\n",
    "\n",
    "print(\"Day Done.\")\n",
    "train.head()"
   ]
  },
  {
   "cell_type": "markdown",
   "metadata": {
    "id": "ICO__Anri4b2"
   },
   "source": [
    "## 2. 결측치처리1 - State\n",
    "이미 했음"
   ]
  },
  {
   "cell_type": "markdown",
   "metadata": {},
   "source": [
    "## 3. 결측치처리2 - Carrier_ID(DOT) \n",
    "이미한 것 + 추가처리\n",
    "\n",
    "\n",
    "+ **Airline - Carrier_ID(DOT)  페어로 진행**\n",
    "\n",
    "+ Airline - Carrier_Code(IATA)\n",
    "    Airline - Carrier_Code(IATA)는 Airline에 따라 값이 여러개인 것이 많아서 생략\n",
    "\n",
    "+ Tail_Number - Carrier_Code(IATA) or Carrier_ID(DOT)\n",
    "    Tail_Number 마다 값 여러개인 것 많아서 이용하지 않음"
   ]
  },
  {
   "cell_type": "markdown",
   "metadata": {},
   "source": [
    "### 3.1. 복구안된 row 빼기"
   ]
  },
  {
   "cell_type": "code",
   "execution_count": 47,
   "metadata": {},
   "outputs": [
    {
     "name": "stdout",
     "output_type": "stream",
     "text": [
      "ID                             0\n",
      "Origin_Airport_ID              0\n",
      "Destination_Airport_ID         0\n",
      "Distance                       0\n",
      "Carrier_ID(DOT)            11745\n",
      "Tail_Number                    0\n",
      "Delay                     736342\n",
      "Day                            0\n",
      "EDT                            0\n",
      "EAT                            0\n",
      "dtype: int64\n",
      "ID                             0\n",
      "Origin_Airport_ID              0\n",
      "Destination_Airport_ID         0\n",
      "Distance                       0\n",
      "Carrier_ID(DOT)                0\n",
      "Tail_Number                    0\n",
      "Delay                     727546\n",
      "Day                            0\n",
      "EDT                            0\n",
      "EAT                            0\n",
      "dtype: int64\n"
     ]
    }
   ],
   "source": [
    "# 복구 안 된 row 빼기\n",
    "print(train.isnull().sum())\n",
    "train = train.dropna(subset=['Carrier_ID(DOT)'], how='any', axis=0)\n",
    "print(train.isnull().sum())"
   ]
  },
  {
   "cell_type": "markdown",
   "metadata": {},
   "source": [
    "### 3.2. Test Data 처리\n",
    "\n",
    "test data의 경우 복구 안 된 row를 빼 버리면 안됩니다. 복구 안된 row도 예측을 해야되기 때문이죠. 따라서, Airline, Carrier_ID(DOT) 둘 다 없는 row는 Carrier_ID(DOT)에 최빈 값의 Carrier_ID(DOT)을 채워주도록 하자"
   ]
  },
  {
   "cell_type": "code",
   "execution_count": 52,
   "metadata": {},
   "outputs": [
    {
     "name": "stdout",
     "output_type": "stream",
     "text": [
      "Cid Done.\n"
     ]
    }
   ],
   "source": [
    "# Airline, Carrier_Code 둘 다 없으면 최빈 값으로 대체\n",
    "NaN_col = ['Carrier_ID(DOT)']\n",
    "cond = test['Carrier_ID(DOT)'].isnull()\n",
    "\n",
    "for col in NaN_col:\n",
    "    mode = test[col].mode()[0]\n",
    "    test.loc[cond, col] = mode\n",
    "\n",
    "print(\"Cid Done.\")"
   ]
  },
  {
   "cell_type": "code",
   "execution_count": 53,
   "metadata": {},
   "outputs": [
    {
     "data": {
      "text/plain": [
       "ID                        0\n",
       "Origin_Airport_ID         0\n",
       "Destination_Airport_ID    0\n",
       "Distance                  0\n",
       "Carrier_ID(DOT)           0\n",
       "Tail_Number               0\n",
       "Day                       0\n",
       "EDT                       0\n",
       "EAT                       0\n",
       "dtype: int64"
      ]
     },
     "execution_count": 53,
     "metadata": {},
     "output_type": "execute_result"
    }
   ],
   "source": [
    "test.isnull().sum()"
   ]
  },
  {
   "cell_type": "markdown",
   "metadata": {},
   "source": [
    "## 4. 제거할 Columns 제거\n",
    "\n",
    "+ Month, Day_of_Month 는 Day의 데이터로 합쳐졌으니 제거합니다.\n",
    "+ Cancelled, Diverted 는 모두 0이므로 의미없는 값이므로 제거합니다.\n",
    "+ Origin_Airport, Destination_Airport 는 Origin_Airport_ID와 Destination_Airport_ID와 1대1대응 이므로 제거합니다.\n",
    "+ Carrier_Code(IATA)는 Airline 별로 N:1로 할당 된 값이므로, 큰 의미가 없습니다. 제거합니다.\n",
    "+ ~~State 정보 보다는 Origin_Airport_ID가 중요하다고 생각되어서 (미국 주는 너무 커서 의미가 없다고 생각했음) 제거했습니다.~~"
   ]
  },
  {
   "cell_type": "code",
   "execution_count": 34,
   "metadata": {},
   "outputs": [
    {
     "name": "stdout",
     "output_type": "stream",
     "text": [
      "Drop Done.\n"
     ]
    }
   ],
   "source": [
    "col_drop = ['Month', 'Day_of_Month', 'Cancelled', 'Diverted', 'Origin_Airport', 'Destination_Airport', 'Carrier_Code(IATA)', 'Airline', 'Origin_State', 'Destination_State']\n",
    "train = train.drop(col_drop, axis=1)\n",
    "test = test.drop(col_drop, axis=1)\n",
    "print(\"Drop Done.\")"
   ]
  },
  {
   "cell_type": "markdown",
   "metadata": {},
   "source": [
    "## 5. Estimated Departure Time (EDT), Estimated Arrival Time (EAT) 복구\n",
    "\n",
    "Airline, Carrier_ID(DOT)의 경우와 비슷하게 EDT → EAT 복구, EAT → EDT 복구가 가능합니다.\n",
    "복구 방법은 결측치가 없는 Origin_Airport_ID → Destination_Airport_ID 의 정보를 이용하는 것 입니다.\n",
    "본 데이터를 살펴보신분들은 아시겠지만, EDT보다 EAT가 낮은 경우도 있습니다. (-시차 때문에 발생) 하지만, 이것과 별개로 특정 출발지 → 도착지의 관계에서는 EAT-EDT가 평균적으로 비슷할 것 입니다. (마이너스인 경우에도 항상 마이너스기 때문에 비슷할 것) 언제 출발이던 인천 → 오사카의 걸리는 시간은 비슷하기 때문입니다.\n",
    "따라서 기존 데이터로부터 Origin_Airport_ID (=OAID), Origin_Departure_ID (=ODID)의 쌍에 대해 걸리는 평균 시간을 구하면 EDT, EAT 둘 중 하나만 알고 있으면 서로 데이터 복구가 가능합니다.\n",
    "이 과정에서, 계산을 용이하게 하기 위해 hour:minute의 데이터를 모두 minute으로 변경해주었고 (하루 24시 = 1440분) 이 과정에서 EAT-EDT 했을 때, 음수가 나올 수 있는데 이것을 처리하기 위해 modular 연산을 이용했습니다."
   ]
  },
  {
   "cell_type": "markdown",
   "metadata": {},
   "source": [
    "### 5.1. Arrival Time & Departure Time 둘 다 60분 * 24 = 1440 계로 바꿔주기"
   ]
  },
  {
   "cell_type": "code",
   "execution_count": 35,
   "metadata": {},
   "outputs": [],
   "source": [
    "def to_minutes(x):\n",
    "    x = int(x)\n",
    "    x = str(x)\n",
    "    if len(x) > 2:\n",
    "        hours, mins = int(x[:-2]), int(x[-2:])\n",
    "    else:\n",
    "        hours, mins = 0, int(x[-2:])\n",
    "    return hours*60+mins\n",
    "\n",
    "estimated_times = ['Estimated_Departure_Time', 'Estimated_Arrival_Time']\n",
    "\n",
    "for ET in estimated_times:\n",
    "    cond = ~train[ET].isnull()\n",
    "    train.loc[cond, ET] = train.loc[cond, ET].apply(lambda x: to_minutes(x))\n",
    "    cond2 = ~test[ET].isnull()\n",
    "    test.loc[cond2, ET] = test.loc[cond2, ET].apply(lambda x: to_minutes(x))"
   ]
  },
  {
   "cell_type": "markdown",
   "metadata": {},
   "source": [
    "### 5.2. EAT, EDT 모두 없는 값은 Training에 도움이 안 되므로 빼주기"
   ]
  },
  {
   "cell_type": "code",
   "execution_count": 36,
   "metadata": {},
   "outputs": [],
   "source": [
    "train = train.dropna(subset=['Estimated_Arrival_Time', 'Estimated_Departure_Time'], how ='all', axis=0)"
   ]
  },
  {
   "cell_type": "markdown",
   "metadata": {},
   "source": [
    "### 5.3. (OAID, DAID)를 키로 갖고, 평균 비행시간을 값으로 갖는 dictionary 만들기"
   ]
  },
  {
   "cell_type": "code",
   "execution_count": 37,
   "metadata": {},
   "outputs": [],
   "source": [
    "from collections import defaultdict\n",
    "time_flying = defaultdict(int)  # 비행 시간 합 저장 후 평균 비해 시간 저장\n",
    "time_number = defaultdict(int)  # 비행 횟수 저장\n",
    "\n",
    "cond_arr2 = ~train['Estimated_Arrival_Time'].isnull()\n",
    "cond_dep2 = ~train['Estimated_Departure_Time'].isnull()\n",
    "\n",
    "for _, row in train.loc[cond_arr2 & cond_dep2, :].iterrows():\n",
    "    OAID, DAID = row['Origin_Airport_ID'], row['Destination_Airport_ID']\n",
    "    time_flying[(OAID,DAID)] += (row['Estimated_Arrival_Time'] - row['Estimated_Departure_Time'])%1440 # 하루 최대는 1440분\n",
    "    time_number[(OAID,DAID)] += 1\n",
    "    \n",
    "    \n",
    "for key in time_flying.keys():\n",
    "    time_flying[key] /= time_number[key]"
   ]
  },
  {
   "cell_type": "markdown",
   "metadata": {},
   "source": [
    "### 5.4. Dictionary를 이용해 EAT, EDT 복구"
   ]
  },
  {
   "cell_type": "code",
   "execution_count": 38,
   "metadata": {},
   "outputs": [],
   "source": [
    "for index, row in train.loc[train['Estimated_Departure_Time'].isnull(),].iterrows():\n",
    "    OAID, DAID = row['Origin_Airport_ID'], row['Destination_Airport_ID']\n",
    "    train.loc[index,'Estimated_Departure_Time'] = \\\n",
    "        (train.loc[index]['Estimated_Arrival_Time'] - time_flying[(OAID, DAID)])%1440\n",
    "    \n",
    "for index, row in train.loc[train['Estimated_Arrival_Time'].isnull(),].iterrows():\n",
    "    OAID, DAID = row['Origin_Airport_ID'], row['Destination_Airport_ID']\n",
    "    train.loc[index,'Estimated_Arrival_Time'] = \\\n",
    "        (train.loc[index]['Estimated_Departure_Time'] + time_flying[(OAID, DAID)])%1440"
   ]
  },
  {
   "cell_type": "markdown",
   "metadata": {},
   "source": [
    "### 5.5. Test Data 처리\n",
    "test data의 경우 복구 안 된 row를 빼 버리면 안됩니다. 복구 안된 row도 예측을 해야되기 때문이죠.\n",
    "\n",
    "~~따라서, EAT, EDT 둘 다 없는 row는 각각의 최빈값을 채워주도록 하고 나머지는 복구를 해줍니다.~~\n",
    "\n",
    "EAT, EDT 둘 다 없는 row는 9999로 대체후 추후 null로 바꾸기"
   ]
  },
  {
   "cell_type": "code",
   "execution_count": 39,
   "metadata": {},
   "outputs": [
    {
     "name": "stdout",
     "output_type": "stream",
     "text": [
      "EDT, EAT Done.\n"
     ]
    }
   ],
   "source": [
    "# (Test Data Only)\n",
    "# 둘 다 없으면 9999로 우선 대체\n",
    "cond_1 = test['Estimated_Departure_Time'].isnull()\n",
    "cond_2 = test['Estimated_Arrival_Time'].isnull()\n",
    "\n",
    "# mode = test['Estimated_Departure_Time'].mode()[0]\n",
    "# mode2 = test['Estimated_Arrival_Time'].mode()[0]\n",
    "mode = 9999\n",
    "mode2 = 9999\n",
    "test.loc[cond_1&cond_2, ['Estimated_Departure_Time', 'Estimated_Arrival_Time']] = mode, mode2\n",
    "\n",
    "\n",
    "# Departure만 없을 때,\n",
    "for index, row in test.loc[test['Estimated_Departure_Time'].isnull(),].iterrows():\n",
    "    OAID, DAID = row['Origin_Airport_ID'], row['Destination_Airport_ID']\n",
    "    test.loc[index,'Estimated_Departure_Time'] = \\\n",
    "        (test.loc[index]['Estimated_Arrival_Time'] - time_flying[(OAID, DAID)])%1440\n",
    "    \n",
    "\n",
    "# Arrival만 없을 때,\n",
    "for index, row in test.loc[test['Estimated_Arrival_Time'].isnull(),].iterrows():\n",
    "    OAID, DAID = row['Origin_Airport_ID'], row['Destination_Airport_ID']\n",
    "    test.loc[index,'Estimated_Arrival_Time'] = \\\n",
    "        (test.loc[index]['Estimated_Departure_Time'] + time_flying[(OAID, DAID)])%1440\n",
    "\n",
    "    \n",
    "# 모두 int로 바꾼다.\n",
    "estimated_times = ['Estimated_Departure_Time', 'Estimated_Arrival_Time']\n",
    "train = train.astype({'Estimated_Departure_Time':int, 'Estimated_Arrival_Time':int})\n",
    "test = test.astype({'Estimated_Departure_Time':int, 'Estimated_Arrival_Time':int})\n",
    "for ET in estimated_times:\n",
    "    train.loc[train[ET] == 1440, ET] = 0\n",
    "    test.loc[test[ET] == 1440, ET] = 0\n",
    "\n",
    "\n",
    "print(\"EDT, EAT Done.\")"
   ]
  },
  {
   "cell_type": "code",
   "execution_count": 44,
   "metadata": {},
   "outputs": [
    {
     "data": {
      "text/plain": [
       "ID                             0\n",
       "Origin_Airport_ID              0\n",
       "Destination_Airport_ID         0\n",
       "Distance                       0\n",
       "Carrier_ID(DOT)            11745\n",
       "Tail_Number                    0\n",
       "Delay                     736342\n",
       "Day                            0\n",
       "EDT                            0\n",
       "EAT                            0\n",
       "dtype: int64"
      ]
     },
     "execution_count": 44,
     "metadata": {},
     "output_type": "execute_result"
    }
   ],
   "source": [
    "train.isnull().sum()"
   ]
  },
  {
   "cell_type": "code",
   "execution_count": 45,
   "metadata": {},
   "outputs": [
    {
     "data": {
      "text/plain": [
       "ID                            0\n",
       "Origin_Airport_ID             0\n",
       "Destination_Airport_ID        0\n",
       "Distance                      0\n",
       "Carrier_ID(DOT)           11543\n",
       "Tail_Number                   0\n",
       "Day                           0\n",
       "EDT                           0\n",
       "EAT                           0\n",
       "dtype: int64"
      ]
     },
     "execution_count": 45,
     "metadata": {},
     "output_type": "execute_result"
    }
   ],
   "source": [
    "test.isnull().sum()"
   ]
  },
  {
   "cell_type": "markdown",
   "metadata": {},
   "source": [
    "## 6. Object화 for CatBoost"
   ]
  },
  {
   "cell_type": "markdown",
   "metadata": {},
   "source": [
    "### 6.1. EDT, EAT 처리\n",
    "특정 시간이 비행기 연착에 영향을 미칠 것으로 생각했습니다. 따라서 EDT, EAT경우 30분 단위로 48개의 bin에 담아서 object화 해주었습니다. 그렇게 함으로써 ordinal한 관계는 전혀 없으면서 비슷한 시간대(30분 단위)는 같은 특성을 갖도록 했습니다."
   ]
  },
  {
   "cell_type": "code",
   "execution_count": 43,
   "metadata": {},
   "outputs": [
    {
     "name": "stdout",
     "output_type": "stream",
     "text": [
      "EDT, EAT Done.\n"
     ]
    }
   ],
   "source": [
    "# EDT, EAT 48개의 bins에 담으면 된다. 1440(60*24) 계니까, 48씩 끊어서 하면 될 듯\n",
    "estimate_times = ['Estimated_Departure_Time', 'Estimated_Arrival_Time']\n",
    "names = {'Estimated_Departure_Time':'EDT', 'Estimated_Arrival_Time':'EAT'}\n",
    "for ET in estimated_times:\n",
    "    for i in range(48):\n",
    "        train.loc[train[ET].between(i*30, (i+1)*30, 'left'), names[ET]] = i\n",
    "        test.loc[test[ET].between(i*30, (i+1)*30, 'left'), names[ET]] = i\n",
    "    \n",
    "    train.loc[train[ET].between(9999, 10000, 'left'), names[ET]] = 48\n",
    "    test.loc[test[ET].between(9999, 10000, 'left'), names[ET]] = 48\n",
    "\n",
    "train = train.astype({'EDT':int, 'EAT':int})\n",
    "test = test.astype({'EDT':int, 'EAT':int})\n",
    "\n",
    "train = train.drop(['Estimated_Departure_Time', 'Estimated_Arrival_Time'], axis=1)\n",
    "test = test.drop(['Estimated_Departure_Time', 'Estimated_Arrival_Time'], axis=1)\n",
    "\n",
    "print(\"EDT, EAT Done.\")"
   ]
  },
  {
   "cell_type": "markdown",
   "metadata": {},
   "source": [
    "### 6.2. Distance 및 모든 값 object 처리"
   ]
  },
  {
   "cell_type": "code",
   "execution_count": 54,
   "metadata": {},
   "outputs": [
    {
     "name": "stdout",
     "output_type": "stream",
     "text": [
      "distance Done.\n",
      "CID Done.\n"
     ]
    }
   ],
   "source": [
    "for i in range(51):\n",
    "    train.loc[train['Distance'].between(i*100, (i+1)*100, 'left'), 'Distance'] = i\n",
    "    test.loc[test['Distance'].between(i*100, (i+1)*100, 'left'), 'Distance'] = i\n",
    "\n",
    "train = train.astype({'Distance':int})\n",
    "test = test.astype({'Distance':int})\n",
    "\n",
    "print(\"distance Done.\")\n",
    "\n",
    "train = train.astype({'Carrier_ID(DOT)':int})\n",
    "test = test.astype({'Carrier_ID(DOT)':int})\n",
    "\n",
    "train = train.astype({'EDT':object, 'EAT':object, 'Distance':object, 'Origin_Airport_ID':object, \\\n",
    "                     'Destination_Airport_ID':object, 'Carrier_ID(DOT)':object})\n",
    "test = test.astype({'EDT':object, 'EAT':object, 'Distance':object, 'Origin_Airport_ID':object, \\\n",
    "                     'Destination_Airport_ID':object, 'Carrier_ID(DOT)':object})\n",
    "\n",
    "print(\"CID Done.\")"
   ]
  },
  {
   "cell_type": "code",
   "execution_count": 55,
   "metadata": {},
   "outputs": [
    {
     "data": {
      "text/plain": [
       "ID                             0\n",
       "Origin_Airport_ID              0\n",
       "Destination_Airport_ID         0\n",
       "Distance                       0\n",
       "Carrier_ID(DOT)                0\n",
       "Tail_Number                    0\n",
       "Delay                     727546\n",
       "Day                            0\n",
       "EDT                            0\n",
       "EAT                            0\n",
       "dtype: int64"
      ]
     },
     "execution_count": 55,
     "metadata": {},
     "output_type": "execute_result"
    }
   ],
   "source": [
    "train.isnull().sum()"
   ]
  },
  {
   "cell_type": "code",
   "execution_count": 56,
   "metadata": {},
   "outputs": [
    {
     "data": {
      "text/plain": [
       "ID                        0\n",
       "Origin_Airport_ID         0\n",
       "Destination_Airport_ID    0\n",
       "Distance                  0\n",
       "Carrier_ID(DOT)           0\n",
       "Tail_Number               0\n",
       "Day                       0\n",
       "EDT                       0\n",
       "EAT                       0\n",
       "dtype: int64"
      ]
     },
     "execution_count": 56,
     "metadata": {},
     "output_type": "execute_result"
    }
   ],
   "source": [
    "test.isnull().sum()"
   ]
  },
  {
   "cell_type": "code",
   "execution_count": 58,
   "metadata": {},
   "outputs": [
    {
     "name": "stdout",
     "output_type": "stream",
     "text": [
      "<class 'pandas.core.frame.DataFrame'>\n",
      "Int64Index: 976567 entries, 1 to 999999\n",
      "Data columns (total 10 columns):\n",
      " #   Column                  Non-Null Count   Dtype \n",
      "---  ------                  --------------   ----- \n",
      " 0   ID                      976567 non-null  object\n",
      " 1   Origin_Airport_ID       976567 non-null  object\n",
      " 2   Destination_Airport_ID  976567 non-null  object\n",
      " 3   Distance                976567 non-null  object\n",
      " 4   Carrier_ID(DOT)         976567 non-null  object\n",
      " 5   Tail_Number             976567 non-null  object\n",
      " 6   Delay                   249021 non-null  object\n",
      " 7   Day                     976567 non-null  object\n",
      " 8   EDT                     976567 non-null  object\n",
      " 9   EAT                     976567 non-null  object\n",
      "dtypes: object(10)\n",
      "memory usage: 82.0+ MB\n"
     ]
    }
   ],
   "source": [
    "train.info()"
   ]
  },
  {
   "cell_type": "markdown",
   "metadata": {},
   "source": [
    "## 7.결측치 처리한 것 저장"
   ]
  },
  {
   "cell_type": "code",
   "execution_count": 57,
   "metadata": {},
   "outputs": [
    {
     "name": "stdout",
     "output_type": "stream",
     "text": [
      "몇 번째 전처리 방법인지 정수를 입력하세요 : 9\n"
     ]
    }
   ],
   "source": [
    "save_idx = input('몇 번째 전처리 방법인지 정수를 입력하세요 : ')\n",
    "train_save_name = 'train_preprocess_' + save_idx\n",
    "test_save_name = 'test_preprocess_' + save_idx\n",
    "train.to_parquet(f'./data/{train_save_name}.parquet')\n",
    "test.to_parquet(f'./data/{test_save_name}.parquet')"
   ]
  },
  {
   "cell_type": "code",
   "execution_count": null,
   "metadata": {},
   "outputs": [],
   "source": []
  },
  {
   "cell_type": "code",
   "execution_count": null,
   "metadata": {},
   "outputs": [],
   "source": []
  },
  {
   "cell_type": "code",
   "execution_count": null,
   "metadata": {},
   "outputs": [],
   "source": []
  },
  {
   "cell_type": "code",
   "execution_count": null,
   "metadata": {},
   "outputs": [],
   "source": []
  }
 ],
 "metadata": {
  "colab": {
   "authorship_tag": "ABX9TyOt+IlY3oU3dEkCKHi2bVBw",
   "machine_shape": "hm",
   "mount_file_id": "1IgBELre5zixY8eogePhZKWB_GlZpWi2H",
   "provenance": [],
   "toc_visible": true
  },
  "gpuClass": "standard",
  "kernelspec": {
   "display_name": "Python 3 (ipykernel)",
   "language": "python",
   "name": "python3"
  },
  "language_info": {
   "codemirror_mode": {
    "name": "ipython",
    "version": 3
   },
   "file_extension": ".py",
   "mimetype": "text/x-python",
   "name": "python",
   "nbconvert_exporter": "python",
   "pygments_lexer": "ipython3",
   "version": "3.10.9"
  }
 },
 "nbformat": 4,
 "nbformat_minor": 1
}
