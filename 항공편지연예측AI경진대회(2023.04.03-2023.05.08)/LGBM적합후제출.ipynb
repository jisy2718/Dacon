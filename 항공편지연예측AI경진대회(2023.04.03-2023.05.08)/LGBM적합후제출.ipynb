{
 "cells": [
  {
   "cell_type": "code",
   "execution_count": 1,
   "metadata": {
    "executionInfo": {
     "elapsed": 11,
     "status": "ok",
     "timestamp": 1680692146763,
     "user": {
      "displayName": "지승영",
      "userId": "07006377205744982370"
     },
     "user_tz": -540
    },
    "id": "pO82uV5UhWZo"
   },
   "outputs": [],
   "source": [
    "import pandas as pd\n",
    "import numpy as np\n",
    "import random\n",
    "import os\n",
    "import gc\n",
    "\n",
    "from sklearn.ensemble import RandomForestClassifier\n",
    "from sklearn.preprocessing import LabelEncoder\n",
    "\n",
    "def seed_everything(seed):\n",
    "    random.seed(seed)\n",
    "    os.environ['PYTHONHASHSEED'] = str(seed)\n",
    "    np.random.seed(seed)\n",
    "seed_everything(42) # Seed 고정"
   ]
  },
  {
   "cell_type": "markdown",
   "metadata": {
    "id": "3tfPeXLWiHwL"
   },
   "source": [
    "### Data  & SPLIT"
   ]
  },
  {
   "cell_type": "code",
   "execution_count": 2,
   "metadata": {},
   "outputs": [
    {
     "name": "stdout",
     "output_type": "stream",
     "text": [
      "(377014, 20)\n",
      "Not_Delayed    210001\n",
      "Delayed         45000\n",
      "Name: Delay, dtype: int64\n",
      "\n",
      "(301611, 17) (75403, 17)\n",
      "0    265614\n",
      "1     35997\n",
      "Name: Delay_num, dtype: int64\n",
      "0    66400\n",
      "1     9003\n",
      "Name: Delay_num, dtype: int64\n"
     ]
    }
   ],
   "source": [
    "train = pd.read_parquet('./data/train_preprocess_4.parquet')\n",
    "# test = pd.read_parquet('./test.parquet')\n",
    "test = pd.read_parquet('./data/test_preprocess_4.parquet')\n",
    "sample_submission = pd.read_csv('sample_submission.csv', index_col = 0)\n",
    "\n",
    "print(train.shape)\n",
    "print(train.Delay.value_counts())\n",
    "print()\n",
    "\n",
    "from sklearn.model_selection  import train_test_split\n",
    "train_x, val_x, train_y, val_y = train_test_split(train.drop(columns=['ID', 'Delay', 'Delay_num']), train['Delay_num'], test_size=0.2, random_state=42)\n",
    "\n",
    "print(train_x.shape, val_x.shape)\n",
    "print(train_y.value_counts())\n",
    "print(val_y.value_counts())"
   ]
  },
  {
   "cell_type": "code",
   "execution_count": 3,
   "metadata": {},
   "outputs": [
    {
     "name": "stdout",
     "output_type": "stream",
     "text": [
      "(377014, 20) (1000000, 18)\n"
     ]
    }
   ],
   "source": [
    "test_x = test.drop(columns=['ID'])\n",
    "print(train.shape, test.shape)"
   ]
  },
  {
   "cell_type": "markdown",
   "metadata": {
    "id": "k5mdobqLjjex"
   },
   "source": [
    "### 모델적합 1 - GRID SEARCH\n",
    "+ 최저의 Loss를 갖는 모델 적합"
   ]
  },
  {
   "cell_type": "code",
   "execution_count": 4,
   "metadata": {},
   "outputs": [],
   "source": [
    "# custom loss 함수 정의 : fitting 시간 측정용도\n",
    "from sklearn.metrics import make_scorer, log_loss\n",
    "import sys\n",
    "import time\n",
    "\n",
    "def custom_scorer(true, pred, counter=[0], start_time=[None]):\n",
    "    if start_time[0] is None:\n",
    "        start_time[0] = time.time()\n",
    "\n",
    "    counter[0] += 1\n",
    "\n",
    "    if counter[0] % 10 == 0:\n",
    "        elapsed_time = time.time() - start_time[0]\n",
    "        progress = (counter[0] / total_fits) * 100\n",
    "        sys.stdout.write(f\"\\r진행률: {progress:.2f}% | 걸린 시간: {elapsed_time:.2f}초\")\n",
    "        sys.stdout.flush()\n",
    "\n",
    "    return -log_loss(true, pred)  # log_loss를 계산한 후 음수로 변환합니다.\n",
    "\n",
    "custom_score = make_scorer(custom_scorer, greater_is_better=True, needs_proba=True)\n"
   ]
  },
  {
   "cell_type": "markdown",
   "metadata": {},
   "source": [
    "#### 2-1 전처리 이용"
   ]
  },
  {
   "cell_type": "code",
   "execution_count": 10,
   "metadata": {
    "colab": {
     "base_uri": "https://localhost:8080/"
    },
    "executionInfo": {
     "elapsed": 439671,
     "status": "ok",
     "timestamp": 1680692700594,
     "user": {
      "displayName": "지승영",
      "userId": "07006377205744982370"
     },
     "user_tz": -540
    },
    "id": "bSjXXrcZD7k1",
    "outputId": "2fee0f1c-265e-4de1-cd15-6755809e5fc6"
   },
   "outputs": [
    {
     "name": "stdout",
     "output_type": "stream",
     "text": [
      "Fitting 5 folds for each of 81 candidates, totalling 405 fits\n",
      "최적의 파라미터: {'learning_rate': 0.1, 'max_depth': 7, 'n_estimators': 200, 'num_leaves': 31}\n",
      "최고의 점수: 0.4395\n"
     ]
    }
   ],
   "source": [
    "# 2-1 전처리 이용\n",
    "train = pd.read_parquet('./data/train_preprocess_2-1.parquet')\n",
    "test = pd.read_parquet('./data/test_preprocess_2-1.parquet')\n",
    "\n",
    "\n",
    "# grid search 1\n",
    "import numpy as np\n",
    "import pandas as pd\n",
    "from sklearn.model_selection import train_test_split, GridSearchCV\n",
    "from lightgbm import LGBMClassifier\n",
    "\n",
    "\n",
    "# 전체 데이터 이용\n",
    "train_x = train.drop(columns=['ID', 'Delay', 'Delay_num'])\n",
    "train_y = train['Delay_num']\n",
    "test_x = test.drop(columns=['ID'])\n",
    "\n",
    "# 모델 정의\n",
    "lgbm = LGBMClassifier(random_state=42)\n",
    "\n",
    "# 그리드 서치를 위한 파라미터 그리드 정의\n",
    "param_grid = {\n",
    "    \"n_estimators\": [50, 100, 200],\n",
    "    \"max_depth\": [3, 5, 7],\n",
    "    \"learning_rate\": [0.01, 0.1, 0.2],\n",
    "    \"num_leaves\": [7, 15, 31],\n",
    "}\n",
    "\n",
    "# 그리드 서치를 위한 GridSearchCV 객체 생성\n",
    "grid_search = GridSearchCV(\n",
    "    estimator=lgbm,\n",
    "    param_grid=param_grid,\n",
    "    scoring=\"neg_log_loss\",\n",
    "    cv=5,\n",
    "    verbose=1,\n",
    "    n_jobs=-1,\n",
    ")\n",
    "\n",
    "# 그리드 서치를 수행\n",
    "grid_search.fit(train_x, train_y)\n",
    "\n",
    "# 최적의 파라미터와 최고의 점수 출력\n",
    "print(f\"최적의 파라미터: {grid_search.best_params_}\")\n",
    "print(f\"최고의 점수: {-1 * grid_search.best_score_:.4f}\")\n",
    "\n",
    "# 최적의 파라미터를 사용한 최종 모델\n",
    "best_lgbm = grid_search.best_estimator_\n"
   ]
  },
  {
   "cell_type": "code",
   "execution_count": 14,
   "metadata": {
    "colab": {
     "base_uri": "https://localhost:8080/"
    },
    "executionInfo": {
     "elapsed": 1429443,
     "status": "ok",
     "timestamp": 1680694740352,
     "user": {
      "displayName": "지승영",
      "userId": "07006377205744982370"
     },
     "user_tz": -540
    },
    "id": "DSgkUFoJbHPV",
    "outputId": "32ff8bab-ff13-4da4-bbc0-207175de38ea"
   },
   "outputs": [
    {
     "name": "stdout",
     "output_type": "stream",
     "text": [
      "Fitting 5 folds for each of 144 candidates, totalling 720 fits\n",
      "최적의 파라미터: {'learning_rate': 0.1, 'max_depth': 7, 'n_estimators': 300, 'num_leaves': 30}\n",
      "최고의 점수: 0.4391\n"
     ]
    }
   ],
   "source": [
    "# 2-1 전처리 이용\n",
    "train = pd.read_parquet('./data/train_preprocess_2-1.parquet')\n",
    "test = pd.read_parquet('./data/test_preprocess_2-1.parquet')\n",
    "\n",
    "\n",
    "# grid search2 from grid search1\n",
    "import numpy as np\n",
    "import pandas as pd\n",
    "from sklearn.model_selection import train_test_split, GridSearchCV\n",
    "from lightgbm import LGBMClassifier\n",
    "\n",
    "# 전체 데이터 이용\n",
    "train_x = train.drop(columns=['ID', 'Delay', 'Delay_num'])\n",
    "train_y = train['Delay_num']\n",
    "test_x = test.drop(columns=['ID'])\n",
    "\n",
    "# 모델 정의\n",
    "lgbm = LGBMClassifier(random_state=42)\n",
    "\n",
    "# 그리드 서치를 위한 파라미터 그리드 정의\n",
    "param_grid2 = {\n",
    "    \"n_estimators\": [150, 200, 250, 300],\n",
    "    \"max_depth\": [5, 7, 9],\n",
    "    \"learning_rate\": [0.05, 0.075, 0.1, 0.125],\n",
    "    \"num_leaves\": [20, 30, 40],\n",
    "}\n",
    "\n",
    "# 그리드 서치를 위한 GridSearchCV 객체 생성\n",
    "grid_search2 = GridSearchCV(\n",
    "    estimator=lgbm,\n",
    "    param_grid=param_grid2,\n",
    "    scoring=\"neg_log_loss\",\n",
    "    cv=5,\n",
    "    verbose=1,\n",
    "    n_jobs=-1,\n",
    ")\n",
    "\n",
    "# 그리드 서치를 수행\n",
    "grid_search2.fit(train_x, train_y)\n",
    "\n",
    "# 최적의 파라미터와 최고의 점수 출력\n",
    "print(f\"최적의 파라미터: {grid_search2.best_params_}\")\n",
    "print(f\"최고의 점수: {-1 * grid_search2.best_score_:.4f}\")\n",
    "\n",
    "# 최적의 파라미터를 사용한 최종 모델\n",
    "best_lgbm2 = grid_search2.best_estimator_\n"
   ]
  },
  {
   "cell_type": "code",
   "execution_count": 14,
   "metadata": {},
   "outputs": [
    {
     "name": "stdout",
     "output_type": "stream",
     "text": [
      "Fitting 5 folds for each of 180 candidates, totalling 900 fits\n",
      "최적의 파라미터: {'learning_rate': 0.075, 'max_depth': 7, 'n_estimators': 300, 'num_leaves': 45}\n",
      "최고의 점수: 0.4379\n"
     ]
    }
   ],
   "source": [
    "# 2-1 전처리 이용\n",
    "train = pd.read_parquet('./data/train_preprocess_2-1.parquet')\n",
    "test = pd.read_parquet('./data/test_preprocess_2-1.parquet')\n",
    "\n",
    "\n",
    "\n",
    "# grid search3 from grid search2\n",
    "import numpy as np\n",
    "import pandas as pd\n",
    "from sklearn.model_selection import train_test_split, GridSearchCV\n",
    "from lightgbm import LGBMClassifier\n",
    "\n",
    "# 전체 데이터 이용\n",
    "train_x = train.drop(columns=['ID', 'Delay', 'Delay_num'])\n",
    "train_y = train['Delay_num']\n",
    "test_x = test.drop(columns=['ID'])\n",
    "\n",
    "# 모델 정의\n",
    "lgbm = LGBMClassifier(random_state=42)\n",
    "\n",
    "# 그리드 서치를 위한 파라미터 그리드 정의\n",
    "param_grid3 = {\n",
    "    \"n_estimators\": [ 300, 400, 500, 600],\n",
    "    \"max_depth\": [ 7, 8, 9],\n",
    "    \"learning_rate\": [0.075, 0.1, 0.125],\n",
    "    \"num_leaves\": [25, 30, 35, 40, 45],\n",
    "}\n",
    "\n",
    "# 그리드 서치를 위한 GridSearchCV 객체 생성\n",
    "grid_search3 = GridSearchCV(\n",
    "    estimator=lgbm,\n",
    "    param_grid=param_grid3,\n",
    "    scoring=\"neg_log_loss\",\n",
    "    cv=5,\n",
    "    verbose=1,\n",
    "    n_jobs=-1,\n",
    ")\n",
    "\n",
    "# 그리드 서치를 수행\n",
    "grid_search3.fit(train_x, train_y)\n",
    "\n",
    "# 최적의 파라미터와 최고의 점수 출력\n",
    "print(f\"최적의 파라미터: {grid_search3.best_params_}\")\n",
    "print(f\"최고의 점수: {-1 * grid_search3.best_score_:.4f}\")\n",
    "\n",
    "# 최적의 파라미터를 사용한 최종 모델\n",
    "best_lgbm3 = grid_search3.best_estimator_"
   ]
  },
  {
   "cell_type": "markdown",
   "metadata": {},
   "source": [
    "#### 2-3 전처리 이용"
   ]
  },
  {
   "cell_type": "code",
   "execution_count": 32,
   "metadata": {},
   "outputs": [
    {
     "name": "stdout",
     "output_type": "stream",
     "text": [
      "Fitting 5 folds for each of 180 candidates, totalling 900 fits\n",
      "최적의 파라미터: {'learning_rate': 0.075, 'max_depth': 8, 'n_estimators': 400, 'num_leaves': 35}\n",
      "최고의 점수: 0.4381\n"
     ]
    }
   ],
   "source": [
    "# 2-3 전처리 이용\n",
    "train = pd.read_parquet('./data/train_preprocess_2-3.parquet')\n",
    "test = pd.read_parquet('./data/test_preprocess_2-3.parquet')\n",
    "\n",
    "# grid search\n",
    "import numpy as np\n",
    "import pandas as pd\n",
    "from sklearn.model_selection import train_test_split, GridSearchCV\n",
    "from lightgbm import LGBMClassifier\n",
    "\n",
    "# 전체 데이터 이용\n",
    "train_x = train.drop(columns=['ID', 'Delay', 'Delay_num'])\n",
    "train_y = train['Delay_num']\n",
    "test_x = test.drop(columns=['ID'])\n",
    "\n",
    "# 모델 정의\n",
    "lgbm = LGBMClassifier(random_state=42)\n",
    "\n",
    "# 그리드 서치를 위한 파라미터 그리드 정의\n",
    "param_grid3 = {\n",
    "    \"n_estimators\": [ 300, 400, 500, 600],\n",
    "    \"max_depth\": [ 7, 8, 9],\n",
    "    \"learning_rate\": [0.075, 0.1, 0.125],\n",
    "    \"num_leaves\": [25, 30, 35, 40, 45],\n",
    "}\n",
    "\n",
    "# 그리드 서치를 위한 GridSearchCV 객체 생성\n",
    "grid_search3 = GridSearchCV(\n",
    "    estimator=lgbm,\n",
    "    param_grid=param_grid3,\n",
    "    scoring=\"neg_log_loss\",\n",
    "    cv=5,\n",
    "    verbose=1,\n",
    "    n_jobs=-1,\n",
    ")\n",
    "\n",
    "# 그리드 서치를 수행\n",
    "grid_search3.fit(train_x, train_y)\n",
    "\n",
    "# 최적의 파라미터와 최고의 점수 출력\n",
    "print(f\"최적의 파라미터: {grid_search3.best_params_}\")\n",
    "print(f\"최고의 점수: {-1 * grid_search3.best_score_:.4f}\")\n",
    "\n",
    "# 최적의 파라미터를 사용한 최종 모델\n",
    "best_lgbm3 = grid_search3.best_estimator_"
   ]
  },
  {
   "cell_type": "markdown",
   "metadata": {},
   "source": [
    "#### 전처리3 이용"
   ]
  },
  {
   "cell_type": "code",
   "execution_count": 13,
   "metadata": {},
   "outputs": [],
   "source": [
    "# 1회 제출용\n",
    "\n",
    "# 전처리 3 이용\n",
    "train = pd.read_parquet('./data/train_preprocess_3.parquet')\n",
    "test = pd.read_parquet('./data/test_preprocess_3.parquet')\n",
    "\n",
    "# 전체 데이터 이용\n",
    "train_x = train.drop(columns=['ID', 'Delay', 'Delay_num'])\n",
    "train_y = train['Delay_num']\n",
    "test_x = test.drop(columns=['ID'])\n",
    "\n",
    "# 모델 정의\n",
    "lgbm = LGBMClassifier(random_state=42, learning_rate=0.075, max_depth=8, n_estimators=400, num_leaves=35)\n",
    "\n",
    "# 모델 fit\n",
    "lgbm.fit(train_x, train_y)\n",
    "\n",
    "# 예측\n",
    "y_pred = lgbm.predict_proba(test_x)"
   ]
  },
  {
   "cell_type": "code",
   "execution_count": 18,
   "metadata": {},
   "outputs": [
    {
     "name": "stdout",
     "output_type": "stream",
     "text": [
      "Fitting 5 folds for each of 1 candidates, totalling 5 fits\n",
      "최적의 파라미터: {'learning_rate': 0.075, 'max_depth': 8, 'n_estimators': 300, 'num_leaves': 30}\n",
      "최고의 점수: 0.1842\n"
     ]
    }
   ],
   "source": [
    "# 전처리 3 이용\n",
    "train = pd.read_parquet('./data/train_preprocess_3.parquet')\n",
    "test = pd.read_parquet('./data/test_preprocess_3.parquet')\n",
    "\n",
    "# grid search\n",
    "import numpy as np\n",
    "import pandas as pd\n",
    "from sklearn.model_selection import train_test_split, GridSearchCV\n",
    "from lightgbm import LGBMClassifier\n",
    "\n",
    "# 전체 데이터 이용\n",
    "train_x = train.drop(columns=['ID', 'Delay', 'Delay_num'])\n",
    "train_y = train['Delay_num']\n",
    "test_x = test.drop(columns=['ID'])\n",
    "\n",
    "# 모델 정의\n",
    "lgbm = LGBMClassifier(random_state=42)\n",
    "\n",
    "# 그리드 서치를 위한 파라미터 그리드 정의\n",
    "# param_grid = {\n",
    "#     \"n_estimators\": [ 300, 400, 500, 600],\n",
    "#     \"max_depth\": [ 7, 8, 9],\n",
    "#     \"learning_rate\": [0.075, 0.1, 0.125],\n",
    "#     \"num_leaves\": [25, 30, 35, 40, 45],\n",
    "# }\n",
    "\n",
    "param_grid = {\n",
    "    \"n_estimators\": [ 300],\n",
    "    \"max_depth\": [ 8],\n",
    "    \"learning_rate\": [0.075],\n",
    "    \"num_leaves\": [30],\n",
    "}\n",
    "\n",
    "# 그리드 서치를 위한 GridSearchCV 객체 생성\n",
    "grid_search = GridSearchCV(\n",
    "    estimator=lgbm,\n",
    "    param_grid=param_grid,\n",
    "#     scoring=\"neg_log_loss\",\n",
    "    scoring=custom_score,\n",
    "    cv=5,\n",
    "    verbose=1,\n",
    "    n_jobs=4,\n",
    ")\n",
    "\n",
    "# 그리드 서치를 수행\n",
    "grid_search.fit(train_x, train_y)\n",
    "\n",
    "# 최적의 파라미터와 최고의 점수 출력\n",
    "print(f\"최적의 파라미터: {grid_search.best_params_}\")\n",
    "print(f\"최고의 점수: {-1 * grid_search.best_score_:.4f}\")\n",
    "\n",
    "# 최적의 파라미터를 사용한 최종 모델\n",
    "best_lgbm = grid_search.best_estimator_"
   ]
  },
  {
   "cell_type": "markdown",
   "metadata": {},
   "source": [
    "#### 전처리4"
   ]
  },
  {
   "cell_type": "code",
   "execution_count": 6,
   "metadata": {},
   "outputs": [],
   "source": [
    "# 1회 제출용\n",
    "from lightgbm import LGBMClassifier\n",
    "# 전처리 3 이용\n",
    "train = pd.read_parquet('./data/train_preprocess_4.parquet')\n",
    "test = pd.read_parquet('./data/test_preprocess_4.parquet')\n",
    "\n",
    "# 전체 데이터 이용\n",
    "train_x = train.drop(columns=['ID', 'Delay', 'Delay_num'])\n",
    "train_y = train['Delay_num']\n",
    "test_x = test.drop(columns=['ID'])\n",
    "\n",
    "# 모델 정의\n",
    "lgbm = LGBMClassifier(random_state=42, learning_rate=0.075, max_depth=8, n_estimators=400, num_leaves=35)\n",
    "\n",
    "# 모델 fit\n",
    "lgbm.fit(train_x, train_y)\n",
    "\n",
    "# 예측\n",
    "y_pred = lgbm.predict_proba(test_x)"
   ]
  },
  {
   "cell_type": "code",
   "execution_count": 8,
   "metadata": {},
   "outputs": [],
   "source": [
    "# 트리적합\n",
    "from sklearn.ensemble import RandomForestClassifier\n",
    "clf = RandomForestClassifier()\n",
    "clf.fit(train_x, train_y)\n",
    "y_pred = clf.predict_proba(test_x)"
   ]
  },
  {
   "cell_type": "markdown",
   "metadata": {},
   "source": [
    "### 모델적합 2 - Bayesian opt"
   ]
  },
  {
   "cell_type": "markdown",
   "metadata": {},
   "source": [
    "#### 2-3 전처리 이용"
   ]
  },
  {
   "cell_type": "code",
   "execution_count": null,
   "metadata": {},
   "outputs": [],
   "source": [
    "# 전체 데이터로 적합\n",
    "import lightgbm as lgb\n",
    "import numpy as np\n",
    "import pandas as pd\n",
    "from bayes_opt import BayesianOptimization\n",
    "from sklearn.datasets import load_breast_cancer\n",
    "from sklearn.metrics import log_loss\n",
    "from sklearn.model_selection import train_test_split\n",
    "\n",
    "\n",
    "# LightGBM 데이터셋 객체 생성\n",
    "train_x = train.drop(columns=['ID', 'Delay', 'Delay_num'])\n",
    "train_y = train['Delay_num']\n",
    "train_data = lgb.Dataset(train_x, label=train_y)\n",
    "test_x = test.drop(columns=['ID'])\n",
    "\n",
    "# 목적 함수 정의\n",
    "def lgbm_eval(num_leaves, learning_rate, n_estimators, subsample, colsample_bytree, reg_alpha, reg_lambda):\n",
    "    params = {\n",
    "        \"objective\": \"binary\",\n",
    "        \"metric\": \"binary_logloss\",\n",
    "        \"verbosity\": -1,\n",
    "        \"boosting_type\": \"gbdt\",\n",
    "        \"num_leaves\": int(num_leaves),\n",
    "        \"learning_rate\": learning_rate,\n",
    "        \"n_estimators\": int(n_estimators),\n",
    "        \"subsample\": subsample,\n",
    "        \"colsample_bytree\": colsample_bytree,\n",
    "        \"reg_alpha\": reg_alpha,\n",
    "        \"reg_lambda\": reg_lambda,\n",
    "    }\n",
    "    cv_result = lgb.cv(params, train_data, nfold=5, seed=42, stratified=True, verbose_eval=None, metrics=[\"binary_logloss\"])\n",
    "    return -np.mean(cv_result[\"binary_logloss-mean\"])\n",
    "\n",
    "# 범위 설정\n",
    "bounds = {\n",
    "    \"num_leaves\": (20, 100),\n",
    "    \"learning_rate\": (0.01, 0.3),\n",
    "    \"n_estimators\": (10, 400),\n",
    "    \"subsample\": (0.6, 1),\n",
    "    \"colsample_bytree\": (0.6, 1),\n",
    "    \"reg_alpha\": (0, 3),\n",
    "    \"reg_lambda\": (0, 3),\n",
    "}\n"
   ]
  },
  {
   "cell_type": "code",
   "execution_count": 16,
   "metadata": {
    "collapsed": true
   },
   "outputs": [
    {
     "name": "stdout",
     "output_type": "stream",
     "text": [
      "|   iter    |  target   | colsam... | learni... | n_esti... | num_le... | reg_alpha | reg_la... | subsample |\n",
      "-------------------------------------------------------------------------------------------------------------\n"
     ]
    },
    {
     "name": "stderr",
     "output_type": "stream",
     "text": [
      "C:\\Users\\Administrator\\anaconda3\\lib\\site-packages\\lightgbm\\engine.py:573: UserWarning: Found `n_estimators` in params. Will use it instead of argument\n",
      "  _log_warning(f\"Found `{alias}` in params. Will use it instead of argument\")\n"
     ]
    },
    {
     "name": "stdout",
     "output_type": "stream",
     "text": [
      "| \u001b[0m1        \u001b[0m | \u001b[0m-0.445   \u001b[0m | \u001b[0m0.7498   \u001b[0m | \u001b[0m0.2857   \u001b[0m | \u001b[0m295.5    \u001b[0m | \u001b[0m67.89    \u001b[0m | \u001b[0m0.4681   \u001b[0m | \u001b[0m0.468    \u001b[0m | \u001b[0m0.6232   \u001b[0m |\n"
     ]
    },
    {
     "name": "stderr",
     "output_type": "stream",
     "text": [
      "C:\\Users\\Administrator\\anaconda3\\lib\\site-packages\\lightgbm\\engine.py:573: UserWarning: Found `n_estimators` in params. Will use it instead of argument\n",
      "  _log_warning(f\"Found `{alias}` in params. Will use it instead of argument\")\n"
     ]
    },
    {
     "name": "stdout",
     "output_type": "stream",
     "text": [
      "| \u001b[95m2        \u001b[0m | \u001b[95m-0.44    \u001b[0m | \u001b[95m0.9465   \u001b[0m | \u001b[95m0.1843   \u001b[0m | \u001b[95m286.1    \u001b[0m | \u001b[95m21.65    \u001b[0m | \u001b[95m2.91     \u001b[0m | \u001b[95m2.497    \u001b[0m | \u001b[95m0.6849   \u001b[0m |\n"
     ]
    },
    {
     "name": "stderr",
     "output_type": "stream",
     "text": [
      "C:\\Users\\Administrator\\anaconda3\\lib\\site-packages\\lightgbm\\engine.py:573: UserWarning: Found `n_estimators` in params. Will use it instead of argument\n",
      "  _log_warning(f\"Found `{alias}` in params. Will use it instead of argument\")\n"
     ]
    },
    {
     "name": "stdout",
     "output_type": "stream",
     "text": [
      "| \u001b[0m3        \u001b[0m | \u001b[0m-0.4433  \u001b[0m | \u001b[0m0.6727   \u001b[0m | \u001b[0m0.06319  \u001b[0m | \u001b[0m128.7    \u001b[0m | \u001b[0m61.98    \u001b[0m | \u001b[0m1.296    \u001b[0m | \u001b[0m0.8737   \u001b[0m | \u001b[0m0.8447   \u001b[0m |\n"
     ]
    },
    {
     "name": "stderr",
     "output_type": "stream",
     "text": [
      "C:\\Users\\Administrator\\anaconda3\\lib\\site-packages\\lightgbm\\engine.py:573: UserWarning: Found `n_estimators` in params. Will use it instead of argument\n",
      "  _log_warning(f\"Found `{alias}` in params. Will use it instead of argument\")\n"
     ]
    },
    {
     "name": "stdout",
     "output_type": "stream",
     "text": [
      "| \u001b[0m4        \u001b[0m | \u001b[0m-0.4412  \u001b[0m | \u001b[0m0.6558   \u001b[0m | \u001b[0m0.09472  \u001b[0m | \u001b[0m152.9    \u001b[0m | \u001b[0m56.49    \u001b[0m | \u001b[0m2.356    \u001b[0m | \u001b[0m0.599    \u001b[0m | \u001b[0m0.8057   \u001b[0m |\n"
     ]
    },
    {
     "name": "stderr",
     "output_type": "stream",
     "text": [
      "C:\\Users\\Administrator\\anaconda3\\lib\\site-packages\\lightgbm\\engine.py:573: UserWarning: Found `n_estimators` in params. Will use it instead of argument\n",
      "  _log_warning(f\"Found `{alias}` in params. Will use it instead of argument\")\n"
     ]
    },
    {
     "name": "stdout",
     "output_type": "stream",
     "text": [
      "| \u001b[0m5        \u001b[0m | \u001b[0m-0.4464  \u001b[0m | \u001b[0m0.837    \u001b[0m | \u001b[0m0.02347  \u001b[0m | \u001b[0m246.9    \u001b[0m | \u001b[0m33.64    \u001b[0m | \u001b[0m0.1952   \u001b[0m | \u001b[0m2.847    \u001b[0m | \u001b[0m0.9863   \u001b[0m |\n"
     ]
    },
    {
     "name": "stderr",
     "output_type": "stream",
     "text": [
      "C:\\Users\\Administrator\\anaconda3\\lib\\site-packages\\lightgbm\\engine.py:573: UserWarning: Found `n_estimators` in params. Will use it instead of argument\n",
      "  _log_warning(f\"Found `{alias}` in params. Will use it instead of argument\")\n"
     ]
    },
    {
     "name": "stdout",
     "output_type": "stream",
     "text": [
      "| \u001b[0m6        \u001b[0m | \u001b[0m-0.4455  \u001b[0m | \u001b[0m0.9234   \u001b[0m | \u001b[0m0.09834  \u001b[0m | \u001b[0m48.09    \u001b[0m | \u001b[0m74.74    \u001b[0m | \u001b[0m1.32     \u001b[0m | \u001b[0m0.3661   \u001b[0m | \u001b[0m0.7981   \u001b[0m |\n"
     ]
    },
    {
     "name": "stderr",
     "output_type": "stream",
     "text": [
      "C:\\Users\\Administrator\\anaconda3\\lib\\site-packages\\lightgbm\\engine.py:573: UserWarning: Found `n_estimators` in params. Will use it instead of argument\n",
      "  _log_warning(f\"Found `{alias}` in params. Will use it instead of argument\")\n"
     ]
    },
    {
     "name": "stdout",
     "output_type": "stream",
     "text": [
      "| \u001b[0m7        \u001b[0m | \u001b[0m-0.441   \u001b[0m | \u001b[0m0.6138   \u001b[0m | \u001b[0m0.2737   \u001b[0m | \u001b[0m110.9    \u001b[0m | \u001b[0m73.0     \u001b[0m | \u001b[0m0.9351   \u001b[0m | \u001b[0m1.56     \u001b[0m | \u001b[0m0.8187   \u001b[0m |\n"
     ]
    },
    {
     "name": "stderr",
     "output_type": "stream",
     "text": [
      "C:\\Users\\Administrator\\anaconda3\\lib\\site-packages\\lightgbm\\engine.py:573: UserWarning: Found `n_estimators` in params. Will use it instead of argument\n",
      "  _log_warning(f\"Found `{alias}` in params. Will use it instead of argument\")\n"
     ]
    },
    {
     "name": "stdout",
     "output_type": "stream",
     "text": [
      "| \u001b[0m8        \u001b[0m | \u001b[0m-0.4452  \u001b[0m | \u001b[0m0.6739   \u001b[0m | \u001b[0m0.2912   \u001b[0m | \u001b[0m312.3    \u001b[0m | \u001b[0m95.16    \u001b[0m | \u001b[0m2.684    \u001b[0m | \u001b[0m1.794    \u001b[0m | \u001b[0m0.9687   \u001b[0m |\n"
     ]
    },
    {
     "name": "stderr",
     "output_type": "stream",
     "text": [
      "C:\\Users\\Administrator\\anaconda3\\lib\\site-packages\\lightgbm\\engine.py:573: UserWarning: Found `n_estimators` in params. Will use it instead of argument\n",
      "  _log_warning(f\"Found `{alias}` in params. Will use it instead of argument\")\n"
     ]
    },
    {
     "name": "stdout",
     "output_type": "stream",
     "text": [
      "| \u001b[0m9        \u001b[0m | \u001b[0m-0.4525  \u001b[0m | \u001b[0m0.6354   \u001b[0m | \u001b[0m0.06684  \u001b[0m | \u001b[0m27.64    \u001b[0m | \u001b[0m46.03    \u001b[0m | \u001b[0m1.166    \u001b[0m | \u001b[0m0.814    \u001b[0m | \u001b[0m0.9315   \u001b[0m |\n"
     ]
    },
    {
     "name": "stderr",
     "output_type": "stream",
     "text": [
      "C:\\Users\\Administrator\\anaconda3\\lib\\site-packages\\lightgbm\\engine.py:573: UserWarning: Found `n_estimators` in params. Will use it instead of argument\n",
      "  _log_warning(f\"Found `{alias}` in params. Will use it instead of argument\")\n"
     ]
    },
    {
     "name": "stdout",
     "output_type": "stream",
     "text": [
      "| \u001b[0m10       \u001b[0m | \u001b[0m-0.4412  \u001b[0m | \u001b[0m0.7427   \u001b[0m | \u001b[0m0.09147  \u001b[0m | \u001b[0m221.7    \u001b[0m | \u001b[0m31.27    \u001b[0m | \u001b[0m2.407    \u001b[0m | \u001b[0m0.2237   \u001b[0m | \u001b[0m0.9948   \u001b[0m |\n"
     ]
    },
    {
     "name": "stderr",
     "output_type": "stream",
     "text": [
      "C:\\Users\\Administrator\\anaconda3\\lib\\site-packages\\lightgbm\\engine.py:573: UserWarning: Found `n_estimators` in params. Will use it instead of argument\n",
      "  _log_warning(f\"Found `{alias}` in params. Will use it instead of argument\")\n"
     ]
    },
    {
     "name": "stdout",
     "output_type": "stream",
     "text": [
      "| \u001b[0m11       \u001b[0m | \u001b[0m-0.4407  \u001b[0m | \u001b[0m0.6367   \u001b[0m | \u001b[0m0.2716   \u001b[0m | \u001b[0m300.6    \u001b[0m | \u001b[0m24.25    \u001b[0m | \u001b[0m0.2387   \u001b[0m | \u001b[0m2.055    \u001b[0m | \u001b[0m0.7481   \u001b[0m |\n"
     ]
    },
    {
     "name": "stderr",
     "output_type": "stream",
     "text": [
      "C:\\Users\\Administrator\\anaconda3\\lib\\site-packages\\lightgbm\\engine.py:573: UserWarning: Found `n_estimators` in params. Will use it instead of argument\n",
      "  _log_warning(f\"Found `{alias}` in params. Will use it instead of argument\")\n"
     ]
    },
    {
     "name": "stdout",
     "output_type": "stream",
     "text": [
      "| \u001b[0m12       \u001b[0m | \u001b[0m-0.441   \u001b[0m | \u001b[0m0.7722   \u001b[0m | \u001b[0m0.1026   \u001b[0m | \u001b[0m286.3    \u001b[0m | \u001b[0m21.7     \u001b[0m | \u001b[0m2.641    \u001b[0m | \u001b[0m1.297    \u001b[0m | \u001b[0m0.6452   \u001b[0m |\n"
     ]
    },
    {
     "name": "stderr",
     "output_type": "stream",
     "text": [
      "C:\\Users\\Administrator\\anaconda3\\lib\\site-packages\\lightgbm\\engine.py:573: UserWarning: Found `n_estimators` in params. Will use it instead of argument\n",
      "  _log_warning(f\"Found `{alias}` in params. Will use it instead of argument\")\n"
     ]
    },
    {
     "name": "stdout",
     "output_type": "stream",
     "text": [
      "| \u001b[0m13       \u001b[0m | \u001b[0m-0.4403  \u001b[0m | \u001b[0m0.7744   \u001b[0m | \u001b[0m0.1347   \u001b[0m | \u001b[0m294.1    \u001b[0m | \u001b[0m22.34    \u001b[0m | \u001b[0m1.342    \u001b[0m | \u001b[0m2.607    \u001b[0m | \u001b[0m0.9491   \u001b[0m |\n"
     ]
    },
    {
     "name": "stderr",
     "output_type": "stream",
     "text": [
      "C:\\Users\\Administrator\\anaconda3\\lib\\site-packages\\lightgbm\\engine.py:573: UserWarning: Found `n_estimators` in params. Will use it instead of argument\n",
      "  _log_warning(f\"Found `{alias}` in params. Will use it instead of argument\")\n"
     ]
    },
    {
     "name": "stdout",
     "output_type": "stream",
     "text": [
      "| \u001b[95m14       \u001b[0m | \u001b[95m-0.4397  \u001b[0m | \u001b[95m0.6493   \u001b[0m | \u001b[95m0.1501   \u001b[0m | \u001b[95m292.5    \u001b[0m | \u001b[95m32.79    \u001b[0m | \u001b[95m2.818    \u001b[0m | \u001b[95m2.224    \u001b[0m | \u001b[95m0.9547   \u001b[0m |\n"
     ]
    },
    {
     "name": "stderr",
     "output_type": "stream",
     "text": [
      "C:\\Users\\Administrator\\anaconda3\\lib\\site-packages\\lightgbm\\engine.py:573: UserWarning: Found `n_estimators` in params. Will use it instead of argument\n",
      "  _log_warning(f\"Found `{alias}` in params. Will use it instead of argument\")\n"
     ]
    },
    {
     "name": "stdout",
     "output_type": "stream",
     "text": [
      "| \u001b[0m15       \u001b[0m | \u001b[0m-0.4404  \u001b[0m | \u001b[0m1.0      \u001b[0m | \u001b[0m0.3      \u001b[0m | \u001b[0m279.9    \u001b[0m | \u001b[0m33.11    \u001b[0m | \u001b[0m3.0      \u001b[0m | \u001b[0m3.0      \u001b[0m | \u001b[0m0.9697   \u001b[0m |\n"
     ]
    },
    {
     "name": "stderr",
     "output_type": "stream",
     "text": [
      "C:\\Users\\Administrator\\anaconda3\\lib\\site-packages\\lightgbm\\engine.py:573: UserWarning: Found `n_estimators` in params. Will use it instead of argument\n",
      "  _log_warning(f\"Found `{alias}` in params. Will use it instead of argument\")\n"
     ]
    },
    {
     "name": "stdout",
     "output_type": "stream",
     "text": [
      "| \u001b[95m16       \u001b[0m | \u001b[95m-0.4394  \u001b[0m | \u001b[95m0.6229   \u001b[0m | \u001b[95m0.1421   \u001b[0m | \u001b[95m304.6    \u001b[0m | \u001b[95m41.35    \u001b[0m | \u001b[95m1.365    \u001b[0m | \u001b[95m2.9      \u001b[0m | \u001b[95m0.691    \u001b[0m |\n"
     ]
    },
    {
     "name": "stderr",
     "output_type": "stream",
     "text": [
      "C:\\Users\\Administrator\\anaconda3\\lib\\site-packages\\lightgbm\\engine.py:573: UserWarning: Found `n_estimators` in params. Will use it instead of argument\n",
      "  _log_warning(f\"Found `{alias}` in params. Will use it instead of argument\")\n"
     ]
    },
    {
     "name": "stdout",
     "output_type": "stream",
     "text": [
      "| \u001b[0m17       \u001b[0m | \u001b[0m-0.4502  \u001b[0m | \u001b[0m0.6      \u001b[0m | \u001b[0m0.01     \u001b[0m | \u001b[0m318.6    \u001b[0m | \u001b[0m35.41    \u001b[0m | \u001b[0m2.287    \u001b[0m | \u001b[0m2.118    \u001b[0m | \u001b[0m1.0      \u001b[0m |\n"
     ]
    },
    {
     "name": "stderr",
     "output_type": "stream",
     "text": [
      "C:\\Users\\Administrator\\anaconda3\\lib\\site-packages\\lightgbm\\engine.py:573: UserWarning: Found `n_estimators` in params. Will use it instead of argument\n",
      "  _log_warning(f\"Found `{alias}` in params. Will use it instead of argument\")\n"
     ]
    },
    {
     "name": "stdout",
     "output_type": "stream",
     "text": [
      "| \u001b[0m18       \u001b[0m | \u001b[0m-0.4427  \u001b[0m | \u001b[0m1.0      \u001b[0m | \u001b[0m0.3      \u001b[0m | \u001b[0m294.7    \u001b[0m | \u001b[0m44.7     \u001b[0m | \u001b[0m0.0      \u001b[0m | \u001b[0m3.0      \u001b[0m | \u001b[0m0.6      \u001b[0m |\n"
     ]
    },
    {
     "name": "stderr",
     "output_type": "stream",
     "text": [
      "C:\\Users\\Administrator\\anaconda3\\lib\\site-packages\\lightgbm\\engine.py:573: UserWarning: Found `n_estimators` in params. Will use it instead of argument\n",
      "  _log_warning(f\"Found `{alias}` in params. Will use it instead of argument\")\n"
     ]
    },
    {
     "name": "stdout",
     "output_type": "stream",
     "text": [
      "| \u001b[0m19       \u001b[0m | \u001b[0m-0.4401  \u001b[0m | \u001b[0m0.7258   \u001b[0m | \u001b[0m0.2341   \u001b[0m | \u001b[0m272.8    \u001b[0m | \u001b[0m23.24    \u001b[0m | \u001b[0m1.346    \u001b[0m | \u001b[0m2.709    \u001b[0m | \u001b[0m0.9416   \u001b[0m |\n"
     ]
    },
    {
     "name": "stderr",
     "output_type": "stream",
     "text": [
      "C:\\Users\\Administrator\\anaconda3\\lib\\site-packages\\lightgbm\\engine.py:573: UserWarning: Found `n_estimators` in params. Will use it instead of argument\n",
      "  _log_warning(f\"Found `{alias}` in params. Will use it instead of argument\")\n"
     ]
    },
    {
     "name": "stdout",
     "output_type": "stream",
     "text": [
      "| \u001b[0m20       \u001b[0m | \u001b[0m-0.4409  \u001b[0m | \u001b[0m0.689    \u001b[0m | \u001b[0m0.2301   \u001b[0m | \u001b[0m99.78    \u001b[0m | \u001b[0m81.71    \u001b[0m | \u001b[0m0.6579   \u001b[0m | \u001b[0m2.679    \u001b[0m | \u001b[0m0.6094   \u001b[0m |\n"
     ]
    },
    {
     "name": "stderr",
     "output_type": "stream",
     "text": [
      "C:\\Users\\Administrator\\anaconda3\\lib\\site-packages\\lightgbm\\engine.py:573: UserWarning: Found `n_estimators` in params. Will use it instead of argument\n",
      "  _log_warning(f\"Found `{alias}` in params. Will use it instead of argument\")\n"
     ]
    },
    {
     "name": "stdout",
     "output_type": "stream",
     "text": [
      "| \u001b[0m21       \u001b[0m | \u001b[0m-0.4423  \u001b[0m | \u001b[0m0.9785   \u001b[0m | \u001b[0m0.3      \u001b[0m | \u001b[0m113.2    \u001b[0m | \u001b[0m87.71    \u001b[0m | \u001b[0m0.02573  \u001b[0m | \u001b[0m2.185    \u001b[0m | \u001b[0m0.6103   \u001b[0m |\n"
     ]
    },
    {
     "name": "stderr",
     "output_type": "stream",
     "text": [
      "C:\\Users\\Administrator\\anaconda3\\lib\\site-packages\\lightgbm\\engine.py:573: UserWarning: Found `n_estimators` in params. Will use it instead of argument\n",
      "  _log_warning(f\"Found `{alias}` in params. Will use it instead of argument\")\n"
     ]
    },
    {
     "name": "stdout",
     "output_type": "stream",
     "text": [
      "| \u001b[0m22       \u001b[0m | \u001b[0m-0.4411  \u001b[0m | \u001b[0m0.9347   \u001b[0m | \u001b[0m0.2774   \u001b[0m | \u001b[0m97.66    \u001b[0m | \u001b[0m66.86    \u001b[0m | \u001b[0m0.422    \u001b[0m | \u001b[0m2.403    \u001b[0m | \u001b[0m0.9908   \u001b[0m |\n"
     ]
    },
    {
     "name": "stderr",
     "output_type": "stream",
     "text": [
      "C:\\Users\\Administrator\\anaconda3\\lib\\site-packages\\lightgbm\\engine.py:573: UserWarning: Found `n_estimators` in params. Will use it instead of argument\n",
      "  _log_warning(f\"Found `{alias}` in params. Will use it instead of argument\")\n"
     ]
    },
    {
     "name": "stdout",
     "output_type": "stream",
     "text": [
      "| \u001b[0m23       \u001b[0m | \u001b[0m-0.4408  \u001b[0m | \u001b[0m0.6321   \u001b[0m | \u001b[0m0.2593   \u001b[0m | \u001b[0m84.94    \u001b[0m | \u001b[0m75.37    \u001b[0m | \u001b[0m2.748    \u001b[0m | \u001b[0m2.589    \u001b[0m | \u001b[0m0.6732   \u001b[0m |\n"
     ]
    },
    {
     "name": "stderr",
     "output_type": "stream",
     "text": [
      "C:\\Users\\Administrator\\anaconda3\\lib\\site-packages\\lightgbm\\engine.py:573: UserWarning: Found `n_estimators` in params. Will use it instead of argument\n",
      "  _log_warning(f\"Found `{alias}` in params. Will use it instead of argument\")\n"
     ]
    },
    {
     "name": "stdout",
     "output_type": "stream",
     "text": [
      "| \u001b[0m24       \u001b[0m | \u001b[0m-0.4431  \u001b[0m | \u001b[0m0.6532   \u001b[0m | \u001b[0m0.08445  \u001b[0m | \u001b[0m86.24    \u001b[0m | \u001b[0m89.07    \u001b[0m | \u001b[0m1.9      \u001b[0m | \u001b[0m0.07625  \u001b[0m | \u001b[0m0.8264   \u001b[0m |\n"
     ]
    },
    {
     "name": "stderr",
     "output_type": "stream",
     "text": [
      "C:\\Users\\Administrator\\anaconda3\\lib\\site-packages\\lightgbm\\engine.py:573: UserWarning: Found `n_estimators` in params. Will use it instead of argument\n",
      "  _log_warning(f\"Found `{alias}` in params. Will use it instead of argument\")\n"
     ]
    },
    {
     "name": "stdout",
     "output_type": "stream",
     "text": [
      "| \u001b[0m25       \u001b[0m | \u001b[0m-0.4408  \u001b[0m | \u001b[0m0.631    \u001b[0m | \u001b[0m0.2683   \u001b[0m | \u001b[0m83.53    \u001b[0m | \u001b[0m62.46    \u001b[0m | \u001b[0m2.507    \u001b[0m | \u001b[0m0.149    \u001b[0m | \u001b[0m0.9947   \u001b[0m |\n"
     ]
    },
    {
     "name": "stderr",
     "output_type": "stream",
     "text": [
      "C:\\Users\\Administrator\\anaconda3\\lib\\site-packages\\lightgbm\\engine.py:573: UserWarning: Found `n_estimators` in params. Will use it instead of argument\n",
      "  _log_warning(f\"Found `{alias}` in params. Will use it instead of argument\")\n"
     ]
    },
    {
     "name": "stdout",
     "output_type": "stream",
     "text": [
      "| \u001b[0m26       \u001b[0m | \u001b[0m-0.4455  \u001b[0m | \u001b[0m0.9037   \u001b[0m | \u001b[0m0.05964  \u001b[0m | \u001b[0m92.62    \u001b[0m | \u001b[0m51.61    \u001b[0m | \u001b[0m1.96     \u001b[0m | \u001b[0m0.4414   \u001b[0m | \u001b[0m0.641    \u001b[0m |\n"
     ]
    },
    {
     "name": "stderr",
     "output_type": "stream",
     "text": [
      "C:\\Users\\Administrator\\anaconda3\\lib\\site-packages\\lightgbm\\engine.py:573: UserWarning: Found `n_estimators` in params. Will use it instead of argument\n",
      "  _log_warning(f\"Found `{alias}` in params. Will use it instead of argument\")\n"
     ]
    },
    {
     "name": "stdout",
     "output_type": "stream",
     "text": [
      "| \u001b[0m27       \u001b[0m | \u001b[0m-0.4504  \u001b[0m | \u001b[0m1.0      \u001b[0m | \u001b[0m0.01     \u001b[0m | \u001b[0m300.8    \u001b[0m | \u001b[0m34.77    \u001b[0m | \u001b[0m3.0      \u001b[0m | \u001b[0m0.0      \u001b[0m | \u001b[0m1.0      \u001b[0m |\n"
     ]
    },
    {
     "name": "stderr",
     "output_type": "stream",
     "text": [
      "C:\\Users\\Administrator\\anaconda3\\lib\\site-packages\\lightgbm\\engine.py:573: UserWarning: Found `n_estimators` in params. Will use it instead of argument\n",
      "  _log_warning(f\"Found `{alias}` in params. Will use it instead of argument\")\n"
     ]
    },
    {
     "name": "stdout",
     "output_type": "stream",
     "text": [
      "| \u001b[0m28       \u001b[0m | \u001b[0m-0.4479  \u001b[0m | \u001b[0m0.6283   \u001b[0m | \u001b[0m0.01787  \u001b[0m | \u001b[0m291.3    \u001b[0m | \u001b[0m26.8     \u001b[0m | \u001b[0m2.793    \u001b[0m | \u001b[0m2.213    \u001b[0m | \u001b[0m0.6871   \u001b[0m |\n"
     ]
    },
    {
     "name": "stderr",
     "output_type": "stream",
     "text": [
      "C:\\Users\\Administrator\\anaconda3\\lib\\site-packages\\lightgbm\\engine.py:573: UserWarning: Found `n_estimators` in params. Will use it instead of argument\n",
      "  _log_warning(f\"Found `{alias}` in params. Will use it instead of argument\")\n"
     ]
    },
    {
     "name": "stdout",
     "output_type": "stream",
     "text": [
      "| \u001b[0m29       \u001b[0m | \u001b[0m-0.4418  \u001b[0m | \u001b[0m0.7464   \u001b[0m | \u001b[0m0.04383  \u001b[0m | \u001b[0m307.1    \u001b[0m | \u001b[0m41.67    \u001b[0m | \u001b[0m1.764    \u001b[0m | \u001b[0m2.266    \u001b[0m | \u001b[0m0.8332   \u001b[0m |\n"
     ]
    },
    {
     "name": "stderr",
     "output_type": "stream",
     "text": [
      "C:\\Users\\Administrator\\anaconda3\\lib\\site-packages\\lightgbm\\engine.py:573: UserWarning: Found `n_estimators` in params. Will use it instead of argument\n",
      "  _log_warning(f\"Found `{alias}` in params. Will use it instead of argument\")\n"
     ]
    },
    {
     "name": "stdout",
     "output_type": "stream",
     "text": [
      "| \u001b[0m30       \u001b[0m | \u001b[0m-0.4457  \u001b[0m | \u001b[0m0.9478   \u001b[0m | \u001b[0m0.02717  \u001b[0m | \u001b[0m297.0    \u001b[0m | \u001b[0m22.31    \u001b[0m | \u001b[0m0.3653   \u001b[0m | \u001b[0m2.023    \u001b[0m | \u001b[0m0.7615   \u001b[0m |\n"
     ]
    },
    {
     "name": "stderr",
     "output_type": "stream",
     "text": [
      "C:\\Users\\Administrator\\anaconda3\\lib\\site-packages\\lightgbm\\engine.py:573: UserWarning: Found `n_estimators` in params. Will use it instead of argument\n",
      "  _log_warning(f\"Found `{alias}` in params. Will use it instead of argument\")\n"
     ]
    },
    {
     "name": "stdout",
     "output_type": "stream",
     "text": [
      "| \u001b[0m31       \u001b[0m | \u001b[0m-0.4401  \u001b[0m | \u001b[0m0.9281   \u001b[0m | \u001b[0m0.07728  \u001b[0m | \u001b[0m304.2    \u001b[0m | \u001b[0m43.44    \u001b[0m | \u001b[0m1.864    \u001b[0m | \u001b[0m2.094    \u001b[0m | \u001b[0m0.8549   \u001b[0m |\n"
     ]
    },
    {
     "name": "stderr",
     "output_type": "stream",
     "text": [
      "C:\\Users\\Administrator\\anaconda3\\lib\\site-packages\\lightgbm\\engine.py:573: UserWarning: Found `n_estimators` in params. Will use it instead of argument\n",
      "  _log_warning(f\"Found `{alias}` in params. Will use it instead of argument\")\n"
     ]
    },
    {
     "name": "stdout",
     "output_type": "stream",
     "text": [
      "| \u001b[0m32       \u001b[0m | \u001b[0m-0.4401  \u001b[0m | \u001b[0m0.7443   \u001b[0m | \u001b[0m0.09608  \u001b[0m | \u001b[0m304.2    \u001b[0m | \u001b[0m41.23    \u001b[0m | \u001b[0m0.5756   \u001b[0m | \u001b[0m0.5872   \u001b[0m | \u001b[0m0.683    \u001b[0m |\n"
     ]
    },
    {
     "name": "stderr",
     "output_type": "stream",
     "text": [
      "C:\\Users\\Administrator\\anaconda3\\lib\\site-packages\\lightgbm\\engine.py:573: UserWarning: Found `n_estimators` in params. Will use it instead of argument\n",
      "  _log_warning(f\"Found `{alias}` in params. Will use it instead of argument\")\n"
     ]
    },
    {
     "name": "stdout",
     "output_type": "stream",
     "text": [
      "| \u001b[0m33       \u001b[0m | \u001b[0m-0.4478  \u001b[0m | \u001b[0m0.7023   \u001b[0m | \u001b[0m0.01421  \u001b[0m | \u001b[0m302.3    \u001b[0m | \u001b[0m41.86    \u001b[0m | \u001b[0m1.391    \u001b[0m | \u001b[0m2.608    \u001b[0m | \u001b[0m0.9639   \u001b[0m |\n"
     ]
    },
    {
     "name": "stderr",
     "output_type": "stream",
     "text": [
      "C:\\Users\\Administrator\\anaconda3\\lib\\site-packages\\lightgbm\\engine.py:573: UserWarning: Found `n_estimators` in params. Will use it instead of argument\n",
      "  _log_warning(f\"Found `{alias}` in params. Will use it instead of argument\")\n"
     ]
    },
    {
     "name": "stdout",
     "output_type": "stream",
     "text": [
      "| \u001b[0m34       \u001b[0m | \u001b[0m-0.4398  \u001b[0m | \u001b[0m0.7      \u001b[0m | \u001b[0m0.1373   \u001b[0m | \u001b[0m304.8    \u001b[0m | \u001b[0m40.61    \u001b[0m | \u001b[0m0.2528   \u001b[0m | \u001b[0m1.866    \u001b[0m | \u001b[0m0.6154   \u001b[0m |\n"
     ]
    },
    {
     "name": "stderr",
     "output_type": "stream",
     "text": [
      "C:\\Users\\Administrator\\anaconda3\\lib\\site-packages\\lightgbm\\engine.py:573: UserWarning: Found `n_estimators` in params. Will use it instead of argument\n",
      "  _log_warning(f\"Found `{alias}` in params. Will use it instead of argument\")\n"
     ]
    },
    {
     "name": "stdout",
     "output_type": "stream",
     "text": [
      "| \u001b[0m35       \u001b[0m | \u001b[0m-0.4402  \u001b[0m | \u001b[0m0.8678   \u001b[0m | \u001b[0m0.2314   \u001b[0m | \u001b[0m305.1    \u001b[0m | \u001b[0m42.13    \u001b[0m | \u001b[0m2.849    \u001b[0m | \u001b[0m1.464    \u001b[0m | \u001b[0m0.6933   \u001b[0m |\n"
     ]
    },
    {
     "name": "stderr",
     "output_type": "stream",
     "text": [
      "C:\\Users\\Administrator\\anaconda3\\lib\\site-packages\\lightgbm\\engine.py:573: UserWarning: Found `n_estimators` in params. Will use it instead of argument\n",
      "  _log_warning(f\"Found `{alias}` in params. Will use it instead of argument\")\n"
     ]
    },
    {
     "name": "stdout",
     "output_type": "stream",
     "text": [
      "| \u001b[0m36       \u001b[0m | \u001b[0m-0.4397  \u001b[0m | \u001b[0m0.9864   \u001b[0m | \u001b[0m0.1848   \u001b[0m | \u001b[0m292.7    \u001b[0m | \u001b[0m34.7     \u001b[0m | \u001b[0m2.587    \u001b[0m | \u001b[0m0.6681   \u001b[0m | \u001b[0m0.9499   \u001b[0m |\n"
     ]
    },
    {
     "name": "stderr",
     "output_type": "stream",
     "text": [
      "C:\\Users\\Administrator\\anaconda3\\lib\\site-packages\\lightgbm\\engine.py:573: UserWarning: Found `n_estimators` in params. Will use it instead of argument\n",
      "  _log_warning(f\"Found `{alias}` in params. Will use it instead of argument\")\n"
     ]
    },
    {
     "name": "stdout",
     "output_type": "stream",
     "text": [
      "| \u001b[0m37       \u001b[0m | \u001b[0m-0.4403  \u001b[0m | \u001b[0m0.6537   \u001b[0m | \u001b[0m0.261    \u001b[0m | \u001b[0m291.2    \u001b[0m | \u001b[0m35.93    \u001b[0m | \u001b[0m2.637    \u001b[0m | \u001b[0m2.115    \u001b[0m | \u001b[0m0.9464   \u001b[0m |\n"
     ]
    },
    {
     "name": "stderr",
     "output_type": "stream",
     "text": [
      "C:\\Users\\Administrator\\anaconda3\\lib\\site-packages\\lightgbm\\engine.py:573: UserWarning: Found `n_estimators` in params. Will use it instead of argument\n",
      "  _log_warning(f\"Found `{alias}` in params. Will use it instead of argument\")\n"
     ]
    },
    {
     "name": "stdout",
     "output_type": "stream",
     "text": [
      "| \u001b[0m38       \u001b[0m | \u001b[0m-0.4402  \u001b[0m | \u001b[0m0.9287   \u001b[0m | \u001b[0m0.07862  \u001b[0m | \u001b[0m305.6    \u001b[0m | \u001b[0m44.88    \u001b[0m | \u001b[0m0.7603   \u001b[0m | \u001b[0m0.2174   \u001b[0m | \u001b[0m0.8287   \u001b[0m |\n"
     ]
    },
    {
     "name": "stderr",
     "output_type": "stream",
     "text": [
      "C:\\Users\\Administrator\\anaconda3\\lib\\site-packages\\lightgbm\\engine.py:573: UserWarning: Found `n_estimators` in params. Will use it instead of argument\n",
      "  _log_warning(f\"Found `{alias}` in params. Will use it instead of argument\")\n"
     ]
    },
    {
     "name": "stdout",
     "output_type": "stream",
     "text": [
      "| \u001b[0m39       \u001b[0m | \u001b[0m-0.4401  \u001b[0m | \u001b[0m0.6377   \u001b[0m | \u001b[0m0.1442   \u001b[0m | \u001b[0m292.3    \u001b[0m | \u001b[0m33.05    \u001b[0m | \u001b[0m0.1662   \u001b[0m | \u001b[0m0.596    \u001b[0m | \u001b[0m0.7307   \u001b[0m |\n"
     ]
    },
    {
     "name": "stderr",
     "output_type": "stream",
     "text": [
      "C:\\Users\\Administrator\\anaconda3\\lib\\site-packages\\lightgbm\\engine.py:573: UserWarning: Found `n_estimators` in params. Will use it instead of argument\n",
      "  _log_warning(f\"Found `{alias}` in params. Will use it instead of argument\")\n"
     ]
    },
    {
     "name": "stdout",
     "output_type": "stream",
     "text": [
      "| \u001b[0m40       \u001b[0m | \u001b[0m-0.4397  \u001b[0m | \u001b[0m0.9822   \u001b[0m | \u001b[0m0.1307   \u001b[0m | \u001b[0m293.5    \u001b[0m | \u001b[0m36.06    \u001b[0m | \u001b[0m0.9561   \u001b[0m | \u001b[0m1.938    \u001b[0m | \u001b[0m0.892    \u001b[0m |\n"
     ]
    },
    {
     "name": "stderr",
     "output_type": "stream",
     "text": [
      "C:\\Users\\Administrator\\anaconda3\\lib\\site-packages\\lightgbm\\engine.py:573: UserWarning: Found `n_estimators` in params. Will use it instead of argument\n",
      "  _log_warning(f\"Found `{alias}` in params. Will use it instead of argument\")\n"
     ]
    },
    {
     "name": "stdout",
     "output_type": "stream",
     "text": [
      "| \u001b[0m41       \u001b[0m | \u001b[0m-0.4396  \u001b[0m | \u001b[0m0.7483   \u001b[0m | \u001b[0m0.1874   \u001b[0m | \u001b[0m289.9    \u001b[0m | \u001b[0m32.97    \u001b[0m | \u001b[0m2.798    \u001b[0m | \u001b[0m0.7867   \u001b[0m | \u001b[0m0.6136   \u001b[0m |\n"
     ]
    },
    {
     "name": "stderr",
     "output_type": "stream",
     "text": [
      "C:\\Users\\Administrator\\anaconda3\\lib\\site-packages\\lightgbm\\engine.py:573: UserWarning: Found `n_estimators` in params. Will use it instead of argument\n",
      "  _log_warning(f\"Found `{alias}` in params. Will use it instead of argument\")\n"
     ]
    },
    {
     "name": "stdout",
     "output_type": "stream",
     "text": [
      "| \u001b[0m42       \u001b[0m | \u001b[0m-0.4409  \u001b[0m | \u001b[0m0.7101   \u001b[0m | \u001b[0m0.07466  \u001b[0m | \u001b[0m290.1    \u001b[0m | \u001b[0m34.23    \u001b[0m | \u001b[0m0.8244   \u001b[0m | \u001b[0m2.177    \u001b[0m | \u001b[0m0.6144   \u001b[0m |\n"
     ]
    },
    {
     "name": "stderr",
     "output_type": "stream",
     "text": [
      "C:\\Users\\Administrator\\anaconda3\\lib\\site-packages\\lightgbm\\engine.py:573: UserWarning: Found `n_estimators` in params. Will use it instead of argument\n",
      "  _log_warning(f\"Found `{alias}` in params. Will use it instead of argument\")\n"
     ]
    },
    {
     "name": "stdout",
     "output_type": "stream",
     "text": [
      "| \u001b[0m43       \u001b[0m | \u001b[0m-0.4401  \u001b[0m | \u001b[0m0.9847   \u001b[0m | \u001b[0m0.1334   \u001b[0m | \u001b[0m273.6    \u001b[0m | \u001b[0m26.37    \u001b[0m | \u001b[0m2.569    \u001b[0m | \u001b[0m2.148    \u001b[0m | \u001b[0m0.7578   \u001b[0m |\n"
     ]
    },
    {
     "name": "stderr",
     "output_type": "stream",
     "text": [
      "C:\\Users\\Administrator\\anaconda3\\lib\\site-packages\\lightgbm\\engine.py:573: UserWarning: Found `n_estimators` in params. Will use it instead of argument\n",
      "  _log_warning(f\"Found `{alias}` in params. Will use it instead of argument\")\n"
     ]
    },
    {
     "name": "stdout",
     "output_type": "stream",
     "text": [
      "| \u001b[0m44       \u001b[0m | \u001b[0m-0.4412  \u001b[0m | \u001b[0m0.9738   \u001b[0m | \u001b[0m0.0877   \u001b[0m | \u001b[0m275.9    \u001b[0m | \u001b[0m24.64    \u001b[0m | \u001b[0m1.363    \u001b[0m | \u001b[0m2.066    \u001b[0m | \u001b[0m0.9484   \u001b[0m |\n"
     ]
    },
    {
     "name": "stderr",
     "output_type": "stream",
     "text": [
      "C:\\Users\\Administrator\\anaconda3\\lib\\site-packages\\lightgbm\\engine.py:573: UserWarning: Found `n_estimators` in params. Will use it instead of argument\n",
      "  _log_warning(f\"Found `{alias}` in params. Will use it instead of argument\")\n"
     ]
    },
    {
     "name": "stdout",
     "output_type": "stream",
     "text": [
      "| \u001b[0m45       \u001b[0m | \u001b[0m-0.4401  \u001b[0m | \u001b[0m0.6062   \u001b[0m | \u001b[0m0.2263   \u001b[0m | \u001b[0m270.3    \u001b[0m | \u001b[0m23.84    \u001b[0m | \u001b[0m2.373    \u001b[0m | \u001b[0m0.2396   \u001b[0m | \u001b[0m0.9226   \u001b[0m |\n"
     ]
    },
    {
     "name": "stderr",
     "output_type": "stream",
     "text": [
      "C:\\Users\\Administrator\\anaconda3\\lib\\site-packages\\lightgbm\\engine.py:573: UserWarning: Found `n_estimators` in params. Will use it instead of argument\n",
      "  _log_warning(f\"Found `{alias}` in params. Will use it instead of argument\")\n"
     ]
    },
    {
     "name": "stdout",
     "output_type": "stream",
     "text": [
      "| \u001b[0m46       \u001b[0m | \u001b[0m-0.44    \u001b[0m | \u001b[0m0.6585   \u001b[0m | \u001b[0m0.2215   \u001b[0m | \u001b[0m270.1    \u001b[0m | \u001b[0m27.76    \u001b[0m | \u001b[0m1.939    \u001b[0m | \u001b[0m1.206    \u001b[0m | \u001b[0m0.6137   \u001b[0m |\n"
     ]
    },
    {
     "name": "stderr",
     "output_type": "stream",
     "text": [
      "C:\\Users\\Administrator\\anaconda3\\lib\\site-packages\\lightgbm\\engine.py:573: UserWarning: Found `n_estimators` in params. Will use it instead of argument\n",
      "  _log_warning(f\"Found `{alias}` in params. Will use it instead of argument\")\n"
     ]
    },
    {
     "name": "stdout",
     "output_type": "stream",
     "text": [
      "| \u001b[0m47       \u001b[0m | \u001b[0m-0.4423  \u001b[0m | \u001b[0m0.7851   \u001b[0m | \u001b[0m0.06251  \u001b[0m | \u001b[0m269.1    \u001b[0m | \u001b[0m25.34    \u001b[0m | \u001b[0m0.1188   \u001b[0m | \u001b[0m2.631    \u001b[0m | \u001b[0m0.7286   \u001b[0m |\n"
     ]
    },
    {
     "name": "stderr",
     "output_type": "stream",
     "text": [
      "C:\\Users\\Administrator\\anaconda3\\lib\\site-packages\\lightgbm\\engine.py:573: UserWarning: Found `n_estimators` in params. Will use it instead of argument\n",
      "  _log_warning(f\"Found `{alias}` in params. Will use it instead of argument\")\n"
     ]
    },
    {
     "name": "stdout",
     "output_type": "stream",
     "text": [
      "| \u001b[0m48       \u001b[0m | \u001b[0m-0.441   \u001b[0m | \u001b[0m0.7301   \u001b[0m | \u001b[0m0.2796   \u001b[0m | \u001b[0m272.5    \u001b[0m | \u001b[0m27.6     \u001b[0m | \u001b[0m1.128    \u001b[0m | \u001b[0m0.0783   \u001b[0m | \u001b[0m0.7175   \u001b[0m |\n"
     ]
    },
    {
     "name": "stderr",
     "output_type": "stream",
     "text": [
      "C:\\Users\\Administrator\\anaconda3\\lib\\site-packages\\lightgbm\\engine.py:573: UserWarning: Found `n_estimators` in params. Will use it instead of argument\n",
      "  _log_warning(f\"Found `{alias}` in params. Will use it instead of argument\")\n"
     ]
    },
    {
     "name": "stdout",
     "output_type": "stream",
     "text": [
      "| \u001b[0m49       \u001b[0m | \u001b[0m-0.4417  \u001b[0m | \u001b[0m0.8613   \u001b[0m | \u001b[0m0.07961  \u001b[0m | \u001b[0m290.9    \u001b[0m | \u001b[0m20.93    \u001b[0m | \u001b[0m2.571    \u001b[0m | \u001b[0m2.142    \u001b[0m | \u001b[0m0.9574   \u001b[0m |\n"
     ]
    },
    {
     "name": "stderr",
     "output_type": "stream",
     "text": [
      "C:\\Users\\Administrator\\anaconda3\\lib\\site-packages\\lightgbm\\engine.py:573: UserWarning: Found `n_estimators` in params. Will use it instead of argument\n",
      "  _log_warning(f\"Found `{alias}` in params. Will use it instead of argument\")\n"
     ]
    },
    {
     "name": "stdout",
     "output_type": "stream",
     "text": [
      "| \u001b[0m50       \u001b[0m | \u001b[0m-0.4411  \u001b[0m | \u001b[0m0.6686   \u001b[0m | \u001b[0m0.1098   \u001b[0m | \u001b[0m273.2    \u001b[0m | \u001b[0m21.42    \u001b[0m | \u001b[0m2.916    \u001b[0m | \u001b[0m0.2383   \u001b[0m | \u001b[0m0.7071   \u001b[0m |\n"
     ]
    },
    {
     "name": "stderr",
     "output_type": "stream",
     "text": [
      "C:\\Users\\Administrator\\anaconda3\\lib\\site-packages\\lightgbm\\engine.py:573: UserWarning: Found `n_estimators` in params. Will use it instead of argument\n",
      "  _log_warning(f\"Found `{alias}` in params. Will use it instead of argument\")\n"
     ]
    },
    {
     "name": "stdout",
     "output_type": "stream",
     "text": [
      "| \u001b[0m51       \u001b[0m | \u001b[0m-0.4401  \u001b[0m | \u001b[0m0.8844   \u001b[0m | \u001b[0m0.2426   \u001b[0m | \u001b[0m277.8    \u001b[0m | \u001b[0m29.97    \u001b[0m | \u001b[0m2.468    \u001b[0m | \u001b[0m1.272    \u001b[0m | \u001b[0m0.9738   \u001b[0m |\n"
     ]
    },
    {
     "name": "stderr",
     "output_type": "stream",
     "text": [
      "C:\\Users\\Administrator\\anaconda3\\lib\\site-packages\\lightgbm\\engine.py:573: UserWarning: Found `n_estimators` in params. Will use it instead of argument\n",
      "  _log_warning(f\"Found `{alias}` in params. Will use it instead of argument\")\n"
     ]
    },
    {
     "name": "stdout",
     "output_type": "stream",
     "text": [
      "| \u001b[0m52       \u001b[0m | \u001b[0m-0.4403  \u001b[0m | \u001b[0m0.6303   \u001b[0m | \u001b[0m0.2465   \u001b[0m | \u001b[0m274.4    \u001b[0m | \u001b[0m31.32    \u001b[0m | \u001b[0m0.9376   \u001b[0m | \u001b[0m2.565    \u001b[0m | \u001b[0m0.6981   \u001b[0m |\n"
     ]
    },
    {
     "name": "stderr",
     "output_type": "stream",
     "text": [
      "C:\\Users\\Administrator\\anaconda3\\lib\\site-packages\\lightgbm\\engine.py:573: UserWarning: Found `n_estimators` in params. Will use it instead of argument\n",
      "  _log_warning(f\"Found `{alias}` in params. Will use it instead of argument\")\n"
     ]
    },
    {
     "name": "stdout",
     "output_type": "stream",
     "text": [
      "| \u001b[0m53       \u001b[0m | \u001b[0m-0.4399  \u001b[0m | \u001b[0m0.8573   \u001b[0m | \u001b[0m0.1605   \u001b[0m | \u001b[0m277.5    \u001b[0m | \u001b[0m34.31    \u001b[0m | \u001b[0m1.717    \u001b[0m | \u001b[0m0.3914   \u001b[0m | \u001b[0m0.9731   \u001b[0m |\n"
     ]
    },
    {
     "name": "stderr",
     "output_type": "stream",
     "text": [
      "C:\\Users\\Administrator\\anaconda3\\lib\\site-packages\\lightgbm\\engine.py:573: UserWarning: Found `n_estimators` in params. Will use it instead of argument\n",
      "  _log_warning(f\"Found `{alias}` in params. Will use it instead of argument\")\n"
     ]
    },
    {
     "name": "stdout",
     "output_type": "stream",
     "text": [
      "| \u001b[0m54       \u001b[0m | \u001b[0m-0.4409  \u001b[0m | \u001b[0m0.9294   \u001b[0m | \u001b[0m0.07449  \u001b[0m | \u001b[0m273.5    \u001b[0m | \u001b[0m34.74    \u001b[0m | \u001b[0m2.245    \u001b[0m | \u001b[0m0.6019   \u001b[0m | \u001b[0m0.885    \u001b[0m |\n"
     ]
    },
    {
     "name": "stderr",
     "output_type": "stream",
     "text": [
      "C:\\Users\\Administrator\\anaconda3\\lib\\site-packages\\lightgbm\\engine.py:573: UserWarning: Found `n_estimators` in params. Will use it instead of argument\n",
      "  _log_warning(f\"Found `{alias}` in params. Will use it instead of argument\")\n"
     ]
    },
    {
     "name": "stdout",
     "output_type": "stream",
     "text": [
      "| \u001b[0m55       \u001b[0m | \u001b[0m-0.4401  \u001b[0m | \u001b[0m0.7724   \u001b[0m | \u001b[0m0.09425  \u001b[0m | \u001b[0m277.0    \u001b[0m | \u001b[0m36.68    \u001b[0m | \u001b[0m2.778    \u001b[0m | \u001b[0m2.622    \u001b[0m | \u001b[0m0.6061   \u001b[0m |\n"
     ]
    },
    {
     "name": "stderr",
     "output_type": "stream",
     "text": [
      "C:\\Users\\Administrator\\anaconda3\\lib\\site-packages\\lightgbm\\engine.py:573: UserWarning: Found `n_estimators` in params. Will use it instead of argument\n",
      "  _log_warning(f\"Found `{alias}` in params. Will use it instead of argument\")\n"
     ]
    },
    {
     "name": "stdout",
     "output_type": "stream",
     "text": [
      "| \u001b[0m56       \u001b[0m | \u001b[0m-0.4416  \u001b[0m | \u001b[0m0.8453   \u001b[0m | \u001b[0m0.2845   \u001b[0m | \u001b[0m280.2    \u001b[0m | \u001b[0m38.88    \u001b[0m | \u001b[0m1.36     \u001b[0m | \u001b[0m0.5901   \u001b[0m | \u001b[0m0.6497   \u001b[0m |\n"
     ]
    },
    {
     "name": "stderr",
     "output_type": "stream",
     "text": [
      "C:\\Users\\Administrator\\anaconda3\\lib\\site-packages\\lightgbm\\engine.py:573: UserWarning: Found `n_estimators` in params. Will use it instead of argument\n",
      "  _log_warning(f\"Found `{alias}` in params. Will use it instead of argument\")\n"
     ]
    },
    {
     "name": "stdout",
     "output_type": "stream",
     "text": [
      "| \u001b[0m57       \u001b[0m | \u001b[0m-0.4406  \u001b[0m | \u001b[0m0.7128   \u001b[0m | \u001b[0m0.2447   \u001b[0m | \u001b[0m280.0    \u001b[0m | \u001b[0m31.53    \u001b[0m | \u001b[0m0.1741   \u001b[0m | \u001b[0m1.495    \u001b[0m | \u001b[0m0.754    \u001b[0m |\n"
     ]
    },
    {
     "name": "stderr",
     "output_type": "stream",
     "text": [
      "C:\\Users\\Administrator\\anaconda3\\lib\\site-packages\\lightgbm\\engine.py:573: UserWarning: Found `n_estimators` in params. Will use it instead of argument\n",
      "  _log_warning(f\"Found `{alias}` in params. Will use it instead of argument\")\n"
     ]
    },
    {
     "name": "stdout",
     "output_type": "stream",
     "text": [
      "| \u001b[0m58       \u001b[0m | \u001b[0m-0.4478  \u001b[0m | \u001b[0m0.856    \u001b[0m | \u001b[0m0.0173   \u001b[0m | \u001b[0m304.2    \u001b[0m | \u001b[0m25.61    \u001b[0m | \u001b[0m2.17     \u001b[0m | \u001b[0m2.275    \u001b[0m | \u001b[0m0.8636   \u001b[0m |\n"
     ]
    },
    {
     "name": "stderr",
     "output_type": "stream",
     "text": [
      "C:\\Users\\Administrator\\anaconda3\\lib\\site-packages\\lightgbm\\engine.py:573: UserWarning: Found `n_estimators` in params. Will use it instead of argument\n",
      "  _log_warning(f\"Found `{alias}` in params. Will use it instead of argument\")\n"
     ]
    },
    {
     "name": "stdout",
     "output_type": "stream",
     "text": [
      "| \u001b[0m59       \u001b[0m | \u001b[0m-0.4466  \u001b[0m | \u001b[0m0.7098   \u001b[0m | \u001b[0m0.02182  \u001b[0m | \u001b[0m269.9    \u001b[0m | \u001b[0m31.33    \u001b[0m | \u001b[0m2.861    \u001b[0m | \u001b[0m2.717    \u001b[0m | \u001b[0m0.9891   \u001b[0m |\n"
     ]
    },
    {
     "name": "stderr",
     "output_type": "stream",
     "text": [
      "C:\\Users\\Administrator\\anaconda3\\lib\\site-packages\\lightgbm\\engine.py:573: UserWarning: Found `n_estimators` in params. Will use it instead of argument\n",
      "  _log_warning(f\"Found `{alias}` in params. Will use it instead of argument\")\n"
     ]
    },
    {
     "name": "stdout",
     "output_type": "stream",
     "text": [
      "| \u001b[0m60       \u001b[0m | \u001b[0m-0.4402  \u001b[0m | \u001b[0m0.7715   \u001b[0m | \u001b[0m0.1657   \u001b[0m | \u001b[0m275.2    \u001b[0m | \u001b[0m37.26    \u001b[0m | \u001b[0m0.904    \u001b[0m | \u001b[0m0.06092  \u001b[0m | \u001b[0m0.7215   \u001b[0m |\n",
      "=============================================================================================================\n",
      "[LightGBM] [Warning] Auto-choosing row-wise multi-threading, the overhead of testing was 0.000712 seconds.\n",
      "You can set `force_row_wise=true` to remove the overhead.\n",
      "And if memory is not enough, you can set `force_col_wise=true`.\n",
      "[LightGBM] [Info] Total Bins 2020\n",
      "[LightGBM] [Info] Number of data points in the train set: 255001, number of used features: 15\n",
      "[LightGBM] [Info] Start training from score 0.176470\n"
     ]
    },
    {
     "name": "stderr",
     "output_type": "stream",
     "text": [
      "C:\\Users\\Administrator\\anaconda3\\lib\\site-packages\\lightgbm\\engine.py:177: UserWarning: Found `n_estimators` in params. Will use it instead of argument\n",
      "  _log_warning(f\"Found `{alias}` in params. Will use it instead of argument\")\n"
     ]
    }
   ],
   "source": [
    "# 1. 적합 1\n",
    "# Bayesian optimization 객체 생성\n",
    "optimizer = BayesianOptimization(lgbm_eval, bounds, random_state=42)\n",
    "\n",
    "# 최적화\n",
    "optimizer.maximize(init_points=10, n_iter=50) \n",
    "\n",
    "# 최적의 하이퍼파라미터\n",
    "opt_params = optimizer.max[\"params\"]\n",
    "opt_params[\"num_leaves\"] = int(opt_params[\"num_leaves\"])\n",
    "opt_params[\"n_estimators\"] = int(opt_params[\"n_estimators\"])\n",
    "\n",
    "# 최적의 하이퍼파라미터로 모델 학습\n",
    "model = lgb.train(opt_params, train_data)\n"
   ]
  },
  {
   "cell_type": "code",
   "execution_count": 29,
   "metadata": {},
   "outputs": [
    {
     "name": "stdout",
     "output_type": "stream",
     "text": [
      "{'colsample_bytree': 0.6228528159010699, 'learning_rate': 0.14214163258010426, 'num_leaves': 41, 'reg_alpha': 1.3651742816388468, 'reg_lambda': 2.900464275084884, 'subsample': 0.6909715016372198, 'num_iterations': 304, 'early_stopping_round': None}\n",
      "\n",
      "Optimized validation Log Loss: 0.4394\n"
     ]
    }
   ],
   "source": [
    "# 최적모델\n",
    "print(model.params)\n",
    "loss = optimizer.max['target'] * (-1)\n",
    "print()\n",
    "print(f\"Optimized validation Log Loss: {loss:.4f}\")"
   ]
  },
  {
   "cell_type": "code",
   "execution_count": 30,
   "metadata": {
    "collapsed": true
   },
   "outputs": [
    {
     "name": "stdout",
     "output_type": "stream",
     "text": [
      "|   iter    |  target   | colsam... | learni... | n_esti... | num_le... | reg_alpha | reg_la... | subsample |\n",
      "-------------------------------------------------------------------------------------------------------------\n"
     ]
    },
    {
     "name": "stderr",
     "output_type": "stream",
     "text": [
      "C:\\Users\\Administrator\\anaconda3\\lib\\site-packages\\lightgbm\\engine.py:573: UserWarning: Found `n_estimators` in params. Will use it instead of argument\n",
      "  _log_warning(f\"Found `{alias}` in params. Will use it instead of argument\")\n"
     ]
    },
    {
     "name": "stdout",
     "output_type": "stream",
     "text": [
      "| \u001b[0m1        \u001b[0m | \u001b[0m-0.445   \u001b[0m | \u001b[0m0.7498   \u001b[0m | \u001b[0m0.2857   \u001b[0m | \u001b[0m295.5    \u001b[0m | \u001b[0m67.89    \u001b[0m | \u001b[0m0.4681   \u001b[0m | \u001b[0m0.468    \u001b[0m | \u001b[0m0.6232   \u001b[0m |\n"
     ]
    },
    {
     "name": "stderr",
     "output_type": "stream",
     "text": [
      "C:\\Users\\Administrator\\anaconda3\\lib\\site-packages\\lightgbm\\engine.py:573: UserWarning: Found `n_estimators` in params. Will use it instead of argument\n",
      "  _log_warning(f\"Found `{alias}` in params. Will use it instead of argument\")\n"
     ]
    },
    {
     "name": "stdout",
     "output_type": "stream",
     "text": [
      "| \u001b[95m2        \u001b[0m | \u001b[95m-0.44    \u001b[0m | \u001b[95m0.9465   \u001b[0m | \u001b[95m0.1843   \u001b[0m | \u001b[95m286.1    \u001b[0m | \u001b[95m21.65    \u001b[0m | \u001b[95m2.91     \u001b[0m | \u001b[95m2.497    \u001b[0m | \u001b[95m0.6849   \u001b[0m |\n"
     ]
    },
    {
     "name": "stderr",
     "output_type": "stream",
     "text": [
      "C:\\Users\\Administrator\\anaconda3\\lib\\site-packages\\lightgbm\\engine.py:573: UserWarning: Found `n_estimators` in params. Will use it instead of argument\n",
      "  _log_warning(f\"Found `{alias}` in params. Will use it instead of argument\")\n"
     ]
    },
    {
     "name": "stdout",
     "output_type": "stream",
     "text": [
      "| \u001b[0m3        \u001b[0m | \u001b[0m-0.4433  \u001b[0m | \u001b[0m0.6727   \u001b[0m | \u001b[0m0.06319  \u001b[0m | \u001b[0m128.7    \u001b[0m | \u001b[0m61.98    \u001b[0m | \u001b[0m1.296    \u001b[0m | \u001b[0m0.8737   \u001b[0m | \u001b[0m0.8447   \u001b[0m |\n"
     ]
    },
    {
     "name": "stderr",
     "output_type": "stream",
     "text": [
      "C:\\Users\\Administrator\\anaconda3\\lib\\site-packages\\lightgbm\\engine.py:573: UserWarning: Found `n_estimators` in params. Will use it instead of argument\n",
      "  _log_warning(f\"Found `{alias}` in params. Will use it instead of argument\")\n"
     ]
    },
    {
     "name": "stdout",
     "output_type": "stream",
     "text": [
      "| \u001b[0m4        \u001b[0m | \u001b[0m-0.4412  \u001b[0m | \u001b[0m0.6558   \u001b[0m | \u001b[0m0.09472  \u001b[0m | \u001b[0m152.9    \u001b[0m | \u001b[0m56.49    \u001b[0m | \u001b[0m2.356    \u001b[0m | \u001b[0m0.599    \u001b[0m | \u001b[0m0.8057   \u001b[0m |\n"
     ]
    },
    {
     "name": "stderr",
     "output_type": "stream",
     "text": [
      "C:\\Users\\Administrator\\anaconda3\\lib\\site-packages\\lightgbm\\engine.py:573: UserWarning: Found `n_estimators` in params. Will use it instead of argument\n",
      "  _log_warning(f\"Found `{alias}` in params. Will use it instead of argument\")\n"
     ]
    },
    {
     "name": "stdout",
     "output_type": "stream",
     "text": [
      "| \u001b[0m5        \u001b[0m | \u001b[0m-0.4464  \u001b[0m | \u001b[0m0.837    \u001b[0m | \u001b[0m0.02347  \u001b[0m | \u001b[0m246.9    \u001b[0m | \u001b[0m33.64    \u001b[0m | \u001b[0m0.1952   \u001b[0m | \u001b[0m2.847    \u001b[0m | \u001b[0m0.9863   \u001b[0m |\n"
     ]
    },
    {
     "name": "stderr",
     "output_type": "stream",
     "text": [
      "C:\\Users\\Administrator\\anaconda3\\lib\\site-packages\\lightgbm\\engine.py:573: UserWarning: Found `n_estimators` in params. Will use it instead of argument\n",
      "  _log_warning(f\"Found `{alias}` in params. Will use it instead of argument\")\n"
     ]
    },
    {
     "name": "stdout",
     "output_type": "stream",
     "text": [
      "| \u001b[0m6        \u001b[0m | \u001b[0m-0.4455  \u001b[0m | \u001b[0m0.9234   \u001b[0m | \u001b[0m0.09834  \u001b[0m | \u001b[0m48.09    \u001b[0m | \u001b[0m74.74    \u001b[0m | \u001b[0m1.32     \u001b[0m | \u001b[0m0.3661   \u001b[0m | \u001b[0m0.7981   \u001b[0m |\n"
     ]
    },
    {
     "name": "stderr",
     "output_type": "stream",
     "text": [
      "C:\\Users\\Administrator\\anaconda3\\lib\\site-packages\\lightgbm\\engine.py:573: UserWarning: Found `n_estimators` in params. Will use it instead of argument\n",
      "  _log_warning(f\"Found `{alias}` in params. Will use it instead of argument\")\n"
     ]
    },
    {
     "name": "stdout",
     "output_type": "stream",
     "text": [
      "| \u001b[0m7        \u001b[0m | \u001b[0m-0.441   \u001b[0m | \u001b[0m0.6138   \u001b[0m | \u001b[0m0.2737   \u001b[0m | \u001b[0m110.9    \u001b[0m | \u001b[0m73.0     \u001b[0m | \u001b[0m0.9351   \u001b[0m | \u001b[0m1.56     \u001b[0m | \u001b[0m0.8187   \u001b[0m |\n"
     ]
    },
    {
     "name": "stderr",
     "output_type": "stream",
     "text": [
      "C:\\Users\\Administrator\\anaconda3\\lib\\site-packages\\lightgbm\\engine.py:573: UserWarning: Found `n_estimators` in params. Will use it instead of argument\n",
      "  _log_warning(f\"Found `{alias}` in params. Will use it instead of argument\")\n"
     ]
    },
    {
     "name": "stdout",
     "output_type": "stream",
     "text": [
      "| \u001b[0m8        \u001b[0m | \u001b[0m-0.4452  \u001b[0m | \u001b[0m0.6739   \u001b[0m | \u001b[0m0.2912   \u001b[0m | \u001b[0m312.3    \u001b[0m | \u001b[0m95.16    \u001b[0m | \u001b[0m2.684    \u001b[0m | \u001b[0m1.794    \u001b[0m | \u001b[0m0.9687   \u001b[0m |\n"
     ]
    },
    {
     "name": "stderr",
     "output_type": "stream",
     "text": [
      "C:\\Users\\Administrator\\anaconda3\\lib\\site-packages\\lightgbm\\engine.py:573: UserWarning: Found `n_estimators` in params. Will use it instead of argument\n",
      "  _log_warning(f\"Found `{alias}` in params. Will use it instead of argument\")\n"
     ]
    },
    {
     "name": "stdout",
     "output_type": "stream",
     "text": [
      "| \u001b[0m9        \u001b[0m | \u001b[0m-0.4525  \u001b[0m | \u001b[0m0.6354   \u001b[0m | \u001b[0m0.06684  \u001b[0m | \u001b[0m27.64    \u001b[0m | \u001b[0m46.03    \u001b[0m | \u001b[0m1.166    \u001b[0m | \u001b[0m0.814    \u001b[0m | \u001b[0m0.9315   \u001b[0m |\n"
     ]
    },
    {
     "name": "stderr",
     "output_type": "stream",
     "text": [
      "C:\\Users\\Administrator\\anaconda3\\lib\\site-packages\\lightgbm\\engine.py:573: UserWarning: Found `n_estimators` in params. Will use it instead of argument\n",
      "  _log_warning(f\"Found `{alias}` in params. Will use it instead of argument\")\n"
     ]
    },
    {
     "name": "stdout",
     "output_type": "stream",
     "text": [
      "| \u001b[0m10       \u001b[0m | \u001b[0m-0.4412  \u001b[0m | \u001b[0m0.7427   \u001b[0m | \u001b[0m0.09147  \u001b[0m | \u001b[0m221.7    \u001b[0m | \u001b[0m31.27    \u001b[0m | \u001b[0m2.407    \u001b[0m | \u001b[0m0.2237   \u001b[0m | \u001b[0m0.9948   \u001b[0m |\n"
     ]
    },
    {
     "name": "stderr",
     "output_type": "stream",
     "text": [
      "C:\\Users\\Administrator\\anaconda3\\lib\\site-packages\\lightgbm\\engine.py:573: UserWarning: Found `n_estimators` in params. Will use it instead of argument\n",
      "  _log_warning(f\"Found `{alias}` in params. Will use it instead of argument\")\n"
     ]
    },
    {
     "name": "stdout",
     "output_type": "stream",
     "text": [
      "| \u001b[0m11       \u001b[0m | \u001b[0m-0.4563  \u001b[0m | \u001b[0m0.9089   \u001b[0m | \u001b[0m0.06763  \u001b[0m | \u001b[0m12.15    \u001b[0m | \u001b[0m85.24    \u001b[0m | \u001b[0m2.121    \u001b[0m | \u001b[0m2.187    \u001b[0m | \u001b[0m0.9085   \u001b[0m |\n"
     ]
    },
    {
     "name": "stderr",
     "output_type": "stream",
     "text": [
      "C:\\Users\\Administrator\\anaconda3\\lib\\site-packages\\lightgbm\\engine.py:573: UserWarning: Found `n_estimators` in params. Will use it instead of argument\n",
      "  _log_warning(f\"Found `{alias}` in params. Will use it instead of argument\")\n"
     ]
    },
    {
     "name": "stdout",
     "output_type": "stream",
     "text": [
      "| \u001b[0m12       \u001b[0m | \u001b[0m-0.4439  \u001b[0m | \u001b[0m0.6296   \u001b[0m | \u001b[0m0.114    \u001b[0m | \u001b[0m55.19    \u001b[0m | \u001b[0m89.05    \u001b[0m | \u001b[0m1.87     \u001b[0m | \u001b[0m0.9927   \u001b[0m | \u001b[0m0.6254   \u001b[0m |\n"
     ]
    },
    {
     "name": "stderr",
     "output_type": "stream",
     "text": [
      "C:\\Users\\Administrator\\anaconda3\\lib\\site-packages\\lightgbm\\engine.py:573: UserWarning: Found `n_estimators` in params. Will use it instead of argument\n",
      "  _log_warning(f\"Found `{alias}` in params. Will use it instead of argument\")\n"
     ]
    },
    {
     "name": "stdout",
     "output_type": "stream",
     "text": [
      "| \u001b[95m13       \u001b[0m | \u001b[95m-0.4395  \u001b[0m | \u001b[95m0.7244   \u001b[0m | \u001b[95m0.1043   \u001b[0m | \u001b[95m294.5    \u001b[0m | \u001b[95m71.0     \u001b[0m | \u001b[95m2.662    \u001b[0m | \u001b[95m1.417    \u001b[0m | \u001b[95m0.6478   \u001b[0m |\n"
     ]
    },
    {
     "name": "stderr",
     "output_type": "stream",
     "text": [
      "C:\\Users\\Administrator\\anaconda3\\lib\\site-packages\\lightgbm\\engine.py:573: UserWarning: Found `n_estimators` in params. Will use it instead of argument\n",
      "  _log_warning(f\"Found `{alias}` in params. Will use it instead of argument\")\n"
     ]
    },
    {
     "name": "stdout",
     "output_type": "stream",
     "text": [
      "| \u001b[0m14       \u001b[0m | \u001b[0m-0.4416  \u001b[0m | \u001b[0m0.8853   \u001b[0m | \u001b[0m0.2306   \u001b[0m | \u001b[0m228.9    \u001b[0m | \u001b[0m81.68    \u001b[0m | \u001b[0m1.481    \u001b[0m | \u001b[0m1.568    \u001b[0m | \u001b[0m0.771    \u001b[0m |\n"
     ]
    },
    {
     "name": "stderr",
     "output_type": "stream",
     "text": [
      "C:\\Users\\Administrator\\anaconda3\\lib\\site-packages\\lightgbm\\engine.py:573: UserWarning: Found `n_estimators` in params. Will use it instead of argument\n",
      "  _log_warning(f\"Found `{alias}` in params. Will use it instead of argument\")\n"
     ]
    },
    {
     "name": "stdout",
     "output_type": "stream",
     "text": [
      "| \u001b[0m15       \u001b[0m | \u001b[0m-0.4564  \u001b[0m | \u001b[0m0.6102   \u001b[0m | \u001b[0m0.04129  \u001b[0m | \u001b[0m22.26    \u001b[0m | \u001b[0m70.91    \u001b[0m | \u001b[0m0.9431   \u001b[0m | \u001b[0m1.526    \u001b[0m | \u001b[0m0.963    \u001b[0m |\n"
     ]
    },
    {
     "name": "stderr",
     "output_type": "stream",
     "text": [
      "C:\\Users\\Administrator\\anaconda3\\lib\\site-packages\\lightgbm\\engine.py:573: UserWarning: Found `n_estimators` in params. Will use it instead of argument\n",
      "  _log_warning(f\"Found `{alias}` in params. Will use it instead of argument\")\n"
     ]
    },
    {
     "name": "stdout",
     "output_type": "stream",
     "text": [
      "| \u001b[0m16       \u001b[0m | \u001b[0m-0.4401  \u001b[0m | \u001b[0m0.6997   \u001b[0m | \u001b[0m0.129    \u001b[0m | \u001b[0m304.7    \u001b[0m | \u001b[0m38.3     \u001b[0m | \u001b[0m0.2309   \u001b[0m | \u001b[0m0.8693   \u001b[0m | \u001b[0m0.6645   \u001b[0m |\n"
     ]
    },
    {
     "name": "stderr",
     "output_type": "stream",
     "text": [
      "C:\\Users\\Administrator\\anaconda3\\lib\\site-packages\\lightgbm\\engine.py:573: UserWarning: Found `n_estimators` in params. Will use it instead of argument\n",
      "  _log_warning(f\"Found `{alias}` in params. Will use it instead of argument\")\n"
     ]
    },
    {
     "name": "stdout",
     "output_type": "stream",
     "text": [
      "| \u001b[0m17       \u001b[0m | \u001b[0m-0.4431  \u001b[0m | \u001b[0m0.9719   \u001b[0m | \u001b[0m0.2444   \u001b[0m | \u001b[0m257.0    \u001b[0m | \u001b[0m89.72    \u001b[0m | \u001b[0m2.411    \u001b[0m | \u001b[0m0.5597   \u001b[0m | \u001b[0m0.957    \u001b[0m |\n"
     ]
    },
    {
     "name": "stderr",
     "output_type": "stream",
     "text": [
      "C:\\Users\\Administrator\\anaconda3\\lib\\site-packages\\lightgbm\\engine.py:573: UserWarning: Found `n_estimators` in params. Will use it instead of argument\n",
      "  _log_warning(f\"Found `{alias}` in params. Will use it instead of argument\")\n"
     ]
    },
    {
     "name": "stdout",
     "output_type": "stream",
     "text": [
      "| \u001b[0m18       \u001b[0m | \u001b[0m-0.4423  \u001b[0m | \u001b[0m0.8157   \u001b[0m | \u001b[0m0.2442   \u001b[0m | \u001b[0m359.5    \u001b[0m | \u001b[0m45.44    \u001b[0m | \u001b[0m0.3302   \u001b[0m | \u001b[0m0.6838   \u001b[0m | \u001b[0m0.7708   \u001b[0m |\n"
     ]
    },
    {
     "name": "stderr",
     "output_type": "stream",
     "text": [
      "C:\\Users\\Administrator\\anaconda3\\lib\\site-packages\\lightgbm\\engine.py:573: UserWarning: Found `n_estimators` in params. Will use it instead of argument\n",
      "  _log_warning(f\"Found `{alias}` in params. Will use it instead of argument\")\n"
     ]
    },
    {
     "name": "stdout",
     "output_type": "stream",
     "text": [
      "| \u001b[0m19       \u001b[0m | \u001b[0m-0.448   \u001b[0m | \u001b[0m0.9272   \u001b[0m | \u001b[0m0.2596   \u001b[0m | \u001b[0m12.71    \u001b[0m | \u001b[0m60.86    \u001b[0m | \u001b[0m1.252    \u001b[0m | \u001b[0m0.6663   \u001b[0m | \u001b[0m0.6479   \u001b[0m |\n"
     ]
    },
    {
     "name": "stderr",
     "output_type": "stream",
     "text": [
      "C:\\Users\\Administrator\\anaconda3\\lib\\site-packages\\lightgbm\\engine.py:573: UserWarning: Found `n_estimators` in params. Will use it instead of argument\n",
      "  _log_warning(f\"Found `{alias}` in params. Will use it instead of argument\")\n"
     ]
    },
    {
     "name": "stdout",
     "output_type": "stream",
     "text": [
      "| \u001b[0m20       \u001b[0m | \u001b[0m-0.4408  \u001b[0m | \u001b[0m0.735    \u001b[0m | \u001b[0m0.2834   \u001b[0m | \u001b[0m136.0    \u001b[0m | \u001b[0m61.5     \u001b[0m | \u001b[0m2.109    \u001b[0m | \u001b[0m1.091    \u001b[0m | \u001b[0m0.9887   \u001b[0m |\n"
     ]
    },
    {
     "name": "stderr",
     "output_type": "stream",
     "text": [
      "C:\\Users\\Administrator\\anaconda3\\lib\\site-packages\\lightgbm\\engine.py:573: UserWarning: Found `n_estimators` in params. Will use it instead of argument\n",
      "  _log_warning(f\"Found `{alias}` in params. Will use it instead of argument\")\n"
     ]
    },
    {
     "name": "stdout",
     "output_type": "stream",
     "text": [
      "| \u001b[0m21       \u001b[0m | \u001b[0m-0.449   \u001b[0m | \u001b[0m0.7049   \u001b[0m | \u001b[0m0.01     \u001b[0m | \u001b[0m291.2    \u001b[0m | \u001b[0m80.25    \u001b[0m | \u001b[0m3.0      \u001b[0m | \u001b[0m3.0      \u001b[0m | \u001b[0m0.7122   \u001b[0m |\n"
     ]
    },
    {
     "name": "stderr",
     "output_type": "stream",
     "text": [
      "C:\\Users\\Administrator\\anaconda3\\lib\\site-packages\\lightgbm\\engine.py:573: UserWarning: Found `n_estimators` in params. Will use it instead of argument\n",
      "  _log_warning(f\"Found `{alias}` in params. Will use it instead of argument\")\n"
     ]
    },
    {
     "name": "stdout",
     "output_type": "stream",
     "text": [
      "| \u001b[0m22       \u001b[0m | \u001b[0m-0.4402  \u001b[0m | \u001b[0m0.6257   \u001b[0m | \u001b[0m0.0416   \u001b[0m | \u001b[0m359.6    \u001b[0m | \u001b[0m88.0     \u001b[0m | \u001b[0m2.256    \u001b[0m | \u001b[0m0.8368   \u001b[0m | \u001b[0m0.7991   \u001b[0m |\n"
     ]
    },
    {
     "name": "stderr",
     "output_type": "stream",
     "text": [
      "C:\\Users\\Administrator\\anaconda3\\lib\\site-packages\\lightgbm\\engine.py:573: UserWarning: Found `n_estimators` in params. Will use it instead of argument\n",
      "  _log_warning(f\"Found `{alias}` in params. Will use it instead of argument\")\n"
     ]
    },
    {
     "name": "stdout",
     "output_type": "stream",
     "text": [
      "| \u001b[95m23       \u001b[0m | \u001b[95m-0.4391  \u001b[0m | \u001b[95m0.7703   \u001b[0m | \u001b[95m0.1088   \u001b[0m | \u001b[95m362.9    \u001b[0m | \u001b[95m57.8     \u001b[0m | \u001b[95m2.828    \u001b[0m | \u001b[95m0.8917   \u001b[0m | \u001b[95m0.8722   \u001b[0m |\n"
     ]
    },
    {
     "name": "stderr",
     "output_type": "stream",
     "text": [
      "C:\\Users\\Administrator\\anaconda3\\lib\\site-packages\\lightgbm\\engine.py:573: UserWarning: Found `n_estimators` in params. Will use it instead of argument\n",
      "  _log_warning(f\"Found `{alias}` in params. Will use it instead of argument\")\n"
     ]
    },
    {
     "name": "stdout",
     "output_type": "stream",
     "text": [
      "| \u001b[0m24       \u001b[0m | \u001b[0m-0.4428  \u001b[0m | \u001b[0m0.9994   \u001b[0m | \u001b[0m0.02484  \u001b[0m | \u001b[0m315.2    \u001b[0m | \u001b[0m79.39    \u001b[0m | \u001b[0m2.377    \u001b[0m | \u001b[0m1.048    \u001b[0m | \u001b[0m0.7858   \u001b[0m |\n"
     ]
    },
    {
     "name": "stderr",
     "output_type": "stream",
     "text": [
      "C:\\Users\\Administrator\\anaconda3\\lib\\site-packages\\lightgbm\\engine.py:573: UserWarning: Found `n_estimators` in params. Will use it instead of argument\n",
      "  _log_warning(f\"Found `{alias}` in params. Will use it instead of argument\")\n"
     ]
    },
    {
     "name": "stdout",
     "output_type": "stream",
     "text": [
      "| \u001b[0m25       \u001b[0m | \u001b[0m-0.4404  \u001b[0m | \u001b[0m0.8224   \u001b[0m | \u001b[0m0.2721   \u001b[0m | \u001b[0m268.1    \u001b[0m | \u001b[0m38.44    \u001b[0m | \u001b[0m2.898    \u001b[0m | \u001b[0m1.188    \u001b[0m | \u001b[0m0.6111   \u001b[0m |\n"
     ]
    },
    {
     "name": "stderr",
     "output_type": "stream",
     "text": [
      "C:\\Users\\Administrator\\anaconda3\\lib\\site-packages\\lightgbm\\engine.py:573: UserWarning: Found `n_estimators` in params. Will use it instead of argument\n",
      "  _log_warning(f\"Found `{alias}` in params. Will use it instead of argument\")\n"
     ]
    },
    {
     "name": "stdout",
     "output_type": "stream",
     "text": [
      "| \u001b[0m26       \u001b[0m | \u001b[0m-0.4394  \u001b[0m | \u001b[0m0.9237   \u001b[0m | \u001b[0m0.0659   \u001b[0m | \u001b[0m341.8    \u001b[0m | \u001b[0m72.08    \u001b[0m | \u001b[0m1.989    \u001b[0m | \u001b[0m0.1536   \u001b[0m | \u001b[0m0.7675   \u001b[0m |\n"
     ]
    },
    {
     "name": "stderr",
     "output_type": "stream",
     "text": [
      "C:\\Users\\Administrator\\anaconda3\\lib\\site-packages\\lightgbm\\engine.py:573: UserWarning: Found `n_estimators` in params. Will use it instead of argument\n",
      "  _log_warning(f\"Found `{alias}` in params. Will use it instead of argument\")\n"
     ]
    },
    {
     "name": "stdout",
     "output_type": "stream",
     "text": [
      "| \u001b[0m27       \u001b[0m | \u001b[0m-0.441   \u001b[0m | \u001b[0m0.8839   \u001b[0m | \u001b[0m0.1931   \u001b[0m | \u001b[0m322.7    \u001b[0m | \u001b[0m73.91    \u001b[0m | \u001b[0m2.534    \u001b[0m | \u001b[0m0.6468   \u001b[0m | \u001b[0m0.984    \u001b[0m |\n"
     ]
    },
    {
     "name": "stderr",
     "output_type": "stream",
     "text": [
      "C:\\Users\\Administrator\\anaconda3\\lib\\site-packages\\lightgbm\\engine.py:573: UserWarning: Found `n_estimators` in params. Will use it instead of argument\n",
      "  _log_warning(f\"Found `{alias}` in params. Will use it instead of argument\")\n"
     ]
    },
    {
     "name": "stdout",
     "output_type": "stream",
     "text": [
      "| \u001b[0m28       \u001b[0m | \u001b[0m-0.4472  \u001b[0m | \u001b[0m0.6476   \u001b[0m | \u001b[0m0.2856   \u001b[0m | \u001b[0m387.7    \u001b[0m | \u001b[0m96.27    \u001b[0m | \u001b[0m2.775    \u001b[0m | \u001b[0m0.7093   \u001b[0m | \u001b[0m0.7686   \u001b[0m |\n"
     ]
    },
    {
     "name": "stderr",
     "output_type": "stream",
     "text": [
      "C:\\Users\\Administrator\\anaconda3\\lib\\site-packages\\lightgbm\\engine.py:573: UserWarning: Found `n_estimators` in params. Will use it instead of argument\n",
      "  _log_warning(f\"Found `{alias}` in params. Will use it instead of argument\")\n"
     ]
    },
    {
     "name": "stdout",
     "output_type": "stream",
     "text": [
      "| \u001b[0m29       \u001b[0m | \u001b[0m-0.4416  \u001b[0m | \u001b[0m0.9905   \u001b[0m | \u001b[0m0.213    \u001b[0m | \u001b[0m362.1    \u001b[0m | \u001b[0m55.57    \u001b[0m | \u001b[0m1.224    \u001b[0m | \u001b[0m0.7213   \u001b[0m | \u001b[0m0.6716   \u001b[0m |\n"
     ]
    },
    {
     "name": "stderr",
     "output_type": "stream",
     "text": [
      "C:\\Users\\Administrator\\anaconda3\\lib\\site-packages\\lightgbm\\engine.py:573: UserWarning: Found `n_estimators` in params. Will use it instead of argument\n",
      "  _log_warning(f\"Found `{alias}` in params. Will use it instead of argument\")\n"
     ]
    },
    {
     "name": "stdout",
     "output_type": "stream",
     "text": [
      "| \u001b[0m30       \u001b[0m | \u001b[0m-0.4401  \u001b[0m | \u001b[0m0.8536   \u001b[0m | \u001b[0m0.1645   \u001b[0m | \u001b[0m360.7    \u001b[0m | \u001b[0m61.88    \u001b[0m | \u001b[0m2.059    \u001b[0m | \u001b[0m0.2026   \u001b[0m | \u001b[0m0.74     \u001b[0m |\n"
     ]
    },
    {
     "name": "stderr",
     "output_type": "stream",
     "text": [
      "C:\\Users\\Administrator\\anaconda3\\lib\\site-packages\\lightgbm\\engine.py:573: UserWarning: Found `n_estimators` in params. Will use it instead of argument\n",
      "  _log_warning(f\"Found `{alias}` in params. Will use it instead of argument\")\n"
     ]
    },
    {
     "name": "stdout",
     "output_type": "stream",
     "text": [
      "| \u001b[0m31       \u001b[0m | \u001b[0m-0.4397  \u001b[0m | \u001b[0m0.9682   \u001b[0m | \u001b[0m0.06139  \u001b[0m | \u001b[0m369.1    \u001b[0m | \u001b[0m62.45    \u001b[0m | \u001b[0m2.987    \u001b[0m | \u001b[0m0.2396   \u001b[0m | \u001b[0m0.6475   \u001b[0m |\n"
     ]
    },
    {
     "name": "stderr",
     "output_type": "stream",
     "text": [
      "C:\\Users\\Administrator\\anaconda3\\lib\\site-packages\\lightgbm\\engine.py:573: UserWarning: Found `n_estimators` in params. Will use it instead of argument\n",
      "  _log_warning(f\"Found `{alias}` in params. Will use it instead of argument\")\n"
     ]
    },
    {
     "name": "stdout",
     "output_type": "stream",
     "text": [
      "| \u001b[0m32       \u001b[0m | \u001b[0m-0.445   \u001b[0m | \u001b[0m0.822    \u001b[0m | \u001b[0m0.2603   \u001b[0m | \u001b[0m349.4    \u001b[0m | \u001b[0m78.8     \u001b[0m | \u001b[0m1.202    \u001b[0m | \u001b[0m0.7387   \u001b[0m | \u001b[0m0.8495   \u001b[0m |\n"
     ]
    },
    {
     "name": "stderr",
     "output_type": "stream",
     "text": [
      "C:\\Users\\Administrator\\anaconda3\\lib\\site-packages\\lightgbm\\engine.py:573: UserWarning: Found `n_estimators` in params. Will use it instead of argument\n",
      "  _log_warning(f\"Found `{alias}` in params. Will use it instead of argument\")\n"
     ]
    },
    {
     "name": "stdout",
     "output_type": "stream",
     "text": [
      "| \u001b[0m33       \u001b[0m | \u001b[0m-0.4424  \u001b[0m | \u001b[0m0.7083   \u001b[0m | \u001b[0m0.2386   \u001b[0m | \u001b[0m332.9    \u001b[0m | \u001b[0m69.58    \u001b[0m | \u001b[0m1.605    \u001b[0m | \u001b[0m2.341    \u001b[0m | \u001b[0m0.6006   \u001b[0m |\n"
     ]
    },
    {
     "name": "stderr",
     "output_type": "stream",
     "text": [
      "C:\\Users\\Administrator\\anaconda3\\lib\\site-packages\\lightgbm\\engine.py:573: UserWarning: Found `n_estimators` in params. Will use it instead of argument\n",
      "  _log_warning(f\"Found `{alias}` in params. Will use it instead of argument\")\n"
     ]
    },
    {
     "name": "stdout",
     "output_type": "stream",
     "text": [
      "| \u001b[0m34       \u001b[0m | \u001b[0m-0.4393  \u001b[0m | \u001b[0m0.6478   \u001b[0m | \u001b[0m0.142    \u001b[0m | \u001b[0m344.4    \u001b[0m | \u001b[0m64.33    \u001b[0m | \u001b[0m2.43     \u001b[0m | \u001b[0m0.9749   \u001b[0m | \u001b[0m0.9772   \u001b[0m |\n"
     ]
    },
    {
     "name": "stderr",
     "output_type": "stream",
     "text": [
      "C:\\Users\\Administrator\\anaconda3\\lib\\site-packages\\lightgbm\\engine.py:573: UserWarning: Found `n_estimators` in params. Will use it instead of argument\n",
      "  _log_warning(f\"Found `{alias}` in params. Will use it instead of argument\")\n"
     ]
    },
    {
     "name": "stdout",
     "output_type": "stream",
     "text": [
      "| \u001b[0m35       \u001b[0m | \u001b[0m-0.4401  \u001b[0m | \u001b[0m0.9296   \u001b[0m | \u001b[0m0.2399   \u001b[0m | \u001b[0m295.8    \u001b[0m | \u001b[0m29.62    \u001b[0m | \u001b[0m2.45     \u001b[0m | \u001b[0m0.595    \u001b[0m | \u001b[0m0.9027   \u001b[0m |\n"
     ]
    },
    {
     "name": "stderr",
     "output_type": "stream",
     "text": [
      "C:\\Users\\Administrator\\anaconda3\\lib\\site-packages\\lightgbm\\engine.py:573: UserWarning: Found `n_estimators` in params. Will use it instead of argument\n",
      "  _log_warning(f\"Found `{alias}` in params. Will use it instead of argument\")\n"
     ]
    },
    {
     "name": "stdout",
     "output_type": "stream",
     "text": [
      "| \u001b[0m36       \u001b[0m | \u001b[0m-0.4411  \u001b[0m | \u001b[0m0.6076   \u001b[0m | \u001b[0m0.07447  \u001b[0m | \u001b[0m283.4    \u001b[0m | \u001b[0m32.7     \u001b[0m | \u001b[0m2.445    \u001b[0m | \u001b[0m1.384    \u001b[0m | \u001b[0m0.9655   \u001b[0m |\n"
     ]
    },
    {
     "name": "stderr",
     "output_type": "stream",
     "text": [
      "C:\\Users\\Administrator\\anaconda3\\lib\\site-packages\\lightgbm\\engine.py:573: UserWarning: Found `n_estimators` in params. Will use it instead of argument\n",
      "  _log_warning(f\"Found `{alias}` in params. Will use it instead of argument\")\n"
     ]
    },
    {
     "name": "stdout",
     "output_type": "stream",
     "text": [
      "| \u001b[0m37       \u001b[0m | \u001b[0m-0.4412  \u001b[0m | \u001b[0m0.9173   \u001b[0m | \u001b[0m0.05699  \u001b[0m | \u001b[0m293.8    \u001b[0m | \u001b[0m39.78    \u001b[0m | \u001b[0m1.316    \u001b[0m | \u001b[0m2.734    \u001b[0m | \u001b[0m0.7513   \u001b[0m |\n"
     ]
    },
    {
     "name": "stderr",
     "output_type": "stream",
     "text": [
      "C:\\Users\\Administrator\\anaconda3\\lib\\site-packages\\lightgbm\\engine.py:573: UserWarning: Found `n_estimators` in params. Will use it instead of argument\n",
      "  _log_warning(f\"Found `{alias}` in params. Will use it instead of argument\")\n"
     ]
    },
    {
     "name": "stdout",
     "output_type": "stream",
     "text": [
      "| \u001b[0m38       \u001b[0m | \u001b[0m-0.44    \u001b[0m | \u001b[0m0.7734   \u001b[0m | \u001b[0m0.1458   \u001b[0m | \u001b[0m273.9    \u001b[0m | \u001b[0m24.98    \u001b[0m | \u001b[0m2.335    \u001b[0m | \u001b[0m1.748    \u001b[0m | \u001b[0m0.61     \u001b[0m |\n"
     ]
    },
    {
     "name": "stderr",
     "output_type": "stream",
     "text": [
      "C:\\Users\\Administrator\\anaconda3\\lib\\site-packages\\lightgbm\\engine.py:573: UserWarning: Found `n_estimators` in params. Will use it instead of argument\n",
      "  _log_warning(f\"Found `{alias}` in params. Will use it instead of argument\")\n"
     ]
    },
    {
     "name": "stdout",
     "output_type": "stream",
     "text": [
      "| \u001b[0m39       \u001b[0m | \u001b[0m-0.4398  \u001b[0m | \u001b[0m0.9128   \u001b[0m | \u001b[0m0.2476   \u001b[0m | \u001b[0m307.4    \u001b[0m | \u001b[0m26.37    \u001b[0m | \u001b[0m2.536    \u001b[0m | \u001b[0m2.445    \u001b[0m | \u001b[0m0.7194   \u001b[0m |\n"
     ]
    },
    {
     "name": "stderr",
     "output_type": "stream",
     "text": [
      "C:\\Users\\Administrator\\anaconda3\\lib\\site-packages\\lightgbm\\engine.py:573: UserWarning: Found `n_estimators` in params. Will use it instead of argument\n",
      "  _log_warning(f\"Found `{alias}` in params. Will use it instead of argument\")\n"
     ]
    },
    {
     "name": "stdout",
     "output_type": "stream",
     "text": [
      "| \u001b[0m40       \u001b[0m | \u001b[0m-0.4395  \u001b[0m | \u001b[0m0.9211   \u001b[0m | \u001b[0m0.1452   \u001b[0m | \u001b[0m316.0    \u001b[0m | \u001b[0m34.7     \u001b[0m | \u001b[0m2.817    \u001b[0m | \u001b[0m1.014    \u001b[0m | \u001b[0m0.6043   \u001b[0m |\n"
     ]
    },
    {
     "name": "stderr",
     "output_type": "stream",
     "text": [
      "C:\\Users\\Administrator\\anaconda3\\lib\\site-packages\\lightgbm\\engine.py:573: UserWarning: Found `n_estimators` in params. Will use it instead of argument\n",
      "  _log_warning(f\"Found `{alias}` in params. Will use it instead of argument\")\n"
     ]
    },
    {
     "name": "stdout",
     "output_type": "stream",
     "text": [
      "| \u001b[0m41       \u001b[0m | \u001b[0m-0.4509  \u001b[0m | \u001b[0m1.0      \u001b[0m | \u001b[0m0.01     \u001b[0m | \u001b[0m319.4    \u001b[0m | \u001b[0m23.82    \u001b[0m | \u001b[0m0.6533   \u001b[0m | \u001b[0m0.0      \u001b[0m | \u001b[0m0.6      \u001b[0m |\n"
     ]
    },
    {
     "name": "stderr",
     "output_type": "stream",
     "text": [
      "C:\\Users\\Administrator\\anaconda3\\lib\\site-packages\\lightgbm\\engine.py:573: UserWarning: Found `n_estimators` in params. Will use it instead of argument\n",
      "  _log_warning(f\"Found `{alias}` in params. Will use it instead of argument\")\n"
     ]
    },
    {
     "name": "stdout",
     "output_type": "stream",
     "text": [
      "| \u001b[0m42       \u001b[0m | \u001b[0m-0.4496  \u001b[0m | \u001b[0m1.0      \u001b[0m | \u001b[0m0.01     \u001b[0m | \u001b[0m314.5    \u001b[0m | \u001b[0m43.62    \u001b[0m | \u001b[0m3.0      \u001b[0m | \u001b[0m3.0      \u001b[0m | \u001b[0m0.6097   \u001b[0m |\n"
     ]
    },
    {
     "name": "stderr",
     "output_type": "stream",
     "text": [
      "C:\\Users\\Administrator\\anaconda3\\lib\\site-packages\\lightgbm\\engine.py:573: UserWarning: Found `n_estimators` in params. Will use it instead of argument\n",
      "  _log_warning(f\"Found `{alias}` in params. Will use it instead of argument\")\n"
     ]
    },
    {
     "name": "stdout",
     "output_type": "stream",
     "text": [
      "| \u001b[0m43       \u001b[0m | \u001b[0m-0.4401  \u001b[0m | \u001b[0m0.8805   \u001b[0m | \u001b[0m0.1616   \u001b[0m | \u001b[0m303.5    \u001b[0m | \u001b[0m31.61    \u001b[0m | \u001b[0m0.4364   \u001b[0m | \u001b[0m0.1895   \u001b[0m | \u001b[0m0.8317   \u001b[0m |\n"
     ]
    },
    {
     "name": "stderr",
     "output_type": "stream",
     "text": [
      "C:\\Users\\Administrator\\anaconda3\\lib\\site-packages\\lightgbm\\engine.py:573: UserWarning: Found `n_estimators` in params. Will use it instead of argument\n",
      "  _log_warning(f\"Found `{alias}` in params. Will use it instead of argument\")\n"
     ]
    },
    {
     "name": "stdout",
     "output_type": "stream",
     "text": [
      "| \u001b[0m44       \u001b[0m | \u001b[0m-0.4398  \u001b[0m | \u001b[0m0.7753   \u001b[0m | \u001b[0m0.1673   \u001b[0m | \u001b[0m298.4    \u001b[0m | \u001b[0m20.54    \u001b[0m | \u001b[0m3.0      \u001b[0m | \u001b[0m3.0      \u001b[0m | \u001b[0m0.6      \u001b[0m |\n"
     ]
    },
    {
     "name": "stderr",
     "output_type": "stream",
     "text": [
      "C:\\Users\\Administrator\\anaconda3\\lib\\site-packages\\lightgbm\\engine.py:573: UserWarning: Found `n_estimators` in params. Will use it instead of argument\n",
      "  _log_warning(f\"Found `{alias}` in params. Will use it instead of argument\")\n"
     ]
    },
    {
     "name": "stdout",
     "output_type": "stream",
     "text": [
      "| \u001b[0m45       \u001b[0m | \u001b[0m-0.441   \u001b[0m | \u001b[0m0.8111   \u001b[0m | \u001b[0m0.09027  \u001b[0m | \u001b[0m265.7    \u001b[0m | \u001b[0m28.83    \u001b[0m | \u001b[0m1.244    \u001b[0m | \u001b[0m0.5508   \u001b[0m | \u001b[0m0.9323   \u001b[0m |\n"
     ]
    },
    {
     "name": "stderr",
     "output_type": "stream",
     "text": [
      "C:\\Users\\Administrator\\anaconda3\\lib\\site-packages\\lightgbm\\engine.py:573: UserWarning: Found `n_estimators` in params. Will use it instead of argument\n",
      "  _log_warning(f\"Found `{alias}` in params. Will use it instead of argument\")\n"
     ]
    },
    {
     "name": "stdout",
     "output_type": "stream",
     "text": [
      "| \u001b[0m46       \u001b[0m | \u001b[0m-0.4402  \u001b[0m | \u001b[0m0.7298   \u001b[0m | \u001b[0m0.1602   \u001b[0m | \u001b[0m145.6    \u001b[0m | \u001b[0m66.9     \u001b[0m | \u001b[0m2.81     \u001b[0m | \u001b[0m0.9664   \u001b[0m | \u001b[0m0.7231   \u001b[0m |\n"
     ]
    },
    {
     "name": "stderr",
     "output_type": "stream",
     "text": [
      "C:\\Users\\Administrator\\anaconda3\\lib\\site-packages\\lightgbm\\engine.py:573: UserWarning: Found `n_estimators` in params. Will use it instead of argument\n",
      "  _log_warning(f\"Found `{alias}` in params. Will use it instead of argument\")\n"
     ]
    },
    {
     "name": "stdout",
     "output_type": "stream",
     "text": [
      "| \u001b[0m47       \u001b[0m | \u001b[0m-0.4473  \u001b[0m | \u001b[0m0.9461   \u001b[0m | \u001b[0m0.02902  \u001b[0m | \u001b[0m142.5    \u001b[0m | \u001b[0m54.79    \u001b[0m | \u001b[0m0.1818   \u001b[0m | \u001b[0m2.201    \u001b[0m | \u001b[0m0.6643   \u001b[0m |\n"
     ]
    },
    {
     "name": "stderr",
     "output_type": "stream",
     "text": [
      "C:\\Users\\Administrator\\anaconda3\\lib\\site-packages\\lightgbm\\engine.py:573: UserWarning: Found `n_estimators` in params. Will use it instead of argument\n",
      "  _log_warning(f\"Found `{alias}` in params. Will use it instead of argument\")\n"
     ]
    },
    {
     "name": "stdout",
     "output_type": "stream",
     "text": [
      "| \u001b[0m48       \u001b[0m | \u001b[0m-0.4405  \u001b[0m | \u001b[0m0.831    \u001b[0m | \u001b[0m0.2329   \u001b[0m | \u001b[0m139.0    \u001b[0m | \u001b[0m72.99    \u001b[0m | \u001b[0m1.588    \u001b[0m | \u001b[0m0.9646   \u001b[0m | \u001b[0m0.6399   \u001b[0m |\n"
     ]
    },
    {
     "name": "stderr",
     "output_type": "stream",
     "text": [
      "C:\\Users\\Administrator\\anaconda3\\lib\\site-packages\\lightgbm\\engine.py:573: UserWarning: Found `n_estimators` in params. Will use it instead of argument\n",
      "  _log_warning(f\"Found `{alias}` in params. Will use it instead of argument\")\n"
     ]
    },
    {
     "name": "stdout",
     "output_type": "stream",
     "text": [
      "| \u001b[0m49       \u001b[0m | \u001b[0m-0.4526  \u001b[0m | \u001b[0m0.8196   \u001b[0m | \u001b[0m0.01124  \u001b[0m | \u001b[0m155.3    \u001b[0m | \u001b[0m66.47    \u001b[0m | \u001b[0m2.992    \u001b[0m | \u001b[0m1.872    \u001b[0m | \u001b[0m0.9329   \u001b[0m |\n"
     ]
    },
    {
     "name": "stderr",
     "output_type": "stream",
     "text": [
      "C:\\Users\\Administrator\\anaconda3\\lib\\site-packages\\lightgbm\\engine.py:573: UserWarning: Found `n_estimators` in params. Will use it instead of argument\n",
      "  _log_warning(f\"Found `{alias}` in params. Will use it instead of argument\")\n"
     ]
    },
    {
     "name": "stdout",
     "output_type": "stream",
     "text": [
      "| \u001b[0m50       \u001b[0m | \u001b[0m-0.4398  \u001b[0m | \u001b[0m0.7201   \u001b[0m | \u001b[0m0.1618   \u001b[0m | \u001b[0m274.3    \u001b[0m | \u001b[0m33.31    \u001b[0m | \u001b[0m0.5286   \u001b[0m | \u001b[0m2.293    \u001b[0m | \u001b[0m0.9484   \u001b[0m |\n"
     ]
    },
    {
     "name": "stderr",
     "output_type": "stream",
     "text": [
      "C:\\Users\\Administrator\\anaconda3\\lib\\site-packages\\lightgbm\\engine.py:573: UserWarning: Found `n_estimators` in params. Will use it instead of argument\n",
      "  _log_warning(f\"Found `{alias}` in params. Will use it instead of argument\")\n"
     ]
    },
    {
     "name": "stdout",
     "output_type": "stream",
     "text": [
      "| \u001b[0m51       \u001b[0m | \u001b[0m-0.4405  \u001b[0m | \u001b[0m0.8137   \u001b[0m | \u001b[0m0.2553   \u001b[0m | \u001b[0m292.9    \u001b[0m | \u001b[0m23.87    \u001b[0m | \u001b[0m0.006084 \u001b[0m | \u001b[0m2.471    \u001b[0m | \u001b[0m0.9309   \u001b[0m |\n"
     ]
    },
    {
     "name": "stderr",
     "output_type": "stream",
     "text": [
      "C:\\Users\\Administrator\\anaconda3\\lib\\site-packages\\lightgbm\\engine.py:573: UserWarning: Found `n_estimators` in params. Will use it instead of argument\n",
      "  _log_warning(f\"Found `{alias}` in params. Will use it instead of argument\")\n"
     ]
    },
    {
     "name": "stdout",
     "output_type": "stream",
     "text": [
      "| \u001b[0m52       \u001b[0m | \u001b[0m-0.4428  \u001b[0m | \u001b[0m0.9457   \u001b[0m | \u001b[0m0.02492  \u001b[0m | \u001b[0m372.2    \u001b[0m | \u001b[0m54.07    \u001b[0m | \u001b[0m2.713    \u001b[0m | \u001b[0m0.7219   \u001b[0m | \u001b[0m0.8026   \u001b[0m |\n"
     ]
    },
    {
     "name": "stderr",
     "output_type": "stream",
     "text": [
      "C:\\Users\\Administrator\\anaconda3\\lib\\site-packages\\lightgbm\\engine.py:573: UserWarning: Found `n_estimators` in params. Will use it instead of argument\n",
      "  _log_warning(f\"Found `{alias}` in params. Will use it instead of argument\")\n"
     ]
    },
    {
     "name": "stdout",
     "output_type": "stream",
     "text": [
      "| \u001b[0m53       \u001b[0m | \u001b[0m-0.4398  \u001b[0m | \u001b[0m0.9399   \u001b[0m | \u001b[0m0.2153   \u001b[0m | \u001b[0m276.8    \u001b[0m | \u001b[0m41.67    \u001b[0m | \u001b[0m2.764    \u001b[0m | \u001b[0m1.525    \u001b[0m | \u001b[0m0.6959   \u001b[0m |\n"
     ]
    },
    {
     "name": "stderr",
     "output_type": "stream",
     "text": [
      "C:\\Users\\Administrator\\anaconda3\\lib\\site-packages\\lightgbm\\engine.py:573: UserWarning: Found `n_estimators` in params. Will use it instead of argument\n",
      "  _log_warning(f\"Found `{alias}` in params. Will use it instead of argument\")\n"
     ]
    },
    {
     "name": "stdout",
     "output_type": "stream",
     "text": [
      "| \u001b[0m54       \u001b[0m | \u001b[0m-0.4396  \u001b[0m | \u001b[0m0.6737   \u001b[0m | \u001b[0m0.1883   \u001b[0m | \u001b[0m270.9    \u001b[0m | \u001b[0m49.23    \u001b[0m | \u001b[0m2.356    \u001b[0m | \u001b[0m0.7066   \u001b[0m | \u001b[0m0.8884   \u001b[0m |\n"
     ]
    },
    {
     "name": "stderr",
     "output_type": "stream",
     "text": [
      "C:\\Users\\Administrator\\anaconda3\\lib\\site-packages\\lightgbm\\engine.py:573: UserWarning: Found `n_estimators` in params. Will use it instead of argument\n",
      "  _log_warning(f\"Found `{alias}` in params. Will use it instead of argument\")\n"
     ]
    },
    {
     "name": "stdout",
     "output_type": "stream",
     "text": [
      "| \u001b[0m55       \u001b[0m | \u001b[0m-0.4502  \u001b[0m | \u001b[0m0.6      \u001b[0m | \u001b[0m0.01     \u001b[0m | \u001b[0m280.0    \u001b[0m | \u001b[0m50.45    \u001b[0m | \u001b[0m0.0      \u001b[0m | \u001b[0m0.2108   \u001b[0m | \u001b[0m0.7615   \u001b[0m |\n"
     ]
    },
    {
     "name": "stderr",
     "output_type": "stream",
     "text": [
      "C:\\Users\\Administrator\\anaconda3\\lib\\site-packages\\lightgbm\\engine.py:573: UserWarning: Found `n_estimators` in params. Will use it instead of argument\n",
      "  _log_warning(f\"Found `{alias}` in params. Will use it instead of argument\")\n"
     ]
    },
    {
     "name": "stdout",
     "output_type": "stream",
     "text": [
      "| \u001b[0m56       \u001b[0m | \u001b[0m-0.4415  \u001b[0m | \u001b[0m0.847    \u001b[0m | \u001b[0m0.3      \u001b[0m | \u001b[0m263.9    \u001b[0m | \u001b[0m47.47    \u001b[0m | \u001b[0m3.0      \u001b[0m | \u001b[0m1.739    \u001b[0m | \u001b[0m1.0      \u001b[0m |\n"
     ]
    },
    {
     "name": "stderr",
     "output_type": "stream",
     "text": [
      "C:\\Users\\Administrator\\anaconda3\\lib\\site-packages\\lightgbm\\engine.py:573: UserWarning: Found `n_estimators` in params. Will use it instead of argument\n",
      "  _log_warning(f\"Found `{alias}` in params. Will use it instead of argument\")\n"
     ]
    },
    {
     "name": "stdout",
     "output_type": "stream",
     "text": [
      "| \u001b[0m57       \u001b[0m | \u001b[0m-0.4411  \u001b[0m | \u001b[0m0.9294   \u001b[0m | \u001b[0m0.2166   \u001b[0m | \u001b[0m351.2    \u001b[0m | \u001b[0m58.48    \u001b[0m | \u001b[0m2.847    \u001b[0m | \u001b[0m1.224    \u001b[0m | \u001b[0m0.9245   \u001b[0m |\n"
     ]
    },
    {
     "name": "stderr",
     "output_type": "stream",
     "text": [
      "C:\\Users\\Administrator\\anaconda3\\lib\\site-packages\\lightgbm\\engine.py:573: UserWarning: Found `n_estimators` in params. Will use it instead of argument\n",
      "  _log_warning(f\"Found `{alias}` in params. Will use it instead of argument\")\n"
     ]
    },
    {
     "name": "stdout",
     "output_type": "stream",
     "text": [
      "| \u001b[0m58       \u001b[0m | \u001b[0m-0.4483  \u001b[0m | \u001b[0m0.6      \u001b[0m | \u001b[0m0.01     \u001b[0m | \u001b[0m350.6    \u001b[0m | \u001b[0m67.59    \u001b[0m | \u001b[0m3.0      \u001b[0m | \u001b[0m3.0      \u001b[0m | \u001b[0m0.6      \u001b[0m |\n"
     ]
    },
    {
     "name": "stderr",
     "output_type": "stream",
     "text": [
      "C:\\Users\\Administrator\\anaconda3\\lib\\site-packages\\lightgbm\\engine.py:573: UserWarning: Found `n_estimators` in params. Will use it instead of argument\n",
      "  _log_warning(f\"Found `{alias}` in params. Will use it instead of argument\")\n"
     ]
    },
    {
     "name": "stdout",
     "output_type": "stream",
     "text": [
      "| \u001b[0m59       \u001b[0m | \u001b[0m-0.4467  \u001b[0m | \u001b[0m0.9838   \u001b[0m | \u001b[0m0.2686   \u001b[0m | \u001b[0m337.9    \u001b[0m | \u001b[0m63.09    \u001b[0m | \u001b[0m0.342    \u001b[0m | \u001b[0m0.0829   \u001b[0m | \u001b[0m0.6029   \u001b[0m |\n"
     ]
    },
    {
     "name": "stderr",
     "output_type": "stream",
     "text": [
      "C:\\Users\\Administrator\\anaconda3\\lib\\site-packages\\lightgbm\\engine.py:573: UserWarning: Found `n_estimators` in params. Will use it instead of argument\n",
      "  _log_warning(f\"Found `{alias}` in params. Will use it instead of argument\")\n"
     ]
    },
    {
     "name": "stdout",
     "output_type": "stream",
     "text": [
      "| \u001b[0m60       \u001b[0m | \u001b[0m-0.44    \u001b[0m | \u001b[0m0.7581   \u001b[0m | \u001b[0m0.1114   \u001b[0m | \u001b[0m309.3    \u001b[0m | \u001b[0m32.92    \u001b[0m | \u001b[0m1.869    \u001b[0m | \u001b[0m1.171    \u001b[0m | \u001b[0m0.6623   \u001b[0m |\n"
     ]
    },
    {
     "name": "stderr",
     "output_type": "stream",
     "text": [
      "C:\\Users\\Administrator\\anaconda3\\lib\\site-packages\\lightgbm\\engine.py:573: UserWarning: Found `n_estimators` in params. Will use it instead of argument\n",
      "  _log_warning(f\"Found `{alias}` in params. Will use it instead of argument\")\n"
     ]
    },
    {
     "name": "stdout",
     "output_type": "stream",
     "text": [
      "| \u001b[0m61       \u001b[0m | \u001b[0m-0.4396  \u001b[0m | \u001b[0m0.7373   \u001b[0m | \u001b[0m0.2217   \u001b[0m | \u001b[0m279.9    \u001b[0m | \u001b[0m25.71    \u001b[0m | \u001b[0m2.712    \u001b[0m | \u001b[0m2.462    \u001b[0m | \u001b[0m0.8678   \u001b[0m |\n"
     ]
    },
    {
     "name": "stderr",
     "output_type": "stream",
     "text": [
      "C:\\Users\\Administrator\\anaconda3\\lib\\site-packages\\lightgbm\\engine.py:573: UserWarning: Found `n_estimators` in params. Will use it instead of argument\n",
      "  _log_warning(f\"Found `{alias}` in params. Will use it instead of argument\")\n"
     ]
    },
    {
     "name": "stdout",
     "output_type": "stream",
     "text": [
      "| \u001b[0m62       \u001b[0m | \u001b[0m-0.4418  \u001b[0m | \u001b[0m0.8994   \u001b[0m | \u001b[0m0.2711   \u001b[0m | \u001b[0m270.3    \u001b[0m | \u001b[0m43.66    \u001b[0m | \u001b[0m0.4478   \u001b[0m | \u001b[0m1.43     \u001b[0m | \u001b[0m0.8025   \u001b[0m |\n"
     ]
    },
    {
     "name": "stderr",
     "output_type": "stream",
     "text": [
      "C:\\Users\\Administrator\\anaconda3\\lib\\site-packages\\lightgbm\\engine.py:573: UserWarning: Found `n_estimators` in params. Will use it instead of argument\n",
      "  _log_warning(f\"Found `{alias}` in params. Will use it instead of argument\")\n"
     ]
    },
    {
     "name": "stdout",
     "output_type": "stream",
     "text": [
      "| \u001b[0m63       \u001b[0m | \u001b[0m-0.4403  \u001b[0m | \u001b[0m0.6075   \u001b[0m | \u001b[0m0.2243   \u001b[0m | \u001b[0m301.6    \u001b[0m | \u001b[0m24.32    \u001b[0m | \u001b[0m0.127    \u001b[0m | \u001b[0m1.987    \u001b[0m | \u001b[0m0.6674   \u001b[0m |\n"
     ]
    },
    {
     "name": "stderr",
     "output_type": "stream",
     "text": [
      "C:\\Users\\Administrator\\anaconda3\\lib\\site-packages\\lightgbm\\engine.py:573: UserWarning: Found `n_estimators` in params. Will use it instead of argument\n",
      "  _log_warning(f\"Found `{alias}` in params. Will use it instead of argument\")\n"
     ]
    },
    {
     "name": "stdout",
     "output_type": "stream",
     "text": [
      "| \u001b[0m64       \u001b[0m | \u001b[0m-0.4421  \u001b[0m | \u001b[0m0.9739   \u001b[0m | \u001b[0m0.04022  \u001b[0m | \u001b[0m265.8    \u001b[0m | \u001b[0m56.06    \u001b[0m | \u001b[0m2.648    \u001b[0m | \u001b[0m1.772    \u001b[0m | \u001b[0m0.6511   \u001b[0m |\n"
     ]
    },
    {
     "name": "stderr",
     "output_type": "stream",
     "text": [
      "C:\\Users\\Administrator\\anaconda3\\lib\\site-packages\\lightgbm\\engine.py:573: UserWarning: Found `n_estimators` in params. Will use it instead of argument\n",
      "  _log_warning(f\"Found `{alias}` in params. Will use it instead of argument\")\n"
     ]
    },
    {
     "name": "stdout",
     "output_type": "stream",
     "text": [
      "| \u001b[0m65       \u001b[0m | \u001b[0m-0.4416  \u001b[0m | \u001b[0m0.7612   \u001b[0m | \u001b[0m0.03165  \u001b[0m | \u001b[0m337.0    \u001b[0m | \u001b[0m78.37    \u001b[0m | \u001b[0m1.338    \u001b[0m | \u001b[0m0.03995  \u001b[0m | \u001b[0m0.8698   \u001b[0m |\n"
     ]
    },
    {
     "name": "stderr",
     "output_type": "stream",
     "text": [
      "C:\\Users\\Administrator\\anaconda3\\lib\\site-packages\\lightgbm\\engine.py:573: UserWarning: Found `n_estimators` in params. Will use it instead of argument\n",
      "  _log_warning(f\"Found `{alias}` in params. Will use it instead of argument\")\n"
     ]
    },
    {
     "name": "stdout",
     "output_type": "stream",
     "text": [
      "| \u001b[0m66       \u001b[0m | \u001b[0m-0.4421  \u001b[0m | \u001b[0m0.7042   \u001b[0m | \u001b[0m0.1814   \u001b[0m | \u001b[0m360.5    \u001b[0m | \u001b[0m95.93    \u001b[0m | \u001b[0m1.13     \u001b[0m | \u001b[0m1.261    \u001b[0m | \u001b[0m0.6756   \u001b[0m |\n"
     ]
    },
    {
     "name": "stderr",
     "output_type": "stream",
     "text": [
      "C:\\Users\\Administrator\\anaconda3\\lib\\site-packages\\lightgbm\\engine.py:573: UserWarning: Found `n_estimators` in params. Will use it instead of argument\n",
      "  _log_warning(f\"Found `{alias}` in params. Will use it instead of argument\")\n"
     ]
    },
    {
     "name": "stdout",
     "output_type": "stream",
     "text": [
      "| \u001b[0m67       \u001b[0m | \u001b[0m-0.4407  \u001b[0m | \u001b[0m0.8057   \u001b[0m | \u001b[0m0.2349   \u001b[0m | \u001b[0m138.5    \u001b[0m | \u001b[0m67.41    \u001b[0m | \u001b[0m0.4611   \u001b[0m | \u001b[0m1.824    \u001b[0m | \u001b[0m0.8927   \u001b[0m |\n"
     ]
    },
    {
     "name": "stderr",
     "output_type": "stream",
     "text": [
      "C:\\Users\\Administrator\\anaconda3\\lib\\site-packages\\lightgbm\\engine.py:573: UserWarning: Found `n_estimators` in params. Will use it instead of argument\n",
      "  _log_warning(f\"Found `{alias}` in params. Will use it instead of argument\")\n"
     ]
    },
    {
     "name": "stdout",
     "output_type": "stream",
     "text": [
      "| \u001b[0m68       \u001b[0m | \u001b[0m-0.4423  \u001b[0m | \u001b[0m0.6091   \u001b[0m | \u001b[0m0.0257   \u001b[0m | \u001b[0m368.0    \u001b[0m | \u001b[0m70.31    \u001b[0m | \u001b[0m1.79     \u001b[0m | \u001b[0m1.136    \u001b[0m | \u001b[0m0.7425   \u001b[0m |\n"
     ]
    },
    {
     "name": "stderr",
     "output_type": "stream",
     "text": [
      "C:\\Users\\Administrator\\anaconda3\\lib\\site-packages\\lightgbm\\engine.py:573: UserWarning: Found `n_estimators` in params. Will use it instead of argument\n",
      "  _log_warning(f\"Found `{alias}` in params. Will use it instead of argument\")\n"
     ]
    },
    {
     "name": "stdout",
     "output_type": "stream",
     "text": [
      "| \u001b[0m69       \u001b[0m | \u001b[0m-0.4402  \u001b[0m | \u001b[0m0.6022   \u001b[0m | \u001b[0m0.1542   \u001b[0m | \u001b[0m368.4    \u001b[0m | \u001b[0m87.26    \u001b[0m | \u001b[0m2.499    \u001b[0m | \u001b[0m0.8334   \u001b[0m | \u001b[0m0.8862   \u001b[0m |\n"
     ]
    },
    {
     "name": "stderr",
     "output_type": "stream",
     "text": [
      "C:\\Users\\Administrator\\anaconda3\\lib\\site-packages\\lightgbm\\engine.py:573: UserWarning: Found `n_estimators` in params. Will use it instead of argument\n",
      "  _log_warning(f\"Found `{alias}` in params. Will use it instead of argument\")\n"
     ]
    },
    {
     "name": "stdout",
     "output_type": "stream",
     "text": [
      "| \u001b[0m70       \u001b[0m | \u001b[0m-0.4393  \u001b[0m | \u001b[0m0.6494   \u001b[0m | \u001b[0m0.07835  \u001b[0m | \u001b[0m364.8    \u001b[0m | \u001b[0m82.31    \u001b[0m | \u001b[0m0.06352  \u001b[0m | \u001b[0m1.859    \u001b[0m | \u001b[0m0.9094   \u001b[0m |\n"
     ]
    },
    {
     "name": "stderr",
     "output_type": "stream",
     "text": [
      "C:\\Users\\Administrator\\anaconda3\\lib\\site-packages\\lightgbm\\engine.py:573: UserWarning: Found `n_estimators` in params. Will use it instead of argument\n",
      "  _log_warning(f\"Found `{alias}` in params. Will use it instead of argument\")\n"
     ]
    },
    {
     "name": "stdout",
     "output_type": "stream",
     "text": [
      "| \u001b[0m71       \u001b[0m | \u001b[0m-0.4452  \u001b[0m | \u001b[0m0.8745   \u001b[0m | \u001b[0m0.2569   \u001b[0m | \u001b[0m372.6    \u001b[0m | \u001b[0m80.81    \u001b[0m | \u001b[0m0.4569   \u001b[0m | \u001b[0m1.82     \u001b[0m | \u001b[0m0.8672   \u001b[0m |\n"
     ]
    },
    {
     "name": "stderr",
     "output_type": "stream",
     "text": [
      "C:\\Users\\Administrator\\anaconda3\\lib\\site-packages\\lightgbm\\engine.py:573: UserWarning: Found `n_estimators` in params. Will use it instead of argument\n",
      "  _log_warning(f\"Found `{alias}` in params. Will use it instead of argument\")\n"
     ]
    },
    {
     "name": "stdout",
     "output_type": "stream",
     "text": [
      "| \u001b[0m72       \u001b[0m | \u001b[0m-0.443   \u001b[0m | \u001b[0m0.9661   \u001b[0m | \u001b[0m0.05863  \u001b[0m | \u001b[0m158.0    \u001b[0m | \u001b[0m48.59    \u001b[0m | \u001b[0m2.236    \u001b[0m | \u001b[0m0.6609   \u001b[0m | \u001b[0m0.7402   \u001b[0m |\n"
     ]
    },
    {
     "name": "stderr",
     "output_type": "stream",
     "text": [
      "C:\\Users\\Administrator\\anaconda3\\lib\\site-packages\\lightgbm\\engine.py:573: UserWarning: Found `n_estimators` in params. Will use it instead of argument\n",
      "  _log_warning(f\"Found `{alias}` in params. Will use it instead of argument\")\n"
     ]
    },
    {
     "name": "stdout",
     "output_type": "stream",
     "text": [
      "| \u001b[0m73       \u001b[0m | \u001b[0m-0.4408  \u001b[0m | \u001b[0m0.6471   \u001b[0m | \u001b[0m0.2927   \u001b[0m | \u001b[0m278.8    \u001b[0m | \u001b[0m20.15    \u001b[0m | \u001b[0m1.201    \u001b[0m | \u001b[0m0.7576   \u001b[0m | \u001b[0m0.7955   \u001b[0m |\n"
     ]
    },
    {
     "name": "stderr",
     "output_type": "stream",
     "text": [
      "C:\\Users\\Administrator\\anaconda3\\lib\\site-packages\\lightgbm\\engine.py:573: UserWarning: Found `n_estimators` in params. Will use it instead of argument\n",
      "  _log_warning(f\"Found `{alias}` in params. Will use it instead of argument\")\n"
     ]
    },
    {
     "name": "stdout",
     "output_type": "stream",
     "text": [
      "| \u001b[0m74       \u001b[0m | \u001b[0m-0.4392  \u001b[0m | \u001b[0m0.9683   \u001b[0m | \u001b[0m0.1215   \u001b[0m | \u001b[0m346.0    \u001b[0m | \u001b[0m51.23    \u001b[0m | \u001b[0m2.705    \u001b[0m | \u001b[0m2.693    \u001b[0m | \u001b[0m0.9383   \u001b[0m |\n"
     ]
    },
    {
     "name": "stderr",
     "output_type": "stream",
     "text": [
      "C:\\Users\\Administrator\\anaconda3\\lib\\site-packages\\lightgbm\\engine.py:573: UserWarning: Found `n_estimators` in params. Will use it instead of argument\n",
      "  _log_warning(f\"Found `{alias}` in params. Will use it instead of argument\")\n"
     ]
    },
    {
     "name": "stdout",
     "output_type": "stream",
     "text": [
      "| \u001b[0m75       \u001b[0m | \u001b[0m-0.4492  \u001b[0m | \u001b[0m0.6      \u001b[0m | \u001b[0m0.01     \u001b[0m | \u001b[0m347.2    \u001b[0m | \u001b[0m43.65    \u001b[0m | \u001b[0m3.0      \u001b[0m | \u001b[0m1.533    \u001b[0m | \u001b[0m1.0      \u001b[0m |\n"
     ]
    },
    {
     "name": "stderr",
     "output_type": "stream",
     "text": [
      "C:\\Users\\Administrator\\anaconda3\\lib\\site-packages\\lightgbm\\engine.py:573: UserWarning: Found `n_estimators` in params. Will use it instead of argument\n",
      "  _log_warning(f\"Found `{alias}` in params. Will use it instead of argument\")\n"
     ]
    },
    {
     "name": "stdout",
     "output_type": "stream",
     "text": [
      "| \u001b[0m76       \u001b[0m | \u001b[0m-0.442   \u001b[0m | \u001b[0m0.6996   \u001b[0m | \u001b[0m0.2802   \u001b[0m | \u001b[0m343.9    \u001b[0m | \u001b[0m57.76    \u001b[0m | \u001b[0m1.947    \u001b[0m | \u001b[0m2.732    \u001b[0m | \u001b[0m0.7034   \u001b[0m |\n"
     ]
    },
    {
     "name": "stderr",
     "output_type": "stream",
     "text": [
      "C:\\Users\\Administrator\\anaconda3\\lib\\site-packages\\lightgbm\\engine.py:573: UserWarning: Found `n_estimators` in params. Will use it instead of argument\n",
      "  _log_warning(f\"Found `{alias}` in params. Will use it instead of argument\")\n"
     ]
    },
    {
     "name": "stdout",
     "output_type": "stream",
     "text": [
      "| \u001b[0m77       \u001b[0m | \u001b[0m-0.4449  \u001b[0m | \u001b[0m0.6      \u001b[0m | \u001b[0m0.3      \u001b[0m | \u001b[0m365.6    \u001b[0m | \u001b[0m61.15    \u001b[0m | \u001b[0m0.0      \u001b[0m | \u001b[0m3.0      \u001b[0m | \u001b[0m1.0      \u001b[0m |\n"
     ]
    },
    {
     "name": "stderr",
     "output_type": "stream",
     "text": [
      "C:\\Users\\Administrator\\anaconda3\\lib\\site-packages\\lightgbm\\engine.py:573: UserWarning: Found `n_estimators` in params. Will use it instead of argument\n",
      "  _log_warning(f\"Found `{alias}` in params. Will use it instead of argument\")\n"
     ]
    },
    {
     "name": "stdout",
     "output_type": "stream",
     "text": [
      "| \u001b[0m78       \u001b[0m | \u001b[0m-0.4398  \u001b[0m | \u001b[0m0.8395   \u001b[0m | \u001b[0m0.1851   \u001b[0m | \u001b[0m299.0    \u001b[0m | \u001b[0m35.59    \u001b[0m | \u001b[0m1.187    \u001b[0m | \u001b[0m2.209    \u001b[0m | \u001b[0m0.9063   \u001b[0m |\n"
     ]
    },
    {
     "name": "stderr",
     "output_type": "stream",
     "text": [
      "C:\\Users\\Administrator\\anaconda3\\lib\\site-packages\\lightgbm\\engine.py:573: UserWarning: Found `n_estimators` in params. Will use it instead of argument\n",
      "  _log_warning(f\"Found `{alias}` in params. Will use it instead of argument\")\n"
     ]
    },
    {
     "name": "stdout",
     "output_type": "stream",
     "text": [
      "| \u001b[0m79       \u001b[0m | \u001b[0m-0.4416  \u001b[0m | \u001b[0m0.8595   \u001b[0m | \u001b[0m0.224    \u001b[0m | \u001b[0m375.7    \u001b[0m | \u001b[0m65.2     \u001b[0m | \u001b[0m2.783    \u001b[0m | \u001b[0m1.382    \u001b[0m | \u001b[0m0.802    \u001b[0m |\n"
     ]
    },
    {
     "name": "stderr",
     "output_type": "stream",
     "text": [
      "C:\\Users\\Administrator\\anaconda3\\lib\\site-packages\\lightgbm\\engine.py:573: UserWarning: Found `n_estimators` in params. Will use it instead of argument\n",
      "  _log_warning(f\"Found `{alias}` in params. Will use it instead of argument\")\n"
     ]
    },
    {
     "name": "stdout",
     "output_type": "stream",
     "text": [
      "| \u001b[0m80       \u001b[0m | \u001b[0m-0.4511  \u001b[0m | \u001b[0m0.7693   \u001b[0m | \u001b[0m0.01051  \u001b[0m | \u001b[0m286.2    \u001b[0m | \u001b[0m26.57    \u001b[0m | \u001b[0m0.5873   \u001b[0m | \u001b[0m1.012    \u001b[0m | \u001b[0m0.9825   \u001b[0m |\n"
     ]
    },
    {
     "name": "stderr",
     "output_type": "stream",
     "text": [
      "C:\\Users\\Administrator\\anaconda3\\lib\\site-packages\\lightgbm\\engine.py:573: UserWarning: Found `n_estimators` in params. Will use it instead of argument\n",
      "  _log_warning(f\"Found `{alias}` in params. Will use it instead of argument\")\n"
     ]
    },
    {
     "name": "stdout",
     "output_type": "stream",
     "text": [
      "| \u001b[0m81       \u001b[0m | \u001b[0m-0.4396  \u001b[0m | \u001b[0m0.942    \u001b[0m | \u001b[0m0.1841   \u001b[0m | \u001b[0m276.8    \u001b[0m | \u001b[0m29.63    \u001b[0m | \u001b[0m3.0      \u001b[0m | \u001b[0m2.757    \u001b[0m | \u001b[0m0.6      \u001b[0m |\n"
     ]
    },
    {
     "name": "stderr",
     "output_type": "stream",
     "text": [
      "C:\\Users\\Administrator\\anaconda3\\lib\\site-packages\\lightgbm\\engine.py:573: UserWarning: Found `n_estimators` in params. Will use it instead of argument\n",
      "  _log_warning(f\"Found `{alias}` in params. Will use it instead of argument\")\n"
     ]
    },
    {
     "name": "stdout",
     "output_type": "stream",
     "text": [
      "| \u001b[0m82       \u001b[0m | \u001b[0m-0.4405  \u001b[0m | \u001b[0m0.6      \u001b[0m | \u001b[0m0.3      \u001b[0m | \u001b[0m297.2    \u001b[0m | \u001b[0m24.51    \u001b[0m | \u001b[0m3.0      \u001b[0m | \u001b[0m0.0      \u001b[0m | \u001b[0m0.6      \u001b[0m |\n"
     ]
    },
    {
     "name": "stderr",
     "output_type": "stream",
     "text": [
      "C:\\Users\\Administrator\\anaconda3\\lib\\site-packages\\lightgbm\\engine.py:573: UserWarning: Found `n_estimators` in params. Will use it instead of argument\n",
      "  _log_warning(f\"Found `{alias}` in params. Will use it instead of argument\")\n"
     ]
    },
    {
     "name": "stdout",
     "output_type": "stream",
     "text": [
      "| \u001b[0m83       \u001b[0m | \u001b[0m-0.4404  \u001b[0m | \u001b[0m0.6074   \u001b[0m | \u001b[0m0.3      \u001b[0m | \u001b[0m278.5    \u001b[0m | \u001b[0m36.26    \u001b[0m | \u001b[0m3.0      \u001b[0m | \u001b[0m2.812    \u001b[0m | \u001b[0m0.6      \u001b[0m |\n"
     ]
    },
    {
     "name": "stderr",
     "output_type": "stream",
     "text": [
      "C:\\Users\\Administrator\\anaconda3\\lib\\site-packages\\lightgbm\\engine.py:573: UserWarning: Found `n_estimators` in params. Will use it instead of argument\n",
      "  _log_warning(f\"Found `{alias}` in params. Will use it instead of argument\")\n"
     ]
    },
    {
     "name": "stdout",
     "output_type": "stream",
     "text": [
      "| \u001b[0m84       \u001b[0m | \u001b[0m-0.4453  \u001b[0m | \u001b[0m0.7935   \u001b[0m | \u001b[0m0.2706   \u001b[0m | \u001b[0m364.1    \u001b[0m | \u001b[0m86.54    \u001b[0m | \u001b[0m0.8229   \u001b[0m | \u001b[0m2.685    \u001b[0m | \u001b[0m0.9638   \u001b[0m |\n"
     ]
    },
    {
     "name": "stderr",
     "output_type": "stream",
     "text": [
      "C:\\Users\\Administrator\\anaconda3\\lib\\site-packages\\lightgbm\\engine.py:573: UserWarning: Found `n_estimators` in params. Will use it instead of argument\n",
      "  _log_warning(f\"Found `{alias}` in params. Will use it instead of argument\")\n"
     ]
    },
    {
     "name": "stdout",
     "output_type": "stream",
     "text": [
      "| \u001b[0m85       \u001b[0m | \u001b[0m-0.4407  \u001b[0m | \u001b[0m0.6293   \u001b[0m | \u001b[0m0.297    \u001b[0m | \u001b[0m272.9    \u001b[0m | \u001b[0m38.01    \u001b[0m | \u001b[0m2.696    \u001b[0m | \u001b[0m2.636    \u001b[0m | \u001b[0m0.6136   \u001b[0m |\n"
     ]
    },
    {
     "name": "stderr",
     "output_type": "stream",
     "text": [
      "C:\\Users\\Administrator\\anaconda3\\lib\\site-packages\\lightgbm\\engine.py:573: UserWarning: Found `n_estimators` in params. Will use it instead of argument\n",
      "  _log_warning(f\"Found `{alias}` in params. Will use it instead of argument\")\n"
     ]
    },
    {
     "name": "stdout",
     "output_type": "stream",
     "text": [
      "| \u001b[0m86       \u001b[0m | \u001b[0m-0.4395  \u001b[0m | \u001b[0m0.654    \u001b[0m | \u001b[0m0.2048   \u001b[0m | \u001b[0m304.0    \u001b[0m | \u001b[0m34.08    \u001b[0m | \u001b[0m2.917    \u001b[0m | \u001b[0m2.822    \u001b[0m | \u001b[0m0.7205   \u001b[0m |\n"
     ]
    },
    {
     "name": "stderr",
     "output_type": "stream",
     "text": [
      "C:\\Users\\Administrator\\anaconda3\\lib\\site-packages\\lightgbm\\engine.py:573: UserWarning: Found `n_estimators` in params. Will use it instead of argument\n",
      "  _log_warning(f\"Found `{alias}` in params. Will use it instead of argument\")\n"
     ]
    },
    {
     "name": "stdout",
     "output_type": "stream",
     "text": [
      "| \u001b[0m87       \u001b[0m | \u001b[0m-0.4409  \u001b[0m | \u001b[0m0.8321   \u001b[0m | \u001b[0m0.1834   \u001b[0m | \u001b[0m362.5    \u001b[0m | \u001b[0m79.03    \u001b[0m | \u001b[0m2.977    \u001b[0m | \u001b[0m1.087    \u001b[0m | \u001b[0m0.7512   \u001b[0m |\n"
     ]
    },
    {
     "name": "stderr",
     "output_type": "stream",
     "text": [
      "C:\\Users\\Administrator\\anaconda3\\lib\\site-packages\\lightgbm\\engine.py:573: UserWarning: Found `n_estimators` in params. Will use it instead of argument\n",
      "  _log_warning(f\"Found `{alias}` in params. Will use it instead of argument\")\n"
     ]
    },
    {
     "name": "stdout",
     "output_type": "stream",
     "text": [
      "| \u001b[0m88       \u001b[0m | \u001b[0m-0.4395  \u001b[0m | \u001b[0m0.7371   \u001b[0m | \u001b[0m0.2014   \u001b[0m | \u001b[0m300.8    \u001b[0m | \u001b[0m27.71    \u001b[0m | \u001b[0m2.888    \u001b[0m | \u001b[0m2.946    \u001b[0m | \u001b[0m0.6125   \u001b[0m |\n"
     ]
    },
    {
     "name": "stderr",
     "output_type": "stream",
     "text": [
      "C:\\Users\\Administrator\\anaconda3\\lib\\site-packages\\lightgbm\\engine.py:573: UserWarning: Found `n_estimators` in params. Will use it instead of argument\n",
      "  _log_warning(f\"Found `{alias}` in params. Will use it instead of argument\")\n"
     ]
    },
    {
     "name": "stdout",
     "output_type": "stream",
     "text": [
      "| \u001b[0m89       \u001b[0m | \u001b[0m-0.4405  \u001b[0m | \u001b[0m0.7456   \u001b[0m | \u001b[0m0.2989   \u001b[0m | \u001b[0m271.8    \u001b[0m | \u001b[0m29.92    \u001b[0m | \u001b[0m2.657    \u001b[0m | \u001b[0m2.497    \u001b[0m | \u001b[0m0.6497   \u001b[0m |\n"
     ]
    },
    {
     "name": "stderr",
     "output_type": "stream",
     "text": [
      "C:\\Users\\Administrator\\anaconda3\\lib\\site-packages\\lightgbm\\engine.py:573: UserWarning: Found `n_estimators` in params. Will use it instead of argument\n",
      "  _log_warning(f\"Found `{alias}` in params. Will use it instead of argument\")\n"
     ]
    },
    {
     "name": "stdout",
     "output_type": "stream",
     "text": [
      "| \u001b[0m90       \u001b[0m | \u001b[0m-0.4418  \u001b[0m | \u001b[0m0.6      \u001b[0m | \u001b[0m0.3      \u001b[0m | \u001b[0m143.9    \u001b[0m | \u001b[0m71.12    \u001b[0m | \u001b[0m0.0      \u001b[0m | \u001b[0m3.0      \u001b[0m | \u001b[0m0.6      \u001b[0m |\n"
     ]
    },
    {
     "name": "stderr",
     "output_type": "stream",
     "text": [
      "C:\\Users\\Administrator\\anaconda3\\lib\\site-packages\\lightgbm\\engine.py:573: UserWarning: Found `n_estimators` in params. Will use it instead of argument\n",
      "  _log_warning(f\"Found `{alias}` in params. Will use it instead of argument\")\n"
     ]
    },
    {
     "name": "stdout",
     "output_type": "stream",
     "text": [
      "| \u001b[0m91       \u001b[0m | \u001b[0m-0.442   \u001b[0m | \u001b[0m0.9486   \u001b[0m | \u001b[0m0.2468   \u001b[0m | \u001b[0m349.8    \u001b[0m | \u001b[0m53.3     \u001b[0m | \u001b[0m0.7963   \u001b[0m | \u001b[0m2.279    \u001b[0m | \u001b[0m0.9648   \u001b[0m |\n"
     ]
    },
    {
     "name": "stderr",
     "output_type": "stream",
     "text": [
      "C:\\Users\\Administrator\\anaconda3\\lib\\site-packages\\lightgbm\\engine.py:573: UserWarning: Found `n_estimators` in params. Will use it instead of argument\n",
      "  _log_warning(f\"Found `{alias}` in params. Will use it instead of argument\")\n"
     ]
    },
    {
     "name": "stdout",
     "output_type": "stream",
     "text": [
      "| \u001b[0m92       \u001b[0m | \u001b[0m-0.4406  \u001b[0m | \u001b[0m0.6819   \u001b[0m | \u001b[0m0.1214   \u001b[0m | \u001b[0m292.9    \u001b[0m | \u001b[0m20.01    \u001b[0m | \u001b[0m1.824    \u001b[0m | \u001b[0m2.981    \u001b[0m | \u001b[0m0.745    \u001b[0m |\n"
     ]
    },
    {
     "name": "stderr",
     "output_type": "stream",
     "text": [
      "C:\\Users\\Administrator\\anaconda3\\lib\\site-packages\\lightgbm\\engine.py:573: UserWarning: Found `n_estimators` in params. Will use it instead of argument\n",
      "  _log_warning(f\"Found `{alias}` in params. Will use it instead of argument\")\n"
     ]
    },
    {
     "name": "stdout",
     "output_type": "stream",
     "text": [
      "| \u001b[0m93       \u001b[0m | \u001b[0m-0.4462  \u001b[0m | \u001b[0m0.8069   \u001b[0m | \u001b[0m0.2731   \u001b[0m | \u001b[0m353.7    \u001b[0m | \u001b[0m90.56    \u001b[0m | \u001b[0m2.635    \u001b[0m | \u001b[0m0.0284   \u001b[0m | \u001b[0m0.7621   \u001b[0m |\n"
     ]
    },
    {
     "name": "stderr",
     "output_type": "stream",
     "text": [
      "C:\\Users\\Administrator\\anaconda3\\lib\\site-packages\\lightgbm\\engine.py:573: UserWarning: Found `n_estimators` in params. Will use it instead of argument\n",
      "  _log_warning(f\"Found `{alias}` in params. Will use it instead of argument\")\n"
     ]
    },
    {
     "name": "stdout",
     "output_type": "stream",
     "text": [
      "| \u001b[0m94       \u001b[0m | \u001b[0m-0.4395  \u001b[0m | \u001b[0m0.7165   \u001b[0m | \u001b[0m0.1759   \u001b[0m | \u001b[0m299.3    \u001b[0m | \u001b[0m40.93    \u001b[0m | \u001b[0m2.887    \u001b[0m | \u001b[0m0.245    \u001b[0m | \u001b[0m0.6505   \u001b[0m |\n"
     ]
    },
    {
     "name": "stderr",
     "output_type": "stream",
     "text": [
      "C:\\Users\\Administrator\\anaconda3\\lib\\site-packages\\lightgbm\\engine.py:573: UserWarning: Found `n_estimators` in params. Will use it instead of argument\n",
      "  _log_warning(f\"Found `{alias}` in params. Will use it instead of argument\")\n"
     ]
    },
    {
     "name": "stdout",
     "output_type": "stream",
     "text": [
      "| \u001b[0m95       \u001b[0m | \u001b[0m-0.4415  \u001b[0m | \u001b[0m0.9156   \u001b[0m | \u001b[0m0.1951   \u001b[0m | \u001b[0m301.9    \u001b[0m | \u001b[0m45.69    \u001b[0m | \u001b[0m0.1619   \u001b[0m | \u001b[0m0.07793  \u001b[0m | \u001b[0m0.7966   \u001b[0m |\n"
     ]
    },
    {
     "name": "stderr",
     "output_type": "stream",
     "text": [
      "C:\\Users\\Administrator\\anaconda3\\lib\\site-packages\\lightgbm\\engine.py:573: UserWarning: Found `n_estimators` in params. Will use it instead of argument\n",
      "  _log_warning(f\"Found `{alias}` in params. Will use it instead of argument\")\n"
     ]
    },
    {
     "name": "stdout",
     "output_type": "stream",
     "text": [
      "| \u001b[0m96       \u001b[0m | \u001b[0m-0.4484  \u001b[0m | \u001b[0m0.6      \u001b[0m | \u001b[0m0.01     \u001b[0m | \u001b[0m357.9    \u001b[0m | \u001b[0m58.2     \u001b[0m | \u001b[0m3.0      \u001b[0m | \u001b[0m3.0      \u001b[0m | \u001b[0m1.0      \u001b[0m |\n"
     ]
    },
    {
     "name": "stderr",
     "output_type": "stream",
     "text": [
      "C:\\Users\\Administrator\\anaconda3\\lib\\site-packages\\lightgbm\\engine.py:573: UserWarning: Found `n_estimators` in params. Will use it instead of argument\n",
      "  _log_warning(f\"Found `{alias}` in params. Will use it instead of argument\")\n"
     ]
    },
    {
     "name": "stdout",
     "output_type": "stream",
     "text": [
      "| \u001b[0m97       \u001b[0m | \u001b[0m-0.4512  \u001b[0m | \u001b[0m0.6      \u001b[0m | \u001b[0m0.01     \u001b[0m | \u001b[0m268.2    \u001b[0m | \u001b[0m34.07    \u001b[0m | \u001b[0m0.0      \u001b[0m | \u001b[0m3.0      \u001b[0m | \u001b[0m0.6      \u001b[0m |\n"
     ]
    },
    {
     "name": "stderr",
     "output_type": "stream",
     "text": [
      "C:\\Users\\Administrator\\anaconda3\\lib\\site-packages\\lightgbm\\engine.py:573: UserWarning: Found `n_estimators` in params. Will use it instead of argument\n",
      "  _log_warning(f\"Found `{alias}` in params. Will use it instead of argument\")\n"
     ]
    },
    {
     "name": "stdout",
     "output_type": "stream",
     "text": [
      "| \u001b[0m98       \u001b[0m | \u001b[0m-0.4399  \u001b[0m | \u001b[0m0.6825   \u001b[0m | \u001b[0m0.1228   \u001b[0m | \u001b[0m306.6    \u001b[0m | \u001b[0m30.1     \u001b[0m | \u001b[0m0.99     \u001b[0m | \u001b[0m2.766    \u001b[0m | \u001b[0m0.8846   \u001b[0m |\n"
     ]
    },
    {
     "name": "stderr",
     "output_type": "stream",
     "text": [
      "C:\\Users\\Administrator\\anaconda3\\lib\\site-packages\\lightgbm\\engine.py:573: UserWarning: Found `n_estimators` in params. Will use it instead of argument\n",
      "  _log_warning(f\"Found `{alias}` in params. Will use it instead of argument\")\n"
     ]
    },
    {
     "name": "stdout",
     "output_type": "stream",
     "text": [
      "| \u001b[0m99       \u001b[0m | \u001b[0m-0.4404  \u001b[0m | \u001b[0m0.6777   \u001b[0m | \u001b[0m0.2447   \u001b[0m | \u001b[0m278.5    \u001b[0m | \u001b[0m31.6     \u001b[0m | \u001b[0m1.426    \u001b[0m | \u001b[0m0.6226   \u001b[0m | \u001b[0m0.7855   \u001b[0m |\n"
     ]
    },
    {
     "name": "stderr",
     "output_type": "stream",
     "text": [
      "C:\\Users\\Administrator\\anaconda3\\lib\\site-packages\\lightgbm\\engine.py:573: UserWarning: Found `n_estimators` in params. Will use it instead of argument\n",
      "  _log_warning(f\"Found `{alias}` in params. Will use it instead of argument\")\n"
     ]
    },
    {
     "name": "stdout",
     "output_type": "stream",
     "text": [
      "| \u001b[0m100      \u001b[0m | \u001b[0m-0.4408  \u001b[0m | \u001b[0m0.9644   \u001b[0m | \u001b[0m0.2937   \u001b[0m | \u001b[0m299.5    \u001b[0m | \u001b[0m31.15    \u001b[0m | \u001b[0m1.319    \u001b[0m | \u001b[0m2.875    \u001b[0m | \u001b[0m0.8384   \u001b[0m |\n"
     ]
    },
    {
     "name": "stderr",
     "output_type": "stream",
     "text": [
      "C:\\Users\\Administrator\\anaconda3\\lib\\site-packages\\lightgbm\\engine.py:573: UserWarning: Found `n_estimators` in params. Will use it instead of argument\n",
      "  _log_warning(f\"Found `{alias}` in params. Will use it instead of argument\")\n"
     ]
    },
    {
     "name": "stdout",
     "output_type": "stream",
     "text": [
      "| \u001b[0m101      \u001b[0m | \u001b[0m-0.4401  \u001b[0m | \u001b[0m0.9216   \u001b[0m | \u001b[0m0.08942  \u001b[0m | \u001b[0m300.9    \u001b[0m | \u001b[0m38.46    \u001b[0m | \u001b[0m2.462    \u001b[0m | \u001b[0m2.975    \u001b[0m | \u001b[0m0.7782   \u001b[0m |\n"
     ]
    },
    {
     "name": "stderr",
     "output_type": "stream",
     "text": [
      "C:\\Users\\Administrator\\anaconda3\\lib\\site-packages\\lightgbm\\engine.py:573: UserWarning: Found `n_estimators` in params. Will use it instead of argument\n",
      "  _log_warning(f\"Found `{alias}` in params. Will use it instead of argument\")\n"
     ]
    },
    {
     "name": "stdout",
     "output_type": "stream",
     "text": [
      "| \u001b[0m102      \u001b[0m | \u001b[0m-0.4398  \u001b[0m | \u001b[0m0.9161   \u001b[0m | \u001b[0m0.2738   \u001b[0m | \u001b[0m305.1    \u001b[0m | \u001b[0m21.34    \u001b[0m | \u001b[0m2.936    \u001b[0m | \u001b[0m2.907    \u001b[0m | \u001b[0m0.6384   \u001b[0m |\n"
     ]
    },
    {
     "name": "stderr",
     "output_type": "stream",
     "text": [
      "C:\\Users\\Administrator\\anaconda3\\lib\\site-packages\\lightgbm\\engine.py:573: UserWarning: Found `n_estimators` in params. Will use it instead of argument\n",
      "  _log_warning(f\"Found `{alias}` in params. Will use it instead of argument\")\n"
     ]
    },
    {
     "name": "stdout",
     "output_type": "stream",
     "text": [
      "| \u001b[0m103      \u001b[0m | \u001b[0m-0.4401  \u001b[0m | \u001b[0m0.6693   \u001b[0m | \u001b[0m0.09861  \u001b[0m | \u001b[0m313.8    \u001b[0m | \u001b[0m31.29    \u001b[0m | \u001b[0m2.683    \u001b[0m | \u001b[0m2.991    \u001b[0m | \u001b[0m0.8914   \u001b[0m |\n"
     ]
    },
    {
     "name": "stderr",
     "output_type": "stream",
     "text": [
      "C:\\Users\\Administrator\\anaconda3\\lib\\site-packages\\lightgbm\\engine.py:573: UserWarning: Found `n_estimators` in params. Will use it instead of argument\n",
      "  _log_warning(f\"Found `{alias}` in params. Will use it instead of argument\")\n"
     ]
    },
    {
     "name": "stdout",
     "output_type": "stream",
     "text": [
      "| \u001b[0m104      \u001b[0m | \u001b[0m-0.4397  \u001b[0m | \u001b[0m0.9009   \u001b[0m | \u001b[0m0.213    \u001b[0m | \u001b[0m267.0    \u001b[0m | \u001b[0m23.37    \u001b[0m | \u001b[0m2.811    \u001b[0m | \u001b[0m2.252    \u001b[0m | \u001b[0m0.9302   \u001b[0m |\n"
     ]
    },
    {
     "name": "stderr",
     "output_type": "stream",
     "text": [
      "C:\\Users\\Administrator\\anaconda3\\lib\\site-packages\\lightgbm\\engine.py:573: UserWarning: Found `n_estimators` in params. Will use it instead of argument\n",
      "  _log_warning(f\"Found `{alias}` in params. Will use it instead of argument\")\n"
     ]
    },
    {
     "name": "stdout",
     "output_type": "stream",
     "text": [
      "| \u001b[0m105      \u001b[0m | \u001b[0m-0.4407  \u001b[0m | \u001b[0m0.8982   \u001b[0m | \u001b[0m0.1918   \u001b[0m | \u001b[0m270.1    \u001b[0m | \u001b[0m21.06    \u001b[0m | \u001b[0m0.3579   \u001b[0m | \u001b[0m0.09782  \u001b[0m | \u001b[0m0.748    \u001b[0m |\n"
     ]
    },
    {
     "name": "stderr",
     "output_type": "stream",
     "text": [
      "C:\\Users\\Administrator\\anaconda3\\lib\\site-packages\\lightgbm\\engine.py:573: UserWarning: Found `n_estimators` in params. Will use it instead of argument\n",
      "  _log_warning(f\"Found `{alias}` in params. Will use it instead of argument\")\n"
     ]
    },
    {
     "name": "stdout",
     "output_type": "stream",
     "text": [
      "| \u001b[0m106      \u001b[0m | \u001b[0m-0.4408  \u001b[0m | \u001b[0m0.8123   \u001b[0m | \u001b[0m0.2728   \u001b[0m | \u001b[0m263.1    \u001b[0m | \u001b[0m24.88    \u001b[0m | \u001b[0m0.9987   \u001b[0m | \u001b[0m0.07194  \u001b[0m | \u001b[0m0.8775   \u001b[0m |\n"
     ]
    },
    {
     "name": "stderr",
     "output_type": "stream",
     "text": [
      "C:\\Users\\Administrator\\anaconda3\\lib\\site-packages\\lightgbm\\engine.py:573: UserWarning: Found `n_estimators` in params. Will use it instead of argument\n",
      "  _log_warning(f\"Found `{alias}` in params. Will use it instead of argument\")\n"
     ]
    },
    {
     "name": "stdout",
     "output_type": "stream",
     "text": [
      "| \u001b[0m107      \u001b[0m | \u001b[0m-0.4404  \u001b[0m | \u001b[0m0.9892   \u001b[0m | \u001b[0m0.1735   \u001b[0m | \u001b[0m275.7    \u001b[0m | \u001b[0m27.97    \u001b[0m | \u001b[0m0.1789   \u001b[0m | \u001b[0m0.2552   \u001b[0m | \u001b[0m0.7645   \u001b[0m |\n"
     ]
    },
    {
     "name": "stderr",
     "output_type": "stream",
     "text": [
      "C:\\Users\\Administrator\\anaconda3\\lib\\site-packages\\lightgbm\\engine.py:573: UserWarning: Found `n_estimators` in params. Will use it instead of argument\n",
      "  _log_warning(f\"Found `{alias}` in params. Will use it instead of argument\")\n"
     ]
    },
    {
     "name": "stdout",
     "output_type": "stream",
     "text": [
      "| \u001b[0m108      \u001b[0m | \u001b[0m-0.4442  \u001b[0m | \u001b[0m1.0      \u001b[0m | \u001b[0m0.3      \u001b[0m | \u001b[0m276.7    \u001b[0m | \u001b[0m37.74    \u001b[0m | \u001b[0m0.0      \u001b[0m | \u001b[0m0.0      \u001b[0m | \u001b[0m1.0      \u001b[0m |\n"
     ]
    },
    {
     "name": "stderr",
     "output_type": "stream",
     "text": [
      "C:\\Users\\Administrator\\anaconda3\\lib\\site-packages\\lightgbm\\engine.py:573: UserWarning: Found `n_estimators` in params. Will use it instead of argument\n",
      "  _log_warning(f\"Found `{alias}` in params. Will use it instead of argument\")\n"
     ]
    },
    {
     "name": "stdout",
     "output_type": "stream",
     "text": [
      "| \u001b[0m109      \u001b[0m | \u001b[0m-0.4394  \u001b[0m | \u001b[0m0.6361   \u001b[0m | \u001b[0m0.1591   \u001b[0m | \u001b[0m341.5    \u001b[0m | \u001b[0m50.24    \u001b[0m | \u001b[0m1.092    \u001b[0m | \u001b[0m2.873    \u001b[0m | \u001b[0m0.9685   \u001b[0m |\n"
     ]
    },
    {
     "name": "stderr",
     "output_type": "stream",
     "text": [
      "C:\\Users\\Administrator\\anaconda3\\lib\\site-packages\\lightgbm\\engine.py:573: UserWarning: Found `n_estimators` in params. Will use it instead of argument\n",
      "  _log_warning(f\"Found `{alias}` in params. Will use it instead of argument\")\n"
     ]
    },
    {
     "name": "stdout",
     "output_type": "stream",
     "text": [
      "| \u001b[0m110      \u001b[0m | \u001b[0m-0.4421  \u001b[0m | \u001b[0m0.6      \u001b[0m | \u001b[0m0.1984   \u001b[0m | \u001b[0m371.7    \u001b[0m | \u001b[0m91.51    \u001b[0m | \u001b[0m3.0      \u001b[0m | \u001b[0m0.0      \u001b[0m | \u001b[0m0.7227   \u001b[0m |\n"
     ]
    },
    {
     "name": "stderr",
     "output_type": "stream",
     "text": [
      "C:\\Users\\Administrator\\anaconda3\\lib\\site-packages\\lightgbm\\engine.py:573: UserWarning: Found `n_estimators` in params. Will use it instead of argument\n",
      "  _log_warning(f\"Found `{alias}` in params. Will use it instead of argument\")\n"
     ]
    },
    {
     "name": "stdout",
     "output_type": "stream",
     "text": [
      "| \u001b[0m111      \u001b[0m | \u001b[0m-0.4428  \u001b[0m | \u001b[0m0.8059   \u001b[0m | \u001b[0m0.267    \u001b[0m | \u001b[0m342.5    \u001b[0m | \u001b[0m68.06    \u001b[0m | \u001b[0m2.271    \u001b[0m | \u001b[0m2.814    \u001b[0m | \u001b[0m0.9264   \u001b[0m |\n"
     ]
    },
    {
     "name": "stderr",
     "output_type": "stream",
     "text": [
      "C:\\Users\\Administrator\\anaconda3\\lib\\site-packages\\lightgbm\\engine.py:573: UserWarning: Found `n_estimators` in params. Will use it instead of argument\n",
      "  _log_warning(f\"Found `{alias}` in params. Will use it instead of argument\")\n"
     ]
    },
    {
     "name": "stdout",
     "output_type": "stream",
     "text": [
      "| \u001b[0m112      \u001b[0m | \u001b[0m-0.4392  \u001b[0m | \u001b[0m0.7114   \u001b[0m | \u001b[0m0.124    \u001b[0m | \u001b[0m342.3    \u001b[0m | \u001b[0m51.39    \u001b[0m | \u001b[0m2.812    \u001b[0m | \u001b[0m0.1357   \u001b[0m | \u001b[0m0.6377   \u001b[0m |\n"
     ]
    },
    {
     "name": "stderr",
     "output_type": "stream",
     "text": [
      "C:\\Users\\Administrator\\anaconda3\\lib\\site-packages\\lightgbm\\engine.py:573: UserWarning: Found `n_estimators` in params. Will use it instead of argument\n",
      "  _log_warning(f\"Found `{alias}` in params. Will use it instead of argument\")\n"
     ]
    },
    {
     "name": "stdout",
     "output_type": "stream",
     "text": [
      "| \u001b[0m113      \u001b[0m | \u001b[0m-0.4411  \u001b[0m | \u001b[0m0.9781   \u001b[0m | \u001b[0m0.2294   \u001b[0m | \u001b[0m336.9    \u001b[0m | \u001b[0m51.71    \u001b[0m | \u001b[0m1.664    \u001b[0m | \u001b[0m1.309    \u001b[0m | \u001b[0m0.7048   \u001b[0m |\n"
     ]
    },
    {
     "name": "stderr",
     "output_type": "stream",
     "text": [
      "C:\\Users\\Administrator\\anaconda3\\lib\\site-packages\\lightgbm\\engine.py:573: UserWarning: Found `n_estimators` in params. Will use it instead of argument\n",
      "  _log_warning(f\"Found `{alias}` in params. Will use it instead of argument\")\n"
     ]
    },
    {
     "name": "stdout",
     "output_type": "stream",
     "text": [
      "| \u001b[0m114      \u001b[0m | \u001b[0m-0.444   \u001b[0m | \u001b[0m0.8529   \u001b[0m | \u001b[0m0.02206  \u001b[0m | \u001b[0m298.2    \u001b[0m | \u001b[0m72.76    \u001b[0m | \u001b[0m2.826    \u001b[0m | \u001b[0m2.616    \u001b[0m | \u001b[0m0.8047   \u001b[0m |\n"
     ]
    },
    {
     "name": "stderr",
     "output_type": "stream",
     "text": [
      "C:\\Users\\Administrator\\anaconda3\\lib\\site-packages\\lightgbm\\engine.py:573: UserWarning: Found `n_estimators` in params. Will use it instead of argument\n",
      "  _log_warning(f\"Found `{alias}` in params. Will use it instead of argument\")\n"
     ]
    },
    {
     "name": "stdout",
     "output_type": "stream",
     "text": [
      "| \u001b[0m115      \u001b[0m | \u001b[0m-0.4507  \u001b[0m | \u001b[0m0.6      \u001b[0m | \u001b[0m0.01     \u001b[0m | \u001b[0m295.0    \u001b[0m | \u001b[0m35.36    \u001b[0m | \u001b[0m3.0      \u001b[0m | \u001b[0m0.0      \u001b[0m | \u001b[0m1.0      \u001b[0m |\n"
     ]
    },
    {
     "name": "stderr",
     "output_type": "stream",
     "text": [
      "C:\\Users\\Administrator\\anaconda3\\lib\\site-packages\\lightgbm\\engine.py:573: UserWarning: Found `n_estimators` in params. Will use it instead of argument\n",
      "  _log_warning(f\"Found `{alias}` in params. Will use it instead of argument\")\n"
     ]
    },
    {
     "name": "stdout",
     "output_type": "stream",
     "text": [
      "| \u001b[0m116      \u001b[0m | \u001b[0m-0.4445  \u001b[0m | \u001b[0m0.7434   \u001b[0m | \u001b[0m0.03183  \u001b[0m | \u001b[0m296.3    \u001b[0m | \u001b[0m27.38    \u001b[0m | \u001b[0m0.6948   \u001b[0m | \u001b[0m2.698    \u001b[0m | \u001b[0m0.7235   \u001b[0m |\n"
     ]
    },
    {
     "name": "stderr",
     "output_type": "stream",
     "text": [
      "C:\\Users\\Administrator\\anaconda3\\lib\\site-packages\\lightgbm\\engine.py:573: UserWarning: Found `n_estimators` in params. Will use it instead of argument\n",
      "  _log_warning(f\"Found `{alias}` in params. Will use it instead of argument\")\n"
     ]
    },
    {
     "name": "stdout",
     "output_type": "stream",
     "text": [
      "| \u001b[0m117      \u001b[0m | \u001b[0m-0.4409  \u001b[0m | \u001b[0m0.9713   \u001b[0m | \u001b[0m0.2891   \u001b[0m | \u001b[0m303.3    \u001b[0m | \u001b[0m28.91    \u001b[0m | \u001b[0m2.665    \u001b[0m | \u001b[0m0.1025   \u001b[0m | \u001b[0m0.995    \u001b[0m |\n"
     ]
    },
    {
     "name": "stderr",
     "output_type": "stream",
     "text": [
      "C:\\Users\\Administrator\\anaconda3\\lib\\site-packages\\lightgbm\\engine.py:573: UserWarning: Found `n_estimators` in params. Will use it instead of argument\n",
      "  _log_warning(f\"Found `{alias}` in params. Will use it instead of argument\")\n"
     ]
    },
    {
     "name": "stdout",
     "output_type": "stream",
     "text": [
      "| \u001b[0m118      \u001b[0m | \u001b[0m-0.4404  \u001b[0m | \u001b[0m0.9725   \u001b[0m | \u001b[0m0.2195   \u001b[0m | \u001b[0m342.7    \u001b[0m | \u001b[0m53.55    \u001b[0m | \u001b[0m2.954    \u001b[0m | \u001b[0m2.864    \u001b[0m | \u001b[0m0.8259   \u001b[0m |\n"
     ]
    },
    {
     "name": "stderr",
     "output_type": "stream",
     "text": [
      "C:\\Users\\Administrator\\anaconda3\\lib\\site-packages\\lightgbm\\engine.py:573: UserWarning: Found `n_estimators` in params. Will use it instead of argument\n",
      "  _log_warning(f\"Found `{alias}` in params. Will use it instead of argument\")\n"
     ]
    },
    {
     "name": "stdout",
     "output_type": "stream",
     "text": [
      "| \u001b[0m119      \u001b[0m | \u001b[0m-0.4424  \u001b[0m | \u001b[0m0.6417   \u001b[0m | \u001b[0m0.05619  \u001b[0m | \u001b[0m302.5    \u001b[0m | \u001b[0m23.47    \u001b[0m | \u001b[0m2.981    \u001b[0m | \u001b[0m0.3561   \u001b[0m | \u001b[0m0.8443   \u001b[0m |\n"
     ]
    },
    {
     "name": "stderr",
     "output_type": "stream",
     "text": [
      "C:\\Users\\Administrator\\anaconda3\\lib\\site-packages\\lightgbm\\engine.py:573: UserWarning: Found `n_estimators` in params. Will use it instead of argument\n",
      "  _log_warning(f\"Found `{alias}` in params. Will use it instead of argument\")\n"
     ]
    },
    {
     "name": "stdout",
     "output_type": "stream",
     "text": [
      "| \u001b[0m120      \u001b[0m | \u001b[0m-0.441   \u001b[0m | \u001b[0m0.925    \u001b[0m | \u001b[0m0.09368  \u001b[0m | \u001b[0m270.5    \u001b[0m | \u001b[0m26.67    \u001b[0m | \u001b[0m1.015    \u001b[0m | \u001b[0m0.3894   \u001b[0m | \u001b[0m0.6491   \u001b[0m |\n",
      "=============================================================================================================\n",
      "[LightGBM] [Warning] Auto-choosing col-wise multi-threading, the overhead of testing was 0.004898 seconds.\n",
      "You can set `force_col_wise=true` to remove the overhead.\n",
      "[LightGBM] [Info] Total Bins 2020\n",
      "[LightGBM] [Info] Number of data points in the train set: 255001, number of used features: 15\n",
      "[LightGBM] [Info] Start training from score 0.176470\n"
     ]
    },
    {
     "name": "stderr",
     "output_type": "stream",
     "text": [
      "C:\\Users\\Administrator\\anaconda3\\lib\\site-packages\\lightgbm\\engine.py:177: UserWarning: Found `n_estimators` in params. Will use it instead of argument\n",
      "  _log_warning(f\"Found `{alias}` in params. Will use it instead of argument\")\n"
     ]
    }
   ],
   "source": [
    "# 2. 적합 2\n",
    "# Bayesian optimization 객체 생성\n",
    "optimizer2 = BayesianOptimization(lgbm_eval, bounds, random_state=42)\n",
    "\n",
    "# 최적화\n",
    "optimizer2.maximize(init_points=20, n_iter=100)  # init_point : 하이퍼파라미터 공간에서 init_point개 랜덤으로 뽑아서 목적함수 평가 / # n_iter 그 이후에 반복횟수\n",
    "\n",
    "# 최적의 하이퍼파라미터\n",
    "opt_params = optimizer2.max[\"params\"]\n",
    "opt_params[\"num_leaves\"] = int(opt_params[\"num_leaves\"])\n",
    "opt_params[\"n_estimators\"] = int(opt_params[\"n_estimators\"])\n",
    "\n",
    "# 최적의 하이퍼파라미터로 모델 학습\n",
    "model2 = lgb.train(opt_params, train_data)\n"
   ]
  },
  {
   "cell_type": "code",
   "execution_count": 31,
   "metadata": {},
   "outputs": [
    {
     "name": "stdout",
     "output_type": "stream",
     "text": [
      "{'colsample_bytree': 0.7702765948396886, 'learning_rate': 0.10882839350091122, 'num_leaves': 57, 'reg_alpha': 2.827881419829328, 'reg_lambda': 0.8917347784084495, 'subsample': 0.8721630767409048, 'num_iterations': 362, 'early_stopping_round': None}\n",
      "\n",
      "Optimized validation Log Loss: 0.4391\n"
     ]
    }
   ],
   "source": [
    "# 최적모델\n",
    "print(model2.params)\n",
    "loss = optimizer2.max['target'] * (-1)\n",
    "print()\n",
    "print(f\"Optimized validation Log Loss: {loss:.4f}\")"
   ]
  },
  {
   "cell_type": "markdown",
   "metadata": {
    "id": "_bGi-04xkv2p"
   },
   "source": [
    "### 예측"
   ]
  },
  {
   "cell_type": "code",
   "execution_count": 11,
   "metadata": {
    "executionInfo": {
     "elapsed": 4827,
     "status": "ok",
     "timestamp": 1680692967572,
     "user": {
      "displayName": "지승영",
      "userId": "07006377205744982370"
     },
     "user_tz": -540
    },
    "id": "ue61nH-Xjz99"
   },
   "outputs": [],
   "source": [
    "#  1. grid search\n",
    "y_pred = best_lgbm.predict_proba(test_x)"
   ]
  },
  {
   "cell_type": "code",
   "execution_count": 13,
   "metadata": {
    "executionInfo": {
     "elapsed": 4630,
     "status": "ok",
     "timestamp": 1680694803601,
     "user": {
      "displayName": "지승영",
      "userId": "07006377205744982370"
     },
     "user_tz": -540
    },
    "id": "18_21tKGIpLq"
   },
   "outputs": [],
   "source": [
    "# 2. bayesian opt\n",
    "test_x = test.drop(columns=['ID'])\n",
    "y_pred = model.predict(test_x)\n",
    "y_pred_inverse = 1 - y_pred\n",
    "y_pred_final = np.column_stack((y_pred_inverse, y_pred ))"
   ]
  },
  {
   "cell_type": "markdown",
   "metadata": {
    "id": "bMNE18RskxUq"
   },
   "source": [
    "### 제출"
   ]
  },
  {
   "cell_type": "code",
   "execution_count": 9,
   "metadata": {
    "executionInfo": {
     "elapsed": 3262,
     "status": "ok",
     "timestamp": 1680692988031,
     "user": {
      "displayName": "지승영",
      "userId": "07006377205744982370"
     },
     "user_tz": -540
    },
    "id": "g8evKatckxzP"
   },
   "outputs": [],
   "source": [
    "submission = pd.DataFrame(data=y_pred, columns=sample_submission.columns, index=sample_submission.index)\n",
    "submission.to_csv('./submission/submission_semi-tree.csv', index=True)"
   ]
  },
  {
   "cell_type": "code",
   "execution_count": 20,
   "metadata": {},
   "outputs": [],
   "source": [
    "submission2 = pd.DataFrame(data=y_pred_final, columns=sample_submission.columns, index=sample_submission.index)\n",
    "submission2.to_csv('./submission/submission_lgbm_bayes6.csv', index=True)"
   ]
  },
  {
   "cell_type": "code",
   "execution_count": null,
   "metadata": {},
   "outputs": [],
   "source": []
  }
 ],
 "metadata": {
  "colab": {
   "authorship_tag": "ABX9TyOt+IlY3oU3dEkCKHi2bVBw",
   "machine_shape": "hm",
   "mount_file_id": "1IgBELre5zixY8eogePhZKWB_GlZpWi2H",
   "provenance": [],
   "toc_visible": true
  },
  "gpuClass": "standard",
  "kernelspec": {
   "display_name": "Python 3 (ipykernel)",
   "language": "python",
   "name": "python3"
  },
  "language_info": {
   "codemirror_mode": {
    "name": "ipython",
    "version": 3
   },
   "file_extension": ".py",
   "mimetype": "text/x-python",
   "name": "python",
   "nbconvert_exporter": "python",
   "pygments_lexer": "ipython3",
   "version": "3.10.9"
  }
 },
 "nbformat": 4,
 "nbformat_minor": 1
}
